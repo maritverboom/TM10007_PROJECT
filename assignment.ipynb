{
  "nbformat": 4,
  "nbformat_minor": 0,
  "metadata": {
    "colab": {
      "name": "assignment.ipynb",
      "provenance": [],
      "collapsed_sections": [],
      "include_colab_link": true
    },
    "kernelspec": {
      "display_name": "Python 3",
      "language": "python",
      "name": "python3"
    },
    "language_info": {
      "codemirror_mode": {
        "name": "ipython",
        "version": 3
      },
      "file_extension": ".py",
      "mimetype": "text/x-python",
      "name": "python",
      "nbconvert_exporter": "python",
      "pygments_lexer": "ipython3",
      "version": "3.7.4"
    }
  },
  "cells": [
    {
      "cell_type": "markdown",
      "metadata": {
        "id": "view-in-github",
        "colab_type": "text"
      },
      "source": [
        "<a href=\"https://colab.research.google.com/github/maritverboom/TM10007_PROJECT/blob/master/assignment.ipynb\" target=\"_parent\"><img src=\"https://colab.research.google.com/assets/colab-badge.svg\" alt=\"Open In Colab\"/></a>"
      ]
    },
    {
      "cell_type": "markdown",
      "metadata": {
        "colab_type": "text",
        "id": "7SXpaKwwGe5x"
      },
      "source": [
        "# TM10007 Assignment Group 15\n",
        "Bart Formsma: \n",
        "\n",
        "Eline van Lange: \n",
        "\n",
        "Laurien Reinders:\n",
        "\n",
        "Marit Verboom: 4453778\n"
      ]
    },
    {
      "cell_type": "code",
      "metadata": {
        "colab_type": "code",
        "id": "CiDn2Sk-VWqE",
        "outputId": "3c4c200c-79f8-470c-cd42-ea904c979a37",
        "colab": {
          "base_uri": "https://localhost:8080/",
          "height": 34
        }
      },
      "source": [
        "# Run this to use from colab environment\n",
        "!pip install -q --upgrade git+https://github.com/karinvangarderen/tm10007_project.git"
      ],
      "execution_count": 41,
      "outputs": [
        {
          "output_type": "stream",
          "text": [
            "  Building wheel for brats (setup.py) ... \u001b[?25l\u001b[?25hdone\n"
          ],
          "name": "stdout"
        }
      ]
    },
    {
      "cell_type": "code",
      "metadata": {
        "id": "Fsm0D-Ugmvzu",
        "colab_type": "code",
        "colab": {}
      },
      "source": [
        "# General packages\n",
        "import numpy as np \n",
        "import matplotlib.pyplot as plt\n",
        "import pandas as pd\n",
        "from sklearn import metrics\n",
        "import seaborn as sns\n",
        "\n",
        "# Feature selection\n",
        "from sklearn import feature_selection\n",
        "# Univariate\n",
        "from sklearn.feature_selection import SelectKBest\n",
        "from sklearn.feature_selection import chi2\n",
        "from sklearn.feature_selection import SelectPercentile\n",
        "from sklearn.feature_selection import f_classif\n",
        "from sklearn.feature_selection import GenericUnivariateSelect\n",
        "\n",
        "# Lasso\n",
        "from sklearn.linear_model import LassoCV\n",
        "from sklearn.linear_model import Lasso\n",
        "from sklearn.model_selection import KFold\n",
        "from sklearn.model_selection import GridSearchCV\n",
        "from yellowbrick.regressor import AlphaSelection\n",
        "from yellowbrick.datasets import load_concrete\n",
        "from sklearn.feature_selection import SelectFromModel\n",
        "\n",
        "# Classifiers\n",
        "from sklearn import model_selection\n",
        "from sklearn import preprocessing\n",
        "from sklearn import neighbors\n",
        "from sklearn import svm\n",
        "from sklearn.decomposition import PCA\n",
        "from sklearn.ensemble import RandomForestClassifier\n",
        "from sklearn.impute import SimpleImputer\n",
        "from sklearn.model_selection import cross_val_score\n",
        "from sklearn.neural_network import MLPClassifier\n",
        "\n",
        "# Statistics\n",
        "from statistics import mean\n",
        "from sklearn.metrics import confusion_matrix"
      ],
      "execution_count": 0,
      "outputs": []
    },
    {
      "cell_type": "markdown",
      "metadata": {
        "id": "-AlgAclcK2My",
        "colab_type": "text"
      },
      "source": [
        "## Data Loading\n",
        "- Loading the provided Head & Neck dataset\n",
        "- Splitting the data in train- and testset\n",
        "- Binarizing tumor stages: TM12 = 0, TM34 = 1\n"
      ]
    },
    {
      "cell_type": "code",
      "metadata": {
        "id": "iIAVZzeGK4dJ",
        "colab_type": "code",
        "outputId": "87cbecc9-2318-41b1-ccb8-77262483a815",
        "colab": {
          "base_uri": "https://localhost:8080/",
          "height": 121
        }
      },
      "source": [
        "#Import dataset\n",
        "from hn.load_data import load_data\n",
        "data = load_data()\n",
        "data_start = data\n",
        "print(f'The number of samples: {len(data.index)}')\n",
        "print(f'The number of columns: {len(data.columns)}')\n",
        "\n",
        "# Splitting the data in train- and testpart with a portion of 'test_size' testing data (20%)\n",
        "data_train, data_test = model_selection.train_test_split(data, test_size=0.20, stratify=data['label'])\n",
        "\n",
        "print(f'The number of rows of train data : {len(data_train.index)}')\n",
        "print(f'The number of rows of test data : {len(data_test.index)}')\n",
        "\n",
        "# dataframe containing tumor stadium of subject (T12/T34)\n",
        "stage_train = data_train['label']             \n",
        "stage_test = data_test['label'] \n",
        "\n",
        "# dataframe containing all feature columns except 'label' (tumor stadium of subject)\n",
        "data_train = data_train.drop(columns='label') \n",
        "data_test = data_test.drop(columns='label')\n",
        "\n",
        "# Binarize label data\n",
        "stage_train = preprocessing.label_binarize(stage_train, ['T12', 'T34'])\n",
        "stage_train = [i[0] for i in stage_train]\n",
        "stage_test = preprocessing.label_binarize(stage_test, ['T12', 'T34'])\n",
        "stage_test = [i[0] for i in stage_test]\n",
        "\n",
        "print(stage_train)\n",
        "\n",
        "\n"
      ],
      "execution_count": 48,
      "outputs": [
        {
          "output_type": "stream",
          "text": [
            "The number of samples: 113\n",
            "The number of columns: 160\n",
            "The number of rows of train data : 90\n",
            "The number of rows of test data : 23\n",
            "[0, 0, 0, 0, 0, 1, 1, 1, 0, 1, 1, 1, 0, 0, 0, 0, 0, 0, 1, 0, 1, 0, 1, 1, 1, 1, 1, 0, 1, 1, 0, 0, 1, 0, 0, 0, 0, 0, 0, 1, 1, 1, 1, 0, 1, 0, 0, 0, 0, 1, 0, 0, 1, 0, 1, 1, 0, 1, 0, 1, 0, 0, 1, 0, 1, 0, 0, 0, 1, 1, 0, 0, 1, 0, 1, 1, 0, 0, 1, 1, 1, 1, 0, 1, 1, 0, 1, 1, 1, 1]\n"
          ],
          "name": "stdout"
        }
      ]
    },
    {
      "cell_type": "markdown",
      "metadata": {
        "id": "oZUAiDtz5djl",
        "colab_type": "text"
      },
      "source": [
        "## Data cleaning\n",
        "- Removing columns where > 25% of the values are 0.0\n",
        "- Removing columns whit a constant value\n"
      ]
    },
    {
      "cell_type": "code",
      "metadata": {
        "colab_type": "code",
        "id": "-NE_fTbKGe5z",
        "outputId": "c737145c-9e73-4947-9fdf-6e50bc7e51cd",
        "colab": {
          "base_uri": "https://localhost:8080/",
          "height": 50
        }
      },
      "source": [
        "def data_cleaning(data_train, data_test):\n",
        "    \"\"\"\n",
        "    Feature for cleaning the data.\n",
        "    \"\"\"\n",
        "    # Remove all columns where more than 25% of the values are 0.0\n",
        "    drop_cols_train = data_train.columns[(data_train == 0).sum() > 0.25*data_train.shape[1]]\n",
        "    drop_cols_test = data_test.columns[(data_train ==0).sum() > 0.25*data_train.shape[1]]\n",
        "    data_train.drop(drop_cols_train, axis = 1, inplace = True) \n",
        "    data_test.drop(drop_cols_test, axis = 1, inplace = True)\n",
        "    \n",
        "    # Remove all columns with no std\n",
        "    drop_std_train = data_train.columns[data_train.std() == 0]\n",
        "    drop_std_test = data_test.columns[data_train.std() == 0]\n",
        "    data_train.drop(drop_std_train, axis = 1, inplace = True) \n",
        "    data_test.drop(drop_std_test, axis = 1, inplace = True)\n",
        "    \n",
        "    return data_train, data_test\n",
        "\n",
        "data_train, data_test = data_cleaning(data_train, data_test)\n",
        "\n",
        "print(f'TRAIN: The number of columns after preprocessing: {len(data_train.columns)}, and the number of rows: {len(data_train.index)}')\n",
        "print(f'TEST: The number of columns after preprocessing: {len(data_test.columns)},  and the number of rows: {len(data_test.index)}')\n"
      ],
      "execution_count": 49,
      "outputs": [
        {
          "output_type": "stream",
          "text": [
            "TRAIN: The number of columns after preprocessing: 150, and the number of rows: 90\n",
            "TEST: The number of columns after preprocessing: 150,  and the number of rows: 23\n"
          ],
          "name": "stdout"
        }
      ]
    },
    {
      "cell_type": "markdown",
      "metadata": {
        "id": "oVOizcWl4sAM",
        "colab_type": "text"
      },
      "source": [
        "## Data Scaling\n",
        "\n",
        "- Scaling the train- and test dataset with a Standard Scaler\n",
        " "
      ]
    },
    {
      "cell_type": "code",
      "metadata": {
        "id": "4hKWuBpi4xck",
        "colab_type": "code",
        "colab": {}
      },
      "source": [
        "def data_scaling(data_train, data_test):\n",
        "    \"\"\"\n",
        "    Function to scale the data using a StandardScaler.\n",
        "    \"\"\"\n",
        "    # Scale the data (train on train set)\n",
        "    scaler = preprocessing.StandardScaler()   \n",
        "    scaler.fit(data_train)  \n",
        "\n",
        "    # Perform scaling on both train and testset, returing scaled dataframe\n",
        "    data_train_scaled = pd.DataFrame(scaler.transform(data_train), columns = data_train.columns)\n",
        "    data_test_scaled = pd.DataFrame(scaler.transform(data_test), columns=data_test.columns) \n",
        "\n",
        "    return data_train_scaled, data_test_scaled\n",
        "\n",
        "data_train_scaled, data_test_scaled = data_scaling(data_train, data_test)\n"
      ],
      "execution_count": 0,
      "outputs": []
    },
    {
      "cell_type": "markdown",
      "metadata": {
        "id": "BLXxyvuwqW7q",
        "colab_type": "text"
      },
      "source": [
        "## Preprocessing: Feature selection/extraction\n",
        "\n",
        "- Recursive Feature Elimination\n",
        "- Univariate Feature Selection\n",
        "- Principal Component Analysis\n",
        "- L1/Lasso Regression Feature Selection"
      ]
    },
    {
      "cell_type": "markdown",
      "metadata": {
        "id": "8gxQOHHj9yMb",
        "colab_type": "text"
      },
      "source": [
        "## Recursive Feature Elimination"
      ]
    },
    {
      "cell_type": "code",
      "metadata": {
        "id": "qe6OoqWjq0Ni",
        "colab_type": "code",
        "outputId": "dc51a492-f72e-4167-b7a1-8d4260478dfb",
        "colab": {
          "base_uri": "https://localhost:8080/",
          "height": 749
        }
      },
      "source": [
        "# Create the RFE object\n",
        "svc = svm.SVC(kernel=\"linear\")  \n",
        "\n",
        "# classifications\n",
        "rfecv = feature_selection.RFECV(\n",
        "    estimator=svc, step=1, \n",
        "    cv=model_selection.StratifiedKFold(4),\n",
        "    scoring='roc_auc')\n",
        "fit_rfecv = rfecv.fit(data_train_scaled, stage_train)\n",
        "\n",
        "# Plot number of features VS. cross-validation scores\n",
        "plt.figure()\n",
        "plt.xlabel(\"Number of features selected\")\n",
        "plt.ylabel(\"Cross validation score (nb of correct classifications)\")\n",
        "plt.plot(range(1, len(rfecv.grid_scores_) + 1), rfecv.grid_scores_)\n",
        "plt.show()\n",
        "\n",
        "print(\"Num Features: %d\" % fit_rfecv.n_features_)\n",
        "print(\"Selected Features: %s\" % fit_rfecv.support_)\n",
        "print(\"Feature Ranking: %s\" % fit_rfecv.ranking_)\n",
        "\n",
        "data_train_rfecv = rfecv.transform(data_train_scaled)\n",
        "data_test_rfecv = rfecv.transform(data_test_scaled)\n",
        "\n",
        "print(data_train_rfecv.shape)\n",
        "print(data_test_rfecv.shape)"
      ],
      "execution_count": 51,
      "outputs": [
        {
          "output_type": "display_data",
          "data": {
            "image/png": "[encoded data removed]",
            "text/plain": [
              "<Figure size 576x396 with 1 Axes>"
            ]
          },
          "metadata": {
            "tags": []
          }
        },
        {
          "output_type": "stream",
          "text": [
            "Num Features: 55\n",
            "Selected Features: [ True False False  True False False  True  True  True  True  True  True\n",
            " False False False False  True False False False False  True  True  True\n",
            "  True  True False False  True False False False  True  True False  True\n",
            " False False False  True  True False  True False False False False False\n",
            " False False  True  True False False False False False  True False False\n",
            " False False False False False  True False False False False False False\n",
            " False False  True False False False False  True  True  True False  True\n",
            "  True False False  True  True False False False  True  True False False\n",
            "  True False False False  True  True  True False False False False False\n",
            " False  True False False False  True False  True  True  True False False\n",
            "  True  True False  True  True False False False  True  True False False\n",
            "  True  True  True False False False False False  True False  True False\n",
            " False False False False False False]\n",
            "Feature Ranking: [ 1 21 11  1 95 86  1  1  1  1  1  1 39  5 53 77  1 72  9 79 31  1  1  1\n",
            "  1  1 67 50  1 47 73 58  1  1 49  1 16 48 65  1  1 45  1 15 84  8 20  6\n",
            " 90 80  1  1 93 74 23 63 54  1 68 82 32 25 13 29 46  1 12 30 94 83 71 57\n",
            " 36 28  1 76 18 14 55  1  1  1  2  1  1 89 42  1  1  4 59 24  1  1 52 38\n",
            "  1 64 43 19  1  1  1 92 61 56 62 88 17  1 78  3 10  1 40  1  1  1 35 81\n",
            "  1  1 41  1  1 75 91 26  1  1 27 22  1  1  1 37 51 60 70 96  1 44  1  7\n",
            " 33 66 69 87 34 85]\n",
            "(90, 55)\n",
            "(23, 55)\n"
          ],
          "name": "stdout"
        }
      ]
    },
    {
      "cell_type": "markdown",
      "metadata": {
        "id": "Y-f-qvIbMvu2",
        "colab_type": "text"
      },
      "source": [
        "##  Feature selection using univariate feature selection"
      ]
    },
    {
      "cell_type": "code",
      "metadata": {
        "id": "8GpfGpM1M4Dp",
        "colab_type": "code",
        "outputId": "965f88f3-969a-48d6-f954-692c5af68f5a",
        "colab": {
          "base_uri": "https://localhost:8080/",
          "height": 571
        }
      },
      "source": [
        "# Eventuele hyperparameters die nog kunnen worden aangepast: methodes voor univariate feature selection (selectKBest, SelectPercentile, en nog meer),\n",
        "# measures om 'best' te bepalen chi2, f_classif, mutual_info_classif\n",
        "# aantal features dat je selecteert, getal voor percentile, getal voor k-best, etc.\n",
        "# Moeilijk om deze hyperparameters te tunen aangezien de performance pas wordt bepaald bij het toepassen van de classifier, zal waarschijnlijk ook verschillen per classifier.\n",
        "# \n",
        "# Bij het opnieuw splitten van de data in een train en test set zie je dat er een andere set aan features geselecteerd wordt, zijn overeenkomsten maar je ziet ook verschillen. Zeer waarschijnlijk leidt dit uiteindelijk tot een hogere variantie in performance bij het nemen van een nieuwe split mbv cross validatie checken.\n",
        "\n",
        "def uni_features(data_train, data_test, stage_train):\n",
        "    \"\"\"\n",
        "    Function to perform univariate feature selection\n",
        "    \"\"\"\n",
        "    # Apply SelectPercentile to train data to extract top 20% best features according to train data\n",
        "    selector_uni = SelectPercentile(f_classif, percentile=20)\n",
        "    selector_uni.fit(data_train, stage_train)\n",
        "    data_train_uni = selector_uni.transform(data_train)\n",
        "    data_test_uni = selector_uni.transform(data_test)\n",
        "\n",
        "    return data_train_uni, data_test_uni\n",
        "\n",
        "data_train_uni, data_test_uni = uni_features(data_train, data_test, stage_train)\n",
        "\n",
        "# Visualisation of the selected best 20% features\n",
        "dfscores = pd.DataFrame(fit_uni.scores_)\n",
        "dfcolumns = pd.DataFrame(data_train.columns)\n",
        "\n",
        "# Concat two dataframes for better visualization \n",
        "featureScores = pd.concat([dfcolumns,dfscores],axis=1)\n",
        "\n",
        "featureScores.columns = ['Specs','Score']  #naming the dataframe columns\n",
        "# Print dataframe\n",
        "print(featureScores.nlargest(int(0.2*len(featureScores)),'Score'))  #print 40 best features\n",
        "\n",
        "\n",
        "\n",
        "print(data_train_uni.shape)\n",
        "print(data_test_uni.shape)"
      ],
      "execution_count": 54,
      "outputs": [
        {
          "output_type": "stream",
          "text": [
            "                                         Specs      Score\n",
            "39                         tf_GLRLM_RunEntropy  46.394733\n",
            "42                      tf_GLRLM_RunPercentage  35.699339\n",
            "25                          sf_rad_dist_avg_2D  30.711383\n",
            "41   tf_GLRLM_RunLengthNonUniformityNormalized  29.472809\n",
            "40             tf_GLRLM_RunLengthNonUniformity  28.913205\n",
            "32             tf_GLRLM_GrayLevelNonUniformity  26.830719\n",
            "0                                    hf_energy  26.218357\n",
            "43                        tf_GLRLM_RunVariance  23.252517\n",
            "128                       tf_Gabor_0.5A2.36max  23.005169\n",
            "1                                   hf_entropy  21.873450\n",
            "121                      tf_Gabor_0.5A1.57kurt  21.672345\n",
            "44                   tf_GLRLM_ShortRunEmphasis  20.109147\n",
            "131                      tf_Gabor_0.5A2.36skew  19.143041\n",
            "125                      tf_Gabor_0.5A1.57skew  18.975188\n",
            "134                     tf_LBP_kurtosis_R3_P12  18.673590\n",
            "130                       tf_Gabor_0.5A2.36min  17.940010\n",
            "46       tf_GLRLM_ShortRunLowGrayLevelEmphasis  17.730956\n",
            "26                          sf_rad_dist_std_2D  17.551741\n",
            "35                    tf_GLRLM_LongRunEmphasis  17.169554\n",
            "28                         sf_roughness_std_2D  16.134975\n",
            "127                      tf_Gabor_0.5A2.36kurt  14.687032\n",
            "147                          tf_LBP_std_R3_P12  14.631067\n",
            "129                      tf_Gabor_0.5A2.36mean  14.610017\n",
            "37        tf_GLRLM_LongRunLowGrayLevelEmphasis  12.589363\n",
            "126                       tf_Gabor_0.5A1.57std  12.470466\n",
            "60                     tf_GLSZM_ZonePercentage  12.379964\n",
            "137                         tf_LBP_mean_R3_P12  12.269106\n",
            "31                                sf_volume_2D  12.158351\n",
            "124                       tf_Gabor_0.5A1.57min  11.989992\n",
            "36       tf_GLRLM_LongRunHighGrayLevelEmphasis  11.964374\n",
            "(90, 30)\n",
            "(23, 30)\n"
          ],
          "name": "stdout"
        }
      ]
    },
    {
      "cell_type": "markdown",
      "metadata": {
        "id": "o251HvpzBy4l",
        "colab_type": "text"
      },
      "source": [
        "## Principal Component Analysis (PCA)\n"
      ]
    },
    {
      "cell_type": "code",
      "metadata": {
        "id": "O4IiEnXmB-Y3",
        "colab_type": "code",
        "outputId": "b6bded11-7874-4cf7-89ef-72f8efe4ed75",
        "colab": {
          "base_uri": "https://localhost:8080/",
          "height": 410
        }
      },
      "source": [
        "\n",
        "# Create a function for calculating PCA\n",
        "def pca(data_train, data_test):\n",
        "    \"\"\"\n",
        "    Function for PCA\n",
        "\n",
        "        data_train = training data\n",
        "        data_test = testing data\n",
        "\n",
        "    Output is transformed train- and testdata\n",
        "    \"\"\"\n",
        "    pca=PCA().fit(data_train)\n",
        "    var = np.cumsum(pca.explained_variance_ratio_)\n",
        "    n_comp = np.where(var>0.99)[0][0]\n",
        "\n",
        "    pca_train = PCA(n_components=n_comp)\n",
        "    pca_train.fit(data_train)\n",
        "\n",
        "    # Transform data using PCA\n",
        "    data_train_trans = pca_train.transform(data_train)\n",
        "    data_test_trans = pca_train.transform(data_test)\n",
        "    \n",
        "    plt.figure()\n",
        "    plt.plot(np.cumsum(pca.explained_variance_ratio_))\n",
        "    plt.xlabel('Number of Components')\n",
        "    plt.ylabel('Variance (%)') # for each component\n",
        "    plt.title('data train set ')\n",
        "    plt.show()\n",
        "#print(np.cumsum(pca.explained_variance_ratio_))\n",
        "\n",
        "    # Return transformed train- and testdata\n",
        "    return data_train_trans, data_test_trans\n",
        "\n",
        "data_train_pca, data_test_pca = pca(data_train_scaled, data_test_scaled)\n",
        "print(data_train_pca.shape)\n",
        "print(data_test_pca.shape)\n",
        "\n"
      ],
      "execution_count": 55,
      "outputs": [
        {
          "output_type": "display_data",
          "data": {
            "image/png": "[encoded data removed]",
            "text/plain": [
              "<Figure size 576x396 with 1 Axes>"
            ]
          },
          "metadata": {
            "tags": []
          }
        },
        {
          "output_type": "stream",
          "text": [
            "(90, 56)\n",
            "(23, 56)\n"
          ],
          "name": "stdout"
        }
      ]
    },
    {
      "cell_type": "markdown",
      "metadata": {
        "id": "QmuPafMx1xRU",
        "colab_type": "text"
      },
      "source": [
        "## Lasso feature selection\n"
      ]
    },
    {
      "cell_type": "code",
      "metadata": {
        "id": "TCQII8nj144E",
        "colab_type": "code",
        "outputId": "de41f29d-038f-4f58-a5b6-57fdfce56cd1",
        "colab": {
          "base_uri": "https://localhost:8080/",
          "height": 426
        }
      },
      "source": [
        "lasso = Lasso(max_iter=10000)\n",
        "n_alphas = 200\n",
        "alphas = np.logspace(-1.5, -0.1, n_alphas)\n",
        "\n",
        "tuned_parameters = [{'alpha': alphas}]\n",
        "n_folds = 5\n",
        "\n",
        "clf = GridSearchCV(lasso, tuned_parameters, cv=n_folds, refit=False)\n",
        "clf.fit(data_train_scaled, stage_train)\n",
        "scores = clf.cv_results_['mean_test_score']\n",
        "scores_std = clf.cv_results_['std_test_score']\n",
        "plt.figure().set_size_inches(8, 6)\n",
        "plt.semilogx(alphas, scores)\n",
        "\n",
        "# plot error lines showing +/- std. errors of the scores\n",
        "std_error = scores_std / np.sqrt(n_folds)\n",
        "\n",
        "plt.semilogx(alphas, scores + std_error, 'b--')\n",
        "plt.semilogx(alphas, scores - std_error, 'b--')\n",
        "\n",
        "# alpha=0.2 controls the translucency of the fill color\n",
        "plt.fill_between(alphas, scores + std_error, scores - std_error, alpha=0.2)\n",
        "\n",
        "plt.ylabel('CV score +/- std error')\n",
        "plt.xlabel('alpha')\n",
        "plt.axhline(np.max(scores), linestyle='--', color='.5')\n",
        "plt.xlim([alphas[0], alphas[-1]])\n",
        "\n",
        "# Instantiate the linear model and visualizer\n",
        "model = LassoCV(alphas=alphas)\n",
        "visualizer = AlphaSelection(model)\n",
        "visualizer.fit(data_train_scaled, stage_train)\n",
        "#visualizer.show()\n",
        "\n",
        "alpha_best = model.alpha_\n",
        "print(f'The optimal alpha = {alpha_best}')\n",
        "\n",
        "#L1_selection = Lasso(alpha=alpha_best, max_iter=10000)\n",
        "#L1_selection.fit(data_train_scaled, stage_train)\n",
        "#train_score=L1_selection.score(data_train_scaled,stage_train)\n",
        "#coeff_used = np.sum(L1_selection.coef_!=0)\n",
        "#print(\"training score:\", train_score) \n",
        "#print(\"number of features used: \", coeff_used)\n",
        "\n",
        "selector = SelectFromModel(estimator=Lasso(alpha=alpha_best, random_state = 42))\n",
        "selector.fit(data_train_scaled, stage_train)\n",
        "n_original = data_train_scaled.shape[1]\n",
        "data_train_l1 = selector.transform(data_train_scaled)\n",
        "data_test_l1 = selector.transform(data_test_scaled)\n",
        "n_selected = data_train_l1.shape[1]\n",
        "print(f\"Selected {n_selected} from {n_original} features.\")\n",
        "\n"
      ],
      "execution_count": 56,
      "outputs": [
        {
          "output_type": "stream",
          "text": [
            "The optimal alpha = 0.060451493537854416\n",
            "Selected 9 from 150 features.\n"
          ],
          "name": "stdout"
        },
        {
          "output_type": "display_data",
          "data": {
            "image/png": "[encoded data removed]",
            "text/plain": [
              "<Figure size 576x432 with 1 Axes>"
            ]
          },
          "metadata": {
            "tags": []
          }
        }
      ]
    },
    {
      "cell_type": "markdown",
      "metadata": {
        "id": "7Fcy7SYbeQLs",
        "colab_type": "text"
      },
      "source": [
        "# L2/ridge classifier"
      ]
    },
    {
      "cell_type": "code",
      "metadata": {
        "id": "lcHgAIVZeRCT",
        "colab_type": "code",
        "outputId": "16cdc8f5-9a73-46eb-97ea-1016dfa0b837",
        "colab": {
          "base_uri": "https://localhost:8080/",
          "height": 238
        }
      },
      "source": [
        "ridge = RidgeClassifier(max_iter=10000)\n",
        "n_alphas = 200\n",
        "alphas = np.logspace(-1.5, -0.1, n_alphas)\n",
        "\n",
        "tuned_parameters = [{'alpha': alphas}]\n",
        "n_folds = 5\n",
        "\n",
        "clf = GridSearchCV(ridge, tuned_parameters, cv=n_folds, refit=False)\n",
        "clf.fit(data_train_scaled, stage_train)\n",
        "scores = clf.cv_results_['mean_test_score']\n",
        "scores_std = clf.cv_results_['std_test_score']\n",
        "plt.figure().set_size_inches(8, 6)\n",
        "plt.semilogx(alphas, scores)\n",
        "\n",
        "# plot error lines showing +/- std. errors of the scores\n",
        "std_error = scores_std / np.sqrt(n_folds)\n",
        "\n",
        "plt.semilogx(alphas, scores + std_error, 'b--')\n",
        "plt.semilogx(alphas, scores - std_error, 'b--')\n",
        "\n",
        "# alpha=0.2 controls the translucency of the fill color\n",
        "plt.fill_between(alphas, scores + std_error, scores - std_error, alpha=0.2)\n",
        "\n",
        "plt.ylabel('CV score +/- std error')\n",
        "plt.xlabel('alpha')\n",
        "plt.axhline(np.max(scores), linestyle='--', color='.5')\n",
        "plt.xlim([alphas[0], alphas[-1]])\n",
        "\n",
        "# Instantiate the linear model and visualizer\n",
        "model = RidgeCV(alphas=alphas)\n",
        "visualizer = AlphaSelection(model)\n",
        "visualizer.fit(data_train_scaled, stage_train)\n",
        "#visualizer.show()\n",
        "\n",
        "alpha_best = model.alpha_\n",
        "print(f'The optimal alpha = {alpha_best}')\n",
        "\n",
        "#L1_selection = Ridge(alpha=alpha_best, max_iter=10000)\n",
        "#L1_selection.fit(data_train_scaled, stage_train)\n",
        "#train_score=L1_selection.score(data_train_scaled,stage_train)\n",
        "#coeff_used = np.sum(L1_selection.coef_!=0)\n",
        "#print(\"training score:\", train_score) \n",
        "#print(\"number of features used: \", coeff_used)\n",
        "\n",
        "selector = SelectFromModel(estimator=Ridge(alpha=alpha_best, random_state = 42))\n",
        "selector.fit(data_train_scaled, stage_train)\n",
        "n_original = data_train_scaled.shape[1]\n",
        "data_train_l1 = selector.transform(data_train_scaled)\n",
        "data_test_l1 = selector.transform(data_test_scaled)\n",
        "n_selected = data_train_l1.shape[1]\n",
        "print(f\"Selected {n_selected} from {n_original} features.\")"
      ],
      "execution_count": 0,
      "outputs": [
        {
          "output_type": "error",
          "ename": "NameError",
          "evalue": "ignored",
          "traceback": [
            "\u001b[0;31m---------------------------------------------------------------------------\u001b[0m",
            "\u001b[0;31mNameError\u001b[0m                                 Traceback (most recent call last)",
            "\u001b[0;32m<ipython-input-36-0eaeca67e0fc>\u001b[0m in \u001b[0;36m<module>\u001b[0;34m()\u001b[0m\n\u001b[0;32m----> 1\u001b[0;31m \u001b[0mridge\u001b[0m \u001b[0;34m=\u001b[0m \u001b[0mRidgeClassifier\u001b[0m\u001b[0;34m(\u001b[0m\u001b[0mmax_iter\u001b[0m\u001b[0;34m=\u001b[0m\u001b[0;36m10000\u001b[0m\u001b[0;34m)\u001b[0m\u001b[0;34m\u001b[0m\u001b[0;34m\u001b[0m\u001b[0m\n\u001b[0m\u001b[1;32m      2\u001b[0m \u001b[0mn_alphas\u001b[0m \u001b[0;34m=\u001b[0m \u001b[0;36m200\u001b[0m\u001b[0;34m\u001b[0m\u001b[0;34m\u001b[0m\u001b[0m\n\u001b[1;32m      3\u001b[0m \u001b[0malphas\u001b[0m \u001b[0;34m=\u001b[0m \u001b[0mnp\u001b[0m\u001b[0;34m.\u001b[0m\u001b[0mlogspace\u001b[0m\u001b[0;34m(\u001b[0m\u001b[0;34m-\u001b[0m\u001b[0;36m1.5\u001b[0m\u001b[0;34m,\u001b[0m \u001b[0;34m-\u001b[0m\u001b[0;36m0.1\u001b[0m\u001b[0;34m,\u001b[0m \u001b[0mn_alphas\u001b[0m\u001b[0;34m)\u001b[0m\u001b[0;34m\u001b[0m\u001b[0;34m\u001b[0m\u001b[0m\n\u001b[1;32m      4\u001b[0m \u001b[0;34m\u001b[0m\u001b[0m\n\u001b[1;32m      5\u001b[0m \u001b[0mtuned_parameters\u001b[0m \u001b[0;34m=\u001b[0m \u001b[0;34m[\u001b[0m\u001b[0;34m{\u001b[0m\u001b[0;34m'alpha'\u001b[0m\u001b[0;34m:\u001b[0m \u001b[0malphas\u001b[0m\u001b[0;34m}\u001b[0m\u001b[0;34m]\u001b[0m\u001b[0;34m\u001b[0m\u001b[0;34m\u001b[0m\u001b[0m\n",
            "\u001b[0;31mNameError\u001b[0m: name 'RidgeClassifier' is not defined"
          ]
        }
      ]
    },
    {
      "cell_type": "markdown",
      "metadata": {
        "id": "QKWj0zjn2Qh8",
        "colab_type": "text"
      },
      "source": [
        "## kNN "
      ]
    },
    {
      "cell_type": "code",
      "metadata": {
        "id": "PiMfkWwc2Uxg",
        "colab_type": "code",
        "outputId": "bbd90dfb-8972-4546-f677-4ca054e9679d",
        "colab": {
          "base_uri": "https://localhost:8080/",
          "height": 1000
        }
      },
      "source": [
        "def knn_classifier(leaf_size, p, n_neigbors, weights, data_train, data_test, label_train, label_test):\n",
        "  \n",
        "    \"\"\"\n",
        "    Function for kNN training and testing\n",
        "\n",
        "        data_train =  training data (type = list)\n",
        "        data_test_trans = testing data (type = list)\n",
        "        label_train = class of training data (type = list)\n",
        "        label_test = class of testing data (type = list)\n",
        "        \n",
        "    Output is two lists with the predicted class of the train- and testdata \n",
        "    \"\"\"\n",
        "    knn = neighbors.KNeighborsClassifier(n_neighbors = n_neigbors)\n",
        "    knn.fit(data_train, label_train)\n",
        "    label_train_knn = knn.predict(data_train)\n",
        "    label_test_knn = knn.predict(data_test)\n",
        "    score_train = knn.score(data_train, label_train)\n",
        "    score_test = knn.score(data_test, label_test)\n",
        "    return score_train, score_test, label_train_knn, label_test_knn\n",
        "\n",
        "# Hyperparameters optimization \n",
        "leaf_size = list(range(1,50))\n",
        "n_n = list(range(1,50))\n",
        "p=[1,2]\n",
        "weights = ['uniform', 'distance']\n",
        "\n",
        "hyperparameters = dict(leaf_size=leaf_size, n_neighbors=n_n, p=p, weights = weights)\n",
        "knn_tune = neighbors.KNeighborsClassifier()\n",
        "clf_tune_knn = model_selection.RandomizedSearchCV(knn_tune, hyperparameters, n_iter = 30, cv=5)\n",
        "\n",
        " # 10 keer opnieuw train-val   \n",
        "sss = model_selection.StratifiedShuffleSplit(n_splits=10, test_size=0.2, random_state=42)\n",
        "\n",
        "score_train_lasso = []\n",
        "score_val_lasso = []\n",
        "score_train_uni = []\n",
        "score_val_uni = []\n",
        "score_train_pca = []\n",
        "score_val_pca = []\n",
        "\n",
        "selectorlasso = SelectFromModel(estimator=Lasso(alpha=0.067, random_state = 42))\n",
        "selectoruni = SelectPercentile(f_classif, percentile=20)\n",
        "selectorpca = PCA(n_components = 20)\n",
        "selectors = [selectorlasso, selectoruni, selectorpca]\n",
        "\n",
        "score_train_box = []\n",
        "score_val_box = []\n",
        "sens_val_box = []\n",
        "spec_val_box = []\n",
        "\n",
        "for selector in selectors: \n",
        "    score_train_selector = []\n",
        "    score_val_selector = []\n",
        "    sens_val_selector = []\n",
        "    spec_val_selector = []\n",
        "    auc_val_selector = []\n",
        "    for train_index, val_index in sss.split(data_train_scaled, stage_train):\n",
        "        stage_train_k = np.array(stage_train)  \n",
        "\n",
        "        split_X_train = data_train_scaled.loc[train_index]\n",
        "        split_y_train = stage_train_k[train_index]\n",
        "        split_X_val = data_train_scaled.loc[val_index]\n",
        "        split_y_val = stage_train_k[val_index]\n",
        "\n",
        "        selector.fit(split_X_train, split_y_train)\n",
        "        split_X_train = selector.transform(split_X_train)\n",
        "        split_X_val = selector.transform(split_X_val)\n",
        "\n",
        "        best_model = clf_tune_knn.fit(split_X_train, split_y_train)\n",
        "        leaf_size_best = best_model.best_estimator_.get_params()['leaf_size']\n",
        "        p_best = best_model.best_estimator_.get_params()['p']\n",
        "        n_n_best = best_model.best_estimator_.get_params()['n_neighbors']\n",
        "        weights_best = best_model.best_estimator_.get_params()['weights']\n",
        "   \n",
        "        score_train, score_val, label_train, label_val = knn_classifier(leaf_size_best, \n",
        "                        p_best, n_n_best, weights_best, split_X_train, split_X_val, split_y_train, split_y_val)\n",
        "        \n",
        "        conf = confusion_matrix(split_y_val, label_val)\n",
        "        sens_val = conf[0, 0]/(conf[0, 0]+conf[0, 1])\n",
        "        spec_val = conf[1, 1]/(conf[1, 0]+conf[1, 1])\n",
        "        \n",
        "        auc_val=metrics.roc_auc_score(label_val, split_y_val)\n",
        "\n",
        "        score_train_selector.append(score_train)\n",
        "        score_val_selector.append(score_val)   \n",
        "        sens_val_selector.append(sens_val)\n",
        "        spec_val_selector.append(spec_val)\n",
        "        auc_val_selector.append(auc_val)\n",
        "\n",
        "        mean_train = mean(score_train_selector)\n",
        "        mean_val = mean(score_val_selector)\n",
        "        mean_sens = mean(sens_val_selector)\n",
        "        mean_spec = mean(spec_val_selector)\n",
        "        mean_auc=mean(auc_val_selector)\n",
        "    \n",
        "    score_train_box.append(score_train_selector)\n",
        "    score_val_box.append(score_val_selector)\n",
        "    sens_val_box.append(sens_val_selector)\n",
        "    spec_val_box.append(spec_val_selector)\n",
        "\n",
        "   \n",
        "    print(f'The train accuracy of a kNN x classifier with x feature selection: {mean_train}')\n",
        "    print(f'The validation accuracy of a kNN x classifier with x feature selection: {mean_val}')\n",
        "    print(f'The AUC of validation data: {mean_auc}')\n",
        "    print(f'The sensitivity of validation data: {mean_sens}')\n",
        "    print(f'The specificity of validation data: {mean_spec}')\n",
        "\n",
        "plt.figure(1)\n",
        "sns.boxplot(data=score_val_box).set_title('Accuracy')\n",
        "\n",
        "plt.figure(2)\n",
        "sns.boxplot(data=sens_val_box)\n",
        "\n",
        "plt.figure(3)\n",
        "sns.boxplot(data=spec_val_box)\n"
      ],
      "execution_count": 57,
      "outputs": [
        {
          "output_type": "stream",
          "text": [
            "The train accuracy of a kNN x classifier with x feature selection: 0.9027777777777778\n",
            "The validation accuracy of a kNN x classifier with x feature selection: 0.6833333333333333\n",
            "The AUC of validation data: 0.6975874125874126\n",
            "The sensitivity of validation data: 0.6666666666666666\n",
            "The specificity of validation data: 0.7\n",
            "The train accuracy of a kNN x classifier with x feature selection: 0.8319444444444445\n",
            "The validation accuracy of a kNN x classifier with x feature selection: 0.6444444444444445\n",
            "The AUC of validation data: 0.6609250471750472\n",
            "The sensitivity of validation data: 0.6888888888888889\n",
            "The specificity of validation data: 0.6\n",
            "The train accuracy of a kNN x classifier with x feature selection: 0.7805555555555556\n",
            "The validation accuracy of a kNN x classifier with x feature selection: 0.6555555555555556\n",
            "The AUC of validation data: 0.694866452991453\n",
            "The sensitivity of validation data: 0.5444444444444444\n",
            "The specificity of validation data: 0.7666666666666666\n"
          ],
          "name": "stdout"
        },
        {
          "output_type": "execute_result",
          "data": {
            "text/plain": [
              "<matplotlib.axes._subplots.AxesSubplot at 0x7f81ee8de748>"
            ]
          },
          "metadata": {
            "tags": []
          },
          "execution_count": 57
        },
        {
          "output_type": "display_data",
          "data": {
            "image/png": "[encoded data removed]",
            "text/plain": [
              "<Figure size 576x396 with 1 Axes>"
            ]
          },
          "metadata": {
            "tags": []
          }
        },
        {
          "output_type": "display_data",
          "data": {
            "image/png": "[encoded data removed]",
            "text/plain": [
              "<Figure size 576x396 with 1 Axes>"
            ]
          },
          "metadata": {
            "tags": []
          }
        },
        {
          "output_type": "display_data",
          "data": {
            "image/png": "[encoded data removed]",
            "text/plain": [
              "<Figure size 576x396 with 1 Axes>"
            ]
          },
          "metadata": {
            "tags": []
          }
        }
      ]
    },
    {
      "cell_type": "markdown",
      "metadata": {
        "id": "oD8nbCaz_XQy",
        "colab_type": "text"
      },
      "source": [
        "## SVM "
      ]
    },
    {
      "cell_type": "code",
      "metadata": {
        "id": "dIbwSi_x_ODV",
        "colab_type": "code",
        "outputId": "8e433aca-eb4b-4a8d-b0b7-9f7d6448aed7",
        "colab": {
          "base_uri": "https://localhost:8080/",
          "height": 1000
        }
      },
      "source": [
        "def svm_classifier(C, kernel, degree, gamma, data_train, data_test, label_train, label_test):\n",
        "    \"\"\"\n",
        "    Function for SVM training and testing\n",
        "\n",
        "        data_train =  training data (type = list)\n",
        "        data_test_trans = testing data (type = list)\n",
        "        label_train = class of training data (type = list)\n",
        "        label_test = class of testing data (type = list)\n",
        "        svm_kernel = different kernels to be used (type = string)\n",
        "\n",
        "    Output is two lists with the predicted class of the train- and testdata\n",
        "    \"\"\"\n",
        "    svc = svm.SVC(C=C, kernel=kernel, degree=degree, gamma=gamma)\n",
        "    svc.fit(data_train, label_train)\n",
        "\n",
        "    # Predict the classes of the data \n",
        "    label_train_svm = svc.predict(data_train)\n",
        "    label_test_svm= svc.predict(data_test)\n",
        "\n",
        "    score_train = svc.score(data_train, label_train)\n",
        "    score_test = svc.score(data_test, label_test)\n",
        "    \n",
        "    return score_train, score_test, label_train_svm, label_test_svm\n",
        "\n",
        "#KERNELS \n",
        "kernels = ['linear', 'poly', 'rbf']\n",
        "gammas = [0.1, 1, 10, 100]\n",
        "cs = [0.1, 1, 10, 100, 1000]\n",
        "degrees = [0, 1, 2, 3, 4, 5, 6] # use only for 'poly'\n",
        "\n",
        "hyperparameters = dict(kernel = kernels, gamma = gammas, C = cs, degree = degrees)\n",
        "svm_tune = svm.SVC()\n",
        "clf_tune_svm = model_selection.RandomizedSearchCV(svm_tune, hyperparameters, n_iter = 30, cv=5)\n",
        "\n",
        "# 10 keer opnieuw train-val   \n",
        "sss = model_selection.StratifiedShuffleSplit(n_splits=5, test_size=0.2, random_state=42)\n",
        "\n",
        "selectorlasso = SelectFromModel(estimator=Lasso(alpha=0.067, random_state = 42))\n",
        "selectoruni = SelectPercentile(f_classif, percentile=20)\n",
        "selectorpca = PCA(n_components = 20)\n",
        "selectors = [selectorlasso, selectoruni, selectorpca]\n",
        "\n",
        "score_train_box = []\n",
        "score_val_box = []\n",
        "sens_val_box = []\n",
        "spec_val_box = []\n",
        "\n",
        "#SVM met verschillende feature selection methods\n",
        "for selector in selectors: \n",
        "    score_train_selector = []\n",
        "    score_val_selector = [] \n",
        "    sens_val_selector = []\n",
        "    spec_val_selector = []\n",
        "    auc_val_selector = []\n",
        "    for train_index, val_index in sss.split(data_train_scaled, stage_train):\n",
        "        stage_train_k = np.array(stage_train)  \n",
        "\n",
        "        split_X_train = data_train_scaled.loc[train_index]\n",
        "        split_y_train = stage_train_k[train_index]\n",
        "        split_X_val = data_train_scaled.loc[val_index]\n",
        "        split_y_val = stage_train_k[val_index]\n",
        "       \n",
        "       # Fit Feature Selection\n",
        "        selector.fit(split_X_train, split_y_train)\n",
        "        split_X_train = selector.transform(split_X_train)\n",
        "        split_X_val = selector.transform(split_X_val)\n",
        "\n",
        "        best_model_svm = clf_tune_svm.fit(split_X_train, split_y_train)\n",
        "        kernel_best = best_model_svm.best_estimator_.get_params()['kernel']\n",
        "        gamma_best = best_model_svm.best_estimator_.get_params()['gamma']\n",
        "        c_best = best_model_svm.best_estimator_.get_params()['C']\n",
        "        degree_best = best_model_svm.best_estimator_.get_params()['degree']\n",
        "    \n",
        "        score_train, score_val, label_train, label_val = svm_classifier(c_best, \n",
        "                  kernel_best, degree_best, gamma_best, split_X_train, split_X_val, split_y_train, split_y_val)\n",
        "    \n",
        "        conf = confusion_matrix(split_y_val, label_val)\n",
        "        sens_val = conf[0, 0]/(conf[0, 0]+conf[0, 1])\n",
        "        spec_val = conf[1, 1]/(conf[1, 0]+conf[1, 1])\n",
        "        auc_val=metrics.roc_auc_score(label_val, split_y_val)\n",
        "\n",
        "        score_train_selector.append(score_train)\n",
        "        score_val_selector.append(score_val)   \n",
        "        sens_val_selector.append(sens_val)\n",
        "        spec_val_selector.append(spec_val)\n",
        "        auc_val_selector.append(auc_val)\n",
        "\n",
        "        mean_train = mean(score_train_selector)\n",
        "        mean_val = mean(score_val_selector)\n",
        "        mean_sens = mean(sens_val_selector)\n",
        "        mean_spec = mean(spec_val_selector)\n",
        "        mean_auc=mean(auc_val_selector)\n",
        "    \n",
        "    score_train_box.append(score_train_selector)\n",
        "    score_val_box.append(score_val_selector)\n",
        "    sens_val_box.append(sens_val_selector)\n",
        "    spec_val_box.append(spec_val_selector)\n",
        "\n",
        "   \n",
        "    print(f'The train accuracy of a kNN x classifier with x feature selection: {mean_train}')\n",
        "    print(f'The validation accuracy of a kNN x classifier with x feature selection: {mean_val}')\n",
        "    print(f'The AUC of validation data: {mean_auc}')\n",
        "    print(f'The sensitivity of validation data: {mean_sens}')\n",
        "    print(f'The specificity of validation data: {mean_spec}')\n",
        "\n",
        "plt.figure(1)\n",
        "sns.boxplot(data=score_val_box).set_title('Accuracy')\n",
        "\n",
        "plt.figure(2)\n",
        "sns.boxplot(data=sens_val_box)\n",
        "\n",
        "plt.figure(3)\n",
        "sns.boxplot(data=spec_val_box)\n",
        "\n"
      ],
      "execution_count": 58,
      "outputs": [
        {
          "output_type": "stream",
          "text": [
            "The train accuracy of a kNN x classifier with x feature selection: 0.9500000000000001\n",
            "The validation accuracy of a kNN x classifier with x feature selection: 0.5777777777777777\n",
            "The AUC of validation data: 0.5817099567099567\n",
            "The sensitivity of validation data: 0.5333333333333333\n",
            "The specificity of validation data: 0.6222222222222222\n",
            "The train accuracy of a kNN x classifier with x feature selection: 0.9527777777777777\n",
            "The validation accuracy of a kNN x classifier with x feature selection: 0.6555555555555556\n",
            "The AUC of validation data: 0.6851190476190476\n",
            "The sensitivity of validation data: 0.6444444444444444\n",
            "The specificity of validation data: 0.6666666666666666\n",
            "The train accuracy of a kNN x classifier with x feature selection: 0.9444444444444444\n",
            "The validation accuracy of a kNN x classifier with x feature selection: 0.6222222222222222\n",
            "The AUC of validation data: 0.6258333333333334\n",
            "The sensitivity of validation data: 0.5777777777777777\n",
            "The specificity of validation data: 0.6666666666666666\n"
          ],
          "name": "stdout"
        },
        {
          "output_type": "execute_result",
          "data": {
            "text/plain": [
              "<matplotlib.axes._subplots.AxesSubplot at 0x7f81eea55e48>"
            ]
          },
          "metadata": {
            "tags": []
          },
          "execution_count": 58
        },
        {
          "output_type": "display_data",
          "data": {
            "image/png": "[encoded data removed]",
            "text/plain": [
              "<Figure size 576x396 with 1 Axes>"
            ]
          },
          "metadata": {
            "tags": []
          }
        },
        {
          "output_type": "display_data",
          "data": {
            "image/png": "[encoded data removed]",
            "text/plain": [
              "<Figure size 576x396 with 1 Axes>"
            ]
          },
          "metadata": {
            "tags": []
          }
        },
        {
          "output_type": "display_data",
          "data": {
            "image/png": "[encoded data removed]",
            "text/plain": [
              "<Figure size 576x396 with 1 Axes>"
            ]
          },
          "metadata": {
            "tags": []
          }
        }
      ]
    },
    {
      "cell_type": "code",
      "metadata": {
        "id": "NrVVzsV7xkz3",
        "colab_type": "code",
        "colab": {}
      },
      "source": [
        ""
      ],
      "execution_count": 0,
      "outputs": []
    },
    {
      "cell_type": "markdown",
      "metadata": {
        "id": "-35ahwqXNmBZ",
        "colab_type": "text"
      },
      "source": [
        "## Random Forest"
      ]
    },
    {
      "cell_type": "code",
      "metadata": {
        "id": "3Tl-R6VRNoOX",
        "colab_type": "code",
        "outputId": "ed7a87b6-f90b-41be-d4c5-05c839664bc8",
        "colab": {
          "base_uri": "https://localhost:8080/",
          "height": 453
        }
      },
      "source": [
        "def rfc_classifier(n_estimators, max_depth, min_samples_split, min_samples_leaf, \n",
        "                   bootstrap, class_weight, data_train, data_test, label_train, \n",
        "                   label_test):\n",
        "    \"\"\"\n",
        "    Function for RFC training and testing\n",
        "\n",
        "        data_train =  training data (type = list)\n",
        "        data_test_trans = testing data (type = list)\n",
        "        label_train = class of training data (type = list)\n",
        "        label_test = class of testing data (type = list)\n",
        "        \n",
        "    Output is two lists with the predicted class of the train- and testdata \n",
        "    \"\"\"\n",
        "    # Create Random Forest Classifier and fit classifier on traindata\n",
        "    rfc = RandomForestClassifier(n_estimators = n_estimators, max_depth = \n",
        "              max_depth, min_samples_split = min_samples_split, \n",
        "             min_samples_leaf = min_samples_leaf, bootstrap = bootstrap,\n",
        "             class_weight = class_weight)\n",
        "    rfc.fit(data_train, label_train)\n",
        "\n",
        "    # Predict labels for train- and testdata\n",
        "    label_train_rfc = rfc.predict(data_train)\n",
        "    label_test_rfc = rfc.predict(data_test)\n",
        "    \n",
        "    score_train = rfc.score(data_train, label_train)\n",
        "    score_test = rfc.score(data_test, label_test)\n",
        "\n",
        "    return score_train, score_test, label_train_rfc, label_test_rfc\n",
        "\n",
        "# Hyperparameters optimization\n",
        "n_estimators = [10, 30, 50, 100, 300]     \n",
        "max_depth = [5, 10, 15, 20, 30]                \n",
        "min_samples_split = [2, 7, 10, 12, 20]      \n",
        "min_samples_leaf = [1, 5, 10, 15, 20]             \n",
        "bootstrap = [True, False]\n",
        "class_weight = [{0: 1, 1: 0.001}, {0: 1, 1: 1}, {0: 1, 1: 10}, {0: 1, 1: 100}]\n",
        "\n",
        "\n",
        "hyperparameters_rfc = dict(n_estimators = n_estimators, max_depth = max_depth,  \n",
        "              min_samples_split = min_samples_split, \n",
        "             min_samples_leaf = min_samples_leaf, bootstrap = bootstrap, \n",
        "             class_weight = class_weight)\n",
        "rfc_tune = RandomForestClassifier()\n",
        "clf_tune_rfc = model_selection.RandomizedSearchCV(rfc_tune, hyperparameters_rfc, n_iter = 30, cv=5)\n",
        "\n",
        "# 10 keer opnieuw train-val   \n",
        "sss = model_selection.StratifiedShuffleSplit(n_splits=5, test_size=0.2, random_state=42)\n",
        "\n",
        "selectorlasso = SelectFromModel(estimator=Lasso(alpha=0.067, random_state = 42))\n",
        "selectoruni = SelectPercentile(f_classif, percentile=20)\n",
        "selectorpca = PCA(n_components = 20)\n",
        "selectors = [selectorlasso, selectoruni, selectorpca]\n",
        "\n",
        "score_train_box = []\n",
        "score_val_box = []\n",
        "sens_val_box = []\n",
        "spec_val_box = []\n",
        "\n",
        "# RF met feature selection methods\n",
        "for selector in selectors: \n",
        "    score_train_selector = []\n",
        "    score_val_selector = [] \n",
        "    sens_val_selector = []\n",
        "    spec_val_selector = []\n",
        "    auc_val_selector = []\n",
        "    for train_index, val_index in sss.split(data_train_scaled, stage_train):\n",
        "        stage_train_k = np.array(stage_train)  \n",
        "        split_X_train = data_train_scaled.loc[train_index]\n",
        "        split_y_train = stage_train_k[train_index]\n",
        "        split_X_val = data_train_scaled.loc[val_index]\n",
        "        split_y_val = stage_train_k[val_index]\n",
        "       \n",
        "       # Fit Feature Selection\n",
        "        selector.fit(split_X_train, split_y_train)\n",
        "        split_X_train = selector.transform(split_X_train)\n",
        "        split_X_val = selector.transform(split_X_val)\n",
        "\n",
        "        best_model_rfc = clf_tune_rfc.fit(split_X_train, split_y_train)\n",
        "\n",
        "        n_estimators_best = best_model_rfc.best_estimator_.get_params()['n_estimators']\n",
        "        max_depth_best = best_model_rfc.best_estimator_.get_params()['max_depth']\n",
        "        min_samples_split_best = best_model_rfc.best_estimator_.get_params()['min_samples_split']\n",
        "        min_samples_leaf_best = best_model_rfc.best_estimator_.get_params()['min_samples_leaf']\n",
        "        bootstrap_best = best_model_rfc.best_estimator_.get_params()['bootstrap']\n",
        "        class_weight_best = best_model_rfc.best_estimator_.get_params()['class_weight']\n",
        "\n",
        "        score_train, score_val, label_train_, label_val = rfc_classifier(n_estimators_best, \n",
        "                        max_depth_best, min_samples_split_best, min_samples_leaf_best, \n",
        "                        bootstrap_best, class_weight_best, split_X_train, split_X_val, \n",
        "                        split_y_train, split_y_val)\n",
        "    \n",
        "        conf = confusion_matrix(split_y_val, label_val)\n",
        "        sens_val = conf[0, 0]/(conf[0, 0]+conf[0, 1])\n",
        "        spec_val = conf[1, 1]/(conf[1, 0]+conf[1, 1])\n",
        "        \n",
        "        auc_val=metrics.roc_auc_score(label_val, split_y_val)\n",
        "\n",
        "        score_train_selector.append(score_train)\n",
        "        score_val_selector.append(score_val)   \n",
        "        sens_val_selector.append(sens_val)\n",
        "        spec_val_selector.append(spec_val)\n",
        "        auc_val_selector.append(auc_val)\n",
        "\n",
        "        mean_train = mean(score_train_selector)\n",
        "        mean_val = mean(score_val_selector)\n",
        "        mean_sens = mean(sens_val_selector)\n",
        "        mean_spec = mean(spec_val_selector)\n",
        "        mean_auc=mean(auc_val_selector)\n",
        "    \n",
        "    score_train_box.append(score_train_selector)\n",
        "    score_val_box.append(score_val_selector)\n",
        "    sens_val_box.append(sens_val_selector)\n",
        "    spec_val_box.append(spec_val_selector)\n",
        "\n",
        "   \n",
        "    print(f'The train accuracy of a kNN x classifier with x feature selection: {mean_train}')\n",
        "    print(f'The validation accuracy of a kNN x classifier with x feature selection: {mean_val}')\n",
        "    print(f'The AUC of validation data: {mean_auc}')\n",
        "    print(f'The sensitivity of validation data: {mean_sens}')\n",
        "    print(f'The specificity of validation data: {mean_spec}')\n",
        "\n",
        "plt.figure(1)\n",
        "sns.boxplot(data=score_val_box).set_title('Accuracy')\n",
        "\n",
        "plt.figure(2)\n",
        "sns.boxplot(data=sens_val_box)\n",
        "\n",
        "plt.figure(3)\n",
        "sns.boxplot(data=spec_val_box)\n"
      ],
      "execution_count": 0,
      "outputs": [
        {
          "output_type": "stream",
          "text": [
            "The train accuracy of a kNN x classifier with x feature selection: 0.8361111111111111\n",
            "The validation accuracy of a kNN x classifier with x feature selection: 0.6777777777777778\n",
            "The AUC of validation data: 0.6982267732267732\n",
            "The sensitivity of validation data: 0.6222222222222222\n",
            "The specificity of validation data: 0.7333333333333333\n"
          ],
          "name": "stdout"
        },
        {
          "output_type": "error",
          "ename": "ValueError",
          "evalue": "ignored",
          "traceback": [
            "\u001b[0;31m---------------------------------------------------------------------------\u001b[0m",
            "\u001b[0;31mValueError\u001b[0m                                Traceback (most recent call last)",
            "\u001b[0;32m<ipython-input-95-a98e6ae99028>\u001b[0m in \u001b[0;36m<module>\u001b[0;34m()\u001b[0m\n\u001b[1;32m     94\u001b[0m         \u001b[0mspec_val\u001b[0m \u001b[0;34m=\u001b[0m \u001b[0mconf\u001b[0m\u001b[0;34m[\u001b[0m\u001b[0;36m1\u001b[0m\u001b[0;34m,\u001b[0m \u001b[0;36m1\u001b[0m\u001b[0;34m]\u001b[0m\u001b[0;34m/\u001b[0m\u001b[0;34m(\u001b[0m\u001b[0mconf\u001b[0m\u001b[0;34m[\u001b[0m\u001b[0;36m1\u001b[0m\u001b[0;34m,\u001b[0m \u001b[0;36m0\u001b[0m\u001b[0;34m]\u001b[0m\u001b[0;34m+\u001b[0m\u001b[0mconf\u001b[0m\u001b[0;34m[\u001b[0m\u001b[0;36m1\u001b[0m\u001b[0;34m,\u001b[0m \u001b[0;36m1\u001b[0m\u001b[0;34m]\u001b[0m\u001b[0;34m)\u001b[0m\u001b[0;34m\u001b[0m\u001b[0;34m\u001b[0m\u001b[0m\n\u001b[1;32m     95\u001b[0m \u001b[0;34m\u001b[0m\u001b[0m\n\u001b[0;32m---> 96\u001b[0;31m         \u001b[0mauc_val\u001b[0m\u001b[0;34m=\u001b[0m\u001b[0mmetrics\u001b[0m\u001b[0;34m.\u001b[0m\u001b[0mroc_auc_score\u001b[0m\u001b[0;34m(\u001b[0m\u001b[0mlabel_val\u001b[0m\u001b[0;34m,\u001b[0m \u001b[0msplit_y_val\u001b[0m\u001b[0;34m)\u001b[0m\u001b[0;34m\u001b[0m\u001b[0;34m\u001b[0m\u001b[0m\n\u001b[0m\u001b[1;32m     97\u001b[0m \u001b[0;34m\u001b[0m\u001b[0m\n\u001b[1;32m     98\u001b[0m         \u001b[0mscore_train_selector\u001b[0m\u001b[0;34m.\u001b[0m\u001b[0mappend\u001b[0m\u001b[0;34m(\u001b[0m\u001b[0mscore_train\u001b[0m\u001b[0;34m)\u001b[0m\u001b[0;34m\u001b[0m\u001b[0;34m\u001b[0m\u001b[0m\n",
            "\u001b[0;32m/usr/local/lib/python3.6/dist-packages/sklearn/metrics/_ranking.py\u001b[0m in \u001b[0;36mroc_auc_score\u001b[0;34m(y_true, y_score, average, sample_weight, max_fpr, multi_class, labels)\u001b[0m\n\u001b[1;32m    388\u001b[0m                                              max_fpr=max_fpr),\n\u001b[1;32m    389\u001b[0m                                      \u001b[0my_true\u001b[0m\u001b[0;34m,\u001b[0m \u001b[0my_score\u001b[0m\u001b[0;34m,\u001b[0m \u001b[0maverage\u001b[0m\u001b[0;34m,\u001b[0m\u001b[0;34m\u001b[0m\u001b[0;34m\u001b[0m\u001b[0m\n\u001b[0;32m--> 390\u001b[0;31m                                      sample_weight=sample_weight)\n\u001b[0m\u001b[1;32m    391\u001b[0m     \u001b[0;32melse\u001b[0m\u001b[0;34m:\u001b[0m  \u001b[0;31m# multilabel-indicator\u001b[0m\u001b[0;34m\u001b[0m\u001b[0;34m\u001b[0m\u001b[0m\n\u001b[1;32m    392\u001b[0m         return _average_binary_score(partial(_binary_roc_auc_score,\n",
            "\u001b[0;32m/usr/local/lib/python3.6/dist-packages/sklearn/metrics/_base.py\u001b[0m in \u001b[0;36m_average_binary_score\u001b[0;34m(binary_metric, y_true, y_score, average, sample_weight)\u001b[0m\n\u001b[1;32m     75\u001b[0m \u001b[0;34m\u001b[0m\u001b[0m\n\u001b[1;32m     76\u001b[0m     \u001b[0;32mif\u001b[0m \u001b[0my_type\u001b[0m \u001b[0;34m==\u001b[0m \u001b[0;34m\"binary\"\u001b[0m\u001b[0;34m:\u001b[0m\u001b[0;34m\u001b[0m\u001b[0;34m\u001b[0m\u001b[0m\n\u001b[0;32m---> 77\u001b[0;31m         \u001b[0;32mreturn\u001b[0m \u001b[0mbinary_metric\u001b[0m\u001b[0;34m(\u001b[0m\u001b[0my_true\u001b[0m\u001b[0;34m,\u001b[0m \u001b[0my_score\u001b[0m\u001b[0;34m,\u001b[0m \u001b[0msample_weight\u001b[0m\u001b[0;34m=\u001b[0m\u001b[0msample_weight\u001b[0m\u001b[0;34m)\u001b[0m\u001b[0;34m\u001b[0m\u001b[0;34m\u001b[0m\u001b[0m\n\u001b[0m\u001b[1;32m     78\u001b[0m \u001b[0;34m\u001b[0m\u001b[0m\n\u001b[1;32m     79\u001b[0m     \u001b[0mcheck_consistent_length\u001b[0m\u001b[0;34m(\u001b[0m\u001b[0my_true\u001b[0m\u001b[0;34m,\u001b[0m \u001b[0my_score\u001b[0m\u001b[0;34m,\u001b[0m \u001b[0msample_weight\u001b[0m\u001b[0;34m)\u001b[0m\u001b[0;34m\u001b[0m\u001b[0;34m\u001b[0m\u001b[0m\n",
            "\u001b[0;32m/usr/local/lib/python3.6/dist-packages/sklearn/metrics/_ranking.py\u001b[0m in \u001b[0;36m_binary_roc_auc_score\u001b[0;34m(y_true, y_score, sample_weight, max_fpr)\u001b[0m\n\u001b[1;32m    219\u001b[0m     \u001b[0;34m\"\"\"Binary roc auc score\"\"\"\u001b[0m\u001b[0;34m\u001b[0m\u001b[0;34m\u001b[0m\u001b[0m\n\u001b[1;32m    220\u001b[0m     \u001b[0;32mif\u001b[0m \u001b[0mlen\u001b[0m\u001b[0;34m(\u001b[0m\u001b[0mnp\u001b[0m\u001b[0;34m.\u001b[0m\u001b[0munique\u001b[0m\u001b[0;34m(\u001b[0m\u001b[0my_true\u001b[0m\u001b[0;34m)\u001b[0m\u001b[0;34m)\u001b[0m \u001b[0;34m!=\u001b[0m \u001b[0;36m2\u001b[0m\u001b[0;34m:\u001b[0m\u001b[0;34m\u001b[0m\u001b[0;34m\u001b[0m\u001b[0m\n\u001b[0;32m--> 221\u001b[0;31m         raise ValueError(\"Only one class present in y_true. ROC AUC score \"\n\u001b[0m\u001b[1;32m    222\u001b[0m                          \"is not defined in that case.\")\n\u001b[1;32m    223\u001b[0m \u001b[0;34m\u001b[0m\u001b[0m\n",
            "\u001b[0;31mValueError\u001b[0m: Only one class present in y_true. ROC AUC score is not defined in that case."
          ]
        }
      ]
    },
    {
      "cell_type": "markdown",
      "metadata": {
        "id": "-TevEkooxEcZ",
        "colab_type": "text"
      },
      "source": [
        "## Neural network\n",
        "\n",
        "\n",
        "*   Classifier obv neural network\n",
        "*   Met cross validatie selectie van de juiste hyperparameters: hidden_layer_sizes, activation, solver, alpha, learning_rate, batch_size. Eventueel tunen op nog meer hyperparameters?\n",
        "*   Getuned mbv randomized search\n",
        "\n",
        "\n",
        "## stond nog erin, weet niet of het weg moet\n",
        "neural_network = MLPClassifier(solver='lbfgs', alpha=1e-5, hidden_layer_sizes=(15,), random_state=1)\n",
        "\n",
        "neural_network.fit(data_train_l1, stage_train)\n",
        "\n",
        "score_train_neural_network = neural_network.score(data_train_l1, stage_train)\n",
        "\n",
        "score_test_neural_network = neural_network.score(data_test_l1, stage_test)\n",
        "\n"
      ]
    },
    {
      "cell_type": "code",
      "metadata": {
        "id": "KOvYRiiTxWVL",
        "colab_type": "code",
        "colab": {}
      },
      "source": [
        "def neural_network_classifier(hidden_layer_sizes, activation, solver, alpha, learning_rate, \n",
        "                              batch_size, data_train, data_test, label_train, label_test):\n",
        "    \"\"\"\n",
        "    Function for neural network training and testing\n",
        "\n",
        "        data_train =  training data (type = list)\n",
        "        data_test_trans = testing data (type = list)\n",
        "        label_train = class of training data (type = list)\n",
        "        label_test = class of testing data (type = list)\n",
        "        \n",
        "    Output is two lists with the predicted class of the train- and testdata \n",
        "    \"\"\"\n",
        "    # Create neural network Classifier and fit classifier on traindata\n",
        "    neural_network = MLPClassifier(hidden_layer_sizes = hidden_layer_sizes, activation = \n",
        "              activation, solver = solver, \n",
        "             alpha = alpha, learning_rate = learning_rate,\n",
        "             batch_size = batch_size)\n",
        "    neural_network.fit(data_train, label_train)\n",
        "\n",
        "    # Scores and predicted labels of neural network classifier\n",
        "    label_train_neural_network = neural_network.predict(data_train)\n",
        "    label_test_neural_network = neural_network.predict(data_test)\n",
        "    \n",
        "    score_train_neural_network = neural_network.score(data_train, label_train)\n",
        "    score_test_neural_network = neural_network.score(data_test, label_test)\n",
        "\n",
        "    return score_train_neural_network, score_test_neural_network, label_train_neural_network, label_test_neural_network\n",
        "\n",
        "# Hyperparameters optimization\n",
        "\n",
        "hyperparameters_neural_network = {'hidden_layer_sizes': [(50,50,50), (50,100,50), (100,)],\n",
        "                                  'activation': ['tanh', 'relu','identity', 'logistic'], \n",
        "                                  'solver': ['lbfgs', 'sgd', 'adam'],\n",
        "                                  'alpha':[0.0001, 0.005, 0.05],\n",
        "                                  'learning_rate':['constant', 'adaptive'],\n",
        "                                  'batch_size':[5, 10, 15, 20, 25]}\n",
        "neural_network_tune = MLPClassifier()\n",
        "clf_tune_neural_network = model_selection.RandomizedSearchCV(neural_network_tune, \n",
        "                                      hyperparameters_neural_network, n_iter = 30, cv=5)\n",
        "\n",
        "# For loop for calculation\n",
        "score_train_nn = []\n",
        "score_test_nn = []\n",
        "stage_train_nn = []\n",
        "stage_test_nn = []\n",
        "\n",
        "for df, df_test in zip(data_train_fs, data_test_fs):\n",
        "    best_model_neural_network = clf_tune_neural_network.fit(df, stage_train)\n",
        "\n",
        "    hidden_layer_sizes_best = best_model_neural_network.best_estimator_.get_params()['hidden_layer_sizes']\n",
        "    activation_best = best_model_neural_network.best_estimator_.get_params()['activation']\n",
        "    solver_best = best_model_neural_network.best_estimator_.get_params()['solver']\n",
        "    alpha_best = best_model_neural_network.best_estimator_.get_params()['alpha']\n",
        "    learning_rate_best = best_model_neural_network.best_estimator_.get_params()['learning_rate']\n",
        "    batch_size_best = best_model_neural_network.best_estimator_.get_params()['batch_size']\n",
        "    \n",
        "    score_train_n, score_test_n, stage_train_n, stage_test_n = neural_network_classifier(\n",
        "                     hidden_layer_sizes_best, activation_best, solver_best, alpha_best, \n",
        "                     learning_rate_best, batch_size_best, df, df_test, \n",
        "                     stage_train, stage_test)\n",
        "\n",
        "    score_train_nn.append(score_train_n)\n",
        "    score_test_nn.append(score_test_n)\n",
        "    stage_train_nn.append(stage_train_n)\n",
        "    stage_test_nn.append(stage_test_n)\n",
        "\n",
        "\n",
        "# Printing accuracy and predicted stage\n",
        "print(f'Accuracy of neural network classifier on traindata: {score_train_nn}') # accuracy\n",
        "print(f'Accuracy of neural network classifier on testdata: {score_test_nn}') # accuracy\n",
        "print(stage_train_nn)\n",
        "print(' ')\n",
        "print(stage_test_nn)"
      ],
      "execution_count": 0,
      "outputs": []
    },
    {
      "cell_type": "markdown",
      "metadata": {
        "id": "f12HSoFMwFFA",
        "colab_type": "text"
      },
      "source": [
        "## Putting it all together\n",
        "- First: splitting start_data (hn dataframe) into a dataframe with features and one with stages\n",
        "\n",
        "- Defining some functions we will later use\n",
        "- Some functions were already defined in the exploration fase\n"
      ]
    },
    {
      "cell_type": "code",
      "metadata": {
        "id": "buoWFgScwQ3u",
        "colab_type": "code",
        "colab": {}
      },
      "source": [
        "stage = data_start['label']\n",
        "data = data_start.drop(columns='label')\n",
        "stage = preprocessing.label_binarize(stage, ['T12', 'T34'] )\n",
        "stage = [i[0] for i in stage]\n",
        "\n",
        "pd.options.mode.chained_assignment = None  "
      ],
      "execution_count": 0,
      "outputs": []
    },
    {
      "cell_type": "markdown",
      "metadata": {
        "id": "NeVOk2JVxQid",
        "colab_type": "text"
      },
      "source": [
        "# PCA function"
      ]
    },
    {
      "cell_type": "code",
      "metadata": {
        "id": "J9EquDh0xPct",
        "colab_type": "code",
        "colab": {}
      },
      "source": [
        "def pca_opt(data_train, data_test):\n",
        "    \"\"\"\n",
        "    Function for PCA\n",
        "\n",
        "        data_train = training data\n",
        "        data_test = testing data\n",
        "\n",
        "    Output is transformed train- and testdata\n",
        "    \"\"\"\n",
        "    pca=PCA().fit(data_train)\n",
        "\n",
        "    # Amount of n-components based on a variance level of 0.99\n",
        "    var = np.cumsum(pca.explained_variance_ratio_)\n",
        "    n_comp = np.where(var>0.99)[0][0]\n",
        "\n",
        "    pca_train = PCA(n_components=n_comp)\n",
        "    pca_train.fit(data_train)\n",
        "\n",
        "    # Transform data using PCA\n",
        "    data_train = pca_train.transform(data_train)\n",
        "    data_test = pca_train.transform(data_test)\n",
        "\n",
        "    # Return transformed train- and testdata\n",
        "    return data_train, data_test"
      ],
      "execution_count": 0,
      "outputs": []
    },
    {
      "cell_type": "markdown",
      "metadata": {
        "id": "_hJr3nGjrMx5",
        "colab_type": "text"
      },
      "source": [
        "## kNN Optimization function"
      ]
    },
    {
      "cell_type": "code",
      "metadata": {
        "id": "ffb9sl2-xm57",
        "colab_type": "code",
        "colab": {}
      },
      "source": [
        "def knn_class(data_train, data_test, stage_train, stage_test):\n",
        "    \"\"\"\n",
        "    Function for optimalizing the hyperparameters:\n",
        "      - n_neighbours\n",
        "      - weights\n",
        "    in a kNN classifier.\n",
        "    Output is:\n",
        "      - knn: a classifier with optimized hyperparameters\n",
        "      - acc_train: the accuracy of the optimized classifier on the trainig data\n",
        "      - acc_test: the accuracy of the optimized classifier on the testing data\n",
        "      - auc_test: the area under the curve of the optimized classifier on the testing data\n",
        "    \"\"\"\n",
        "    \n",
        "    # Hyperparameters optimization \n",
        "    n_n = list(range(1,50))\n",
        "    weights = ['uniform', 'distance']\n",
        "\n",
        "    hyperparameters = dict(n_neighbors=n_n, weights = weights)\n",
        "    knn_tune = neighbors.KNeighborsClassifier()\n",
        "    clf_tune_knn = model_selection.RandomizedSearchCV(knn_tune, hyperparameters, n_iter = 30, cv=5)\n",
        "\n",
        "    best_model = clf_tune_knn.fit(data_train, stage_train)\n",
        "    n_n_best = best_model.best_estimator_.get_params()['n_neighbors']\n",
        "    weights_best = best_model.best_estimator_.get_params()['weights']\n",
        "\n",
        "    knn = neighbors.KNeighborsClassifier(n_neighbors = n_n_best, weights = weights_best)\n",
        "    knn.fit(data_train, stage_train)\n",
        "    label_train_knn = knn.predict(data_train)\n",
        "    label_test_knn = knn.predict(data_test)\n",
        "    \n",
        "    acc_train = knn.score(data_train, stage_train)\n",
        "    acc_test = knn.score(data_test, stage_test)\n",
        "    auc_test = metrics.roc_auc_score(label_test_knn, stage_test)\n",
        "        \n",
        "    return knn, acc_train, acc_test, auc_test"
      ],
      "execution_count": 0,
      "outputs": []
    },
    {
      "cell_type": "markdown",
      "metadata": {
        "id": "1XDvh1OBrVsw",
        "colab_type": "text"
      },
      "source": [
        "## SVM Optimization Function"
      ]
    },
    {
      "cell_type": "code",
      "metadata": {
        "id": "QHXT3NRkrUuG",
        "colab_type": "code",
        "colab": {}
      },
      "source": [
        "def svm_class(data_train, data_test, stage_train, stage_test):\n",
        "    \"\"\"\n",
        "    Function for optimalizing the hyperparameters:\n",
        "      - kernel\n",
        "      - gamma\n",
        "      - C\n",
        "      - degree\n",
        "    in a SVM classifier.\n",
        "    Output is:\n",
        "      - svc: a classifier with optimized hyperparameters\n",
        "      - acc_train: the accuracy of the optimized classifier on the trainig data\n",
        "      - acc_test: the accuracy of the optimized classifier on the testing data\n",
        "      - auc_test: the area under the curve of the optimized classifier on the testing data\n",
        "     \"\"\"\n",
        "    # Hyperparameter optimization\n",
        "    kernels = ['linear', 'poly', 'rbf']\n",
        "    gammas = [0.1, 1, 10, 100]\n",
        "    cs = [0.1, 1, 10, 100, 1000]\n",
        "    degrees = [0, 1, 2, 3, 4, 5, 6] # use only for 'poly'\n",
        "\n",
        "    hyperparameters = dict(kernel = kernels, gamma = gammas, C = cs, degree = degrees)\n",
        "    svm_tune = svm.SVC()\n",
        "    clf_tune_svm = model_selection.RandomizedSearchCV(svm_tune, hyperparameters, n_iter = 30, cv = 5)\n",
        "\n",
        "    best_model_svm = clf_tune_svm.fit(data_train,stage_train)\n",
        "    kernel_best = best_model_svm.best_estimator_.get_params()['kernel']\n",
        "    gamma_best  = best_model_svm.best_estimator_.get_params()['gamma']\n",
        "    C_best = best_model_svm.best_estimator_.get_params()['C']\n",
        "    degree_best = best_model_svm.best_estimator_.get_params()['degree']\n",
        "\n",
        "    svc = svm.SVC(C=C_best, kernel=kernel_best, degree=degree_best, gamma=gamma_best)\n",
        "    svc.fit(data_train, stage_train)\n",
        "\n",
        "    # Predict the classes of the data \n",
        "    label_train_svm = svc.predict(data_train)\n",
        "    label_test_svm= svc.predict(data_test)\n",
        "\n",
        "    acc_train = svc.score(data_train, stage_train)\n",
        "    acc_test = svc.score(data_test, stage_test)\n",
        "    auc_test = metrics.roc_auc_score(label_test_svm, stage_test)\n",
        "    \n",
        "    return svc, acc_train, acc_test,  auc_test"
      ],
      "execution_count": 0,
      "outputs": []
    },
    {
      "cell_type": "markdown",
      "metadata": {
        "id": "s_7rM8GrzRgn",
        "colab_type": "text"
      },
      "source": [
        "## RF Optimization Function"
      ]
    },
    {
      "cell_type": "code",
      "metadata": {
        "id": "BJieK7JHzVH1",
        "colab_type": "code",
        "colab": {}
      },
      "source": [
        "def rf_class(data_train, data_test, stage_train, stage_test):\n",
        "    \"\"\"\n",
        "    Function for optimalizing the hyperparameters:\n",
        "      - n_neighbours\n",
        "      - weights\n",
        "    in a Random Forest classifier.\n",
        "    Output is:\n",
        "      - rfc: a classifier with optimized hyperparameters\n",
        "      - acc_train: the accuracy of the optimized classifier on the trainig data\n",
        "      - acc_test: the accuracy of the optimized classifier on the testing data\n",
        "      - auc_test: the area under the curve of the optimized classifier on the testing data\n",
        "    \"\"\"\n",
        "\n",
        "    # Hyperparameters optimization \n",
        "    n_estimators = [10, 30, 50, 100, 300]                  \n",
        "    min_samples_split = [2, 7, 10, 12, 20]      \n",
        "    min_samples_leaf = [3, 5, 10, 15, 20]             \n",
        "\n",
        "    hyperparameters_rfc = dict(n_estimators=n_estimators, min_samples_split = min_samples_split, min_samples_leaf = min_samples_leaf)\n",
        "    rfc_tune = RandomForestClassifier()\n",
        "    clf_tune_rfc = model_selection.RandomizedSearchCV(rfc_tune, hyperparameters_rfc, n_iter = 30, cv=5)\n",
        "\n",
        "    best_model = clf_tune_rfc.fit(data_train, stage_train)\n",
        "    n_estimators_best = best_model.best_estimator_.get_params()['n_estimators']\n",
        "    min_samples_split_best = best_model.best_estimator_.get_params()['min_samples_split']\n",
        "    min_samples_leaf_best = best_model.best_estimator_.get_params()['min_samples_leaf']\n",
        "\n",
        "    rfc = RandomForestClassifier(n_estimators=n_estimators_best, min_samples_split = min_samples_split_best, min_samples_leaf = min_samples_leaf_best)\n",
        "    rfc.fit(data_train, stage_train)\n",
        "    label_train_rfc = rfc.predict(data_train)\n",
        "    label_test_rfc = rfc.predict(data_test)\n",
        "    \n",
        "    acc_train = rfc.score(data_train, stage_train)\n",
        "    acc_test = rfc.score(data_test, stage_test)\n",
        "    auc_test = metrics.roc_auc_score(label_test_rfc, stage_test)\n",
        "        \n",
        "    return rfc, acc_train, acc_test, auc_test"
      ],
      "execution_count": 0,
      "outputs": []
    },
    {
      "cell_type": "markdown",
      "metadata": {
        "id": "kRLDNrz1tVYJ",
        "colab_type": "text"
      },
      "source": [
        "## Cross validation Univariate Feature selection\n",
        "- Calculate mean accuracy and mean area under the curve (on test data) in a cross-validation"
      ]
    },
    {
      "cell_type": "code",
      "metadata": {
        "id": "9yA1EVEztZy3",
        "colab_type": "code",
        "colab": {
          "base_uri": "https://localhost:8080/",
          "height": 118
        },
        "outputId": "606da937-b116-453d-cd29-6d0905521678"
      },
      "source": [
        "# Define cross validation for outer cross-validation\n",
        "cv10_fold = model_selection.StratifiedShuffleSplit(n_splits=20, test_size=0.2, random_state=42)\n",
        "\n",
        "# Create empty lists to store the performance of the classifiers\n",
        "acc_knn = []\n",
        "acc_svm = []\n",
        "auc_knn = []\n",
        "auc_svm = []\n",
        "acc_rf = []\n",
        "auc_rf = []\n",
        "\n",
        "# Outer cross-valdation\n",
        "for train_index, test_index in cv10_fold.split(data, stage):\n",
        "    \n",
        "    # split data in features- and stage\n",
        "    stage = np.array(stage)\n",
        "    outer_train = data.iloc[train_index]\n",
        "    outer_stage_train = stage[train_index]\n",
        "    outer_test = data.iloc[test_index]\n",
        "    outer_stage_test = stage[test_index]\n",
        "\n",
        "    # Remove columns from dataframes\n",
        "    outer_train, outer_test = data_cleaning(outer_train, outer_test)\n",
        "        \n",
        "    # Data scaling\n",
        "    outer_train, outer_test = data_scaling(outer_train, outer_test)\n",
        "\n",
        "    # Feature selection (based on cv)\n",
        "    outer_train, outer_test = uni_features(outer_train, outer_test, outer_stage_train)\n",
        "\n",
        "    # kNN Optimization\n",
        "    clf_knn, acc_train, acc_test, auc_test = knn_class(outer_train, outer_test, outer_stage_train, outer_stage_test)\n",
        "    acc_knn.append(acc_test)\n",
        "    auc_knn.append(auc_test)\n",
        "\n",
        "    # SVM Optimization\n",
        "    clf_svm, acc_train, acc_test, auc_test = svm_class(outer_train, outer_test, outer_stage_train, outer_stage_test)\n",
        "    acc_svm.append(acc_test)\n",
        "    auc_svm.append(auc_test)\n",
        "\n",
        "    # RF Optimization\n",
        "    clf_rf, acc_train, acc_test, auc_test = svm_class(outer_train, outer_test, outer_stage_train, outer_stage_test)\n",
        "    acc_rf.append(acc_test)\n",
        "    auc_rf.append(auc_test)\n",
        "\n",
        "print(f'The mean accuracy of the kNN-classifier: {mean(acc_knn)}')\n",
        "print(f'The mean AUC of the kNN-classifier: {mean(auc_knn)}')\n",
        "print(f'The mean accuracy of the SVM-classifier: {mean(acc_svm)}')\n",
        "print(f'The mean AUC of the SVM-classifier: {mean(auc_svm)}')\n",
        "print(f'The mean accuracy of the RF-classifier: {mean(acc_rf)}')\n",
        "print(f'The mean AUC of the RF-classifier: {mean(auc_rf)}')"
      ],
      "execution_count": 64,
      "outputs": [
        {
          "output_type": "stream",
          "text": [
            "The mean accuracy of the kNN-classifier: 0.658695652173913\n",
            "The mean AUC of the kNN-classifier: 0.6648211857586858\n",
            "The mean accuracy of the SVM-classifier: 0.65\n",
            "The mean AUC of the SVM-classifier: 0.6553661616161616\n",
            "The mean accuracy of the RF-classifier: 0.6369565217391304\n",
            "The mean AUC of the RF-classifier: 0.642457264957265\n"
          ],
          "name": "stdout"
        }
      ]
    },
    {
      "cell_type": "markdown",
      "metadata": {
        "id": "f1PLLtpatiZu",
        "colab_type": "text"
      },
      "source": [
        "## Cross validation Prinicple Component Analysis\n",
        "- Calculate mean accuracy and mean area under the curve (on test data) in a cross-validation"
      ]
    },
    {
      "cell_type": "code",
      "metadata": {
        "id": "NaerxvoethkG",
        "colab_type": "code",
        "colab": {
          "base_uri": "https://localhost:8080/",
          "height": 118
        },
        "outputId": "a5770116-eb9c-486d-c30c-679e1df4924b"
      },
      "source": [
        "# Define cross validation for outer cross-validation\n",
        "cv10_fold = model_selection.StratifiedShuffleSplit(n_splits=20, test_size=0.2, random_state=42)\n",
        "\n",
        "# Create empty lists to store the performance of the classifiers\n",
        "acc_knn = []\n",
        "acc_svm = []\n",
        "auc_knn = []\n",
        "auc_svm = []\n",
        "acc_rf = []\n",
        "auc_rf = []\n",
        "\n",
        "# Outer Cross-Validation\n",
        "for train_index, test_index in cv10_fold.split(data, stage):\n",
        "    \n",
        "    stage = np.array(stage)\n",
        "    outer_train = data.iloc[train_index]\n",
        "    outer_stage_train = stage[train_index]\n",
        "    outer_test = data.iloc[test_index]\n",
        "    outer_stage_test = stage[test_index]\n",
        "\n",
        "    # Remove columns from dataframes\n",
        "    outer_train, outer_test = data_cleaning(outer_train, outer_test)\n",
        "        \n",
        "    # Data scaling\n",
        "    outer_train, outer_test = data_scaling(outer_train, outer_test)\n",
        "\n",
        "    # Feature PCA\n",
        "    outer_train, outer_test = pca_opt(outer_train, outer_test)\n",
        "\n",
        "    # kNN Optimization\n",
        "    clf_knn, acc_train, acc_test, auc_test = knn_class(outer_train, outer_test, outer_stage_train, outer_stage_test)\n",
        "    acc_knn.append(acc_test)\n",
        "    auc_knn.append(auc_test)\n",
        "\n",
        "    # SVM Optimization\n",
        "    clf_svm, acc_train, acc_test, auc_test = svm_class(outer_train, outer_test, outer_stage_train, outer_stage_test)\n",
        "    acc_svm.append(acc_test)\n",
        "    auc_svm.append(auc_test)\n",
        "\n",
        "    # RF Optimization\n",
        "    clf_rf, acc_train, acc_test, auc_test = svm_class(outer_train, outer_test, outer_stage_train, outer_stage_test)\n",
        "    acc_rf.append(acc_test)\n",
        "    auc_rf.append(auc_test)\n",
        "\n",
        "print(f'The mean accuracy of the kNN-classifier: {mean(acc_knn)}')\n",
        "print(f'The mean AUC of the kNN-classifier: {mean(auc_knn)}')\n",
        "print(f'The mean accuracy of the SVM-classifier: {mean(acc_svm)}')\n",
        "print(f'The mean AUC of the SVM-classifier: {mean(auc_svm)}')\n",
        "print(f'The mean accuracy of the RF-classifier: {mean(acc_rf)}')\n",
        "print(f'The mean AUC of the RF-classifier: {mean(auc_rf)}')\n"
      ],
      "execution_count": 65,
      "outputs": [
        {
          "output_type": "stream",
          "text": [
            "The mean accuracy of the kNN-classifier: 0.6543478260869565\n",
            "The mean AUC of the kNN-classifier: 0.6954281237553297\n",
            "The mean accuracy of the SVM-classifier: 0.6565217391304348\n",
            "The mean AUC of the SVM-classifier: 0.667808333414951\n",
            "The mean accuracy of the RF-classifier: 0.6391304347826087\n",
            "The mean AUC of the RF-classifier: 0.6502483239799417\n"
          ],
          "name": "stdout"
        }
      ]
    },
    {
      "cell_type": "markdown",
      "metadata": {
        "id": "y0BShY0My81G",
        "colab_type": "text"
      },
      "source": [
        "# 3 Loops\n",
        "- choose best model for each inner cross validation\n",
        "- compare models, choose one with highest performance\n",
        "- fit chosen model on outer loop\n",
        "\n"
      ]
    },
    {
      "cell_type": "code",
      "metadata": {
        "id": "FuPmWJ-YzJp9",
        "colab_type": "code",
        "colab": {
          "base_uri": "https://localhost:8080/",
          "height": 84
        },
        "outputId": "aa99bee8-220f-4d0e-d620-0ec838e0339f"
      },
      "source": [
        "# splitting in train- and test\n",
        "cv10_fold = model_selection.StratifiedShuffleSplit(n_splits=5, test_size=0.2, random_state=42)\n",
        "cv5_fold = model_selection.StratifiedKFold(n_splits=10)\n",
        "\n",
        "acc_total_knn = []\n",
        "auc_total_knn = []\n",
        "acc_total_svm = []\n",
        "auc_total_svm = []\n",
        "\n",
        "for train_index, test_index in cv10_fold.split(data, stage):\n",
        "    stage = np.array(stage)\n",
        "    outer_train = data.iloc[train_index]\n",
        "    outer_stage_train = stage[train_index]\n",
        "    outer_test = data.iloc[test_index]\n",
        "    outer_stage_test = stage[test_index]\n",
        "\n",
        "    classifier_knn = []\n",
        "    acc_train_knn = []\n",
        "    acc_val_knn = []\n",
        "    auc_val_knn = []\n",
        "    classifier_rf = []\n",
        "    acc_train_rf = []\n",
        "    acc_val_rf = []\n",
        "    auc_val_rf = []\n",
        "    classifier_svm = []\n",
        "    acc_train_svm = []\n",
        "    acc_val_svm = []\n",
        "    auc_val_svm = []\n",
        "    classifier_nn = []\n",
        "    acc_train_nn = []\n",
        "    acc_val_nn = []\n",
        "    auc_val_nn = []\n",
        "\n",
        "    for train_index, val_index in cv5_fold.split(outer_train, outer_stage_train):\n",
        "        \n",
        "        inner_train = outer_train.iloc[train_index] \n",
        "        inner_stage_train = outer_stage_train[train_index]\n",
        "        inner_val = outer_train.iloc[val_index]\n",
        "        inner_stage_val = outer_stage_train[val_index]\n",
        "        \n",
        "        # Remove columns from dataframes\n",
        "        inner_train, inner_val = data_cleaning(inner_train, inner_val)\n",
        "        \n",
        "        # Data scaling\n",
        "        inner_train, inner_val = data_scaling(inner_train, inner_val)\n",
        "\n",
        "        # Univariate Feature Selection\n",
        "        inner_train, inner_val = uni_features(inner_train, inner_val, inner_stage_train)\n",
        "\n",
        "        # kNN Optimization\n",
        "        clf_knn, acc_train, acc_val, auc_val = knn_class(inner_train, inner_val, inner_stage_train, inner_stage_val)\n",
        "        classifier_knn.append(clf_knn)\n",
        "        acc_val_knn.append(acc_val)\n",
        "        max_value_knn = max(acc_val_knn)\n",
        "        max_index_knn = acc_val_knn.index(max_value_knn)\n",
        "        max_clf_knn = classifier_knn[max_index_knn]\n",
        "\n",
        "        # SVM Optimization\n",
        "        clf_svm, acc_train, acc_val, auc_val = svm_class(inner_train, inner_val, inner_stage_train, inner_stage_val)\n",
        "        classifier_svm.append(clf_knn)\n",
        "        acc_val_svm.append(acc_val)\n",
        "        max_value_svm = max(acc_val_svm)\n",
        "        max_index_svm = acc_val_svm.index(max_value_svm)\n",
        "        max_clf_svm = classifier_svm[max_index_svm]\n",
        "           \n",
        "        # RF Optimization\n",
        "        #clf_rf, acc_train, acc_val, auc_val = rf_classifier(inner_train, inner_val, inner_stage_train, inner_stage_val)\n",
        "        #classifier_rf.append(clf_knn)\n",
        "        #acc_val_rf.append(acc_val)\n",
        "        #max_value_rf = max(acc_val_rf)\n",
        "        #max_index_rf = acc_val_rf.index(max_value_rf)\n",
        "        #max_clf_rf = classifier_rf[max_index_rf]\n",
        "\n",
        "    # Remove columns from dataframes\n",
        "    outer_train, outer_test = data_cleaning(outer_train, outer_test)\n",
        "        \n",
        "    # Data scaling\n",
        "    outer_train, outer_test = data_scaling(outer_train, outer_test)\n",
        "\n",
        "    # Univariate Feature Selection\n",
        "    outer_train, outer_test = uni_features(outer_train, outer_test, outer_stage_train)\n",
        "    \n",
        "    max_clf_knn.fit(outer_train, outer_stage_train)\n",
        "    predict_test_knn = max_clf_knn.predict(outer_test)\n",
        "    auc_knn = metrics.roc_auc_score(predict_test_knn, outer_stage_test)\n",
        "    acc_knn = max_clf_knn.score(outer_test, outer_stage_test)\n",
        "    acc_total_knn.append(acc_knn)\n",
        "    auc_total_knn.append(auc_knn)    \n",
        "\n",
        "    max_clf_svm.fit(outer_train, outer_stage_train)\n",
        "    predict_test_knn = max_clf_knn.predict(outer_test)\n",
        "    auc_svm = metrics.roc_auc_score(predict_test_knn, outer_stage_test)\n",
        "    acc_svm = max_clf_knn.score(outer_test, outer_stage_test)\n",
        "    acc_total_svm.append(acc_knn)\n",
        "    auc_total_svm.append(auc_knn) \n",
        "\n",
        "print(f'The mean accuracy of a knn-classifier is: {mean(acc_total_knn)}')  \n",
        "print(f'The mean accuracy of a knn-classifier is: {mean(auc_total_knn)}')   \n",
        "print(f'The mean accuracy of a svm-classifier is: {mean(acc_total_svm)}')   \n",
        "print(f'The mean accuracy of a svm-classifier is: {mean(auc_total_svm)}')    \n",
        "    "
      ],
      "execution_count": 66,
      "outputs": [
        {
          "output_type": "stream",
          "text": [
            "The mean accuracy of a knn-classifier is: 0.6782608695652174\n",
            "The mean accuracy of a knn-classifier is: 0.6860027472527472\n",
            "The mean accuracy of a svm-classifier is: 0.6782608695652174\n",
            "The mean accuracy of a svm-classifier is: 0.6860027472527472\n"
          ],
          "name": "stdout"
        }
      ]
    }
  ]
}
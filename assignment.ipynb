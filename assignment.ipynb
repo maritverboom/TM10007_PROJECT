{
  "nbformat": 4,
  "nbformat_minor": 0,
  "metadata": {
    "colab": {
      "name": "Cleaned assignment.ipynb",
      "provenance": [],
      "collapsed_sections": [
        "wsAK0KaohQVV",
        "u2PwNj7j1SFh",
        "-AlgAclcK2My",
        "oZUAiDtz5djl",
        "oVOizcWl4sAM",
        "BLXxyvuwqW7q",
        "5sZMD7Au7jsz",
        "QKWj0zjn2Qh8"
      ],
      "include_colab_link": true
    },
    "kernelspec": {
      "display_name": "Python 3",
      "language": "python",
      "name": "python3"
    },
    "language_info": {
      "codemirror_mode": {
        "name": "ipython",
        "version": 3
      },
      "file_extension": ".py",
      "mimetype": "text/x-python",
      "name": "python",
      "nbconvert_exporter": "python",
      "pygments_lexer": "ipython3",
      "version": "3.7.4"
    }
  },
  "cells": [
    {
      "cell_type": "markdown",
      "metadata": {
        "id": "view-in-github",
        "colab_type": "text"
      },
      "source": [
        "<a href=\"https://colab.research.google.com/github/maritverboom/TM10007_PROJECT/blob/master/assignment.ipynb\" target=\"_parent\"><img src=\"https://colab.research.google.com/assets/colab-badge.svg\" alt=\"Open In Colab\"/></a>"
      ]
    },
    {
      "cell_type": "markdown",
      "metadata": {
        "colab_type": "text",
        "id": "7SXpaKwwGe5x"
      },
      "source": [
        "# TM10007 Assignment Group 15\n",
        "Bart Formsma: 4438450\n",
        "\n",
        "Eline van Lange: 4390210\n",
        "\n",
        "Laurien Reinders: 4472306\n",
        "\n",
        "Marit Verboom: 4453778\n"
      ]
    },
    {
      "cell_type": "code",
      "metadata": {
        "colab_type": "code",
        "id": "CiDn2Sk-VWqE",
        "outputId": "965d6e32-92c6-4a21-a91c-a39a8f79f287",
        "colab": {
          "base_uri": "https://localhost:8080/",
          "height": 34
        }
      },
      "source": [
        "# Run this to use from colab environment\n",
        "!pip install -q --upgrade git+https://github.com/karinvangarderen/tm10007_project.git"
      ],
      "execution_count": 88,
      "outputs": [
        {
          "output_type": "stream",
          "text": [
            "  Building wheel for brats (setup.py) ... \u001b[?25l\u001b[?25hdone\n"
          ],
          "name": "stdout"
        }
      ]
    },
    {
      "cell_type": "markdown",
      "metadata": {
        "id": "wsAK0KaohQVV",
        "colab_type": "text"
      },
      "source": [
        "## Importing packages"
      ]
    },
    {
      "cell_type": "code",
      "metadata": {
        "id": "jxz2ol8v3Kyo",
        "colab_type": "code",
        "colab": {}
      },
      "source": [
        "# General packages\n",
        "import numpy as np \n",
        "import matplotlib.pyplot as plt\n",
        "import pandas as pd\n",
        "from sklearn import metrics\n",
        "import seaborn as sns\n",
        "\n",
        "# Feature selection methods\n",
        "from sklearn import feature_selection\n",
        "from sklearn.feature_selection import SelectPercentile\n",
        "from sklearn.feature_selection import f_classif\n",
        "from sklearn.decomposition import PCA\n",
        "from sklearn.linear_model import LassoCV\n",
        "from sklearn.linear_model import Lasso\n",
        "from sklearn.model_selection import KFold\n",
        "from sklearn.model_selection import GridSearchCV\n",
        "from yellowbrick.regressor import AlphaSelection\n",
        "from sklearn.feature_selection import SelectFromModel\n",
        "\n",
        "# Classifiers\n",
        "from sklearn import model_selection\n",
        "from sklearn import preprocessing\n",
        "from sklearn import neighbors\n",
        "from sklearn import svm\n",
        "from sklearn.ensemble import RandomForestClassifier\n",
        "from sklearn.neural_network import MLPClassifier\n",
        "\n",
        "# Statistics\n",
        "from statistics import mean\n",
        "from statistics import stdev\n",
        "from sklearn.metrics import confusion_matrix\n",
        "from math import sqrt"
      ],
      "execution_count": 0,
      "outputs": []
    },
    {
      "cell_type": "markdown",
      "metadata": {
        "id": "u2PwNj7j1SFh",
        "colab_type": "text"
      },
      "source": [
        "## Function for learning curve in order te evaluate model"
      ]
    },
    {
      "cell_type": "code",
      "metadata": {
        "id": "siRrGSGS1SR5",
        "colab_type": "code",
        "colab": {}
      },
      "source": [
        "def plot_learning_curve(estimator, title, X, y, axes, ylim=None, cv=None,\n",
        "                        n_jobs=None, train_sizes=np.linspace(.1, 1.0, 5)):\n",
        "    \"\"\"\n",
        "    Function to plot a StandardScaler.\n",
        "    Input:\n",
        "    - estimator: object type that implements the \"fit\" and \"predict\" methods\n",
        "        An object of that type which is cloned for each validation.\n",
        "    - title: string, title of the figure\n",
        "    - x: data_train\n",
        "    - y: data_stage\n",
        "    - axes: axes to use for plotting the curves\n",
        "    - ylim: minimum and maximum yvalues plotted\n",
        "    - cv: cross-validation generator\n",
        "    - n_jobs: number of jobs to run in parallel\n",
        "    - train_sizes: the test data that should be scaled\n",
        "    Output:\n",
        "    - Learning curve plot\n",
        "    \"\"\"\n",
        "    axes.set_title(title)\n",
        "    if ylim is not None:\n",
        "        axes.set_ylim(*ylim)\n",
        "    axes.set_xlabel(\"Training examples\")\n",
        "    axes.set_ylabel(\"Score\")\n",
        "\n",
        "    train_sizes, train_scores, test_scores  =  model_selection.learning_curve(estimator, X, y, cv=cv, n_jobs=n_jobs,\n",
        "                       train_sizes=train_sizes)\n",
        "    train_scores_mean = np.mean(train_scores, axis=1)\n",
        "    train_scores_std = np.std(train_scores, axis=1)\n",
        "    test_scores_mean = np.mean(test_scores, axis=1)\n",
        "    test_scores_std = np.std(test_scores, axis=1)\n",
        "\n",
        "    # Plot learning curve\n",
        "    axes.grid()\n",
        "    axes.fill_between(train_sizes, train_scores_mean - train_scores_std,\n",
        "                         train_scores_mean + train_scores_std, alpha=0.1,\n",
        "                         color=\"r\")\n",
        "    axes.fill_between(train_sizes, test_scores_mean - test_scores_std,\n",
        "                         test_scores_mean + test_scores_std, alpha=0.1,\n",
        "                         color=\"g\")\n",
        "    axes.plot(train_sizes, train_scores_mean, 'o-', color=\"r\",\n",
        "                 label=\"Training score\")\n",
        "    axes.plot(train_sizes, test_scores_mean, 'o-', color=\"g\",\n",
        "                 label=\"Cross-validation score\")\n",
        "    axes.legend(loc=\"best\")\n",
        "\n",
        "    return plt"
      ],
      "execution_count": 0,
      "outputs": []
    },
    {
      "cell_type": "markdown",
      "metadata": {
        "id": "-AlgAclcK2My",
        "colab_type": "text"
      },
      "source": [
        "## Data Loading\n",
        "- Loading the provided Head & Neck dataset\n",
        "- Splitting the data in train- and testset\n",
        "- Binarizing tumor stages: TM12 = 0, TM34 = 1\n"
      ]
    },
    {
      "cell_type": "code",
      "metadata": {
        "id": "iIAVZzeGK4dJ",
        "colab_type": "code",
        "outputId": "53c0bfab-0011-45d0-f7b0-b3d560f88662",
        "colab": {
          "base_uri": "https://localhost:8080/",
          "height": 138
        }
      },
      "source": [
        "# Import dataset\n",
        "from hn.load_data import load_data\n",
        "data = load_data()\n",
        "data_start = data\n",
        "print(f'The number of samples (the patients): {len(data.index)}')\n",
        "print(f'The number of columns (the features): {len(data.columns)}')\n",
        "\n",
        "# Splitting the data in train- and testpart with a portion of 'test_size' testing data (20%)\n",
        "data_train, data_test = model_selection.train_test_split(data, test_size=0.20, stratify=data['label'])\n",
        "\n",
        "print(f'The number of samples of train data : {len(data_train.index)}')\n",
        "print(f'The number of samples of test data : {len(data_test.index)}')\n",
        "\n",
        "# dataframe containing tumor stadium of subject (T12/T34)\n",
        "stage_train = data_train['label']             \n",
        "stage_test = data_test['label'] \n",
        "\n",
        "# dataframe containing all feature columns except 'label' (tumor stadium of subject)\n",
        "data_train = data_train.drop(columns='label') \n",
        "data_test = data_test.drop(columns='label')\n",
        "\n",
        "# Binarize label data\n",
        "stage_train = preprocessing.label_binarize(stage_train, ['T12', 'T34'])\n",
        "stage_train = [i[0] for i in stage_train]\n",
        "stage_test = preprocessing.label_binarize(stage_test, ['T12', 'T34'])\n",
        "stage_test = [i[0] for i in stage_test]\n",
        "\n",
        "labels_T12_train = stage_train.count(0)\n",
        "labels_T12_test = stage_test.count(0)\n",
        "labels_T34_train = stage_train.count(1)\n",
        "labels_T34_test = stage_test.count(1)\n",
        "print(f'Train samples with label T12: {labels_T12_train}/{len(data_train.index)}, Test samples with label T12: {labels_T12_test}/{len(data_test.index)}, total number of samples with label T12: {labels_T12_train + labels_T12_test}/{len(data.index)}')\n",
        "print(f'Train samples with label T34: {labels_T34_train}/{len(data_train.index)}, Test samples with label T34: {labels_T34_test}/{len(data_test.index)}, total number of samples with label T34: {labels_T34_train + labels_T34_test}/{len(data.index)}')\n"
      ],
      "execution_count": 91,
      "outputs": [
        {
          "output_type": "stream",
          "text": [
            "The number of samples (the patients): 113\n",
            "The number of columns (the features): 160\n",
            "The number of samples of train data : 90\n",
            "The number of samples of test data : 23\n",
            "Train samples with label T12: 46/90, Test samples with label T12: 12/23, total number of samples with label T12: 58/113\n",
            "Train samples with label T34: 44/90, Test samples with label T34: 11/23, total number of samples with label T34: 55/113\n"
          ],
          "name": "stdout"
        }
      ]
    },
    {
      "cell_type": "markdown",
      "metadata": {
        "id": "oZUAiDtz5djl",
        "colab_type": "text"
      },
      "source": [
        "## Data cleaning\n",
        "- Removing columns where > 25% of the values are 0.0\n",
        "- Removing columns containing the same value for each sample\n"
      ]
    },
    {
      "cell_type": "code",
      "metadata": {
        "colab_type": "code",
        "id": "-NE_fTbKGe5z",
        "outputId": "38fe4536-6637-40f0-f45e-c0e4829d3c2a",
        "colab": {
          "base_uri": "https://localhost:8080/",
          "height": 50
        }
      },
      "source": [
        "# Function for data cleaning\n",
        "def data_cleaning(data_train, data_test):\n",
        "    \"\"\"\n",
        "    Function for cleaning the data, by removing columns where >25% of the values are 0.0\n",
        "    and removing columns containing the same value for each sample.\n",
        "    Input:\n",
        "    - data_train: the train data that should be cleaned\n",
        "    - data_test: the test data that should be cleaned\n",
        "    Output:\n",
        "    - data_train: the cleaned train data\n",
        "    - data-test: the cleaned test data\n",
        "    \"\"\"\n",
        "    # Remove all columns where more than 25% of the values are 0.0\n",
        "    drop_cols_train = data_train.columns[(data_train == 0).sum() > 0.25*data_train.shape[1]]\n",
        "    drop_cols_test = data_test.columns[(data_train ==0).sum() > 0.25*data_train.shape[1]]\n",
        "    data_train.drop(drop_cols_train, axis = 1, inplace = True) \n",
        "    data_test.drop(drop_cols_test, axis = 1, inplace = True)\n",
        "    \n",
        "    # Remove all columns with no std\n",
        "    drop_std_train = data_train.columns[data_train.std() == 0]\n",
        "    drop_std_test = data_test.columns[data_train.std() == 0]\n",
        "    data_train.drop(drop_std_train, axis = 1, inplace = True) \n",
        "    data_test.drop(drop_std_test, axis = 1, inplace = True)\n",
        "    \n",
        "    return data_train, data_test\n",
        "\n",
        "# Apply data_cleaning to data_train and data_test in order to evaluate different scalers, feature selection methods and classifiers.\n",
        "data_train, data_test = data_cleaning(data_train, data_test)\n",
        "\n",
        "print(f'TRAIN: The number of columns after cleaning: {len(data_train.columns)}, and the number of rows: {len(data_train.index)}')\n",
        "print(f'TEST: The number of columns after cleaning: {len(data_test.columns)},  and the number of rows: {len(data_test.index)}')\n"
      ],
      "execution_count": 92,
      "outputs": [
        {
          "output_type": "stream",
          "text": [
            "TRAIN: The number of columns after cleaning: 149, and the number of rows: 90\n",
            "TEST: The number of columns after cleaning: 149,  and the number of rows: 23\n"
          ],
          "name": "stdout"
        }
      ]
    },
    {
      "cell_type": "markdown",
      "metadata": {
        "id": "oVOizcWl4sAM",
        "colab_type": "text"
      },
      "source": [
        "## Data standard scaling\n",
        "\n",
        "- Scaling the train- and test dataset with a Standard Scaler\n",
        "- Scaling the train- and test dataset with a Robust Scaler\n",
        "- Scaling the train- and test dataset with a MinMax scaler\n",
        " "
      ]
    },
    {
      "cell_type": "markdown",
      "metadata": {
        "id": "Ttxbc58hrcPZ",
        "colab_type": "text"
      },
      "source": [
        "Scaling the train- and test dataset with a Standard Scaler"
      ]
    },
    {
      "cell_type": "code",
      "metadata": {
        "id": "4hKWuBpi4xck",
        "colab_type": "code",
        "colab": {}
      },
      "source": [
        "def data_scaling(data_train, data_test):\n",
        "    \"\"\"\n",
        "    Function to scale the data using a StandardScaler.\n",
        "    Input:\n",
        "    - data_train: the train data that should be scaled\n",
        "    - data_test: the test data that should be scaled\n",
        "    Output:\n",
        "    - data_train_scaled: the standard scaled data\n",
        "    - data-test_scaled: the standard scaled data \n",
        "    \"\"\"\n",
        "    # Scale the data (train on train set)\n",
        "    scaler = preprocessing.StandardScaler()   \n",
        "    scaler.fit(data_train)  \n",
        "\n",
        "    # Perform scaling on both train and testset, returing scaled dataframe\n",
        "    data_train_scaled = pd.DataFrame(scaler.transform(data_train), columns = data_train.columns)\n",
        "    data_test_scaled = pd.DataFrame(scaler.transform(data_test), columns=data_test.columns) \n",
        "\n",
        "    return data_train_scaled, data_test_scaled\n",
        "\n",
        "# Apply data_scaling to data_train and data_test in order to evaluate different scalers, feature selection methods and classifiers.\n",
        "data_train_scaled, data_test_scaled = data_scaling(data_train, data_test)\n"
      ],
      "execution_count": 0,
      "outputs": []
    },
    {
      "cell_type": "markdown",
      "metadata": {
        "id": "Erqy09vSvlnk",
        "colab_type": "text"
      },
      "source": [
        "Scaling the train- and test dataset with a Robust Scaler"
      ]
    },
    {
      "cell_type": "code",
      "metadata": {
        "id": "Sq4zowWRvn52",
        "colab_type": "code",
        "colab": {}
      },
      "source": [
        "def data_scaling_robust(data_train, data_test):\n",
        "    \"\"\"\n",
        "    Function to scale the data using a RobustScaler.\n",
        "    Input:\n",
        "    - data_train: the train data that should be scaled\n",
        "    - data_test: the test data that should be scaled\n",
        "    Output:\n",
        "    - data_train_scaled_robust: the robust scaled data\n",
        "    - data-test_scaled_robust: the robust scaled data\n",
        "    \"\"\"\n",
        "    # Scale the data (train on train set)\n",
        "    scaler = preprocessing.RobustScaler()   \n",
        "    scaler.fit(data_train)  \n",
        "\n",
        "    # Perform scaling on both train and testset, returing scaled dataframe\n",
        "    data_train_scaled_robust = pd.DataFrame(scaler.transform(data_train), columns = data_train.columns)\n",
        "    data_test_scaled_robust = pd.DataFrame(scaler.transform(data_test), columns=data_test.columns) \n",
        "\n",
        "    return data_train_scaled_robust, data_test_scaled_robust\n",
        "\n",
        "# Apply data_scaling_robust to data_train and data_test in order to evaluate different scalers, feature selection methods and classifiers.\n",
        "data_train_scaled_robust, data_test_scaled_robust = data_scaling_robust(data_train, data_test)"
      ],
      "execution_count": 0,
      "outputs": []
    },
    {
      "cell_type": "markdown",
      "metadata": {
        "id": "A8qNv4G6kj-S",
        "colab_type": "text"
      },
      "source": [
        "Scaling the train- and test dataset with a MinMax Scaler"
      ]
    },
    {
      "cell_type": "code",
      "metadata": {
        "id": "jljXX2BRkkHG",
        "colab_type": "code",
        "colab": {}
      },
      "source": [
        "def data_scaling_MinMax(data_train, data_test):\n",
        "    \"\"\"\n",
        "    Function to scale the data using a MinMax Scaler.\n",
        "    Input:\n",
        "    - data_train: the train data that should be scaled\n",
        "    - data_test: the test data that should be scaled\n",
        "    Output:\n",
        "    - data_train_scaled_minmax: the standard scaled data\n",
        "    - data-test_scaled_minmax: the standard scaled data\n",
        "    \"\"\"\n",
        "    # Scale the data (train on train set)\n",
        "    scaler = preprocessing.MinMaxScaler()   \n",
        "    scaler.fit(data_train)  \n",
        "\n",
        "    # Perform scaling on both train and testset, returing scaled dataframe\n",
        "    data_train_scaled_minmax = pd.DataFrame(scaler.transform(data_train), columns = data_train.columns)\n",
        "    data_test_scaled_minmax = pd.DataFrame(scaler.transform(data_test), columns=data_test.columns) \n",
        "\n",
        "    return data_train_scaled_minmax, data_test_scaled_minmax\n",
        "\n",
        "# Apply data_scaling_MinMax to data_train and data_test in order to evaluate different scalers, feature selection methods and classifiers.\n",
        "data_train_scaled_minmax, data_test_scaled_minmax = data_scaling_MinMax(data_train, data_test)"
      ],
      "execution_count": 0,
      "outputs": []
    },
    {
      "cell_type": "markdown",
      "metadata": {
        "id": "BLXxyvuwqW7q",
        "colab_type": "text"
      },
      "source": [
        "## Feature selection, elimination and transformation\n",
        "\n",
        "- Recursive Feature Elimination\n",
        "- Univariate Feature Selection\n",
        "- Principal Component Analysis\n",
        "- L1/Lasso Regression Feature Selection"
      ]
    },
    {
      "cell_type": "markdown",
      "metadata": {
        "id": "8gxQOHHj9yMb",
        "colab_type": "text"
      },
      "source": [
        "Recursive Feature Elimination (rfecv)\n",
        "\n",
        "\n",
        "-   Evaluation of stability of rfecv\n",
        "\n",
        "\n"
      ]
    },
    {
      "cell_type": "code",
      "metadata": {
        "id": "qe6OoqWjq0Ni",
        "colab_type": "code",
        "outputId": "87644658-a284-42a5-9160-030a7d57850d",
        "colab": {
          "base_uri": "https://localhost:8080/",
          "height": 383
        }
      },
      "source": [
        "# Create the RFE object\n",
        "svc = svm.SVC(kernel=\"linear\")  \n",
        "\n",
        "# classifications\n",
        "rfecv = feature_selection.RFECV(\n",
        "    estimator=svc, step=1, \n",
        "    cv=model_selection.StratifiedKFold(4),\n",
        "    scoring='roc_auc')\n",
        "fit_rfecv = rfecv.fit(data_train_scaled, stage_train)\n",
        "\n",
        "# Plot number of features VS. cross-validation scores\n",
        "plt.figure()\n",
        "plt.xlabel(\"Number of features selected\")\n",
        "plt.ylabel(\"Cross validation score (nb of correct classifications)\")\n",
        "plt.plot(range(1, len(rfecv.grid_scores_) + 1), rfecv.grid_scores_)\n",
        "plt.show()\n",
        "\n",
        "print(\"Num Features: %d\" % fit_rfecv.n_features_)\n",
        "\n",
        "data_train_rfecv = rfecv.transform(data_train_scaled)\n",
        "data_test_rfecv = rfecv.transform(data_test_scaled)\n",
        "\n",
        "# Evaluating stability RFECV by running it 5 times using a different train-test split\n",
        "number_features_selected = []\n",
        "for _ in range(10):\n",
        "    # Splitting the data in train- and testpart with a portion of 'test_size' testing data (20%)\n",
        "    data_train, data_test = model_selection.train_test_split(data, test_size=0.20, stratify=data['label'])\n",
        "\n",
        "    stage_train = data_train['label']             \n",
        "    stage_test = data_test['label'] \n",
        "\n",
        "    data_train = data_train.drop(columns='label') \n",
        "    data_test = data_test.drop(columns='label')\n",
        "\n",
        "    stage_train = preprocessing.label_binarize(stage_train, ['T12', 'T34'])\n",
        "    stage_train = [i[0] for i in stage_train]\n",
        "    stage_test = preprocessing.label_binarize(stage_test, ['T12', 'T34'])\n",
        "    stage_test = [i[0] for i in stage_test]\n",
        "\n",
        "    data_train, data_test = data_cleaning(data_train, data_test)\n",
        "    data_train, data_tst = data_scaling(data_train, data_test)\n",
        "\n",
        "    fit_rfecv = rfecv.fit(data_train_scaled, stage_train)\n",
        "\n",
        "    number_features_selected.append(fit_rfecv.n_features_)\n",
        "print(f'Numbers of features selected each run: {number_features_selected}')\n",
        "\n",
        "print(f'\\nConclusion: the number of features selected after each run differs such much, that the RFECV as method for feature elimination is unstable')\n",
        "\n"
      ],
      "execution_count": 96,
      "outputs": [
        {
          "output_type": "display_data",
          "data": {
            "image/png": "[encoded data removed]",
            "text/plain": [
              "<Figure size 432x288 with 1 Axes>"
            ]
          },
          "metadata": {
            "tags": [],
            "needs_background": "light"
          }
        },
        {
          "output_type": "stream",
          "text": [
            "Num Features: 115\n",
            "Numbers of features selected each run: [5, 1, 83, 23, 86, 1, 13, 1, 24, 70]\n",
            "\n",
            "Conclusion: the number of features selected after each run differs such much, that the RFECV as method for feature elimination is unstable\n"
          ],
          "name": "stdout"
        }
      ]
    },
    {
      "cell_type": "markdown",
      "metadata": {
        "id": "Y-f-qvIbMvu2",
        "colab_type": "text"
      },
      "source": [
        "Feature selection using univariate feature selection\n",
        "- Function to perform univariate feature selection on data\n",
        "- Evaluation of stability of univariate feature selection\n",
        "- Learning curve to determine which percentage for univariate feature selection should be taken"
      ]
    },
    {
      "cell_type": "code",
      "metadata": {
        "id": "8GpfGpM1M4Dp",
        "colab_type": "code",
        "outputId": "956da306-e6f0-450f-e957-502d88dee5d5",
        "colab": {
          "base_uri": "https://localhost:8080/",
          "height": 733
        }
      },
      "source": [
        "# Function to apply univariate feature selection to data_train and data_test\n",
        "def uni(data_train, data_test, stage_train, percentile):\n",
        "    \"\"\"\n",
        "    Function to perform univariate feature selection \n",
        "    input:\n",
        "    - data_train: train data that should be transformed by univariate feature selection, which will be trained on this train data\n",
        "    - data-test: test data that should be transformed by univariate feature selection\n",
        "    - percentile: the percentage of the best predicting features that should be used\n",
        "    output:\n",
        "    - data_train_uni: transformed train dataset by univariate feature selection trained on train data\n",
        "    - data_test_uni: transformed test dataset by univariate feature selection trained on train data\n",
        "    \"\"\"\n",
        "    # Train univariate feature selection on train data\n",
        "    selector_uni = SelectPercentile(f_classif, percentile)\n",
        "    selector_uni.fit(data_train, stage_train)\n",
        "\n",
        "    # Transform data using univariate feature selection\n",
        "    data_train_uni = selector_uni.transform(data_train)\n",
        "    data_test_uni = selector_uni.transform(data_test)\n",
        "    \n",
        "    # Return transformed data\n",
        "    return data_train_uni, data_test_uni\n",
        "\n",
        "# Apply univariate feature selection function to data_train and data_test in order to evaluate different feature selection methods and classifiers.\n",
        "data_train_uni, data_test_uni = uni(data_train, data_test, stage_train, 20)\n",
        "\n",
        "# Evaluation univariate feature selection as feature selection method on dataset\n",
        "selector_uni = SelectPercentile(f_classif, 20)\n",
        "selector_uni.fit(data_train, stage_train)\n",
        "dfscores = pd.DataFrame(selector_uni.scores_)\n",
        "dfcolumns = pd.DataFrame(data_train.columns)\n",
        "featureScores = pd.concat([dfcolumns,dfscores],axis=1)\n",
        "featureScores.columns = ['Specs','Score'] \n",
        "print(featureScores.nlargest(int(0.2*len(featureScores)),'Score'))  #print 40 best features\n",
        "\n",
        "print('\\nConclusion: running the univariate feature selection method for different train-test splits results in around the same top features selected, thus this method is stable and will be further processed and trained.')\n",
        "\n",
        "# Evaluating what percentage of features needs to be selected, using a learning curve\n",
        "perc = [20, 40, 60, 80, 100] # the evaluated percentages\n",
        "svm_scaler = svm.SVC() # evaluating is done using a svm classifier\n",
        "svm_scaler.fit(train_uni, stage_train)\n",
        "fig = plt.figure(figsize=(24,15))\n",
        "num = 0   \n",
        "cvlc = model_selection.StratifiedShuffleSplit(n_splits=10, test_size=0.2, random_state=0)\n",
        "\n",
        "for per in perc:\n",
        "    data_train_uni, stage_train_uni  = uni(data_train, data_test, stage_train, per)\n",
        "    title = str(per)\n",
        "    ax = fig.add_subplot(5, 5, num + 1)\n",
        "    plot_learning_curve(svm_scaler, title, data_train_uni, stage_train, ax, ylim=(0.3, 1.01), cv=cvlc)\n",
        "    num += 1\n",
        "print(f'\\nConclusion: the chosen percentage of best predicting features using univariate feature selection is 20%, since otherwise the model is more prone to overfitting according to the learning curve')\n",
        "\n",
        "print(f'\\nLearning curve univariate feature selection and SVM classifier:')"
      ],
      "execution_count": 97,
      "outputs": [
        {
          "output_type": "stream",
          "text": [
            "                                         Specs      Score\n",
            "39                         tf_GLRLM_RunEntropy  42.547524\n",
            "40             tf_GLRLM_RunLengthNonUniformity  32.745436\n",
            "42                      tf_GLRLM_RunPercentage  31.932310\n",
            "25                          sf_rad_dist_avg_2D  29.773487\n",
            "32             tf_GLRLM_GrayLevelNonUniformity  26.513752\n",
            "41   tf_GLRLM_RunLengthNonUniformityNormalized  26.074453\n",
            "134                     tf_LBP_kurtosis_R3_P12  25.386242\n",
            "43                        tf_GLRLM_RunVariance  22.916879\n",
            "128                       tf_Gabor_0.5A2.36max  22.046725\n",
            "0                                    hf_energy  21.411702\n",
            "46       tf_GLRLM_ShortRunLowGrayLevelEmphasis  21.145396\n",
            "121                      tf_Gabor_0.5A1.57kurt  20.016827\n",
            "146                          tf_LBP_std_R3_P12  19.971103\n",
            "1                                   hf_entropy  18.685428\n",
            "131                      tf_Gabor_0.5A2.36skew  18.175199\n",
            "28                         sf_roughness_std_2D  16.659278\n",
            "35                    tf_GLRLM_LongRunEmphasis  16.599797\n",
            "125                      tf_Gabor_0.5A1.57skew  15.852983\n",
            "26                          sf_rad_dist_std_2D  15.511488\n",
            "60                     tf_GLSZM_ZonePercentage  15.201382\n",
            "44                   tf_GLRLM_ShortRunEmphasis  15.177637\n",
            "130                       tf_Gabor_0.5A2.36min  13.404173\n",
            "127                      tf_Gabor_0.5A2.36kurt  13.020984\n",
            "36       tf_GLRLM_LongRunHighGrayLevelEmphasis  12.524491\n",
            "129                      tf_Gabor_0.5A2.36mean  12.459516\n",
            "126                       tf_Gabor_0.5A1.57std  11.805607\n",
            "31                                sf_volume_2D  11.572257\n",
            "34           tf_GLRLM_HighGrayLevelRunEmphasis  11.315276\n",
            "38            tf_GLRLM_LowGrayLevelRunEmphasis  11.315276\n",
            "\n",
            "Conclusion: running the univariate feature selection method for different train-test splits results in around the same top features selected, thus this method is stable and will be further processed and trained.\n",
            "\n",
            "Conclusion: the chosen percentage of best predicting features using univariate feature selection is 20%, since otherwise the model is more prone to overfitting according to the learning curve\n",
            "\n",
            "Learning curve univariate feature selection and SVM classifier:\n"
          ],
          "name": "stdout"
        },
        {
          "output_type": "display_data",
          "data": {
            "image/png": "[encoded data removed]",
            "text/plain": [
              "<Figure size 1728x1080 with 5 Axes>"
            ]
          },
          "metadata": {
            "tags": [],
            "needs_background": "light"
          }
        }
      ]
    },
    {
      "cell_type": "markdown",
      "metadata": {
        "id": "o251HvpzBy4l",
        "colab_type": "text"
      },
      "source": [
        "Principal Component Analysis (PCA)\n",
        "- Function to perform PCA on data\n",
        "- Evaluation of stability of PCA (using a standard scaler for preprocessing the data)"
      ]
    },
    {
      "cell_type": "code",
      "metadata": {
        "id": "O4IiEnXmB-Y3",
        "colab_type": "code",
        "outputId": "9d0c68ae-9b60-4336-a4ce-44799342c402",
        "colab": {
          "base_uri": "https://localhost:8080/",
          "height": 87
        }
      },
      "source": [
        "# Function to apply PCA to data_train and data_test\n",
        "def pca_opt(data_train, data_test):\n",
        "    \"\"\"\n",
        "    Function to perform PCA\n",
        "    input:\n",
        "    - data_train: train data that should be transformed by PCA, which will be trained on this train data\n",
        "    - data-test: test data that should be transformed by PCA\n",
        "    output:\n",
        "    - data_train: transformed train dataset by PCA trained on train data\n",
        "    - data_test: transformed test dataset by PCA trained on train data\n",
        "    \"\"\"\n",
        "    pca=PCA().fit(data_train)\n",
        "\n",
        "    # Amount of n-components based on a variance level of 0.99\n",
        "    var = np.cumsum(pca.explained_variance_ratio_)\n",
        "    n_comp = np.where(var>0.99)[0][0]\n",
        "    pca_train = PCA(n_components=n_comp)\n",
        "    pca_train.fit(data_train)\n",
        "\n",
        "    # Transform data using PCA\n",
        "    data_train = pca_train.transform(data_train)\n",
        "    data_test = pca_train.transform(data_test)\n",
        "\n",
        "    # Return transformed train- and testdata\n",
        "    return data_train, data_test\n",
        "\n",
        "# Apply PCA function to data_train and data_test in order to evaluate different feature selection methods and classifiers.\n",
        "data_train_pca, data_test_pca = pca(data_train_scaled, data_test_scaled)\n",
        "\n",
        "# Evaluation stability of PCA as feature selection method on dataset\n",
        "number_of_components = []\n",
        "for _ in range(10):\n",
        "    # Splitting the data in train- and testpart with a portion of 'test_size' testing data (20%)\n",
        "    data_train, data_test = model_selection.train_test_split(data, test_size=0.20, stratify=data['label'])\n",
        "\n",
        "    stage_train = data_train['label']             \n",
        "    stage_test = data_test['label'] \n",
        "\n",
        "    data_train = data_train.drop(columns='label') \n",
        "    data_test = data_test.drop(columns='label')\n",
        "\n",
        "    stage_train = preprocessing.label_binarize(stage_train, ['T12', 'T34'])\n",
        "    stage_train = [i[0] for i in stage_train]\n",
        "    stage_test = preprocessing.label_binarize(stage_test, ['T12', 'T34'])\n",
        "    stage_test = [i[0] for i in stage_test]\n",
        "\n",
        "    data_train, data_test = data_cleaning(data_train, data_test)\n",
        "    data_train_scaled_standard, data_test_scaled_standard = data_scaling(data_train, data_test)\n",
        "    data_train_pca_standard, data_test_pca_standard = pca(data_train_scaled_standard, data_test_scaled_standard)\n",
        "    number_of_components.append(data_train_pca_standard.shape[1])\n",
        "\n",
        "print(f'Numbers of components selected each run: {number_of_components}')\n",
        "\n",
        "print(f'\\nConclusion: the number of components selected after each run is 55 or 56, which means the PCA is stable on our data and will be further processed and trained.')\n"
      ],
      "execution_count": 98,
      "outputs": [
        {
          "output_type": "stream",
          "text": [
            "Numbers of components selected each run: [55, 56, 55, 55, 55, 56, 55, 56, 55, 56]\n",
            "\n",
            "Conclusion: the number of components selected after each run is 55 or 56, which means the PCA is stable on our data and will be further processed and trained.\n"
          ],
          "name": "stdout"
        }
      ]
    },
    {
      "cell_type": "markdown",
      "metadata": {
        "id": "vCbyt5gGH0hd",
        "colab_type": "text"
      },
      "source": [
        "Lasso feature selection\n",
        "- Function to perform lasso feature selection\n",
        "- Evaluation of stability of the alpha parameter in lasso feature selection"
      ]
    },
    {
      "cell_type": "code",
      "metadata": {
        "id": "n2xJCUlNH01p",
        "colab_type": "code",
        "outputId": "75245ff2-2d7e-4720-d9bd-89df08aa4595",
        "colab": {
          "base_uri": "https://localhost:8080/",
          "height": 400
        }
      },
      "source": [
        "# Function to apply PCA to data_train and data_test\n",
        "def lasso_func(n_alphas, lasso, data_train, stage_train, data_test):\n",
        "    \"\"\"\n",
        "    Function to perform L1 feature selection\n",
        "    \"\"\"\n",
        "    # Determine optimal alpha\n",
        "    alphas = np.logspace(-1.5, -0.1, n_alphas)\n",
        "    hyperparameters_l1 = [{'alpha': alphas}]\n",
        "    n_folds = 5\n",
        "    clf = GridSearchCV(lasso, hyperparameters_l1, cv=n_folds, refit=False)\n",
        "    model_l1 = LassoCV(alphas = alphas)\n",
        "    alpha_best = model.alpha_\n",
        "\n",
        "    # Training Lasso on train data\n",
        "    selector_l1 = SelectFromModel(estimator=Lasso(alpha=alpha_best, random_state = 42))\n",
        "    selector_l1.fit(data_train, stage_train)\n",
        "\n",
        "    # Transform data_train and data_set by applying the selector\n",
        "    data_train_l1 = selector_l1.transform(data_train)\n",
        "    data_test_l1 = selector_l1.transform(data_test)\n",
        "\n",
        "    # Scores\n",
        "    scores = clf.cv_results_['mean_test_score']\n",
        "    scores_std = clf.cv_results_['std_test_score']\n",
        "\n",
        "    # Plot\n",
        "    plt.figure().set_size_inches(8, 6)\n",
        "    plt.semilogx(alphas, scores)\n",
        "    # plot error lines showing +/- std. errors of the scores\n",
        "    std_error = scores_std / np.sqrt(n_folds)\n",
        "    plt.semilogx(alphas, scores + std_error, 'b--')\n",
        "    plt.semilogx(alphas, scores - std_error, 'b--')\n",
        "    plt.fill_between(alphas, scores + std_error, scores - std_error, alpha=0.2)\n",
        "    plt.ylabel('CV score +/- std error')\n",
        "    plt.xlabel('alpha')\n",
        "    plt.axhline(np.max(scores), linestyle='--', color='.5')\n",
        "    plt.xlim([alphas[0], alphas[-1]])\n",
        "    n_selected = data_train_l1.shape[1]\n",
        "    \n",
        "\n",
        "    # Return transformed data_train and data_test and a plot\n",
        "    return data_train_l1, data_test_l1, n_selected, alpha_best, plt\n",
        "\n",
        "\n",
        "\n",
        "lasso = Lasso(max_iter=10000)\n",
        "n_alphas = 200\n",
        "# tuned_parameters = [{'alpha': alphas}]\n",
        "# n_folds = 5\n",
        "# clf = GridSearchCV(lasso, tuned_parameters, cv=n_folds, refit=False)\n",
        "# clf.fit(data_train_scaled, stage_train)\n",
        "\n",
        "data_train_l1, data_test_l1, n_selected, alpha_best, plt = lasso_func(n_alphas, lasso, data_train, stage_train, data_test)\n",
        "\n",
        "print(f'The optimal alpha = {alpha_best}')\n",
        "# n_original = data_train_scaled.shape[1]\n",
        "print(f'\\nSelected {n_selected} from {n_original} features.')\n",
        "\n",
        "# Instantiate the linear model and visualizer\n",
        "# model = LassoCV(alphas=alphas)\n",
        "# visualizer = AlphaSelection(model)\n",
        "# visualizer.fit(data_train_scaled, stage_train)\n",
        "#visualizer.show()\n",
        "\n",
        "# alpha_best = model.alpha_\n",
        "# print(f'The optimal alpha = {alpha_best}')\n",
        "\n",
        "\n",
        "\n",
        "# selector = SelectFromModel(estimator=Lasso(alpha=alpha_best, random_state = 42))\n",
        "# selector.fit(data_train_scaled, stage_train)\n",
        "# n_original = data_train_scaled.shape[1]\n",
        "# data_train_l1 = selector.transform(data_train_scaled)\n",
        "# data_test_l1 = selector.transform(data_test_scaled)\n",
        "\n",
        "\n"
      ],
      "execution_count": 99,
      "outputs": [
        {
          "output_type": "stream",
          "text": [
            "/usr/local/lib/python3.6/dist-packages/sklearn/linear_model/_coordinate_descent.py:476: ConvergenceWarning: Objective did not converge. You might want to increase the number of iterations. Duality gap: 5.145085408405457, tolerance: 0.002248888888888888\n",
            "  positive)\n"
          ],
          "name": "stderr"
        },
        {
          "output_type": "error",
          "ename": "AttributeError",
          "evalue": "ignored",
          "traceback": [
            "\u001b[0;31m---------------------------------------------------------------------------\u001b[0m",
            "\u001b[0;31mAttributeError\u001b[0m                            Traceback (most recent call last)",
            "\u001b[0;32m<ipython-input-99-d2beab9fc733>\u001b[0m in \u001b[0;36m<module>\u001b[0;34m()\u001b[0m\n\u001b[1;32m     50\u001b[0m \u001b[0;31m# clf.fit(data_train_scaled, stage_train)\u001b[0m\u001b[0;34m\u001b[0m\u001b[0;34m\u001b[0m\u001b[0;34m\u001b[0m\u001b[0m\n\u001b[1;32m     51\u001b[0m \u001b[0;34m\u001b[0m\u001b[0m\n\u001b[0;32m---> 52\u001b[0;31m \u001b[0mdata_train_l1\u001b[0m\u001b[0;34m,\u001b[0m \u001b[0mdata_test_l1\u001b[0m\u001b[0;34m,\u001b[0m \u001b[0mn_selected\u001b[0m\u001b[0;34m,\u001b[0m \u001b[0malpha_best\u001b[0m\u001b[0;34m,\u001b[0m \u001b[0mplt\u001b[0m \u001b[0;34m=\u001b[0m \u001b[0mlasso_func\u001b[0m\u001b[0;34m(\u001b[0m\u001b[0mn_alphas\u001b[0m\u001b[0;34m,\u001b[0m \u001b[0mlasso\u001b[0m\u001b[0;34m,\u001b[0m \u001b[0mdata_train\u001b[0m\u001b[0;34m,\u001b[0m \u001b[0mstage_train\u001b[0m\u001b[0;34m,\u001b[0m \u001b[0mdata_test\u001b[0m\u001b[0;34m)\u001b[0m\u001b[0;34m\u001b[0m\u001b[0;34m\u001b[0m\u001b[0m\n\u001b[0m\u001b[1;32m     53\u001b[0m \u001b[0;34m\u001b[0m\u001b[0m\n\u001b[1;32m     54\u001b[0m \u001b[0mprint\u001b[0m\u001b[0;34m(\u001b[0m\u001b[0;34mf'The optimal alpha = {alpha_best}'\u001b[0m\u001b[0;34m)\u001b[0m\u001b[0;34m\u001b[0m\u001b[0;34m\u001b[0m\u001b[0m\n",
            "\u001b[0;32m<ipython-input-99-d2beab9fc733>\u001b[0m in \u001b[0;36mlasso_func\u001b[0;34m(n_alphas, lasso, data_train, stage_train, data_test)\u001b[0m\n\u001b[1;32m     20\u001b[0m \u001b[0;34m\u001b[0m\u001b[0m\n\u001b[1;32m     21\u001b[0m     \u001b[0;31m# Scores\u001b[0m\u001b[0;34m\u001b[0m\u001b[0;34m\u001b[0m\u001b[0;34m\u001b[0m\u001b[0m\n\u001b[0;32m---> 22\u001b[0;31m     \u001b[0mscores\u001b[0m \u001b[0;34m=\u001b[0m \u001b[0mclf\u001b[0m\u001b[0;34m.\u001b[0m\u001b[0mcv_results_\u001b[0m\u001b[0;34m[\u001b[0m\u001b[0;34m'mean_test_score'\u001b[0m\u001b[0;34m]\u001b[0m\u001b[0;34m\u001b[0m\u001b[0;34m\u001b[0m\u001b[0m\n\u001b[0m\u001b[1;32m     23\u001b[0m     \u001b[0mscores_std\u001b[0m \u001b[0;34m=\u001b[0m \u001b[0mclf\u001b[0m\u001b[0;34m.\u001b[0m\u001b[0mcv_results_\u001b[0m\u001b[0;34m[\u001b[0m\u001b[0;34m'std_test_score'\u001b[0m\u001b[0;34m]\u001b[0m\u001b[0;34m\u001b[0m\u001b[0;34m\u001b[0m\u001b[0m\n\u001b[1;32m     24\u001b[0m \u001b[0;34m\u001b[0m\u001b[0m\n",
            "\u001b[0;31mAttributeError\u001b[0m: 'GridSearchCV' object has no attribute 'cv_results_'"
          ]
        }
      ]
    },
    {
      "cell_type": "markdown",
      "metadata": {
        "id": "5sZMD7Au7jsz",
        "colab_type": "text"
      },
      "source": [
        "## Selecting the best scaler based on stability on selecting components of PCA\n"
      ]
    },
    {
      "cell_type": "code",
      "metadata": {
        "id": "q-_M5S2S7j8G",
        "colab_type": "code",
        "outputId": "6f9ebcd2-a05e-4a40-e46c-b2b5116acafd",
        "colab": {
          "base_uri": "https://localhost:8080/",
          "height": 138
        }
      },
      "source": [
        "data_train_pca_standard_components = []\n",
        "data_train_pca_robust_components = []\n",
        "data_train_pca_minmax_components = []\n",
        "\n",
        "for _ in range(100):\n",
        "    # Splitting the data in train- and testpart with a portion of 'test_size' testing data (20%)\n",
        "    data_train, data_test = model_selection.train_test_split(data, test_size=0.20, stratify=data['label'])\n",
        "\n",
        "    stage_train = data_train['label']             \n",
        "    stage_test = data_test['label'] \n",
        "\n",
        "    data_train = data_train.drop(columns='label') \n",
        "    data_test = data_test.drop(columns='label')\n",
        "\n",
        "    stage_train = preprocessing.label_binarize(stage_train, ['T12', 'T34'])\n",
        "    stage_train = [i[0] for i in stage_train]\n",
        "    stage_test = preprocessing.label_binarize(stage_test, ['T12', 'T34'])\n",
        "    stage_test = [i[0] for i in stage_test]\n",
        "\n",
        "    data_train, data_test = data_cleaning(data_train, data_test)\n",
        "\n",
        "    # Selection of the scaler by comparing the mean componentens selected in PCA and its standard deviation\n",
        "    data_train_scaled_standard, data_test_scaled_standard = data_scaling(data_train, data_test)\n",
        "    data_train_scaled_robust, data_test_scaled_robust = data_scaling_robust(data_train, data_test)\n",
        "    data_train_scaled_minmax, data_test_scaled_minmax = data_scaling_MinMax(data_train, data_test)\n",
        "\n",
        "    data_train_pca_standard, data_test_pca_standard = pca(data_train_scaled_standard, data_test_scaled_standard)\n",
        "    data_train_pca_standard_components.append(data_train_pca_standard.shape[1])\n",
        "    data_train_pca_robust, data_test_pca_robust = pca(data_train_scaled_robust, data_test_scaled_robust)\n",
        "    data_train_pca_robust_components.append(data_train_pca_robust.shape[1])\n",
        "    data_train_pca_minmax, data_test_pca_minmax = pca(data_train_scaled_minmax, data_test_scaled_minmax)\n",
        "    data_train_pca_minmax_components.append(data_train_pca_minmax.shape[1])\n",
        "\n",
        "print(data_train_pca_standard_components)\n",
        "data_train_pca_standard_mean_components = mean(data_train_pca_standard_components)\n",
        "data_train_pca_standard_stdev_components = stdev(data_train_pca_standard_components)\n",
        "data_train_pca_robust_mean_components = mean(data_train_pca_robust_components)\n",
        "data_train_pca_robust_stdev_components = stdev(data_train_pca_robust_components)\n",
        "data_train_pca_minmax_mean_components = mean(data_train_pca_minmax_components)\n",
        "data_train_pca_minmax_stdev_components = stdev(data_train_pca_minmax_components)\n",
        "\n",
        "print(f'The mean of the components in PCA selected using standard scalar is: {data_train_pca_standard_mean_components} with standard deviation: {data_train_pca_standard_stdev_components}')\n",
        "print(f'The mean of the components in PCA selected using robust scalar is: {data_train_pca_robust_mean_components} with standard deviation: {data_train_pca_robust_stdev_components}')\n",
        "print(f'The mean of the components in PCA selected using MinMax scalar is: {data_train_pca_minmax_mean_components} with standard deviation: {data_train_pca_minmax_stdev_components}')\n",
        "\n",
        "print(f'\\nConclusion: no major differences between the standard deviation for standard and MinMax scaler, but standard scaler is slightly better, so used as scaler from now on.')\n",
        "\n"
      ],
      "execution_count": 100,
      "outputs": [
        {
          "output_type": "stream",
          "text": [
            "[55, 55, 56, 57, 56, 56, 56, 55, 56, 55, 56, 56, 55, 56, 56, 55, 55, 56, 55, 56, 55, 55, 56, 55, 56, 55, 56, 56, 55, 56, 55, 55, 55, 55, 56, 55, 55, 55, 56, 55, 55, 55, 55, 56, 55, 55, 56, 54, 56, 55, 56, 55, 55, 55, 55, 56, 55, 55, 56, 55, 55, 56, 55, 56, 55, 55, 55, 55, 55, 55, 56, 55, 55, 56, 55, 55, 55, 56, 56, 55, 56, 56, 56, 55, 55, 56, 55, 56, 55, 55, 55, 55, 56, 55, 56, 55, 56, 55, 55, 56]\n",
            "The mean of the components in PCA selected using standard scalar is: 55.4 with standard deviation: 0.5318160234783105\n",
            "The mean of the components in PCA selected using robust scalar is: 42.24 with standard deviation: 5.798153659449348\n",
            "The mean of the components in PCA selected using MinMax scalar is: 52.42 with standard deviation: 0.5717243101956456\n",
            "\n",
            "Conclusion: no major differences between the standard deviation for standard and MinMax scaler, but standard scaler is slightly better, so used as scaler from now on.\n"
          ],
          "name": "stdout"
        }
      ]
    },
    {
      "cell_type": "markdown",
      "metadata": {
        "id": "QKWj0zjn2Qh8",
        "colab_type": "text"
      },
      "source": [
        "## Classifier functions, including optimization\n",
        "- k-nearest neighbors (k-NN)\n",
        "- Support Vector Machine (SVM)\n",
        "- Random Forest (RF)\n",
        "- Neural Network (NN)"
      ]
    },
    {
      "cell_type": "markdown",
      "metadata": {
        "id": "OKVMSxv1Nd4G",
        "colab_type": "text"
      },
      "source": [
        "k-NN"
      ]
    },
    {
      "cell_type": "code",
      "metadata": {
        "id": "PiMfkWwc2Uxg",
        "colab_type": "code",
        "colab": {}
      },
      "source": [
        "def knn_class(data_train, data_test, stage_train, stage_test):\n",
        "    \"\"\"\n",
        "    Function for performing the k-NN classifier\n",
        "    and optimization of the k-NN algorithm hyperparameters:\n",
        "      - n_neighbours\n",
        "      - leaf_size\n",
        "    input:\n",
        "      - data_train: data used to train k-NN classifier and perform classifier on\n",
        "      - data_test: data set of which labels will be predicted using the k-NN algorithm\n",
        "      - stage_train: true labels of train data set\n",
        "      - stage_test: true labels of test data set\n",
        "    Output is:\n",
        "      - knn: a classifier with optimized hyperparameters trained on the train data set\n",
        "      - acc_train: the accuracy of the optimized classifier on the trainig data\n",
        "      - acc_test: the accuracy of the optimized classifier on the testing data\n",
        "      - auc_test: the area under the curve of the optimized classifier on the testing data\n",
        "      - sens: the sensitivity of the optimized classifier on the testing data\n",
        "      - spec: the specificity of the optimized classifier on the testing data\n",
        "    \"\"\"\n",
        "\n",
        "    # Hyperparameters optimization \n",
        "    n_n = list(range(1,30))\n",
        "    # weights = ['uniform', 'distance']\n",
        "    leaf_size = list(range(1,50))\n",
        "    # p=[1,2]\n",
        "    hyperparameters = dict(leaf_size=leaf_size, n_neighbors=n_n)\n",
        "    knn_tune = neighbors.KNeighborsClassifier()\n",
        "    clf_tune_knn = model_selection.RandomizedSearchCV(knn_tune, hyperparameters, n_iter = 30, cv=5)\n",
        "    best_model = clf_tune_knn.fit(data_train, stage_train)\n",
        "    n_n_best = best_model.best_estimator_.get_params()['n_neighbors']\n",
        "    # weights_best = best_model.best_estimator_.get_params()['weights']\n",
        "    leaf_size_best = best_model.best_estimator_.get_params()['leaf_size']\n",
        "    # p_best = best_model.best_estimator_.get_params()['p']\n",
        "    \n",
        "    # Trainnig classifier on train data\n",
        "    knn = neighbors.KNeighborsClassifier(leaf_size=leaf_size_best, n_neighbors=n_n_best)\n",
        "    knn.fit(data_train, stage_train)\n",
        "\n",
        "    # Predicting labels of train and test data using the trained classifier\n",
        "    label_train_knn = knn.predict(data_train)\n",
        "    label_test_knn = knn.predict(data_test)\n",
        "    \n",
        "    # Performance\n",
        "    acc_train = knn.score(data_train, stage_train)\n",
        "    acc_test = knn.score(data_test, stage_test)\n",
        "    # Calculating confusion matrix\n",
        "    cm = metrics.confusion_matrix(stage_test, label_test_knn)\n",
        "    TP = cm[1][1]\n",
        "    TN = cm[0][0]\n",
        "    FP = cm[0][1]\n",
        "    FN = cm[1][0]\n",
        "    sens = (TP / float(TP+FN))\n",
        "    spec = (TN / float(TN + FP))\n",
        "    \n",
        "    # Try - except to prevent error during running with small test sizes\n",
        "    try:\n",
        "        auc_test = metrics.roc_auc_score(label_test_knn, stage_test)\n",
        "    except ValueError:\n",
        "        auc_test = float(\"NaN\")\n",
        "\n",
        "    # Return optimised classifier, accuracy calculated on the train set, accuracy calculated on the test set, auc calculated on the test set, sensitivity calculated on the test set, specificity calculated on the test set \n",
        "    return knn, acc_train, acc_test, auc_test, sens, spec"
      ],
      "execution_count": 0,
      "outputs": []
    },
    {
      "cell_type": "markdown",
      "metadata": {
        "id": "oD8nbCaz_XQy",
        "colab_type": "text"
      },
      "source": [
        "SVM "
      ]
    },
    {
      "cell_type": "code",
      "metadata": {
        "id": "dIbwSi_x_ODV",
        "colab_type": "code",
        "colab": {}
      },
      "source": [
        "def svm_class(data_train, data_test, stage_train, stage_test):\n",
        "    \"\"\"\n",
        "    Function for performing the SVM classifier\n",
        "    and optimization of the SVM algorithm hyperparameters:\n",
        "      - kernel\n",
        "      - C\n",
        "      - degree\n",
        "    input:\n",
        "      - data_train: data used to train SVM classifier and perform classifier on\n",
        "      - data_test: data set of which labels will be predicted using the SVM algorithm\n",
        "      - stage_train: true labels of train data set\n",
        "      - stage_test: true labels of test data set\n",
        "    Output is:\n",
        "      - svc: a classifier with optimized hyperparameters trained on the train data set\n",
        "      - acc_train: the accuracy of the optimized classifier on the trainig data\n",
        "      - acc_test: the accuracy of the optimized classifier on the testing data\n",
        "      - auc_test: the area under the curve of the optimized classifier on the testing data\n",
        "      - sens: the sensitivity of the optimized classifier on the testing data\n",
        "      - spec: the specificity of the optimized classifier on the testing data\n",
        "     \"\"\"\n",
        "    # Hyperparameter optimization\n",
        "    kernels = ['linear', 'poly', 'rbf']\n",
        "    # gammas = [0.1, 1, 10, 100]\n",
        "    cs = [0.1, 1, 10, 100, 1000]\n",
        "    degrees = [0, 1, 2, 3, 4, 5, 6] # use only for 'poly'\n",
        "    hyperparameters = dict(kernel = kernels, C = cs, degree = degrees)\n",
        "    svm_tune = svm.SVC()\n",
        "    clf_tune_svm = model_selection.RandomizedSearchCV(svm_tune, hyperparameters, n_iter = 30, cv = 5)\n",
        "    best_model_svm = clf_tune_svm.fit(data_train,stage_train)\n",
        "    kernel_best = best_model_svm.best_estimator_.get_params()['kernel']\n",
        "    # gamma_best  = best_model_svm.best_estimator_.get_params()['gamma']\n",
        "    C_best = best_model_svm.best_estimator_.get_params()['C']\n",
        "    degree_best = best_model_svm.best_estimator_.get_params()['degree']\n",
        "    \n",
        "    # Trainnig classifier on train data\n",
        "    svc = svm.SVC(C=C_best, kernel=kernel_best, degree=degree_best)\n",
        "    svc.fit(data_train, stage_train)\n",
        "\n",
        "    # Predicting labels of train and test data using the trained classifier\n",
        "    label_train_svm = svc.predict(data_train)\n",
        "    label_test_svm= svc.predict(data_test)\n",
        "    \n",
        "    # Performance\n",
        "    acc_train = svc.score(data_train, stage_train)\n",
        "    acc_test = svc.score(data_test, stage_test)\n",
        "    # Calculating confusion matrix\n",
        "    cm = metrics.confusion_matrix(stage_test, label_test_svm)\n",
        "    TP = cm[1][1]\n",
        "    TN = cm[0][0]\n",
        "    FP = cm[0][1]\n",
        "    FN = cm[1][0]\n",
        "    sens = (TP / float(TP+FN))\n",
        "    spec = (TN / float(TN + FP))\n",
        "    \n",
        "    # Try - except to prevent error during running with small test sizes\n",
        "    try:\n",
        "        auc_test = metrics.roc_auc_score(label_test_svm, stage_test)\n",
        "    except ValueError:\n",
        "        auc_test = float(\"NaN\")\n",
        "    \n",
        "    # Return optimised classifier, accuracy calculated on the train set, accuracy calculated on the test set, auc calculated on the test set, sensitivity calculated on the test set, specificity calculated on the test set \n",
        "    return svc, acc_train, acc_test, auc_test, sens, spec"
      ],
      "execution_count": 0,
      "outputs": []
    },
    {
      "cell_type": "markdown",
      "metadata": {
        "id": "-35ahwqXNmBZ",
        "colab_type": "text"
      },
      "source": [
        "RF"
      ]
    },
    {
      "cell_type": "code",
      "metadata": {
        "id": "3Tl-R6VRNoOX",
        "colab_type": "code",
        "colab": {}
      },
      "source": [
        "def rf_class(data_train, data_test, stage_train, stage_test):\n",
        "    \"\"\"\n",
        "    Function for performing the RF classifier\n",
        "    and optimization of the RF algorithm hyperparameters:\n",
        "      - n_estimators\n",
        "      - min_sample_split\n",
        "      - min_samples_leaf\n",
        "    input:\n",
        "      - data_train: data used to train RF classifier and perform classifier on\n",
        "      - data_test: data set of which labels will be predicted using the RF algorithm\n",
        "      - stage_train: true labels of train data set\n",
        "      - stage_test: true labels of test data set\n",
        "    Output is:\n",
        "      - rfc: a classifier with optimized hyperparameters trained on the train data set\n",
        "      - acc_train: the accuracy of the optimized classifier on the trainig data\n",
        "      - acc_test: the accuracy of the optimized classifier on the testing data\n",
        "      - auc_test: the area under the curve of the optimized classifier on the testing data\n",
        "      - sens: the sensitivity of the optimized classifier on the testing data\n",
        "      - spec: the specificity of the optimized classifier on the testing data\n",
        "    \"\"\"\n",
        "\n",
        "    # Hyperparameters optimization \n",
        "    n_estimators = [10, 30, 50, 100, 300]                  \n",
        "    min_samples_split = [2, 7, 10, 12, 20]      \n",
        "    min_samples_leaf = [3, 5, 10, 15, 20]             \n",
        "    hyperparameters_rfc = dict(n_estimators=n_estimators, min_samples_split = min_samples_split, min_samples_leaf = min_samples_leaf)\n",
        "    rfc_tune = RandomForestClassifier()\n",
        "    clf_tune_rfc = model_selection.RandomizedSearchCV(rfc_tune, hyperparameters_rfc, n_iter = 30, cv=5)\n",
        "    best_model = clf_tune_rfc.fit(data_train, stage_train)\n",
        "    n_estimators_best = best_model.best_estimator_.get_params()['n_estimators']\n",
        "    min_samples_split_best = best_model.best_estimator_.get_params()['min_samples_split']\n",
        "    min_samples_leaf_best = best_model.best_estimator_.get_params()['min_samples_leaf']\n",
        "\n",
        "    # Trainnig classifier on train data\n",
        "    rfc = RandomForestClassifier(n_estimators=n_estimators_best, min_samples_split = min_samples_split_best, min_samples_leaf = min_samples_leaf_best)\n",
        "    rfc.fit(data_train, stage_train)\n",
        "    \n",
        "    # Predicting labels of train and test data using the trained classifier\n",
        "    label_train_rfc = rfc.predict(data_train)\n",
        "    label_test_rfc = rfc.predict(data_test)\n",
        "    \n",
        "    # Performance\n",
        "    acc_train = rfc.score(data_train, stage_train)\n",
        "    acc_test = rfc.score(data_test, stage_test)\n",
        "    # Calculating confusion matrix\n",
        "    cm = metrics.confusion_matrix(stage_test, label_test_rfc)\n",
        "    TP = cm[1][1]\n",
        "    TN = cm[0][0]\n",
        "    FP = cm[0][1]\n",
        "    FN = cm[1][0]\n",
        "    sens = (TP / float(TP+FN))\n",
        "    spec = (TN / float(TN + FP))\n",
        "    \n",
        "    # Try - except to prevent error during running with small test sizes\n",
        "    try:\n",
        "        auc_test = metrics.roc_auc_score(label_test_rfc, stage_test)\n",
        "    except ValueError:\n",
        "        auc_test = float(\"NaN\")\n",
        "    \n",
        "    # Return optimised classifier, accuracy calculated on the train set, accuracy calculated on the test set, auc calculated on the test set, sensitivity calculated on the test set, specificity calculated on the test set \n",
        "    return rfc, acc_train, acc_test, auc_test, sens, spec"
      ],
      "execution_count": 0,
      "outputs": []
    },
    {
      "cell_type": "markdown",
      "metadata": {
        "id": "-TevEkooxEcZ",
        "colab_type": "text"
      },
      "source": [
        "NN"
      ]
    },
    {
      "cell_type": "code",
      "metadata": {
        "id": "KOvYRiiTxWVL",
        "colab_type": "code",
        "colab": {
          "base_uri": "https://localhost:8080/",
          "height": 54
        },
        "outputId": "12d3aed1-6d20-4cef-d6f3-6991eea23d28"
      },
      "source": [
        "def nn_class(data_train, data_test, stage_train, stage_test):\n",
        "    \"\"\"\n",
        "    Function for performing the NN classifier\n",
        "    and optimization of the NN algorithm hyperparameters:\n",
        "      - activation\n",
        "      - solver\n",
        "    input:\n",
        "      - data_train: data used to train NN classifier and perform classifier on\n",
        "      - data_test: data set of which labels will be predicted using the NN algorithm\n",
        "      - stage_train: true labels of train data set\n",
        "      - stage_test: true labels of test data set\n",
        "    Output is:\n",
        "      - nn: a classifier with optimized hyperparameters trained on the train data set\n",
        "      - acc_train: the accuracy of the optimized classifier on the trainig data\n",
        "      - acc_test: the accuracy of the optimized classifier on the testing data\n",
        "      - auc_test: the area under the curve of the optimized classifier on the testing data\n",
        "      - sens: the sensitivity of the optimized classifier on the testing data\n",
        "      - spec: the specificity of the optimized classifier on the testing data\n",
        "    \"\"\"\n",
        "\n",
        "    # Hyperparameters optimization \n",
        "    # hidden_layer_sizes = [(50,50,50), (50,100,50), (100,)]\n",
        "    # batch_size = [5, 10, 15, 20, 25]                 \n",
        "    activation = ['tanh', 'relu','identity', 'logistic'] \n",
        "    solver = ['lbfgs', 'sgd', 'adam']           \n",
        "    hyperparameters_nn = dict(solver = solver, activation = activation)\n",
        "    nn_tune = MLPClassifier()\n",
        "    clf_tune_nn = model_selection.RandomizedSearchCV(nn_tune, hyperparameters_nn, n_iter = 15, cv=5)\n",
        "    best_model = clf_tune_nn.fit(data_train, stage_train)\n",
        "    # hidden_layer_sizes_best = best_model.best_estimator_.get_params()['hidden_layer_sizes']\n",
        "    # batch_size_best = best_model.best_estimator_.get_params()['batch_size']\n",
        "    activation_best = best_model.best_estimator_.get_params()['activation']\n",
        "    solver_best = best_model.best_estimator_.get_params()['solver']\n",
        "    \n",
        "    # Trainnig classifier on train data\n",
        "    nn = MLPClassifier(solver = solver_best, activation = activation_best)\n",
        "    nn.fit(data_train, stage_train)\n",
        "\n",
        "    # Predicting labels of train and test data using the trained classifier\n",
        "    label_train_nn = nn.predict(data_train)\n",
        "    label_test_nn = nn.predict(data_test)\n",
        "    \n",
        "    # Performance\n",
        "    acc_train_nn = nn.score(data_train, stage_train)\n",
        "    acc_test_nn = nn.score(data_test, stage_test)\n",
        "    # Calculating confusion matrix\n",
        "    cm = metrics.confusion_matrix(stage_test, label_test_nn)\n",
        "    TP = cm[1][1]\n",
        "    TN = cm[0][0]\n",
        "    FP = cm[0][1]\n",
        "    FN = cm[1][0]\n",
        "    sens = (TP / float(TP+FN))\n",
        "    spec = (TN / float(TN + FP))\n",
        "    \n",
        "    # Try - except to prevent error during running with small test sizes\n",
        "    try:\n",
        "        auc_test = metrics.roc_auc_score(label_test_nn, stage_test)\n",
        "    except ValueError:\n",
        "        auc_test = float(\"NaN\")\n",
        "\n",
        "    # Return optimised classifier, accuracy calculated on the train set, accuracy calculated on the test set, auc calculated on the test set, sensitivity calculated on the test set, specificity calculated on the test set   \n",
        "    return nn, acc_train_nn, acc_test_nn, auc_test, sens, spec\n",
        "\n",
        "print('Conclusion: running the neural network gave an warning concerning it does not converge after 200 iterations and because of this warning the decision was made to not further explore this option')"
      ],
      "execution_count": 104,
      "outputs": [
        {
          "output_type": "stream",
          "text": [
            "Conclusion: running the neural network gave an warning concerning it does not converge after 200 iterations and because of this warning the decision was made to not further explore this option\n"
          ],
          "name": "stdout"
        }
      ]
    },
    {
      "cell_type": "markdown",
      "metadata": {
        "id": "eZcHSCFrWSBm",
        "colab_type": "text"
      },
      "source": [
        "## Functions used in Outer and inner loop to evaluate performance model\n",
        "- Function to execute the correct feature selection method on train and test data\n",
        "- Function to determine the names of the feature selection method and classifier that were used in the best model\n",
        "- Function to apply classifier from the best model to train and test data "
      ]
    },
    {
      "cell_type": "markdown",
      "metadata": {
        "id": "63UK5AoDUTAZ",
        "colab_type": "text"
      },
      "source": [
        "Function to execute the correct feature selection method on train and test data"
      ]
    },
    {
      "cell_type": "code",
      "metadata": {
        "colab_type": "code",
        "id": "FHoqzGY6Tp2N",
        "colab": {}
      },
      "source": [
        "def best_selector(train, test, stage_train, selector):\n",
        "    \"\"\"\n",
        "    Function which decides which selector to apply to the outer data and test set\n",
        "    Input:\n",
        "    - Train: the train data on which the selector should be applied\n",
        "    - Test: the test data on which the selector should be applied\n",
        "    - Stage_train: the labels of the train data\n",
        "    - Selector: the name of selector used according to the variable selector_used\n",
        "    Output: \n",
        "    - Train_out: the train data transformed by the selector\n",
        "    - Test_out: the test data transformed by the selector\n",
        "    \"\"\"\n",
        "    if selector_used == 'Univariate':\n",
        "        selector_train_out, selector_test_out = uni(train, test, stage_train, 60)\n",
        "    elif selector_used == 'PCA':\n",
        "        selector_train_out, selector_test_out = pca_opt(train, test)\n",
        "    elif selector == 'Univariate and PCA':\n",
        "        selector_train_out_uni, selector_test_out_uni = uni(train, test, stage_train, 60)\n",
        "        selector_train_out, selector_test_out = pca_opt(selector_train_out_uni, selector_test_out_uni)\n",
        "    else:\n",
        "        print('no feature selection method was found according to given selector')\n",
        "    return selector_train_out, selector_test_out"
      ],
      "execution_count": 0,
      "outputs": []
    },
    {
      "cell_type": "markdown",
      "metadata": {
        "id": "wMKJaC0mRjJk",
        "colab_type": "text"
      },
      "source": [
        "Function to determine the names of the feature selection method and classifier that were used in the best model"
      ]
    },
    {
      "cell_type": "code",
      "metadata": {
        "id": "W9xl3w76RjWl",
        "colab_type": "code",
        "colab": {}
      },
      "source": [
        "def name_best_model(index):\n",
        "    \"\"\"\n",
        "    Function to determine the names of the feature selection method and classifier that were used in the best model\n",
        "    Input:\n",
        "    - Index: index from which names feature selection method and classifier of the best model can be derived\n",
        "    Output: \n",
        "    - selector_used: name of the feature selection method that is used in the best model\n",
        "    - classifier_used: name of the classifier that is used in the best model\n",
        "    \"\"\"\n",
        "    if index == 0:\n",
        "        selector_used = 'Univariate'\n",
        "        classifier_used = 'k-NN'\n",
        "    elif index == 1:\n",
        "        selector_used = 'PCA'\n",
        "        classifier_used = 'k-NN'\n",
        "    elif index == 2:\n",
        "        selector_used = 'Univariate and PCA'\n",
        "        classifier_used = 'k-NN'\n",
        "    elif index == 3:\n",
        "        selector_used = 'Univariate'\n",
        "        classifier_used = 'SVM'\n",
        "    elif index == 4:\n",
        "        selector_used = 'PCA'\n",
        "        classifier_used = 'SVM'\n",
        "    elif index == 5:\n",
        "        selector_used = 'Univariate and PCA'\n",
        "        classifier_used = 'SVM'\n",
        "    elif index == 6:\n",
        "        selector_used = 'Univariate'\n",
        "        classifier_used = 'RF'\n",
        "    elif index == 7:\n",
        "        selector_used = 'PCA'\n",
        "        classifier_used = 'RF'\n",
        "    elif index == 8:\n",
        "        selector_used = 'Univariate and PCA'\n",
        "        classifier_used = 'RF'\n",
        "    else:\n",
        "        selector_used ='No selector could be selected based on given index'\n",
        "        classifier_used = 'No classifier could be selected based on given index'\n",
        "    return selector_used, classifier_used"
      ],
      "execution_count": 0,
      "outputs": []
    },
    {
      "cell_type": "markdown",
      "metadata": {
        "id": "Fd1o9GmkXTqN",
        "colab_type": "text"
      },
      "source": [
        "Function to apply classifier from the best model to train and test data "
      ]
    },
    {
      "cell_type": "code",
      "metadata": {
        "id": "0z9iB9PKXTz9",
        "colab_type": "code",
        "colab": {}
      },
      "source": [
        "def best_classifier(train, test, stage_train, stage_test, classifier_used):\n",
        "    \"\"\"\n",
        "    Function to apply classifier from the best model to train and test data \n",
        "    Input:\n",
        "    - Index: index from which names feature selection method and classifier of the best model can be derived\n",
        "    Output: \n",
        "    - selector_used: name of the feature selection method that is used in the best model\n",
        "    - classifier_used: name of the classifier that is used in the best model\n",
        "    \"\"\"\n",
        "    if classifier_used == 'k-NN':\n",
        "        clf, acc_train, acc_test, auc_test, sens, spec = knn_class(train, test, stage_train, stage_test)\n",
        "    elif classifier_used == 'SVM':\n",
        "        clf, acc_train, acc_test, auc_test, sens, spec = svm_class(train, test, stage_train, stage_test)\n",
        "    elif classifier_used == 'RF':\n",
        "        clf, acc_train, acc_test, auc_test, sens, spec = rf_class(train, test, stage_train, stage_test)\n",
        "    else:\n",
        "        print('No classifier was found according to classifier_used')\n",
        "    return clf, acc_train, acc_test, auc_test, sens, spec"
      ],
      "execution_count": 0,
      "outputs": []
    },
    {
      "cell_type": "markdown",
      "metadata": {
        "id": "KWrbhphALMNQ",
        "colab_type": "text"
      },
      "source": [
        "## Outer and inner loop to evaluate performance model"
      ]
    },
    {
      "cell_type": "code",
      "metadata": {
        "id": "5XzhS505LMgV",
        "colab_type": "code",
        "colab": {}
      },
      "source": [
        "# Defining data and stage\n",
        "stage = data_start['label']\n",
        "data = data_start.drop(columns='label')\n",
        "stage = preprocessing.label_binarize(stage, ['T12', 'T34'] )\n",
        "stage = [i[0] for i in stage]\n",
        "pd.options.mode.chained_assignment = None  \n",
        "\n",
        "# splitting in train- and test\n",
        "n_split_outer = 50 # number of outer loop iterations\n",
        "n_split_inner = 10 # number of inner loop iterations\n",
        "cv_fold_outer = model_selection.StratifiedShuffleSplit(n_splits = n_split_outer, test_size=0.2, random_state=42)\n",
        "cv_fold_inner = model_selection.StratifiedKFold(n_splits = n_split_inner) \n",
        "\n",
        "# creating empty lists\n",
        "acc_total = []\n",
        "auc_total = []\n",
        "sensitivity_total = []\n",
        "specificity_total =[]\n",
        "\n",
        "# Initialize counters\n",
        "count_k_uni = 0\n",
        "count_k_pca = 0\n",
        "count_k_uni_pca = 0\n",
        "count_s_uni = 0\n",
        "count_s_pca = 0\n",
        "count_s_uni_pca = 0\n",
        "count_r_uni = 0\n",
        "count_r_pca = 0\n",
        "count_r_uni_pca = 0\n",
        "\n",
        "# Outer loop to check performance of the model.\n",
        "# 50x times the best model from the inner loop is trained on the outer train data and the labels of the test data are predicted.\n",
        "# This will result in performance measures 50 times, averaging over these values will give the performance of the model.\n",
        "for train_index, test_index in cv_fold_outer.split(data, stage):\n",
        "    stage = np.array(stage)\n",
        "    outer_train = data.iloc[train_index] \n",
        "    outer_stage_train = stage[train_index]\n",
        "    outer_test = data.iloc[test_index]\n",
        "    outer_stage_test = stage[test_index]\n",
        "\n",
        "    acc_knn_uni = []\n",
        "    acc_knn_pca = []\n",
        "    acc_knn_uni_pca = []\n",
        "    acc_svm_uni = []\n",
        "    acc_svm_pca = []\n",
        "    acc_svm_uni_pca = []\n",
        "    acc_rf_uni = []\n",
        "    acc_rf_pca = []\n",
        "    acc_rf_uni_pca = []\n",
        "    \n",
        "    # Inner loop to choose the best combination of feature selection method and classifier. \n",
        "    # 10 times a new model is created an tested on the validation set. \n",
        "    # The model with the highest mean accuracy on the validation set is selected as model to use in the outer loop.\n",
        "    # Possible feature selection methods: univariate feature selection, PCA, combination of univariate feature selection and PCA\n",
        "    # Possible classifiers: k-NN, SVM, RF, (NN)\n",
        "    for train_index, val_index in cv_fold_inner.split(outer_train, outer_stage_train): \n",
        "        \n",
        "        inner_train = outer_train.iloc[train_index] \n",
        "        inner_stage_train = outer_stage_train[train_index]\n",
        "        inner_val = outer_train.iloc[val_index]\n",
        "        inner_stage_val = outer_stage_train[val_index]\n",
        "        \n",
        "        # Remove columns from dataframes\n",
        "        inner_train, inner_val = data_cleaning(inner_train, inner_val)\n",
        "        \n",
        "        # Data scaling\n",
        "        inner_train, inner_val = data_scaling(inner_train, inner_val)\n",
        "\n",
        "        # Univariate Feature Selection\n",
        "        inner_train_uni, inner_val_uni = uni(inner_train, inner_val, inner_stage_train, 20)\n",
        "\n",
        "        # PCA\n",
        "        inner_train_pca, inner_val_pca = pca_opt(inner_train, inner_val)\n",
        "\n",
        "        # Univariate Feature Selection + PCA\n",
        "        inner_train_uni_p, inner_val_uni_p = uni(inner_train, inner_val, inner_stage_train, 80)\n",
        "        inner_train_uni_pca, inner_val_uni_pca = pca_opt(inner_train_uni_p, inner_val_uni_p)\n",
        "\n",
        "        # option 1: Uni + k-NN\n",
        "        clf_k_uni, acc_train_k_uni, acc_val_k_uni, auc_val_k_uni, sens_k_uni, spec_k_uni = knn_class(inner_train_uni, inner_val_uni, inner_stage_train, inner_stage_val)\n",
        "\n",
        "        # option 2: PCA + k-NN\n",
        "        clf_k_pca, acc_train_k_pca, acc_val_k_pca, auc_val_k_pca, sens_k_pca, spec_k_pca = knn_class(inner_train_pca, inner_val_pca, inner_stage_train, inner_stage_val)\n",
        "\n",
        "        # option 3: Uni and PCA + k-NN\n",
        "        clf_k_uni_pca, acc_train_k_uni_pca, acc_val_k_uni_pca, auc_val_k_uni_pca, sens_k_uni_pca, spec_k_uni_pca = knn_class(inner_train_uni_pca, inner_val_uni_pca, inner_stage_train, inner_stage_val) \n",
        "\n",
        "        # option 4: Uni + SVM\n",
        "        clf_s_uni, acc_train_s_uni, acc_val_s_uni, auc_val_s_uni, sens_s_uni, spec_s_uni = svm_class(inner_train_uni, inner_val_uni, inner_stage_train, inner_stage_val)\n",
        "\n",
        "        # option 5: PCA + SVM\n",
        "        clf_s_pca, acc_train_s_pca, acc_val_s_pca, auc_val_s_pca, sens_s_pca, spec_s_pca = svm_class(inner_train_pca, inner_val_pca, inner_stage_train, inner_stage_val)\n",
        "\n",
        "        # option 6: Uni and PCA + SVM\n",
        "        clf_s_uni_pca, acc_train_s_uni_pca, acc_val_s_uni_pca, auc_val_s_uni_pca, sens_s_uni_pca, spec_s_uni_pca = svm_class(inner_train_uni_pca, inner_val_uni_pca, inner_stage_train, inner_stage_val)   \n",
        "\n",
        "        # option 7: Uni + RF\n",
        "        clf_r_uni, acc_train_r_uni, acc_val_r_uni, auc_val_r_uni, sens_r_uni, spec_r_uni = rf_class(inner_train_uni, inner_val_uni, inner_stage_train, inner_stage_val)\n",
        "\n",
        "        # option 8: PCA + RF\n",
        "        clf_r_pca, acc_train_r_pca, acc_val_r_pca, auc_val_r_pca, sens_r_pca, spec_r_pca = rf_class(inner_train_pca, inner_val_pca, inner_stage_train, inner_stage_val)\n",
        "\n",
        "        # option 9: Uni and PCA + RF\n",
        "        clf_r_uni_pca, acc_train_r_uni_pca, acc_val_r_uni_pca, auc_val_r_uni_pca, sens_r_uni_pca, spec_r_uni_pca = rf_class(inner_train_uni_pca, inner_val_uni_pca, inner_stage_train, inner_stage_val)\n",
        "\n",
        "        # k-NN\n",
        "        acc_knn_uni.append(acc_val_k_uni)\n",
        "        acc_knn_pca.append(acc_val_k_pca)\n",
        "        acc_knn_uni_pca.append(acc_val_k_uni_pca)\n",
        "\n",
        "        # SVM\n",
        "        acc_svm_uni.append(acc_val_s_uni)\n",
        "        acc_svm_pca.append(acc_val_s_pca)\n",
        "        acc_svm_uni_pca.append(acc_val_s_uni_pca)\n",
        "\n",
        "        # RF\n",
        "        acc_rf_uni.append(acc_val_r_uni)\n",
        "        acc_rf_pca.append(acc_val_r_pca)\n",
        "        acc_rf_uni_pca.append(acc_val_r_uni_pca)\n",
        "\n",
        "    # calculate mean + take best mean\n",
        "    all_acc_together = [mean(acc_knn_uni), mean(acc_knn_pca), mean(acc_knn_uni_pca),\n",
        "                        mean(acc_svm_uni), mean(acc_svm_pca), mean(acc_svm_uni_pca),\n",
        "                        mean(acc_rf_uni), mean(acc_rf_pca), mean(acc_rf_uni_pca)]\n",
        "    best_mean_model = max(all_acc_together)\n",
        "    index_best_mean_model = all_acc_together.index(best_mean_model)\n",
        "    selector_used, classifier_used = name_best_model(index_best_mean_model)\n",
        "\n",
        "    print(f'The feature selector used is: {selector_used}')\n",
        "    print(f'The classifier used is: {classifier_used}')\n",
        "    \n",
        "    # Remove columns from dataframes\n",
        "    outer_train, outer_test = data_cleaning(outer_train, outer_test)\n",
        "        \n",
        "    # Data scaling\n",
        "    outer_train, outer_test = data_scaling(outer_train, outer_test)\n",
        "\n",
        "    # Feature Selection\n",
        "    outer_train, outer_test = best_selector(outer_train, outer_test, stage_train, selector_used)\n",
        "\n",
        "    # Classifier\n",
        "    clf, acc_train, acc_test, auc_test, sensitivity, specificity = best_classifier(outer_train, outer_test, outer_stage_train, outer_stage_test, classifier_used)\n",
        "    \n",
        "    # Performance measures\n",
        "    acc_total.append(acc_test)\n",
        "    auc_total.append(auc_test)\n",
        "    sensitivity_total.append(sensitivity)\n",
        "    specificity_total.append(specificity)\n",
        "    \n",
        "    # Count how often which model is choosen\n",
        "    if selector_used == 'Univariate' and classifier_used == 'k-NN':\n",
        "        count_k_uni += 1\n",
        "    elif selector_used == 'PCA' and classifier_used == 'k-NN':\n",
        "        count_k_pca += 1\n",
        "    elif selector_used == 'Univariate and PCA' and classifier_used == 'k-NN':\n",
        "        count_k_uni_pca += 1\n",
        "    elif selector_used == 'Univariate' and classifier_used == 'SVM':\n",
        "        count_s_uni += 1\n",
        "    elif selector_used == 'PCA' and classifier_used == 'SVM':\n",
        "        count_s_pca += 1\n",
        "    elif selector_used == 'Univariate and PCA' and classifier_used == 'SVM':\n",
        "        count_s_uni_pca += 1\n",
        "    elif selector_used == 'Univariate' and classifier_used == 'RF':\n",
        "        count_r_uni += 1\n",
        "    elif selector_used == 'PCA' and classifier_used == 'RF':\n",
        "        count_r_pca += 1\n",
        "    elif selector_used == 'Univariate and PCA' and classifier_used == 'RF':\n",
        "        count_r_uni_pca += 1\n",
        "\n",
        "# printing the results of the performance of the model\n",
        "print(f'\\nThe results of running the outer loop {n_split_outer}x times and the inner loop {n_split_inner}x times are: \\n')\n",
        "\n",
        "print(f'The mean accuracy of the model is: {round(mean(acc_total), 3)}')  \n",
        "print(f'The standard deviation of the accuracy of the model is: {round(stdev(acc_total), 3)}')\n",
        "print(f'The standard error of the accuracy of the model is: {round(stdev(acc_total)/sqrt(n_split_outer),3)}')\n",
        "\n",
        "print(f'\\nThe mean AUC of a the model is: {round(mean(auc_total), 3)}')   \n",
        "print(f'The standard deviation of the AUC of the model is: {round(stdev(auc_total), 3)}')\n",
        "print(f'The standard error of the AUC of the model is: {round(stdev(auc_total)/sqrt(n_split_outer),3)}')\n",
        "\n",
        "print(f'\\nThe mean sensitivity of the model is: {round(mean(sensitivity_total),3)}')\n",
        "print(f'The standard deviation of the sensitivity of the model is: {round(stdev(sensitivity_total), 3)}')\n",
        "print(f'The standard error of the sensitivity of the model is: {round(stdev(sensitivity_total)/sqrt(n_split_outer),3)}')\n",
        "\n",
        "print(f'\\nThe mean specificity of the model is: {round(mean(specificity_total),3)}')\n",
        "print(f'The standard deviation of the specificity of the model is: {round(stdev(specificity_total), 3)}')\n",
        "print(f'The standard error of the specificity of the model is: {round(stdev(specificity_total)/sqrt(n_split_outer),3)}')\n",
        "\n",
        "print(f'\\nThe combination of univariate feature selection and k-NN was chosen as the optimal model in: {count_k_uni}/{n_split_outer}')\n",
        "print(f'The combination of PCA and k-NN was chosen as the optimal model in: {count_k_pca}/{n_split_outer}')\n",
        "print(f'The combination of univariate feature selection, PCA and k-NN was chosen as the optimal model in: {count_k_uni_pca}/{n_split_outer}')\n",
        "\n",
        "print(f'\\nThe combination of univariate feature selection and SVM was chosen as the optimal model in: {count_s_uni}/{n_split_outer}')\n",
        "print(f'The combination of PCA and SVM was chosen as the optimal model in: {count_s_pca}/{n_split_outer}')\n",
        "print(f'The combination of univariate feature selection, PCA and SVM was chosen as the optimal model in: {count_s_uni_pca}/{n_split_outer}')\n",
        "\n",
        "print(f'\\nThe combination of univariate feature selection and RF was chosen as the optimal model in: {count_r_uni}/{n_split_outer}')\n",
        "print(f'The combination of PCA and RF was chosen as the optimal model in: {count_r_pca}/{n_split_outer}')\n",
        "print(f'The combination of univariate feature selection, PCA and RF was chosen as the optimal model in: {count_r_uni_pca}/{n_split_outer}')\n",
        "\n"
      ],
      "execution_count": 0,
      "outputs": []
    }
  ]
}
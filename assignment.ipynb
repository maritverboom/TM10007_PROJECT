{
  "nbformat": 4,
  "nbformat_minor": 0,
  "metadata": {
    "colab": {
      "name": "Copy of Copy of assignment.ipynb",
      "provenance": [],
      "collapsed_sections": [],
      "include_colab_link": true
    },
    "kernelspec": {
      "display_name": "Python 3",
      "language": "python",
      "name": "python3"
    },
    "language_info": {
      "codemirror_mode": {
        "name": "ipython",
        "version": 3
      },
      "file_extension": ".py",
      "mimetype": "text/x-python",
      "name": "python",
      "nbconvert_exporter": "python",
      "pygments_lexer": "ipython3",
      "version": "3.7.4"
    }
  },
  "cells": [
    {
      "cell_type": "markdown",
      "metadata": {
        "id": "view-in-github",
        "colab_type": "text"
      },
      "source": [
        "<a href=\"https://colab.research.google.com/github/maritverboom/TM10007_PROJECT/blob/master/assignment.ipynb\" target=\"_parent\"><img src=\"https://colab.research.google.com/assets/colab-badge.svg\" alt=\"Open In Colab\"/></a>"
      ]
    },
    {
      "cell_type": "markdown",
      "metadata": {
        "colab_type": "text",
        "id": "7SXpaKwwGe5x"
      },
      "source": [
        "# TM10007 Assignment \n"
      ]
    },
    {
      "cell_type": "code",
      "metadata": {
        "colab_type": "code",
        "id": "CiDn2Sk-VWqE",
        "outputId": "5168c82e-f824-4215-a3a4-15bb127562d3",
        "colab": {
          "base_uri": "https://localhost:8080/",
          "height": 33
        }
      },
      "source": [
        "# Run this to use from colab environment\n",
        "!pip install -q --upgrade git+https://github.com/karinvangarderen/tm10007_project.git"
      ],
      "execution_count": 1,
      "outputs": [
        {
          "output_type": "stream",
          "text": [
            "  Building wheel for brats (setup.py) ... \u001b[?25l\u001b[?25hdone\n"
          ],
          "name": "stdout"
        }
      ]
    },
    {
      "cell_type": "code",
      "metadata": {
        "id": "Fsm0D-Ugmvzu",
        "colab_type": "code",
        "colab": {}
      },
      "source": [
        "import numpy as np\n",
        "import pandas as pd\n",
        "import matplotlib.pyplot as plt\n",
        "\n",
        "# Classifiers\n",
        "from sklearn import model_selection\n",
        "from sklearn import metrics\n",
        "from sklearn import feature_selection \n",
        "from sklearn import preprocessing\n",
        "from sklearn import neighbors\n",
        "from sklearn import svm\n",
        "from sklearn.decomposition import PCA\n",
        "from sklearn.ensemble import RandomForestClassifier\n",
        "from sklearn.impute import SimpleImputer\n",
        "from sklearn.model_selection import cross_val_score"
      ],
      "execution_count": 0,
      "outputs": []
    },
    {
      "cell_type": "markdown",
      "metadata": {
        "id": "-AlgAclcK2My",
        "colab_type": "text"
      },
      "source": [
        "## Data Loading"
      ]
    },
    {
      "cell_type": "code",
      "metadata": {
        "id": "iIAVZzeGK4dJ",
        "colab_type": "code",
        "outputId": "0fa7b1f7-76c2-4fc1-f071-806bcf955d85",
        "colab": {
          "base_uri": "https://localhost:8080/",
          "height": 84
        }
      },
      "source": [
        "from hn.load_data import load_data\n",
        "data = load_data()\n",
        "print(f'The number of samples: {len(data.index)}')\n",
        "print(f'The number of columns: {len(data.columns)}')\n",
        "\n",
        "# Splitting the data in train- and testpart with a portion of 'test_size' training data (20%)\n",
        "data_train, data_test = model_selection.train_test_split(data, test_size=0.20, stratify=data['label'])\n",
        "\n",
        "print(f'The number of rows of train data : {len(data_train.index)}')\n",
        "print(f'The number of rows of test data : {len(data_test.index)}')\n",
        "\n",
        "# seperate the data in features and tumorstage\n",
        "stage_train = data_train['label']          # dataframe containing tumor stadium of subject (T12/T34)\n",
        "stage_test = data_test['label'] \n",
        "data_train = data_train.drop(columns='label') # dataframe containing all feature columns except 'label' (tumor stadium of subject)\n",
        "data_test = data_test.drop(columns='label')\n",
        "\n",
        "# Binarize label data\n",
        "stage_train = preprocessing.label_binarize(stage_train, ['T12', 'T34'])\n",
        "stage_train = [i[0] for i in stage_train]\n",
        "\n",
        "stage_test = preprocessing.label_binarize(stage_test, ['T12', 'T34'])\n",
        "stage_test = [i[0] for i in stage_test]\n",
        "\n"
      ],
      "execution_count": 196,
      "outputs": [
        {
          "output_type": "stream",
          "text": [
            "The number of samples: 113\n",
            "The number of columns: 160\n",
            "The number of rows of train data : 90\n",
            "The number of rows of test data : 23\n"
          ],
          "name": "stdout"
        }
      ]
    },
    {
      "cell_type": "markdown",
      "metadata": {
        "id": "oZUAiDtz5djl",
        "colab_type": "text"
      },
      "source": [
        "## Preprocessing\n",
        "\n",
        "- column verdwijnt als >25% van de column een 0 bevat. Dit heb ik gedaan omdat het vervangen van alle 0 voor NaN me niet heel handig leek, omdat je die 0 soms wel wilt gebruiken als het echt als waarde voorkomt.\n",
        "- we kunnen nog proberen om 'missende' waardes op te vullen met 'feature imputation' zoals besproken in het college van 26/03"
      ]
    },
    {
      "cell_type": "code",
      "metadata": {
        "colab_type": "code",
        "id": "-NE_fTbKGe5z",
        "outputId": "5ec57a8f-06c9-4abf-d22b-9f47af5e9833",
        "colab": {
          "base_uri": "https://localhost:8080/",
          "height": 84
        }
      },
      "source": [
        "# Imputation\n",
        "#imp = SimpleImputer(missing_values=np.nan, strategy='median')\n",
        "#imp.fit(data_train)\n",
        "#data_train = imp.transform(data_train)\n",
        "#data_test = imp.transform(data_test)\n",
        "\n",
        "# Remove all columns where more than 25% of the values are 0.0\n",
        "drop_cols_train = data_train.columns[(data_train == 0).sum() > 0.25*data_train.shape[1]]\n",
        "drop_cols_test = data_test.columns[(data_train ==0).sum() > 0.25*data_train.shape[1]]\n",
        "data_train.drop(drop_cols_train, axis = 1, inplace = True) \n",
        "data_test.drop(drop_cols_test, axis = 1, inplace = True)\n",
        "print(f'The number of columns after preprocessing: {len(data_train.columns)}')\n",
        "print(f'The number of columns after preprocessing: {len(data_test.columns)}')\n",
        "\n",
        "\n",
        "# Remove all columns with no std\n",
        "drop_std_train = data_train.columns[data_train.std() == 0]\n",
        "drop_std_test = data_test.columns[data_train.std() == 0]\n",
        "data_train.drop(drop_std_train, axis = 1, inplace = True) \n",
        "data_test.drop(drop_std_test, axis = 1, inplace = True)\n",
        "\n",
        "print(f'TRAIN: The number of columns after preprocessing: {len(data_train.columns)}, and the number of rows: {len(data_train.index)}')\n",
        "print(f'TEST: The number of columns after preprocessing: {len(data_test.columns)},  and the number of rows: {len(data_test.index)}')\n",
        "\n",
        "\n",
        "\n",
        "\n"
      ],
      "execution_count": 197,
      "outputs": [
        {
          "output_type": "stream",
          "text": [
            "The number of columns after preprocessing: 152\n",
            "The number of columns after preprocessing: 152\n",
            "TRAIN: The number of columns after preprocessing: 150, and the number of rows: 90\n",
            "TEST: The number of columns after preprocessing: 150,  and the number of rows: 23\n"
          ],
          "name": "stdout"
        }
      ]
    },
    {
      "cell_type": "markdown",
      "metadata": {
        "id": "oVOizcWl4sAM",
        "colab_type": "text"
      },
      "source": [
        "## Data Scaling\n",
        "\n",
        "Overwegen welk van de onderstaande het beste is voor onze data! \n",
        "\n",
        "StandardScaler removes the mean and scales the data to unit variance.  cannot guarantee balanced feature scales in the presence of outliers.\n",
        "\n",
        "MinMaxScaler rescales the data set such that all feature values are in the range [0, 1], very sensitive to outliers\n",
        "\n",
        "Robust scaler. Unlike the previous scalers, the centering and scaling statistics of this scaler are based on percentiles and are therefore not influenced by a few number of very large marginal outliers.\n",
        "\n",
        "Read more: https://scikit-learn.org/stable/auto_examples/preprocessing/plot_all_scaling.html\n",
        " "
      ]
    },
    {
      "cell_type": "code",
      "metadata": {
        "id": "4hKWuBpi4xck",
        "colab_type": "code",
        "colab": {}
      },
      "source": [
        "# Scale the data (train on train set)\n",
        "scaler = preprocessing.StandardScaler()   \n",
        "scaler.fit(data_train)  \n",
        "\n",
        "# Perform scaling on both train and testset\n",
        "data_train_scaled = scaler.transform(data_train)\n",
        "data_test_scaled = scaler.transform(data_test) "
      ],
      "execution_count": 0,
      "outputs": []
    },
    {
      "cell_type": "markdown",
      "metadata": {
        "id": "BLXxyvuwqW7q",
        "colab_type": "text"
      },
      "source": [
        "## Feature selection/extraction\n",
        "\n",
        "Feature ranking with recursive feature elimination and cross-validated selection of the best number of features.\n",
        "\n",
        "\n",
        "Variabelen\n",
        "- stratifiedKfold(x), x veranderen geeft hele andere uitkomsten\n",
        "- step = x, x laten als 1!\n",
        "\n",
        "! Dit gebruiken we nu nog niet\n",
        "\n",
        "\n",
        "https://scikit-learn.org/stable/modules/generated/sklearn.feature_selection.RFECV.html#sklearn.feature_selection.RFECV\n",
        "\n",
        "- Univariate testing: select best performing features based on statistical test: sklearn.feature_selection.SelectKBest()"
      ]
    },
    {
      "cell_type": "code",
      "metadata": {
        "id": "qe6OoqWjq0Ni",
        "colab_type": "code",
        "outputId": "40468997-91d6-4b5d-995c-4d6223f3f6e0",
        "colab": {
          "base_uri": "https://localhost:8080/",
          "height": 745
        }
      },
      "source": [
        "# Recursive Feature Elimination\n",
        "svc = svm.SVC(kernel=\"linear\")  # Create the RFE object and compute a cross-validated score.\n",
        "\n",
        "# classifications\n",
        "rfecv = feature_selection.RFECV(\n",
        "    estimator=svc, step=1, \n",
        "    cv=model_selection.StratifiedKFold(4),\n",
        "    scoring='roc_auc')\n",
        "fit = rfecv.fit(data_train_scaled, stage_train)\n",
        "\n",
        "# Plot number of features VS. cross-validation scores\n",
        "plt.figure()\n",
        "plt.xlabel(\"Number of features selected\")\n",
        "plt.ylabel(\"Cross validation score (nb of correct classifications)\")\n",
        "plt.plot(range(1, len(rfecv.grid_scores_) + 1), rfecv.grid_scores_)\n",
        "plt.show()\n",
        "\n",
        "print(\"Num Features: %d\" % fit.n_features_)\n",
        "print(\"Selected Features: %s\" % fit.support_)\n",
        "print(\"Feature Ranking: %s\" % fit.ranking_)\n"
      ],
      "execution_count": 157,
      "outputs": [
        {
          "output_type": "display_data",
          "data": {
            "image/png": "[encoded data removed]",
            "text/plain": [
              "<Figure size 576x396 with 1 Axes>"
            ]
          },
          "metadata": {
            "tags": []
          }
        },
        {
          "output_type": "stream",
          "text": [
            "Num Features: 32\n",
            "Selected Features: [False False  True False False False  True  True  True False False False\n",
            " False False False False False False False False False False  True False\n",
            "  True  True False False False False False  True  True False False False\n",
            "  True False False False  True False  True False False  True False False\n",
            " False False False False False False False False False  True False False\n",
            "  True  True False False False False False False False False False False\n",
            " False False False  True False False False  True False False False  True\n",
            " False False  True  True False False False False False  True False False\n",
            "  True False False False False  True False False False  True False False\n",
            " False  True False False False  True False False False False False False\n",
            "  True False False False False False False False  True False False False\n",
            " False  True False False  True False False False  True False False False\n",
            " False False False False False False]\n",
            "Feature Ranking: [ 39  47   1 105  63  83   1   1   1  42  12 116  23  50  73  36  64  18\n",
            " 118  22  65  91   1  33   1   1  35 104   6 113  99   1   1 115  94  48\n",
            "   1  41  92  21   1  25   1  19  88   1  70  61  93 100  87  74 106  97\n",
            "  15  51  31   1  53  76   1   1  34  11 107  38 102  68  72  69 101  40\n",
            "  85  75  27   1  89  77  43   1  54  17  66   1   8  28   1   1  82  55\n",
            "   9 109  67   1  62 110   1  46 117 111  16   1 112  49   2   1 108  45\n",
            "  30   1  86  29  80   1  81  14 103  60  52  44   1  10  58  96  32  24\n",
            "  84  79   1  59   7 114  26   1  57   5   1  13  98 119   1  37   3  95\n",
            "   4  20  71  56  78  90]\n"
          ],
          "name": "stdout"
        }
      ]
    },
    {
      "cell_type": "markdown",
      "metadata": {
        "id": "Y-f-qvIbMvu2",
        "colab_type": "text"
      },
      "source": [
        "##  Feature selection using univariate feature selection"
      ]
    },
    {
      "cell_type": "code",
      "metadata": {
        "id": "8GpfGpM1M4Dp",
        "colab_type": "code",
        "outputId": "9033cbca-eb6e-4c22-e38a-451b79c470b4",
        "colab": {
          "base_uri": "https://localhost:8080/",
          "height": 652
        }
      },
      "source": [
        "from sklearn import feature_selection\n",
        "from sklearn.feature_selection import SelectKBest\n",
        "from sklearn.feature_selection import chi2\n",
        "from sklearn.feature_selection import SelectPercentile\n",
        "from sklearn.feature_selection import f_classif\n",
        "# X_new = SelectKBest(chi2, k=50).fit_transform(stage_train, data_train_scaled)\n",
        "# print(X_new.shape)\n",
        "\n",
        "selector = SelectPercentile(f_classif, percentile=10)\n",
        "fit = selector.fit(data_train_scaled, stage_train)\n",
        "\n",
        "print(\"Feature Ranking: %s\" % fit.scores_)"
      ],
      "execution_count": 128,
      "outputs": [
        {
          "output_type": "stream",
          "text": [
            "Feature Ranking: [1.92621941e+01 1.43919207e+01 3.66873843e+00 3.92881145e-01\n",
            " 1.23291576e+00 5.20369214e-01 4.28911472e+00 8.96613592e+00\n",
            " 9.41768969e+00 3.15392037e+00 5.66166575e-01 9.90415330e-01\n",
            " 3.35795269e-03 4.05645727e-02 2.17649245e+00 2.13255066e-02\n",
            " 2.07037384e+00 3.72154769e+00 1.98702650e+00 2.12507529e+00\n",
            " 4.31860112e-04 4.07269214e-01 5.23702575e-02 8.88185823e+00\n",
            " 4.00717625e+00 1.90478758e+01 9.64140572e+00 6.19702218e-01\n",
            " 1.06728516e+01 1.84352705e+00 1.40647877e+00 8.92604520e+00\n",
            " 1.91803942e+01 7.10116842e-02 2.29430957e+00 1.30701846e+01\n",
            " 9.04592736e+00 9.87890299e+00 2.29430957e+00 3.06018895e+01\n",
            " 2.08664607e+01 2.07783729e+01 2.50877817e+01 1.68960539e+01\n",
            " 1.39481083e+01 8.98706779e-01 9.08007350e+00 3.36785051e+00\n",
            " 9.67489865e-01 5.25026678e-01 2.87037802e+00 2.08923787e+00\n",
            " 5.07379509e+00 5.25026678e-01 2.09709156e+00 2.22037937e+00\n",
            " 1.70588547e+00 1.91332210e+00 1.65333006e+00 2.82428117e+00\n",
            " 1.03633959e+01 5.39151002e+00 7.56938324e-01 1.08924985e+00\n",
            " 2.32646390e-01 2.58247030e+00 7.12542370e-01 9.90586911e-01\n",
            " 3.57220651e-01 5.81866791e+00 7.84243014e-03 3.31029718e+00\n",
            " 5.51068980e+00 1.08592259e+01 7.25461673e-01 4.44984317e+00\n",
            " 9.76991079e-01 6.58400825e+00 2.21058743e+00 4.84958171e+00\n",
            " 1.14760097e+01 4.14833424e+00 5.19710010e+00 4.96331198e+00\n",
            " 3.36189249e+00 7.42922818e+00 1.85291278e-01 1.18026342e+00\n",
            " 2.36908627e-01 4.00212238e+00 3.64138070e-01 4.51006505e+00\n",
            " 9.44910393e+00 1.37880856e+00 5.90267366e+00 4.11089071e+00\n",
            " 2.31631581e+00 1.08586239e+01 7.20665974e-01 4.37526314e-01\n",
            " 1.69253655e-01 5.57229592e+00 1.54831488e-01 6.27649163e+00\n",
            " 1.29524178e+01 3.48712588e+00 6.24401376e+00 6.43532750e+00\n",
            " 1.44228857e+00 3.41547967e-02 2.06685398e-03 4.46278256e-01\n",
            " 6.59528558e-03 1.00078517e+00 3.75282241e-02 3.30970076e+00\n",
            " 3.68856474e-01 1.64133298e-01 5.94862895e-04 4.75086553e-01\n",
            " 3.81562309e+00 1.75603244e+01 6.88632068e+00 5.20645708e+00\n",
            " 9.01788400e+00 1.58808404e+01 1.15625468e+01 1.46386262e+01\n",
            " 2.19757331e+01 1.47498199e+01 1.55920499e+01 1.96212487e+01\n",
            " 5.69722094e+00 3.77885160e+00 1.38356203e+01 9.46767959e-01\n",
            " 8.06878179e-01 9.74406332e+00 5.06492768e-01 9.56049383e-01\n",
            " 2.45935083e+00 9.56049383e-01 9.56049383e-01 3.72058605e+00\n",
            " 9.13143947e+00 3.98685235e-02 5.26353669e+00 6.99726728e+00\n",
            " 5.00267803e-01 2.23632555e+00]\n"
          ],
          "name": "stdout"
        }
      ]
    },
    {
      "cell_type": "code",
      "metadata": {
        "id": "W29ecNuDM1Gd",
        "colab_type": "code",
        "colab": {}
      },
      "source": [
        ""
      ],
      "execution_count": 0,
      "outputs": []
    },
    {
      "cell_type": "markdown",
      "metadata": {
        "id": "o251HvpzBy4l",
        "colab_type": "text"
      },
      "source": [
        "## Principal Component Analysis (PCA)\n"
      ]
    },
    {
      "cell_type": "code",
      "metadata": {
        "id": "O4IiEnXmB-Y3",
        "colab_type": "code",
        "outputId": "7e649124-b819-4759-9a8d-18029904b8c5",
        "colab": {
          "base_uri": "https://localhost:8080/",
          "height": 329
        }
      },
      "source": [
        "\n",
        "# Create a function for calculating PCA\n",
        "def pca(data_train, data_test):\n",
        "    \"\"\"\n",
        "    Function for PCA\n",
        "\n",
        "        data_train = training data\n",
        "        data_test = testing data\n",
        "\n",
        "    Output is transformed train- and testdata\n",
        "    \"\"\"\n",
        "    pca=PCA().fit(data_train)\n",
        "    var = np.cumsum(pca.explained_variance_ratio_)\n",
        "    n_comp = np.where(var>0.99)[0][0]\n",
        "\n",
        "    pca_train = PCA(n_components=n_comp)\n",
        "    pca_train.fit(data_train)\n",
        "\n",
        "    # Transform data using PCA\n",
        "    data_train_trans = pca_train.transform(data_train)\n",
        "    data_test_trans = pca_train.transform(data_test)\n",
        "    \n",
        "    plt.figure()\n",
        "    plt.plot(np.cumsum(pca.explained_variance_ratio_))\n",
        "    plt.xlabel('Number of Components')\n",
        "    plt.ylabel('Variance (%)') # for each component\n",
        "    plt.title('data train set ')\n",
        "    plt.show()\n",
        "#print(np.cumsum(pca.explained_variance_ratio_))\n",
        "\n",
        "    # Return transformed train- and testdata\n",
        "    return data_train_trans, data_test_trans\n",
        "\n",
        "data_train_pca, data_test_pca = pca(data_train_scaled, data_test_scaled)\n",
        "print(data_train_pca.shape)\n",
        "print(data_test_pca.shape)\n",
        "\n"
      ],
      "execution_count": 26,
      "outputs": [
        {
          "output_type": "display_data",
          "data": {
            "image/png": "[encoded data removed]",
            "text/plain": [
              "<Figure size 432x288 with 1 Axes>"
            ]
          },
          "metadata": {
            "tags": []
          }
        },
        {
          "output_type": "stream",
          "text": [
            "(90, 56)\n",
            "(23, 56)\n"
          ],
          "name": "stdout"
        }
      ]
    },
    {
      "cell_type": "markdown",
      "metadata": {
        "id": "QmuPafMx1xRU",
        "colab_type": "text"
      },
      "source": [
        "## Lasso feature selection\n"
      ]
    },
    {
      "cell_type": "code",
      "metadata": {
        "id": "TCQII8nj144E",
        "colab_type": "code",
        "colab": {
          "base_uri": "https://localhost:8080/",
          "height": 425
        },
        "outputId": "dfdc26ec-f5fb-43f1-b130-98972c594950"
      },
      "source": [
        "from sklearn.linear_model import LassoCV\n",
        "from sklearn.linear_model import Lasso\n",
        "from sklearn.model_selection import KFold\n",
        "from sklearn.model_selection import GridSearchCV\n",
        "from yellowbrick.regressor import AlphaSelection\n",
        "from yellowbrick.datasets import load_concrete\n",
        "from sklearn.feature_selection import SelectFromModel\n",
        "\n",
        "\n",
        "lasso = Lasso(max_iter=10000)\n",
        "n_alphas = 200\n",
        "alphas = np.logspace(-1.5, -0.1, n_alphas)\n",
        "\n",
        "tuned_parameters = [{'alpha': alphas}]\n",
        "n_folds = 5\n",
        "\n",
        "clf = GridSearchCV(lasso, tuned_parameters, cv=n_folds, refit=False)\n",
        "clf.fit(data_train_scaled, stage_train)\n",
        "scores = clf.cv_results_['mean_test_score']\n",
        "scores_std = clf.cv_results_['std_test_score']\n",
        "plt.figure().set_size_inches(8, 6)\n",
        "plt.semilogx(alphas, scores)\n",
        "\n",
        "# plot error lines showing +/- std. errors of the scores\n",
        "std_error = scores_std / np.sqrt(n_folds)\n",
        "\n",
        "plt.semilogx(alphas, scores + std_error, 'b--')\n",
        "plt.semilogx(alphas, scores - std_error, 'b--')\n",
        "\n",
        "# alpha=0.2 controls the translucency of the fill color\n",
        "plt.fill_between(alphas, scores + std_error, scores - std_error, alpha=0.2)\n",
        "\n",
        "plt.ylabel('CV score +/- std error')\n",
        "plt.xlabel('alpha')\n",
        "plt.axhline(np.max(scores), linestyle='--', color='.5')\n",
        "plt.xlim([alphas[0], alphas[-1]])\n",
        "\n",
        "# Instantiate the linear model and visualizer\n",
        "model = LassoCV(alphas=alphas)\n",
        "visualizer = AlphaSelection(model)\n",
        "visualizer.fit(data_train_scaled, stage_train)\n",
        "#visualizer.show()\n",
        "\n",
        "alpha_best = model.alpha_\n",
        "print(f'The optimal alpha = {alpha_best}')\n",
        "\n",
        "#L1_selection = Lasso(alpha=alpha_best, max_iter=10000)\n",
        "#L1_selection.fit(data_train_scaled, stage_train)\n",
        "#train_score=L1_selection.score(data_train_scaled,stage_train)\n",
        "#coeff_used = np.sum(L1_selection.coef_!=0)\n",
        "#print(\"training score:\", train_score) \n",
        "#print(\"number of features used: \", coeff_used)\n",
        "\n",
        "selector = SelectFromModel(estimator=Lasso(alpha=alpha_best, random_state = 42))\n",
        "selector.fit(data_train_scaled, stage_train)\n",
        "n_original = data_train_scaled.shape[1]\n",
        "data_train_l1 = selector.transform(data_train_scaled)\n",
        "data_test_l1 = selector.transform(data_test_scaled)\n",
        "n_selected = data_train_l1.shape[1]\n",
        "print(f\"Selected {n_selected} from {n_original} features.\")\n",
        "\n"
      ],
      "execution_count": 199,
      "outputs": [
        {
          "output_type": "stream",
          "text": [
            "The optimal alpha = 0.038408036930858314\n",
            "Selected 19 from 150 features.\n"
          ],
          "name": "stdout"
        },
        {
          "output_type": "display_data",
          "data": {
            "image/png": "[encoded data removed]",
            "text/plain": [
              "<Figure size 576x432 with 1 Axes>"
            ]
          },
          "metadata": {
            "tags": []
          }
        }
      ]
    },
    {
      "cell_type": "markdown",
      "metadata": {
        "id": "9BuHDPdnIoXx",
        "colab_type": "text"
      },
      "source": [
        "## kNN\n"
      ]
    },
    {
      "cell_type": "code",
      "metadata": {
        "id": "RaokGZwe7zDY",
        "colab_type": "code",
        "outputId": "ef264c5e-3c36-4ba4-cdc0-3e8f81760f14",
        "colab": {
          "base_uri": "https://localhost:8080/",
          "height": 117
        }
      },
      "source": [
        "# List with hyperparameters that we want to tune.\n",
        "leaf_size = list(range(1,50))\n",
        "n_n = list(range(1,50))\n",
        "p=[1,2]\n",
        "weights = ['uniform', 'distance']\n",
        "\n",
        "hyperparameters = dict(leaf_size=leaf_size, n_neighbors=n_n, p=p, weights = weights)\n",
        "\n",
        "# Create new KNN object\n",
        "knn_tune = neighbors.KNeighborsClassifier()\n",
        "\n",
        "# Use Randomized Search\n",
        "# Als je GridSearch gebruikt, komt er telkens hetzelfde uit. \n",
        "clf_tune_knn = model_selection.RandomizedSearchCV(knn_tune, hyperparameters, n_iter = 30, cv=10)\n",
        "# Random state mag vgm niet, maar is de enige manier om ervoor te zorgen dat het constant dezelfde output geeft\n",
        "\n",
        "#Fit the model\n",
        "best_model = clf_tune_knn.fit(data_train_l1, stage_train)\n",
        "\n",
        "leaf_size_best = best_model.best_estimator_.get_params()['leaf_size']\n",
        "p_best = best_model.best_estimator_.get_params()['p']\n",
        "n_n_best = best_model.best_estimator_.get_params()['n_neighbors']\n",
        "weights_best = best_model.best_estimator_.get_params()['weights']\n",
        "\n",
        "\n",
        "#Print The value of best Hyperparameters\n",
        "print('Best leaf_size:', leaf_size_best)\n",
        "print('Best p:', p_best)\n",
        "print('Best n_neighbors:', n_n_best)\n",
        "print('Best weights:', weights_best)\n",
        "\n",
        "def knn_classifier(leaf_size, p, n_neigbors, weights, data_train, data_test, label_train, label_test):\n",
        "    \"\"\"\n",
        "    Function for kNN training and testing\n",
        "\n",
        "        data_train =  training data (type = list)\n",
        "        data_test_trans = testing data (type = list)\n",
        "        label_train = class of training data (type = list)\n",
        "        label_test = class of testing data (type = list)\n",
        "        \n",
        "    Output is two lists with the predicted class of the train- and testdata \n",
        "    \"\"\"\n",
        "    knn = neighbors.KNeighborsClassifier(leaf_size = leaf_size, weights = weights, n_neighbors = n_neigbors, p = p)\n",
        "    knn.fit(data_train, label_train)\n",
        "    label_train_knn = knn.predict(data_train)\n",
        "    label_test_knn = knn.predict(data_test)\n",
        "    score_train = knn.score(data_train, label_train)\n",
        "    score_test = knn.score(data_test, label_test)\n",
        "    return score_train, score_test, label_train_knn, label_test_knn\n",
        "\n",
        "score_train_knn, score_test_knn, stage_train_knn, stage_test_knn = knn_classifier(leaf_size_best, p_best, n_n_best, weights_best, data_train_l1, data_test_l1, stage_train, stage_test)\n",
        "print(f'Accuracy of classifier on traindata: {score_train_knn}') # accuracy\n",
        "print(f'Accuracy of classifier on testdata: {score_test_knn}') # accuracy\n"
      ],
      "execution_count": 200,
      "outputs": [
        {
          "output_type": "stream",
          "text": [
            "Best leaf_size: 44\n",
            "Best p: 1\n",
            "Best n_neighbors: 11\n",
            "Best weights: uniform\n",
            "Accuracy of classifier on traindata: 0.8888888888888888\n",
            "Accuracy of classifier on testdata: 0.782608695652174\n"
          ],
          "name": "stdout"
        }
      ]
    },
    {
      "cell_type": "markdown",
      "metadata": {
        "id": "4Bs85wHUxnqA",
        "colab_type": "text"
      },
      "source": [
        "## Support Vector Machine (SVM)\n",
        "-  Geeft nu alleen een kernel mee, maar heeft nog veel meer parameters\n",
        "- test_decision = svc.decision_function(data_test) kunnen we later miss nog gebruiken om een ROC te maken"
      ]
    },
    {
      "cell_type": "code",
      "metadata": {
        "id": "Z-mVIOLhxpsJ",
        "colab_type": "code",
        "outputId": "d2495642-5f47-4ca7-de9d-fc87ee1f6aeb",
        "colab": {
          "base_uri": "https://localhost:8080/",
          "height": 117
        }
      },
      "source": [
        "# List with hyperparameters that we want to tune.\n",
        "kernels = ['linear', 'poly', 'rbf']\n",
        "gammas = [0.1, 1, 10, 100]\n",
        "cs = [0.1, 1, 10, 100, 1000]\n",
        "degrees = [0, 1, 2, 3, 4, 5, 6] # use only for 'poly'\n",
        "\n",
        "hyperparameters = dict(kernel = kernels, gamma = gammas, C = cs, degree = degrees)\n",
        "\n",
        "# Create new KNN object\n",
        "svm_tune = svm.SVC()\n",
        "\n",
        "# Use Randomized Search\n",
        "# Als je GridSearch gebruikt, komt er telkens hetzelfde uit. \n",
        "clf_tune_svm = model_selection.RandomizedSearchCV(svm_tune, hyperparameters, n_iter = 30, cv=10)\n",
        "\n",
        "\n",
        "#Fit the model\n",
        "best_model_svm = clf_tune_svm.fit(data_train_l1, stage_train)\n",
        "\n",
        "kernel_best = best_model_svm.best_estimator_.get_params()['kernel']\n",
        "gamma_best = best_model_svm.best_estimator_.get_params()['gamma']\n",
        "c_best = best_model_svm.best_estimator_.get_params()['C']\n",
        "degree_best = best_model_svm.best_estimator_.get_params()['degree']\n",
        "\n",
        "#Print The value of best Hyperparameters\n",
        "print('Best kernel:', kernel_best)\n",
        "print('Best gamma:', gamma_best)\n",
        "print('Best C:', c_best)\n",
        "print('Best degree:', degree_best)\n",
        "\n",
        "\n",
        "def svm_classifier(C, kernel, degree, gamma, data_train, data_test, label_train, label_test, svm_kernel):\n",
        "    \"\"\"\n",
        "    Function for SVM training and testing\n",
        "\n",
        "        data_train =  training data (type = list)\n",
        "        data_test_trans = testing data (type = list)\n",
        "        label_train = class of training data (type = list)\n",
        "        label_test = class of testing data (type = list)\n",
        "        svm_kernel = different kernels to be used (type = string)\n",
        "\n",
        "    Output is two lists with the predicted class of the train- and testdata\n",
        "    \"\"\"\n",
        "    svc = svm.SVC(C=C, kernel=kernel, degree=degree, gamma=gamma)\n",
        "    svc.fit(data_train, label_train)\n",
        "\n",
        "    # Predict the classes of the data \n",
        "    label_train_svm = svc.predict(data_train)\n",
        "    label_test_svm= svc.predict(data_test)\n",
        "\n",
        "    score_train = svc.score(data_train, label_train)\n",
        "    score_test = svc.score(data_test, label_test)\n",
        "    \n",
        "    return label_train_svm, label_test_svm, score_train, score_test\n",
        "\n",
        "stage_train_svm, stage_test_svm, score_train_svm, score_test_svm = svm_classifier(c_best, kernel_best, degree_best, gamma_best, data_train_l1, data_test_l1, stage_train, stage_test, 'linear')\n",
        "print(f'Accuracy of classifier on traindata: {score_train_svm}') # accuracy\n",
        "print(f'Accuracy of classifier on testdata: {score_test_svm}') # accuracy"
      ],
      "execution_count": 202,
      "outputs": [
        {
          "output_type": "stream",
          "text": [
            "Best kernel: linear\n",
            "Best gamma: 100\n",
            "Best C: 1\n",
            "Best degree: 1\n",
            "Accuracy of classifier on traindata: 0.9111111111111111\n",
            "Accuracy of classifier on testdata: 0.6521739130434783\n"
          ],
          "name": "stdout"
        }
      ]
    },
    {
      "cell_type": "markdown",
      "metadata": {
        "id": "tL1XtlFR3upM",
        "colab_type": "text"
      },
      "source": [
        "## Random Forest Classifier \n",
        "- alle parameters nog bepalen\n"
      ]
    },
    {
      "cell_type": "code",
      "metadata": {
        "id": "O760t93K3zWu",
        "colab_type": "code",
        "outputId": "d4d0312b-49c8-43f7-dd89-2da77b47da40",
        "colab": {
          "base_uri": "https://localhost:8080/",
          "height": 34
        }
      },
      "source": [
        "def rfc_classifier(data_train, data_test, label_train, label_test):\n",
        "    \"\"\"\n",
        "    Function for RFC training and testing\n",
        "\n",
        "        data_train =  training data (type = list)\n",
        "        data_test_trans = testing data (type = list)\n",
        "        label_train = class of training data (type = list)\n",
        "        label_test = class of testing data (type = list)\n",
        "        \n",
        "    Output is two lists with the predicted class of the train- and testdata \n",
        "    \"\"\"\n",
        "    # Create Random Forest Classifier and fit classifier on traindata\n",
        "    rfc = RandomForestClassifier(max_depth=2)\n",
        "    rfc.fit(data_train, label_train)\n",
        "\n",
        "    # Predict labels for train- and testdata\n",
        "    label_train_rfc = rfc.predict(data_train)\n",
        "    label_test_rfc = rfc.predict(data_test)\n",
        "\n",
        "    return label_train_rfc, label_test_rfc\n",
        "\n",
        "stage_train_rfc, stage_test_rfc = rfc_classifier(data_train_pca, data_test_pca, stage_train, stage_test)\n",
        "print(stage_test_rfc)\n"
      ],
      "execution_count": 0,
      "outputs": [
        {
          "output_type": "stream",
          "text": [
            "[1 0 1 1 1 1 0 0 1 0 0 1 1 1 1 1 0 0 0 1 1 0 0]\n"
          ],
          "name": "stdout"
        }
      ]
    },
    {
      "cell_type": "markdown",
      "metadata": {
        "id": "NSkNx_JkLzFi",
        "colab_type": "text"
      },
      "source": [
        "## Performance\n",
        "- Functie gemaakt om een dataframe te maken van de performance van een bepaalde classifier\n",
        "- Uiteindelijke mooier om alles er tegelijk in te kunnen gooien met een loop en dan 1 groot dataframe te maken"
      ]
    },
    {
      "cell_type": "code",
      "metadata": {
        "id": "JIUCuActMxr4",
        "colab_type": "code",
        "outputId": "33b7e733-baaa-4421-fae3-b5a0cc0d014f",
        "colab": {
          "base_uri": "https://localhost:8080/",
          "height": 319
        }
      },
      "source": [
        "def performance_clf(predlabel_train, label_train, predlabel_test, label_test):\n",
        "    \"\"\"\n",
        "    Function to calculate performance of a classifier:\n",
        "\n",
        "        predlabel_train = predicted label of traindata \n",
        "        label_train = real label of traindata\n",
        "        predlabel_test = predicted label of testdata\n",
        "        label_test = real label of testdata\n",
        "    \n",
        "    This function returns a dataframe of the calculated AUC, accuracy, F1-score,\n",
        "    precision and recall of the classifier for the train- and testdata\n",
        "    \"\"\"\n",
        "    \n",
        "    # Performance train set\n",
        "    auc_train=metrics.roc_auc_score(predlabel_train, label_train)\n",
        "    accuracy_train=metrics.accuracy_score(predlabel_train, label_train)\n",
        "    F1_train=metrics.f1_score(predlabel_train, label_train)\n",
        "    precision_train=metrics.precision_score(predlabel_train, label_train)\n",
        "    recall_train=metrics.recall_score(predlabel_train, label_train)\n",
        "    \n",
        "    # Performance test set\n",
        "    auc_test=metrics.roc_auc_score(predlabel_test, label_test)\n",
        "    accuracy_test=metrics.accuracy_score(predlabel_test, label_test)\n",
        "    F1_test=metrics.f1_score(predlabel_test, label_test)\n",
        "    precision_test=metrics.precision_score(predlabel_test, label_test)\n",
        "    recall_test=metrics.recall_score(predlabel_test, label_test)\n",
        "\n",
        "    performance = {'train': [auc_train, accuracy_train, F1_train, precision_train, recall_train],\n",
        "                   'test': [auc_test, accuracy_test, F1_test, precision_test, recall_test]}\n",
        "    frame_performance = pd.DataFrame(data=performance, index=['auc', 'accuracy', 'F1', 'precision', 'recall'])\n",
        "  \n",
        "    return frame_performance\n",
        "\n",
        "performance_knn = performance_clf(stage_train_knn, stage_train, stage_test_knn, stage_test)\n",
        "performance_svm = performance_clf(stage_train_svm, stage_train, stage_test_svm, stage_test)\n",
        "performance_rfc = performance_clf(stage_train_rfc, stage_train, stage_test_rfc, stage_test)\n",
        "\n",
        "\n",
        "print(f'The performance of the kNN-classifier is: {performance_knn}')\n",
        "print(f'The performance of the SVM-classifier is: {performance_svm}')\n",
        "print(f'The performance of the RFC-classifier is: {performance_rfc}')\n"
      ],
      "execution_count": 0,
      "outputs": [
        {
          "output_type": "stream",
          "text": [
            "The performance of the kNN-classifier is:               train      test\n",
            "auc        0.740642  0.777778\n",
            "accuracy   0.677778  0.652174\n",
            "F1         0.743363  0.714286\n",
            "precision  0.933333  1.000000\n",
            "recall     0.617647  0.555556\n",
            "The performance of the SVM-classifier is:               train      test\n",
            "auc        0.855731  0.780303\n",
            "accuracy   0.855556  0.782609\n",
            "F1         0.853933  0.761905\n",
            "precision  0.844444  0.800000\n",
            "recall     0.863636  0.727273\n",
            "The performance of the RFC-classifier is:               train      test\n",
            "auc        0.922431  0.707692\n",
            "accuracy   0.922222  0.695652\n",
            "F1         0.923077  0.695652\n",
            "precision  0.933333  0.800000\n",
            "recall     0.913043  0.615385\n"
          ],
          "name": "stdout"
        }
      ]
    }
  ]
}
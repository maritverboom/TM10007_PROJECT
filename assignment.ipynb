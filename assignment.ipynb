{
  "nbformat": 4,
  "nbformat_minor": 0,
  "metadata": {
    "colab": {
      "name": "assignment.ipynb",
      "provenance": [],
      "collapsed_sections": [],
      "include_colab_link": true
    },
    "kernelspec": {
      "display_name": "Python 3",
      "language": "python",
      "name": "python3"
    },
    "language_info": {
      "codemirror_mode": {
        "name": "ipython",
        "version": 3
      },
      "file_extension": ".py",
      "mimetype": "text/x-python",
      "name": "python",
      "nbconvert_exporter": "python",
      "pygments_lexer": "ipython3",
      "version": "3.7.4"
    }
  },
  "cells": [
    {
      "cell_type": "markdown",
      "metadata": {
        "id": "view-in-github",
        "colab_type": "text"
      },
      "source": [
        "<a href=\"https://colab.research.google.com/github/maritverboom/TM10007_PROJECT/blob/master/assignment.ipynb\" target=\"_parent\"><img src=\"https://colab.research.google.com/assets/colab-badge.svg\" alt=\"Open In Colab\"/></a>"
      ]
    },
    {
      "cell_type": "markdown",
      "metadata": {
        "colab_type": "text",
        "id": "7SXpaKwwGe5x"
      },
      "source": [
        "# TM10007 Assignment \n"
      ]
    },
    {
      "cell_type": "code",
      "metadata": {
        "colab_type": "code",
        "id": "CiDn2Sk-VWqE",
        "outputId": "aaee7c09-6c83-4919-8ab0-01b9527c4999",
        "colab": {
          "base_uri": "https://localhost:8080/",
          "height": 34
        }
      },
      "source": [
        "# Run this to use from colab environment\n",
        "!pip install -q --upgrade git+https://github.com/karinvangarderen/tm10007_project.git"
      ],
      "execution_count": 70,
      "outputs": [
        {
          "output_type": "stream",
          "text": [
            "  Building wheel for brats (setup.py) ... \u001b[?25l\u001b[?25hdone\n"
          ],
          "name": "stdout"
        }
      ]
    },
    {
      "cell_type": "code",
      "metadata": {
        "id": "Fsm0D-Ugmvzu",
        "colab_type": "code",
        "colab": {}
      },
      "source": [
        "import numpy as np\n",
        "import pandas as pd\n",
        "import matplotlib.pyplot as plt\n",
        "\n",
        "# Classifiers\n",
        "from sklearn import model_selection\n",
        "from sklearn import metrics\n",
        "from sklearn import feature_selection \n",
        "from sklearn import preprocessing\n",
        "from sklearn import neighbors\n",
        "from sklearn import svm\n",
        "from sklearn.decomposition import PCA\n",
        "from sklearn.ensemble import RandomForestClassifier\n",
        "from sklearn.impute import SimpleImputer"
      ],
      "execution_count": 0,
      "outputs": []
    },
    {
      "cell_type": "markdown",
      "metadata": {
        "id": "-AlgAclcK2My",
        "colab_type": "text"
      },
      "source": [
        "## Data Loading"
      ]
    },
    {
      "cell_type": "code",
      "metadata": {
        "id": "iIAVZzeGK4dJ",
        "colab_type": "code",
        "outputId": "e9089acc-7f92-456c-a416-865389062a5b",
        "colab": {
          "base_uri": "https://localhost:8080/",
          "height": 84
        }
      },
      "source": [
        "from hn.load_data import load_data\n",
        "data = load_data()\n",
        "print(f'The number of samples: {len(data.index)}')\n",
        "print(f'The number of columns: {len(data.columns)}')\n",
        "\n",
        "# Splitting the data in train- and testpart with a portion of 'test_size' training data (20%)\n",
        "data_train, data_test = model_selection.train_test_split(data, test_size=0.20, stratify=data['label'])\n",
        "\n",
        "print(f'The number of rows of train data : {len(data_train.index)}')\n",
        "print(f'The number of rows of test data : {len(data_test.index)}')\n",
        "\n",
        "# seperate the data in features and tumorstage\n",
        "stage_train = data_train['label']          # dataframe containing tumor stadium of subject (T12/T34)\n",
        "stage_test = data_test['label'] \n",
        "data_train = data_train.drop(columns='label') # dataframe containing all feature columns except 'label' (tumor stadium of subject)\n",
        "data_test = data_test.drop(columns='label')\n",
        "\n",
        "# Binarize label data\n",
        "stage_train = preprocessing.label_binarize(stage_train, ['T12', 'T34'])\n",
        "stage_train = [i[0] for i in stage_train]\n",
        "\n",
        "stage_test = preprocessing.label_binarize(stage_test, ['T12', 'T34'])\n",
        "stage_test = [i[0] for i in stage_test]\n",
        "\n"
      ],
      "execution_count": 99,
      "outputs": [
        {
          "output_type": "stream",
          "text": [
            "The number of samples: 113\n",
            "The number of columns: 160\n",
            "The number of rows of train data : 90\n",
            "The number of rows of test data : 23\n"
          ],
          "name": "stdout"
        }
      ]
    },
    {
      "cell_type": "markdown",
      "metadata": {
        "id": "oZUAiDtz5djl",
        "colab_type": "text"
      },
      "source": [
        "## Preprocessing\n",
        "\n",
        "- column verdwijnt als >25% van de column een 0 bevat. Dit heb ik gedaan omdat het vervangen van alle 0 voor NaN me niet heel handig leek, omdat je die 0 soms wel wilt gebruiken als het echt als waarde voorkomt.\n",
        "- we kunnen nog proberen om 'missende' waardes op te vullen met 'feature imputation' zoals besproken in het college van 26/03"
      ]
    },
    {
      "cell_type": "code",
      "metadata": {
        "colab_type": "code",
        "id": "-NE_fTbKGe5z",
        "outputId": "d20fc8be-7114-4cd1-f776-ac512baa3b86",
        "colab": {
          "base_uri": "https://localhost:8080/",
          "height": 84
        }
      },
      "source": [
        "# Imputation\n",
        "#imp = SimpleImputer(missing_values=np.nan, strategy='median')\n",
        "#imp.fit(data_train)\n",
        "#data_train = imp.transform(data_train)\n",
        "#data_test = imp.transform(data_test)\n",
        "\n",
        "# Remove all columns where more than 25% of the values are 0.0\n",
        "drop_cols_train = data_train.columns[(data_train == 0).sum() > 0.25*data_train.shape[1]]\n",
        "drop_cols_test = data_test.columns[(data_train ==0).sum() > 0.25*data_train.shape[1]]\n",
        "data_train.drop(drop_cols_train, axis = 1, inplace = True) \n",
        "data_test.drop(drop_cols_test, axis = 1, inplace = True)\n",
        "print(f'The number of columns after preprocessing: {len(data_train.columns)}')\n",
        "print(f'The number of columns after preprocessing: {len(data_test.columns)}')\n",
        "\n",
        "\n",
        "# Remove all columns with no std\n",
        "drop_std_train = data_train.columns[data_train.std() == 0]\n",
        "drop_std_test = data_test.columns[data_train.std() == 0]\n",
        "data_train.drop(drop_std_train, axis = 1, inplace = True) \n",
        "data_test.drop(drop_std_test, axis = 1, inplace = True)\n",
        "\n",
        "print(f'TRAIN: The number of columns after preprocessing: {len(data_train.columns)}, and the number of rows: {len(data_train.index)}')\n",
        "print(f'TEST: The number of columns after preprocessing: {len(data_test.columns)},  and the number of rows: {len(data_test.index)}')\n",
        "\n",
        "\n",
        "\n",
        "\n"
      ],
      "execution_count": 100,
      "outputs": [
        {
          "output_type": "stream",
          "text": [
            "The number of columns after preprocessing: 152\n",
            "The number of columns after preprocessing: 152\n",
            "TRAIN: The number of columns after preprocessing: 150, and the number of rows: 90\n",
            "TEST: The number of columns after preprocessing: 150,  and the number of rows: 23\n"
          ],
          "name": "stdout"
        }
      ]
    },
    {
      "cell_type": "markdown",
      "metadata": {
        "id": "oVOizcWl4sAM",
        "colab_type": "text"
      },
      "source": [
        "## Data Scaling\n",
        "\n",
        "Overwegen welk van de onderstaande het beste is voor onze data! \n",
        "\n",
        "StandardScaler removes the mean and scales the data to unit variance.  cannot guarantee balanced feature scales in the presence of outliers.\n",
        "\n",
        "MinMaxScaler rescales the data set such that all feature values are in the range [0, 1], very sensitive to outliers\n",
        "\n",
        "Robust scaler. Unlike the previous scalers, the centering and scaling statistics of this scaler are based on percentiles and are therefore not influenced by a few number of very large marginal outliers.\n",
        "\n",
        "Read more: https://scikit-learn.org/stable/auto_examples/preprocessing/plot_all_scaling.html\n",
        " "
      ]
    },
    {
      "cell_type": "code",
      "metadata": {
        "id": "4hKWuBpi4xck",
        "colab_type": "code",
        "colab": {}
      },
      "source": [
        "# Scale the data (train on train set)\n",
        "scaler = preprocessing.StandardScaler()   \n",
        "scaler.fit(data_train)  \n",
        "\n",
        "# Perform scaling on both train and testset\n",
        "data_train_scaled = scaler.transform(data_train)\n",
        "data_test_scaled = scaler.transform(data_test) "
      ],
      "execution_count": 0,
      "outputs": []
    },
    {
      "cell_type": "markdown",
      "metadata": {
        "id": "BLXxyvuwqW7q",
        "colab_type": "text"
      },
      "source": [
        "## Feature selection/extraction\n",
        "\n",
        "Feature ranking with recursive feature elimination and cross-validated selection of the best number of features.\n",
        "\n",
        "\n",
        "Variabelen\n",
        "- stratifiedKfold(x), x veranderen geeft hele andere uitkomsten\n",
        "- step = x, x laten als 1!\n",
        "\n",
        "! Dit gebruiken we nu nog niet\n",
        "\n",
        "\n",
        "https://scikit-learn.org/stable/modules/generated/sklearn.feature_selection.RFECV.html#sklearn.feature_selection.RFECV\n",
        "\n",
        "- Univariate testing: select best performing features based on statistical test: sklearn.feature_selection.SelectKBest()"
      ]
    },
    {
      "cell_type": "code",
      "metadata": {
        "id": "qe6OoqWjq0Ni",
        "colab_type": "code",
        "outputId": "bba40d48-ac18-43af-cde6-87d36eb9336a",
        "colab": {
          "base_uri": "https://localhost:8080/",
          "height": 686
        }
      },
      "source": [
        "# Recursive Feature Elimination\n",
        "svc = svm.SVC(kernel=\"linear\")  # Create the RFE object and compute a cross-validated score.\n",
        "\n",
        "# classifications\n",
        "rfecv = feature_selection.RFECV(\n",
        "    estimator=svc, step=1, \n",
        "    cv=model_selection.StratifiedKFold(4),\n",
        "    scoring='roc_auc')\n",
        "fit = rfecv.fit(data_train_scaled, stage_train)\n",
        "\n",
        "# Plot number of features VS. cross-validation scores\n",
        "plt.figure()\n",
        "plt.xlabel(\"Number of features selected\")\n",
        "plt.ylabel(\"Cross validation score (nb of correct classifications)\")\n",
        "plt.plot(range(1, len(rfecv.grid_scores_) + 1), rfecv.grid_scores_)\n",
        "plt.show()\n",
        "\n",
        "print(\"Num Features: %d\" % fit.n_features_)\n",
        "print(\"Selected Features: %s\" % fit.support_)\n",
        "print(\"Feature Ranking: %s\" % fit.ranking_)\n"
      ],
      "execution_count": 65,
      "outputs": [
        {
          "output_type": "display_data",
          "data": {
            "image/png": "[encoded data removed]",
            "text/plain": [
              "<Figure size 432x288 with 1 Axes>"
            ]
          },
          "metadata": {
            "tags": []
          }
        },
        {
          "output_type": "stream",
          "text": [
            "Num Features: 2\n",
            "Selected Features: [False False False False False False False  True False False False False\n",
            " False False False False False False False False False False False False\n",
            " False False False False False False False False False False False False\n",
            " False False False False False False False False False False False False\n",
            " False False False False False False False False False False False False\n",
            "  True False False False False False False False False False False False\n",
            " False False False False False False False False False False False False\n",
            " False False False False False False False False False False False False\n",
            " False False False False False False False False False False False False\n",
            " False False False False False False False False False False False False\n",
            " False False False False False False False False False False False False\n",
            " False False False False False False False False False False False False\n",
            " False False False False False False False False]\n",
            "Feature Ranking: [ 51 132  56  83 115  84  42   1  22  95  16  44  21  74 113  70 133  59\n",
            "  88  55  30  71  13  36  38 149  91  28  29 109 148  18  20  60 128  53\n",
            "   8  57 129  85  50   9   3  39  52  48 130 134  49 117 108 103 125 124\n",
            "  27  66  86  69 101  40   1 140 114  26 146  37 138  73 147 142 137  65\n",
            " 131  97  12 112  92  93  72  31  35  25  46  10  81 127   2   7  61  94\n",
            " 120  82  98  11   6  77  62 136 119 141  76   5 139 102 107  43  75  63\n",
            "  96  14  41 123  32  33 121   4 100  23 111  24  34  17  89 143  64  67\n",
            " 110 126  15 118 116  90  99 106  54 104  80  47  78  45  19  87 151 150\n",
            "  68 144  58 105  79 122 145 135]\n"
          ],
          "name": "stdout"
        }
      ]
    },
    {
      "cell_type": "markdown",
      "metadata": {
        "id": "Y-f-qvIbMvu2",
        "colab_type": "text"
      },
      "source": [
        "##  Feature selection using univariate feature selection"
      ]
    },
    {
      "cell_type": "code",
      "metadata": {
        "id": "8GpfGpM1M4Dp",
        "colab_type": "code",
        "colab": {
          "base_uri": "https://localhost:8080/",
          "height": 722
        },
        "outputId": "6b594379-7f8b-429a-c365-b2f82c30a4c7"
      },
      "source": [
        "from sklearn import feature_selection\n",
        "from sklearn.feature_selection import SelectKBest\n",
        "from sklearn.feature_selection import chi2\n",
        "from sklearn.feature_selection import SelectPercentile\n",
        "from sklearn.feature_selection import f_classif\n",
        "# X_new = SelectKBest(chi2, k=50).fit_transform(stage_train, data_train_scaled)\n",
        "# print(X_new.shape)\n",
        "\n",
        "selector = SelectPercentile(f_classif, percentile=10)\n",
        "fit = selector.fit(data_train_scaled, stage_train)\n",
        "\n",
        "print(\"Feature Ranking: %s\" % fit.scores_)"
      ],
      "execution_count": 66,
      "outputs": [
        {
          "output_type": "stream",
          "text": [
            "Feature Ranking: [2.39993695e+01 2.02324940e+01 3.86478993e+00 1.56122138e+00\n",
            " 4.54195896e-01 1.91061758e-01 6.65297831e-01 1.15821164e+01\n",
            " 8.27646501e+00 8.39377030e-02 1.18299873e+00 9.62944085e-02\n",
            " 2.66556086e-01 1.02232066e+00 1.65674689e-01 1.01535249e-01\n",
            " 4.12609023e+00 5.78218198e+00 3.76999937e+00 2.62976793e+00\n",
            " 1.77389797e-02 7.67208226e-02 3.01788946e-01 6.44921447e+00\n",
            " 1.45189934e+00 3.72114901e+01 1.96260492e+01 1.70849654e+00\n",
            " 1.95698041e+01 4.08286398e+00 8.28903827e-01 1.64848247e+01\n",
            " 3.13910746e+01 1.73516791e+00 4.55259522e+00 3.12555854e+01\n",
            " 2.18493009e+01 1.48472473e+01 4.55259522e+00 4.51519669e+01\n",
            " 2.83910674e+01 2.68662671e+01 3.35302726e+01 3.11523618e+01\n",
            " 1.95869210e+01 7.63883999e-01 1.42278590e+01 4.08431970e+00\n",
            " 2.38547226e+00 1.27108248e+00 3.70727806e+00 2.72112382e+00\n",
            " 6.28796119e+00 1.27108248e+00 2.73558186e+00 5.12220301e+00\n",
            " 2.12675795e+00 2.37872812e+00 2.06220032e+00 5.49776628e+00\n",
            " 1.26644044e+01 9.80256772e+00 5.13510123e-01 5.34538570e-02\n",
            " 1.03530078e+00 2.62094518e+00 7.96022201e-01 2.42873806e+00\n",
            " 9.72589045e-01 9.15814318e+00 3.29871685e-01 4.04545499e+00\n",
            " 7.66989988e+00 1.38398454e+01 1.08921970e+00 5.72226830e+00\n",
            " 1.62116456e+00 4.87730810e+00 4.53606844e+00 3.80971392e+00\n",
            " 9.32734772e+00 6.67817061e+00 2.21845092e+00 6.09580656e+00\n",
            " 3.96106775e+00 9.36428569e+00 3.59669676e-02 3.28289145e+00\n",
            " 1.06487371e+00 2.73440992e+00 1.72362129e-02 2.57727316e+00\n",
            " 6.94294961e+00 9.55762041e-01 2.24212791e+00 2.87343166e+00\n",
            " 8.82973103e-01 1.38514344e+01 7.48978169e-01 6.41797946e-01\n",
            " 9.31795971e-01 3.77980227e+00 6.33261903e-01 6.83148921e+00\n",
            " 1.05453003e+01 6.56673421e+00 3.97115256e+00 8.30877831e+00\n",
            " 2.11888574e+00 1.35904493e-01 1.58173029e-02 7.48626522e-01\n",
            " 3.16742657e-03 1.07497585e+00 9.86658379e-01 1.46169084e+00\n",
            " 1.12509930e+00 9.15030615e-02 2.73022887e-04 9.04955437e-04\n",
            " 2.90239159e+00 1.51877727e+01 1.30804859e+01 1.05037468e+01\n",
            " 2.06468293e+01 1.64229248e+01 1.63573280e+01 1.65903989e+01\n",
            " 2.11190135e+01 1.85304735e+01 1.51226544e+01 1.51766532e+01\n",
            " 6.27919694e+00 4.47617302e+00 2.09319298e+01 9.11632690e-01\n",
            " 5.62365632e-01 9.60959153e+00 7.75919624e-01 9.56049383e-01\n",
            " 8.49010010e-01 1.95463049e+00            nan            nan\n",
            " 9.56049383e-01 3.68576032e+00 8.68694262e+00 1.04061174e-01\n",
            " 4.89118264e+00 1.27044066e+01 4.96533240e-01 4.62631116e+00]\n"
          ],
          "name": "stdout"
        },
        {
          "output_type": "stream",
          "text": [
            "/usr/local/lib/python3.6/dist-packages/sklearn/feature_selection/_univariate_selection.py:114: UserWarning: Features [142 143] are constant.\n",
            "  UserWarning)\n",
            "/usr/local/lib/python3.6/dist-packages/sklearn/feature_selection/_univariate_selection.py:115: RuntimeWarning: invalid value encountered in true_divide\n",
            "  f = msb / msw\n"
          ],
          "name": "stderr"
        }
      ]
    },
    {
      "cell_type": "code",
      "metadata": {
        "id": "W29ecNuDM1Gd",
        "colab_type": "code",
        "colab": {}
      },
      "source": [
        ""
      ],
      "execution_count": 0,
      "outputs": []
    },
    {
      "cell_type": "markdown",
      "metadata": {
        "id": "o251HvpzBy4l",
        "colab_type": "text"
      },
      "source": [
        "## Principal Component Analysis (PCA)\n",
        "- nu voor eerste 20 features, bedenken hoe veel we er willen"
      ]
    },
    {
      "cell_type": "code",
      "metadata": {
        "id": "O4IiEnXmB-Y3",
        "colab_type": "code",
        "outputId": "69173264-7836-4a2a-fb5d-d1f21e896646",
        "colab": {
          "base_uri": "https://localhost:8080/",
          "height": 34
        }
      },
      "source": [
        "\n",
        "# Create a function for calculating PCA\n",
        "def pca(data_train, data_test):\n",
        "    \"\"\"\n",
        "    Function for PCA\n",
        "\n",
        "        data_train = training data\n",
        "        data_test = testing data\n",
        "\n",
        "    Output is transformed train- and testdata\n",
        "    \"\"\"\n",
        "    pca=PCA().fit(data_train)\n",
        "    var = np.cumsum(pca.explained_variance_ratio_)\n",
        "    n_comp = np.where(var>0.99)[0][0]\n",
        "\n",
        "    # Create and fit a PCA with 20 components\n",
        "    pca_train = PCA(n_components=n_comp)\n",
        "    pca_train.fit(data_train)\n",
        "\n",
        "    # Transform data using PCA\n",
        "    data_train_trans = pca_train.transform(data_train)\n",
        "    data_test_trans = pca_train.transform(data_test)\n",
        "\n",
        "    # Return transformed train- and testdata\n",
        "    return data_train_trans, data_test_trans\n",
        "\n",
        "data_train_pca, data_test_pca = pca(data_train_scaled, data_test_scaled)\n",
        "print(data_train_pca.shape)"
      ],
      "execution_count": 68,
      "outputs": [
        {
          "output_type": "stream",
          "text": [
            "(90, 55)\n"
          ],
          "name": "stdout"
        }
      ]
    },
    {
      "cell_type": "markdown",
      "metadata": {
        "id": "9BuHDPdnIoXx",
        "colab_type": "text"
      },
      "source": [
        "## kNN\n",
        "- functie gemaakt om adhv kNN de labels te voorspellen"
      ]
    },
    {
      "cell_type": "code",
      "metadata": {
        "id": "-OnfxPaiJhDq",
        "colab_type": "code",
        "outputId": "669c12f0-ee5f-493a-9cdc-b37285971c73",
        "colab": {
          "base_uri": "https://localhost:8080/",
          "height": 34
        }
      },
      "source": [
        "def knn_classifier(num_neighbors, data_train, data_test, label_train, label_test):\n",
        "    \"\"\"\n",
        "    Function for kNN training and testing\n",
        "\n",
        "        data_train =  training data (type = list)\n",
        "        data_test_trans = testing data (type = list)\n",
        "        label_train = class of training data (type = list)\n",
        "        label_test = class of testing data (type = list)\n",
        "        \n",
        "    Output is two lists with the predicted class of the train- and testdata \n",
        "    \"\"\"\n",
        "    knn = neighbors.KNeighborsClassifier(n_neighbors = num_neighbors)\n",
        "    knn.fit(data_train, label_train)\n",
        "    label_train_knn = knn.predict(data_train)\n",
        "    label_test_knn = knn.predict(data_test)\n",
        "    score_train = knn.score(data_train, label_train)\n",
        "    score_test = knn.score(data_test, label_test)\n",
        "    return score_train, score_test, label_train_knn, label_test_knn\n",
        "\n",
        "score_train_knn, score_test_knn, stage_train_knn, stage_test_knn = knn_classifier(15, data_train_pca, data_test_pca, stage_train, stage_test)\n",
        "print(score_train_knn, score_test_knn) # accuracy\n"
      ],
      "execution_count": 0,
      "outputs": [
        {
          "output_type": "stream",
          "text": [
            "0.6777777777777778 0.6521739130434783\n"
          ],
          "name": "stdout"
        }
      ]
    },
    {
      "cell_type": "markdown",
      "metadata": {
        "id": "4Bs85wHUxnqA",
        "colab_type": "text"
      },
      "source": [
        "## Support Vector Machine (SVM)\n",
        "-  Geeft nu alleen een kernel mee, maar heeft nog veel meer parameters\n",
        "- test_decision = svc.decision_function(data_test) kunnen we later miss nog gebruiken om een ROC te maken"
      ]
    },
    {
      "cell_type": "code",
      "metadata": {
        "id": "Z-mVIOLhxpsJ",
        "colab_type": "code",
        "outputId": "fa5a0b08-24c7-44f8-f09e-aa4d1a06efc0",
        "colab": {
          "base_uri": "https://localhost:8080/",
          "height": 34
        }
      },
      "source": [
        "def svm_classifier(data_train, data_test, label_train, label_test, svm_kernel):\n",
        "    \"\"\"\n",
        "    Function for SVM training and testing\n",
        "\n",
        "        data_train =  training data (type = list)\n",
        "        data_test_trans = testing data (type = list)\n",
        "        label_train = class of training data (type = list)\n",
        "        label_test = class of testing data (type = list)\n",
        "        svm_kernel = different kernels to be used (type = string)\n",
        "\n",
        "    Output is two lists with the predicted class of the train- and testdata\n",
        "    \"\"\"\n",
        "    svc = svm.SVC(kernel=svm_kernel)\n",
        "    svc.fit(data_train, label_train)\n",
        "\n",
        "    # Predict the classes of the data \n",
        "    label_train_svm = svc.predict(data_train)\n",
        "    label_test_svm= svc.predict(data_test)\n",
        "    \n",
        "    return label_train_svm, label_test_svm\n",
        "\n",
        "stage_train_svm, stage_test_svm = svm_classifier(data_train_pca, data_test_pca, stage_train, stage_test, 'linear')\n",
        "print(stage_test_svm)"
      ],
      "execution_count": 0,
      "outputs": [
        {
          "output_type": "stream",
          "text": [
            "[1 0 1 1 1 1 0 0 1 0 0 0 1 1 0 1 0 0 0 1 1 0 0]\n"
          ],
          "name": "stdout"
        }
      ]
    },
    {
      "cell_type": "markdown",
      "metadata": {
        "id": "tL1XtlFR3upM",
        "colab_type": "text"
      },
      "source": [
        "## Random Forest Classifier \n",
        "- alle parameters nog bepalen\n"
      ]
    },
    {
      "cell_type": "code",
      "metadata": {
        "id": "O760t93K3zWu",
        "colab_type": "code",
        "outputId": "d4d0312b-49c8-43f7-dd89-2da77b47da40",
        "colab": {
          "base_uri": "https://localhost:8080/",
          "height": 34
        }
      },
      "source": [
        "def rfc_classifier(data_train, data_test, label_train, label_test):\n",
        "    \"\"\"\n",
        "    Function for RFC training and testing\n",
        "\n",
        "        data_train =  training data (type = list)\n",
        "        data_test_trans = testing data (type = list)\n",
        "        label_train = class of training data (type = list)\n",
        "        label_test = class of testing data (type = list)\n",
        "        \n",
        "    Output is two lists with the predicted class of the train- and testdata \n",
        "    \"\"\"\n",
        "    # Create Random Forest Classifier and fit classifier on traindata\n",
        "    rfc = RandomForestClassifier(max_depth=2)\n",
        "    rfc.fit(data_train, label_train)\n",
        "\n",
        "    # Predict labels for train- and testdata\n",
        "    label_train_rfc = rfc.predict(data_train)\n",
        "    label_test_rfc = rfc.predict(data_test)\n",
        "\n",
        "    return label_train_rfc, label_test_rfc\n",
        "\n",
        "stage_train_rfc, stage_test_rfc = rfc_classifier(data_train_pca, data_test_pca, stage_train, stage_test)\n",
        "print(stage_test_rfc)\n"
      ],
      "execution_count": 0,
      "outputs": [
        {
          "output_type": "stream",
          "text": [
            "[1 0 1 1 1 1 0 0 1 0 0 1 1 1 1 1 0 0 0 1 1 0 0]\n"
          ],
          "name": "stdout"
        }
      ]
    },
    {
      "cell_type": "markdown",
      "metadata": {
        "id": "NSkNx_JkLzFi",
        "colab_type": "text"
      },
      "source": [
        "## Performance\n",
        "- Functie gemaakt om een dataframe te maken van de performance van een bepaalde classifier\n",
        "- Uiteindelijke mooier om alles er tegelijk in te kunnen gooien met een loop en dan 1 groot dataframe te maken"
      ]
    },
    {
      "cell_type": "code",
      "metadata": {
        "id": "JIUCuActMxr4",
        "colab_type": "code",
        "outputId": "33b7e733-baaa-4421-fae3-b5a0cc0d014f",
        "colab": {
          "base_uri": "https://localhost:8080/",
          "height": 319
        }
      },
      "source": [
        "def performance_clf(predlabel_train, label_train, predlabel_test, label_test):\n",
        "    \"\"\"\n",
        "    Function to calculate performance of a classifier:\n",
        "\n",
        "        predlabel_train = predicted label of traindata \n",
        "        label_train = real label of traindata\n",
        "        predlabel_test = predicted label of testdata\n",
        "        label_test = real label of testdata\n",
        "    \n",
        "    This function returns a dataframe of the calculated AUC, accuracy, F1-score,\n",
        "    precision and recall of the classifier for the train- and testdata\n",
        "    \"\"\"\n",
        "    \n",
        "    # Performance train set\n",
        "    auc_train=metrics.roc_auc_score(predlabel_train, label_train)\n",
        "    accuracy_train=metrics.accuracy_score(predlabel_train, label_train)\n",
        "    F1_train=metrics.f1_score(predlabel_train, label_train)\n",
        "    precision_train=metrics.precision_score(predlabel_train, label_train)\n",
        "    recall_train=metrics.recall_score(predlabel_train, label_train)\n",
        "    \n",
        "    # Performance test set\n",
        "    auc_test=metrics.roc_auc_score(predlabel_test, label_test)\n",
        "    accuracy_test=metrics.accuracy_score(predlabel_test, label_test)\n",
        "    F1_test=metrics.f1_score(predlabel_test, label_test)\n",
        "    precision_test=metrics.precision_score(predlabel_test, label_test)\n",
        "    recall_test=metrics.recall_score(predlabel_test, label_test)\n",
        "\n",
        "    performance = {'train': [auc_train, accuracy_train, F1_train, precision_train, recall_train],\n",
        "                   'test': [auc_test, accuracy_test, F1_test, precision_test, recall_test]}\n",
        "    frame_performance = pd.DataFrame(data=performance, index=['auc', 'accuracy', 'F1', 'precision', 'recall'])\n",
        "  \n",
        "    return frame_performance\n",
        "\n",
        "performance_knn = performance_clf(stage_train_knn, stage_train, stage_test_knn, stage_test)\n",
        "performance_svm = performance_clf(stage_train_svm, stage_train, stage_test_svm, stage_test)\n",
        "performance_rfc = performance_clf(stage_train_rfc, stage_train, stage_test_rfc, stage_test)\n",
        "\n",
        "\n",
        "print(f'The performance of the kNN-classifier is: {performance_knn}')\n",
        "print(f'The performance of the SVM-classifier is: {performance_svm}')\n",
        "print(f'The performance of the RFC-classifier is: {performance_rfc}')\n"
      ],
      "execution_count": 0,
      "outputs": [
        {
          "output_type": "stream",
          "text": [
            "The performance of the kNN-classifier is:               train      test\n",
            "auc        0.740642  0.777778\n",
            "accuracy   0.677778  0.652174\n",
            "F1         0.743363  0.714286\n",
            "precision  0.933333  1.000000\n",
            "recall     0.617647  0.555556\n",
            "The performance of the SVM-classifier is:               train      test\n",
            "auc        0.855731  0.780303\n",
            "accuracy   0.855556  0.782609\n",
            "F1         0.853933  0.761905\n",
            "precision  0.844444  0.800000\n",
            "recall     0.863636  0.727273\n",
            "The performance of the RFC-classifier is:               train      test\n",
            "auc        0.922431  0.707692\n",
            "accuracy   0.922222  0.695652\n",
            "F1         0.923077  0.695652\n",
            "precision  0.933333  0.800000\n",
            "recall     0.913043  0.615385\n"
          ],
          "name": "stdout"
        }
      ]
    }
  ]
}
{
  "nbformat": 4,
  "nbformat_minor": 0,
  "metadata": {
    "colab": {
      "name": "Copy of assignment.ipynb",
      "provenance": [],
      "collapsed_sections": [],
      "include_colab_link": true
    },
    "kernelspec": {
      "display_name": "Python 3",
      "language": "python",
      "name": "python3"
    },
    "language_info": {
      "codemirror_mode": {
        "name": "ipython",
        "version": 3
      },
      "file_extension": ".py",
      "mimetype": "text/x-python",
      "name": "python",
      "nbconvert_exporter": "python",
      "pygments_lexer": "ipython3",
      "version": "3.7.4"
    }
  },
  "cells": [
    {
      "cell_type": "markdown",
      "metadata": {
        "id": "view-in-github",
        "colab_type": "text"
      },
      "source": [
        "<a href=\"https://colab.research.google.com/github/maritverboom/TM10007_PROJECT/blob/master/assignment.ipynb\" target=\"_parent\"><img src=\"https://colab.research.google.com/assets/colab-badge.svg\" alt=\"Open In Colab\"/></a>"
      ]
    },
    {
      "cell_type": "markdown",
      "metadata": {
        "colab_type": "text",
        "id": "7SXpaKwwGe5x"
      },
      "source": [
        "# TM10007 Assignment \n"
      ]
    },
    {
      "cell_type": "code",
      "metadata": {
        "colab_type": "code",
        "id": "CiDn2Sk-VWqE",
        "outputId": "56e41969-ea83-4535-ee07-50306cabb731",
        "colab": {
          "base_uri": "https://localhost:8080/",
          "height": 34
        }
      },
      "source": [
        "# Run this to use from colab environment\n",
        "!pip install -q --upgrade git+https://github.com/karinvangarderen/tm10007_project.git"
      ],
      "execution_count": 0,
      "outputs": [
        {
          "output_type": "stream",
          "text": [
            "  Building wheel for brats (setup.py) ... \u001b[?25l\u001b[?25hdone\n"
          ],
          "name": "stdout"
        }
      ]
    },
    {
      "cell_type": "code",
      "metadata": {
        "id": "Fsm0D-Ugmvzu",
        "colab_type": "code",
        "colab": {}
      },
      "source": [
        "import numpy as np\n",
        "import pandas as pd\n",
        "import matplotlib.pyplot as plt\n",
        "\n",
        "# Feature selection\n",
        "from sklearn import feature_selection\n",
        "# Univariate\n",
        "from sklearn.feature_selection import SelectKBest\n",
        "from sklearn.feature_selection import chi2\n",
        "from sklearn.feature_selection import SelectPercentile\n",
        "from sklearn.feature_selection import f_classif\n",
        "from sklearn.feature_selection import GenericUnivariateSelect\n",
        "# Lasso\n",
        "from sklearn.linear_model import LassoCV\n",
        "from sklearn.linear_model import Lasso\n",
        "from sklearn.model_selection import KFold\n",
        "from sklearn.model_selection import GridSearchCV\n",
        "from yellowbrick.regressor import AlphaSelection\n",
        "from yellowbrick.datasets import load_concrete\n",
        "from sklearn.feature_selection import SelectFromModel\n",
        "\n",
        "# Classifiers\n",
        "from sklearn import model_selection\n",
        "from sklearn import metrics\n",
        "from sklearn import preprocessing\n",
        "from sklearn import neighbors\n",
        "from sklearn import svm\n",
        "from sklearn.decomposition import PCA\n",
        "from sklearn.ensemble import RandomForestClassifier\n",
        "from sklearn.impute import SimpleImputer\n",
        "from sklearn.model_selection import cross_val_score\n",
        "from sklearn.neural_network import MLPClassifier"
      ],
      "execution_count": 0,
      "outputs": []
    },
    {
      "cell_type": "markdown",
      "metadata": {
        "id": "-AlgAclcK2My",
        "colab_type": "text"
      },
      "source": [
        "## Data Loading"
      ]
    },
    {
      "cell_type": "code",
      "metadata": {
        "id": "iIAVZzeGK4dJ",
        "colab_type": "code",
        "outputId": "3d5de399-1b46-4cef-9413-40a8ba6e6a90",
        "colab": {
          "base_uri": "https://localhost:8080/",
          "height": 85
        }
      },
      "source": [
        "from hn.load_data import load_data\n",
        "data = load_data()\n",
        "print(f'The number of samples: {len(data.index)}')\n",
        "print(f'The number of columns: {len(data.columns)}')\n",
        "\n",
        "# Splitting the data in train- and testpart with a portion of 'test_size' testing data (20%)\n",
        "data_train, data_test = model_selection.train_test_split(data, test_size=0.20, stratify=data['label'])\n",
        "\n",
        "print(f'The number of rows of train data : {len(data_train.index)}')\n",
        "print(f'The number of rows of test data : {len(data_test.index)}')\n",
        "\n",
        "# dataframe containing tumor stadium of subject (T12/T34)\n",
        "stage_train = data_train['label']             \n",
        "stage_test = data_test['label'] \n",
        "\n",
        "# dataframe containing all feature columns except 'label' (tumor stadium of subject)\n",
        "data_train = data_train.drop(columns='label') \n",
        "data_test = data_test.drop(columns='label')\n",
        "\n",
        "# Binarize label data\n",
        "stage_train = preprocessing.label_binarize(stage_train, ['T12', 'T34'])\n",
        "stage_train = [i[0] for i in stage_train]\n",
        "stage_test = preprocessing.label_binarize(stage_test, ['T12', 'T34'])\n",
        "stage_test = [i[0] for i in stage_test]\n",
        "\n"
      ],
      "execution_count": 0,
      "outputs": [
        {
          "output_type": "stream",
          "text": [
            "The number of samples: 113\n",
            "The number of columns: 160\n",
            "The number of rows of train data : 90\n",
            "The number of rows of test data : 23\n"
          ],
          "name": "stdout"
        }
      ]
    },
    {
      "cell_type": "markdown",
      "metadata": {
        "id": "oZUAiDtz5djl",
        "colab_type": "text"
      },
      "source": [
        "## Data cleaning\n"
      ]
    },
    {
      "cell_type": "code",
      "metadata": {
        "colab_type": "code",
        "id": "-NE_fTbKGe5z",
        "outputId": "fcb819b8-4ed6-4b57-a538-d53accf83f0f",
        "colab": {
          "base_uri": "https://localhost:8080/",
          "height": 85
        }
      },
      "source": [
        "# Imputation\n",
        "#imp = SimpleImputer(missing_values=np.nan, strategy='median')\n",
        "#imp.fit(data_train)\n",
        "#data_train = imp.transform(data_train)\n",
        "#data_test = imp.transform(data_test)\n",
        "\n",
        "# Remove all columns where more than 25% of the values are 0.0\n",
        "drop_cols_train = data_train.columns[(data_train == 0).sum() > 0.25*data_train.shape[1]]\n",
        "drop_cols_test = data_test.columns[(data_train ==0).sum() > 0.25*data_train.shape[1]]\n",
        "data_train.drop(drop_cols_train, axis = 1, inplace = True) \n",
        "data_test.drop(drop_cols_test, axis = 1, inplace = True)\n",
        "print(f'The number of columns after preprocessing: {len(data_train.columns)}')\n",
        "print(f'The number of columns after preprocessing: {len(data_test.columns)}')\n",
        "\n",
        "\n",
        "# Remove all columns with no std\n",
        "drop_std_train = data_train.columns[data_train.std() == 0]\n",
        "drop_std_test = data_test.columns[data_train.std() == 0]\n",
        "data_train.drop(drop_std_train, axis = 1, inplace = True) \n",
        "data_test.drop(drop_std_test, axis = 1, inplace = True)\n",
        "\n",
        "print(f'TRAIN: The number of columns after preprocessing: {len(data_train.columns)}, and the number of rows: {len(data_train.index)}')\n",
        "print(f'TEST: The number of columns after preprocessing: {len(data_test.columns)},  and the number of rows: {len(data_test.index)}')\n"
      ],
      "execution_count": 0,
      "outputs": [
        {
          "output_type": "stream",
          "text": [
            "The number of columns after preprocessing: 152\n",
            "The number of columns after preprocessing: 152\n",
            "TRAIN: The number of columns after preprocessing: 149, and the number of rows: 90\n",
            "TEST: The number of columns after preprocessing: 149,  and the number of rows: 23\n"
          ],
          "name": "stdout"
        }
      ]
    },
    {
      "cell_type": "markdown",
      "metadata": {
        "id": "oVOizcWl4sAM",
        "colab_type": "text"
      },
      "source": [
        "## Data Scaling\n",
        "\n",
        "\n",
        "StandardScaler removes the mean and scales the data to unit variance.  cannot guarantee balanced feature scales in the presence of outliers.\n",
        "\n",
        "MinMaxScaler rescales the data set such that all feature values are in the range [0, 1], very sensitive to outliers\n",
        "\n",
        "Robust scaler. Unlike the previous scalers, the centering and scaling statistics of this scaler are based on percentiles and are therefore not influenced by a few number of very large marginal outliers.\n",
        " "
      ]
    },
    {
      "cell_type": "code",
      "metadata": {
        "id": "4hKWuBpi4xck",
        "colab_type": "code",
        "colab": {}
      },
      "source": [
        "# Scale the data (train on train set)\n",
        "scaler = preprocessing.StandardScaler()   \n",
        "scaler.fit(data_train)  \n",
        "\n",
        "# Perform scaling on both train and testset\n",
        "data_train_scaled = scaler.transform(data_train)\n",
        "data_test_scaled = scaler.transform(data_test) "
      ],
      "execution_count": 0,
      "outputs": []
    },
    {
      "cell_type": "markdown",
      "metadata": {
        "id": "BLXxyvuwqW7q",
        "colab_type": "text"
      },
      "source": [
        "## Preprocessing: Feature selection/extraction\n",
        "\n",
        "- Recursive Feature Elimination\n",
        "- Univariate Feature Selection\n",
        "- Principal Component Analysis\n",
        "- L1/Lasso Regression Feature Selection"
      ]
    },
    {
      "cell_type": "code",
      "metadata": {
        "id": "qe6OoqWjq0Ni",
        "colab_type": "code",
        "outputId": "78d3716e-a363-426c-8333-de304498b2da",
        "colab": {
          "base_uri": "https://localhost:8080/",
          "height": 786
        }
      },
      "source": [
        "# Recursive Feature Elimination\n",
        "svc = svm.SVC(kernel=\"linear\")  # Create the RFE object and compute a cross-validated score.\n",
        "\n",
        "# classifications\n",
        "rfecv = feature_selection.RFECV(\n",
        "    estimator=svc, step=1, \n",
        "    cv=model_selection.StratifiedKFold(4),\n",
        "    scoring='roc_auc')\n",
        "fit_rfecv = rfecv.fit(data_train_scaled, stage_train)\n",
        "\n",
        "# Plot number of features VS. cross-validation scores\n",
        "plt.figure()\n",
        "plt.xlabel(\"Number of features selected\")\n",
        "plt.ylabel(\"Cross validation score (nb of correct classifications)\")\n",
        "plt.plot(range(1, len(rfecv.grid_scores_) + 1), rfecv.grid_scores_)\n",
        "plt.show()\n",
        "\n",
        "print(\"Num Features: %d\" % fit_rfecv.n_features_)\n",
        "print(\"Selected Features: %s\" % fit_rfecv.support_)\n",
        "print(\"Feature Ranking: %s\" % fit_rfecv.ranking_)\n",
        "\n",
        "data_train_rfecv = rfecv.transform(data_train_scaled)\n",
        "data_test_rfecv = rfecv.transform(data_test_scaled)\n",
        "\n",
        "print(data_train_rfecv.shape)\n",
        "print(data_test_rfecv.shape)"
      ],
      "execution_count": 0,
      "outputs": [
        {
          "output_type": "display_data",
          "data": {
            "image/png": "[encoded data removed]",
            "text/plain": [
              "<Figure size 576x396 with 1 Axes>"
            ]
          },
          "metadata": {
            "tags": []
          }
        },
        {
          "output_type": "stream",
          "text": [
            "Num Features: 20\n",
            "Selected Features: [False  True  True False False False False False  True False  True False\n",
            " False False False False False False False False False False False False\n",
            " False False False False False False False False False False False False\n",
            " False False False False  True False  True False False False False False\n",
            " False False False False False False False False False False False False\n",
            " False False False False False False False False False False False False\n",
            " False False False  True False False False False  True False False False\n",
            " False False  True  True  True False False False False False False False\n",
            " False False False False False  True False False False False  True False\n",
            "  True  True False False False  True False False False False False False\n",
            " False False False False False False False False  True False False False\n",
            " False False False False  True False False False  True False False False\n",
            " False False False  True False]\n",
            "Feature Ranking: [ 37   1   1   2  82  53  92  13   1 114   1  11  73  84  99 113 105 125\n",
            "  61  25  17 102 119  16  20 122  60  35  69 128 121  85  15   8  74  58\n",
            "  93  39  50  66   1  32   1 124  19  49  54 120  33  75  14  29  12  88\n",
            "  26  38 126 123 127  62  40  90 107  55  79  77  68  30 108 103  89  22\n",
            " 101  36 109   1  43  87   5  47   1  52  70   9  42  98   1   1   1  51\n",
            " 118 117  21  10  94  45  48 104  91  41 110   1   4  97   3  34   1  67\n",
            "   1   1   7  28  78   1  63  18 100  27  46  23  64   6  65  83  59  44\n",
            "  76  96   1  71 129 106  24 115 116 112   1  72  81 111   1 130  57  80\n",
            "  95  31  56   1  86]\n",
            "(90, 20)\n",
            "(23, 20)\n"
          ],
          "name": "stdout"
        }
      ]
    },
    {
      "cell_type": "markdown",
      "metadata": {
        "id": "Y-f-qvIbMvu2",
        "colab_type": "text"
      },
      "source": [
        "##  Feature selection using univariate feature selection"
      ]
    },
    {
      "cell_type": "code",
      "metadata": {
        "id": "8GpfGpM1M4Dp",
        "colab_type": "code",
        "outputId": "1f4a005b-1675-4694-c85f-9305085bd525",
        "colab": {
          "base_uri": "https://localhost:8080/",
          "height": 51
        }
      },
      "source": [
        "# Eventuele hyperparameters die nog kunnen worden aangepast: methodes voor univariate feature selection (selectKBest, SelectPercentile, en nog meer),\n",
        "# methodes om 'best' te bepalen chi2, f_classif, mutual_info_classif\n",
        "# aantal features dat je selecteert, getal voor percentile, getal voor k-best, etc.\n",
        "# Dit kan misschien automatisch met genericUnivariateSelect(), zie hieronder\n",
        "\n",
        "# selector = GenericUnivariateSelect()\n",
        "# __init__(self, score_func=<function f_classif at 0x7ffa31b6a8b0>, mode='percentile', param=1e-05)\n",
        "# fit_uni = selector.fit(self, data_train_scaled, stage_train)\n",
        "# data_train_uni = selector.transform(self, data_train_scaled)\n",
        "# data_test_uni = selector.transform(self, data_test_scaled)\n",
        "\n",
        "selector = SelectPercentile(f_classif, percentile=10)\n",
        "fit_uni = selector.fit(data_train_scaled, stage_train)\n",
        "data_train_uni = selector.transform(data_train_scaled)\n",
        "data_test_uni = selector.transform(data_test_scaled)\n",
        "\n",
        "# print(\"Feature Ranking: %s\" % fit_uni.scores_)\n",
        "\n",
        "print(data_train_uni.shape)\n",
        "print(data_test_uni.shape)"
      ],
      "execution_count": 0,
      "outputs": [
        {
          "output_type": "stream",
          "text": [
            "(90, 15)\n",
            "(23, 15)\n"
          ],
          "name": "stdout"
        }
      ]
    },
    {
      "cell_type": "markdown",
      "metadata": {
        "id": "o251HvpzBy4l",
        "colab_type": "text"
      },
      "source": [
        "## Principal Component Analysis (PCA)\n"
      ]
    },
    {
      "cell_type": "code",
      "metadata": {
        "id": "O4IiEnXmB-Y3",
        "colab_type": "code",
        "outputId": "9f7f336d-caf2-401f-cf17-5a2a90c883df",
        "colab": {
          "base_uri": "https://localhost:8080/",
          "height": 410
        }
      },
      "source": [
        "\n",
        "# Create a function for calculating PCA\n",
        "def pca(data_train, data_test):\n",
        "    \"\"\"\n",
        "    Function for PCA\n",
        "\n",
        "        data_train = training data\n",
        "        data_test = testing data\n",
        "\n",
        "    Output is transformed train- and testdata\n",
        "    \"\"\"\n",
        "    pca=PCA().fit(data_train)\n",
        "    var = np.cumsum(pca.explained_variance_ratio_)\n",
        "    n_comp = np.where(var>0.99)[0][0]\n",
        "\n",
        "    pca_train = PCA(n_components=n_comp)\n",
        "    pca_train.fit(data_train)\n",
        "\n",
        "    # Transform data using PCA\n",
        "    data_train_trans = pca_train.transform(data_train)\n",
        "    data_test_trans = pca_train.transform(data_test)\n",
        "    \n",
        "    plt.figure()\n",
        "    plt.plot(np.cumsum(pca.explained_variance_ratio_))\n",
        "    plt.xlabel('Number of Components')\n",
        "    plt.ylabel('Variance (%)') # for each component\n",
        "    plt.title('data train set ')\n",
        "    plt.show()\n",
        "#print(np.cumsum(pca.explained_variance_ratio_))\n",
        "\n",
        "    # Return transformed train- and testdata\n",
        "    return data_train_trans, data_test_trans\n",
        "\n",
        "data_train_pca, data_test_pca = pca(data_train_scaled, data_test_scaled)\n",
        "print(data_train_pca.shape)\n",
        "print(data_test_pca.shape)\n",
        "\n"
      ],
      "execution_count": 0,
      "outputs": [
        {
          "output_type": "display_data",
          "data": {
            "image/png": "[encoded data removed]",
            "text/plain": [
              "<Figure size 576x396 with 1 Axes>"
            ]
          },
          "metadata": {
            "tags": []
          }
        },
        {
          "output_type": "stream",
          "text": [
            "(90, 55)\n",
            "(23, 55)\n"
          ],
          "name": "stdout"
        }
      ]
    },
    {
      "cell_type": "markdown",
      "metadata": {
        "id": "QmuPafMx1xRU",
        "colab_type": "text"
      },
      "source": [
        "## Lasso feature selection\n"
      ]
    },
    {
      "cell_type": "code",
      "metadata": {
        "id": "TCQII8nj144E",
        "colab_type": "code",
        "outputId": "231eb753-b929-4a10-d567-9add45fce603",
        "colab": {
          "base_uri": "https://localhost:8080/",
          "height": 426
        }
      },
      "source": [
        "lasso = Lasso(max_iter=10000)\n",
        "n_alphas = 200\n",
        "alphas = np.logspace(-1.5, -0.1, n_alphas)\n",
        "\n",
        "tuned_parameters = [{'alpha': alphas}]\n",
        "n_folds = 5\n",
        "\n",
        "clf = GridSearchCV(lasso, tuned_parameters, cv=n_folds, refit=False)\n",
        "clf.fit(data_train_scaled, stage_train)\n",
        "scores = clf.cv_results_['mean_test_score']\n",
        "scores_std = clf.cv_results_['std_test_score']\n",
        "plt.figure().set_size_inches(8, 6)\n",
        "plt.semilogx(alphas, scores)\n",
        "\n",
        "# plot error lines showing +/- std. errors of the scores\n",
        "std_error = scores_std / np.sqrt(n_folds)\n",
        "\n",
        "plt.semilogx(alphas, scores + std_error, 'b--')\n",
        "plt.semilogx(alphas, scores - std_error, 'b--')\n",
        "\n",
        "# alpha=0.2 controls the translucency of the fill color\n",
        "plt.fill_between(alphas, scores + std_error, scores - std_error, alpha=0.2)\n",
        "\n",
        "plt.ylabel('CV score +/- std error')\n",
        "plt.xlabel('alpha')\n",
        "plt.axhline(np.max(scores), linestyle='--', color='.5')\n",
        "plt.xlim([alphas[0], alphas[-1]])\n",
        "\n",
        "# Instantiate the linear model and visualizer\n",
        "model = LassoCV(alphas=alphas)\n",
        "visualizer = AlphaSelection(model)\n",
        "visualizer.fit(data_train_scaled, stage_train)\n",
        "#visualizer.show()\n",
        "\n",
        "alpha_best = model.alpha_\n",
        "print(f'The optimal alpha = {alpha_best}')\n",
        "\n",
        "#L1_selection = Lasso(alpha=alpha_best, max_iter=10000)\n",
        "#L1_selection.fit(data_train_scaled, stage_train)\n",
        "#train_score=L1_selection.score(data_train_scaled,stage_train)\n",
        "#coeff_used = np.sum(L1_selection.coef_!=0)\n",
        "#print(\"training score:\", train_score) \n",
        "#print(\"number of features used: \", coeff_used)\n",
        "\n",
        "selector = SelectFromModel(estimator=Lasso(alpha=alpha_best, random_state = 42))\n",
        "selector.fit(data_train_scaled, stage_train)\n",
        "n_original = data_train_scaled.shape[1]\n",
        "data_train_l1 = selector.transform(data_train_scaled)\n",
        "data_test_l1 = selector.transform(data_test_scaled)\n",
        "n_selected = data_train_l1.shape[1]\n",
        "print(f\"Selected {n_selected} from {n_original} features.\")\n",
        "\n"
      ],
      "execution_count": 0,
      "outputs": [
        {
          "output_type": "stream",
          "text": [
            "The optimal alpha = 0.039035278878871385\n",
            "Selected 19 from 149 features.\n"
          ],
          "name": "stdout"
        },
        {
          "output_type": "display_data",
          "data": {
            "image/png": "[encoded data removed]",
            "text/plain": [
              "<Figure size 576x432 with 1 Axes>"
            ]
          },
          "metadata": {
            "tags": []
          }
        }
      ]
    },
    {
      "cell_type": "code",
      "metadata": {
        "id": "z4tE_QYkBdMv",
        "colab_type": "code",
        "colab": {}
      },
      "source": [
        "# All feature selections in a list, can be used for all classifications  \n",
        "data_train_fs = [data_train_rfecv, data_train_uni, data_train_pca, data_train_l1] \n",
        "data_test_fs = [data_test_rfecv, data_test_uni, data_test_pca, data_test_l1]   \n"
      ],
      "execution_count": 0,
      "outputs": []
    },
    {
      "cell_type": "markdown",
      "metadata": {
        "id": "7Fcy7SYbeQLs",
        "colab_type": "text"
      },
      "source": [
        "# L2/ridge classifier"
      ]
    },
    {
      "cell_type": "code",
      "metadata": {
        "id": "lcHgAIVZeRCT",
        "colab_type": "code",
        "colab": {}
      },
      "source": [
        "ridge = RidgeClassifier(max_iter=10000)\n",
        "n_alphas = 200\n",
        "alphas = np.logspace(-1.5, -0.1, n_alphas)\n",
        "\n",
        "tuned_parameters = [{'alpha': alphas}]\n",
        "n_folds = 5\n",
        "\n",
        "clf = GridSearchCV(ridge, tuned_parameters, cv=n_folds, refit=False)\n",
        "clf.fit(data_train_scaled, stage_train)\n",
        "scores = clf.cv_results_['mean_test_score']\n",
        "scores_std = clf.cv_results_['std_test_score']\n",
        "plt.figure().set_size_inches(8, 6)\n",
        "plt.semilogx(alphas, scores)\n",
        "\n",
        "# plot error lines showing +/- std. errors of the scores\n",
        "std_error = scores_std / np.sqrt(n_folds)\n",
        "\n",
        "plt.semilogx(alphas, scores + std_error, 'b--')\n",
        "plt.semilogx(alphas, scores - std_error, 'b--')\n",
        "\n",
        "# alpha=0.2 controls the translucency of the fill color\n",
        "plt.fill_between(alphas, scores + std_error, scores - std_error, alpha=0.2)\n",
        "\n",
        "plt.ylabel('CV score +/- std error')\n",
        "plt.xlabel('alpha')\n",
        "plt.axhline(np.max(scores), linestyle='--', color='.5')\n",
        "plt.xlim([alphas[0], alphas[-1]])\n",
        "\n",
        "# Instantiate the linear model and visualizer\n",
        "model = RidgeCV(alphas=alphas)\n",
        "visualizer = AlphaSelection(model)\n",
        "visualizer.fit(data_train_scaled, stage_train)\n",
        "#visualizer.show()\n",
        "\n",
        "alpha_best = model.alpha_\n",
        "print(f'The optimal alpha = {alpha_best}')\n",
        "\n",
        "#L1_selection = Ridge(alpha=alpha_best, max_iter=10000)\n",
        "#L1_selection.fit(data_train_scaled, stage_train)\n",
        "#train_score=L1_selection.score(data_train_scaled,stage_train)\n",
        "#coeff_used = np.sum(L1_selection.coef_!=0)\n",
        "#print(\"training score:\", train_score) \n",
        "#print(\"number of features used: \", coeff_used)\n",
        "\n",
        "selector = SelectFromModel(estimator=Ridge(alpha=alpha_best, random_state = 42))\n",
        "selector.fit(data_train_scaled, stage_train)\n",
        "n_original = data_train_scaled.shape[1]\n",
        "data_train_l1 = selector.transform(data_train_scaled)\n",
        "data_test_l1 = selector.transform(data_test_scaled)\n",
        "n_selected = data_train_l1.shape[1]\n",
        "print(f\"Selected {n_selected} from {n_original} features.\")"
      ],
      "execution_count": 0,
      "outputs": []
    },
    {
      "cell_type": "markdown",
      "metadata": {
        "id": "9BuHDPdnIoXx",
        "colab_type": "text"
      },
      "source": [
        "## kNN\n"
      ]
    },
    {
      "cell_type": "code",
      "metadata": {
        "colab_type": "code",
        "outputId": "5a0e57bd-c571-4d11-b7d4-45bad0bccd9b",
        "id": "-nnE5PF0ftUf",
        "colab": {
          "base_uri": "https://localhost:8080/",
          "height": 265
        }
      },
      "source": [
        "def knn_classifier(leaf_size, p, n_neigbors, weights, data_train, data_test, label_train, label_test):\n",
        "    \"\"\"\n",
        "    Function for kNN training and testing\n",
        "\n",
        "        data_train =  training data (type = list)\n",
        "        data_test_trans = testing data (type = list)\n",
        "        label_train = class of training data (type = list)\n",
        "        label_test = class of testing data (type = list)\n",
        "        \n",
        "    Output is two lists with the predicted class of the train- and testdata \n",
        "    \"\"\"\n",
        "    knn = neighbors.KNeighborsClassifier(leaf_size = leaf_size, weights = weights, n_neighbors = n_neigbors, p = p)\n",
        "    knn.fit(data_train, label_train)\n",
        "    label_train_knn = knn.predict(data_train)\n",
        "    label_test_knn = knn.predict(data_test)\n",
        "    score_train = knn.score(data_train, label_train)\n",
        "    score_test = knn.score(data_test, label_test)\n",
        "    return score_train, score_test, label_train_knn, label_test_knn\n",
        "\n",
        "\n",
        "# Hyperparameters optimization \n",
        "leaf_size = list(range(1,50))\n",
        "n_n = list(range(1,50))\n",
        "p=[1,2]\n",
        "weights = ['uniform', 'distance']\n",
        "\n",
        "hyperparameters = dict(leaf_size=leaf_size, n_neighbors=n_n, p=p, weights = weights)\n",
        "knn_tune = neighbors.KNeighborsClassifier()\n",
        "clf_tune_knn = model_selection.RandomizedSearchCV(knn_tune, hyperparameters, n_iter = 30, cv=10)\n",
        "\n",
        "# for loop for caluculation score and stage with the different feature selections\n",
        "score_train_knn = []\n",
        "score_test_knn = []\n",
        "stage_train_knn = []\n",
        "stage_test_knn = []\n",
        "\n",
        "for df, df_test in zip(data_train_fs, data_test_fs):\n",
        "    best_model = clf_tune_knn.fit(df, stage_train)\n",
        "\n",
        "    leaf_size_best = best_model.best_estimator_.get_params()['leaf_size']\n",
        "    p_best = best_model.best_estimator_.get_params()['p']\n",
        "    n_n_best = best_model.best_estimator_.get_params()['n_neighbors']\n",
        "    weights_best = best_model.best_estimator_.get_params()['weights']\n",
        "   \n",
        "    score_train, score_test, stage_train, stage_test = knn_classifier(leaf_size_best, \n",
        "                        p_best, n_n_best, weights_best, df, df_test, stage_train, stage_test)\n",
        "\n",
        "    score_train_knn.append(score_train)\n",
        "    score_test_knn.append(score_test)\n",
        "    stage_train_knn.append(stage_train)\n",
        "    stage_test_knn.append(stage_test)\n",
        "\n",
        "print(f'Accuracy of classifier on traindata: {score_train_knn}') # accuracy\n",
        "print(f'Accuracy of classifier on testdata: {score_test_knn}') # accuracy\n",
        "print(stage_train_knn)\n",
        "print(stage_test_knn)\n",
        "\n",
        "\n",
        "\n"
      ],
      "execution_count": 0,
      "outputs": [
        {
          "output_type": "stream",
          "text": [
            "Accuracy of classifier on traindata: [1.0, 0.9888888888888889]\n",
            "Accuracy of classifier on testdata: [0.8260869565217391, 0.8260869565217391]\n",
            "[array([1, 1, 0, 0, 1, 0, 0, 1, 1, 1, 1, 0, 1, 1, 1, 1, 1, 1, 1, 1, 0, 1,\n",
            "       1, 1, 1, 1, 1, 0, 1, 1, 1, 1, 0, 1, 0, 1, 0, 1, 1, 1, 0, 1, 1, 1,\n",
            "       1, 0, 0, 1, 1, 1, 1, 0, 1, 1, 1, 1, 1, 1, 1, 1, 0, 0, 1, 0, 1, 1,\n",
            "       0, 1, 1, 0, 0, 0, 0, 0, 1, 1, 1, 1, 1, 1, 1, 0, 1, 0, 1, 1, 1, 0,\n",
            "       0, 1]), array([1, 1, 0, 0, 1, 0, 0, 1, 1, 1, 1, 0, 1, 1, 1, 1, 1, 1, 1, 1, 0, 1,\n",
            "       1, 1, 1, 1, 1, 0, 1, 1, 1, 1, 0, 1, 0, 1, 1, 1, 1, 1, 0, 1, 1, 1,\n",
            "       1, 0, 0, 1, 1, 1, 1, 0, 1, 1, 1, 1, 1, 1, 1, 1, 0, 0, 1, 0, 1, 1,\n",
            "       0, 1, 1, 0, 0, 0, 0, 0, 1, 1, 1, 1, 1, 1, 1, 0, 1, 0, 1, 1, 1, 0,\n",
            "       0, 1])]\n",
            "[array([1, 1, 0, 1, 1, 0, 1, 1, 0, 1, 0, 1, 1, 1, 1, 1, 1, 1, 0, 1, 1, 1,\n",
            "       1]), array([0, 1, 0, 0, 1, 0, 0, 1, 0, 1, 0, 1, 1, 1, 1, 1, 1, 1, 0, 1, 1, 1,\n",
            "       0])]\n"
          ],
          "name": "stdout"
        }
      ]
    },
    {
      "cell_type": "markdown",
      "metadata": {
        "id": "4Bs85wHUxnqA",
        "colab_type": "text"
      },
      "source": [
        "## Support Vector Machine (SVM)\n",
        "-  Geeft nu alleen een kernel mee, maar heeft nog veel meer parameters\n",
        "- test_decision = svc.decision_function(data_test) kunnen we later miss nog gebruiken om een ROC te maken"
      ]
    },
    {
      "cell_type": "code",
      "metadata": {
        "id": "Z-mVIOLhxpsJ",
        "colab_type": "code",
        "outputId": "d2495642-5f47-4ca7-de9d-fc87ee1f6aeb",
        "colab": {
          "base_uri": "https://localhost:8080/",
          "height": 117
        }
      },
      "source": [
        "# List with hyperparameters that we want to tune.\n",
        "kernels = ['linear', 'poly', 'rbf']\n",
        "gammas = [0.1, 1, 10, 100]\n",
        "cs = [0.1, 1, 10, 100, 1000]\n",
        "degrees = [0, 1, 2, 3, 4, 5, 6] # use only for 'poly'\n",
        "\n",
        "hyperparameters = dict(kernel = kernels, gamma = gammas, C = cs, degree = degrees)\n",
        "\n",
        "# Create new KNN object\n",
        "svm_tune = svm.SVC()\n",
        "\n",
        "# Use Randomized Search\n",
        "# Als je GridSearch gebruikt, komt er telkens hetzelfde uit. \n",
        "clf_tune_svm = model_selection.RandomizedSearchCV(svm_tune, hyperparameters, n_iter = 30, cv=10)\n",
        "\n",
        "\n",
        "#Fit the model\n",
        "best_model_svm = clf_tune_svm.fit(data_train_l1, stage_train)\n",
        "\n",
        "kernel_best = best_model_svm.best_estimator_.get_params()['kernel']\n",
        "gamma_best = best_model_svm.best_estimator_.get_params()['gamma']\n",
        "c_best = best_model_svm.best_estimator_.get_params()['C']\n",
        "degree_best = best_model_svm.best_estimator_.get_params()['degree']\n",
        "\n",
        "#Print The value of best Hyperparameters\n",
        "print('Best kernel:', kernel_best)\n",
        "print('Best gamma:', gamma_best)\n",
        "print('Best C:', c_best)\n",
        "print('Best degree:', degree_best)\n",
        "\n",
        "\n",
        "def svm_classifier(C, kernel, degree, gamma, data_train, data_test, label_train, label_test, svm_kernel):\n",
        "    \"\"\"\n",
        "    Function for SVM training and testing\n",
        "\n",
        "        data_train =  training data (type = list)\n",
        "        data_test_trans = testing data (type = list)\n",
        "        label_train = class of training data (type = list)\n",
        "        label_test = class of testing data (type = list)\n",
        "        svm_kernel = different kernels to be used (type = string)\n",
        "\n",
        "    Output is two lists with the predicted class of the train- and testdata\n",
        "    \"\"\"\n",
        "    svc = svm.SVC(C=C, kernel=kernel, degree=degree, gamma=gamma)\n",
        "    svc.fit(data_train, label_train)\n",
        "\n",
        "    # Predict the classes of the data \n",
        "    label_train_svm = svc.predict(data_train)\n",
        "    label_test_svm= svc.predict(data_test)\n",
        "\n",
        "    score_train = svc.score(data_train, label_train)\n",
        "    score_test = svc.score(data_test, label_test)\n",
        "    \n",
        "    return label_train_svm, label_test_svm, score_train, score_test\n",
        "\n",
        "stage_train_svm, stage_test_svm, score_train_svm, score_test_svm = svm_classifier(c_best, kernel_best, degree_best, gamma_best, data_train_l1, data_test_l1, stage_train, stage_test, 'linear')\n",
        "print(f'Accuracy of classifier on traindata: {score_train_svm}') # accuracy\n",
        "print(f'Accuracy of classifier on testdata: {score_test_svm}') # accuracy"
      ],
      "execution_count": 0,
      "outputs": [
        {
          "output_type": "stream",
          "text": [
            "Best kernel: linear\n",
            "Best gamma: 100\n",
            "Best C: 1\n",
            "Best degree: 1\n",
            "Accuracy of classifier on traindata: 0.9111111111111111\n",
            "Accuracy of classifier on testdata: 0.6521739130434783\n"
          ],
          "name": "stdout"
        }
      ]
    },
    {
      "cell_type": "markdown",
      "metadata": {
        "id": "tL1XtlFR3upM",
        "colab_type": "text"
      },
      "source": [
        "## Random Forest Classifier \n",
        "- n_estomators: number of tress in forest, default is 10\n",
        "- max_depth: maximum depth of tree \n",
        "- min_samples_split: minn number of samples required to split an internal node\n",
        "- max_featrues: number of features consider when looking fot the best split \n",
        "- bootstrap\n",
        "- class_weight  \n",
        "\n",
        "\n"
      ]
    },
    {
      "cell_type": "code",
      "metadata": {
        "id": "JFI8WwB4_Rup",
        "colab_type": "code",
        "colab": {}
      },
      "source": [
        "# Hyperparameters that we want to tune \n",
        "n_estimators = [10, 30, 50, 100, 300]     #, 500, 800, 1200] [500, 800, 1500, 2500, 500]\n",
        "max_depth = [5, 10, 15, 20, 30]                # [10, 20, 30, 40, 50]\n",
        "min_samples_split = [2, 7, 10, 12, 20]       #[2, 5, 10, 15, 20]\n",
        "min_samples_leaf = [1, 5, 10, 15, 20]              #[1, 2, 5, 10, 15]\n",
        "bootstrap = [True, False]\n",
        "class_weight = [{0: 1, 1: 0.001}, {0: 1, 1: 1}, {0: 1, 1: 10}, {0: 1, 1: 100}]\n",
        "\n",
        "\n",
        "\n",
        "hyperparameters_rfc = dict(n_estimators = n_estimators, max_depth = max_depth,  \n",
        "              min_samples_split = min_samples_split, \n",
        "             min_samples_leaf = min_samples_leaf, bootstrap = bootstrap, \n",
        "             class_weight = class_weight)\n",
        "\n",
        "rfc_tune = RandomForestClassifier()\n",
        "\n",
        "clf_tune_rfc = model_selection.RandomizedSearchCV(rfc_tune, hyperparameters_rfc, n_iter = 30, cv=5)\n",
        "#n_iter = 500, cv = 5, verbose= 2, random_state=42, n_jobs = -1\n",
        "\n",
        "\n",
        "#Fit the model\n",
        "best_model_rfc = clf_tune_rfc.fit(data_train_l1, stage_train)\n",
        "\n",
        "\n",
        "n_estimators_best = best_model_rfc.best_estimator_.get_params()['n_estimators']\n",
        "max_depth_best = best_model_rfc.best_estimator_.get_params()['max_depth']\n",
        "min_samples_split_best = best_model_rfc.best_estimator_.get_params()['min_samples_split']\n",
        "min_samples_leaf_best = best_model_rfc.best_estimator_.get_params()['min_samples_leaf']\n",
        "bootstrap_best = best_model_rfc.best_estimator_.get_params()['bootstrap']\n",
        "class_weight_best = best_model_rfc.best_estimator_.get_params()['class_weight']\n",
        "\n",
        "\n",
        "#Print The value of best Hyperparameters\n",
        "print('Best n_estimators:', n_estimators_best)\n",
        "print('Best max_depth:', max_depth_best)\n",
        "print('Best min_samples_split:', min_samples_split_best)\n",
        "print('Best min_samples_leaf:', min_samples_leaf_best)\n",
        "print('Best bootstrap', bootstrap_best)\n",
        "print('Best class_weight', class_weight_best)\n",
        "\n",
        "\n",
        "def rfc_classifier(n_estimators, max_depth, min_samples_split, min_samples_leaf, \n",
        "                   bootstrap, class_weight, data_train, data_test, label_train, \n",
        "                   label_test):\n",
        "    \"\"\"\n",
        "    Function for RFC training and testing\n",
        "\n",
        "        data_train =  training data (type = list)\n",
        "        data_test_trans = testing data (type = list)\n",
        "        label_train = class of training data (type = list)\n",
        "        label_test = class of testing data (type = list)\n",
        "        \n",
        "    Output is two lists with the predicted class of the train- and testdata \n",
        "    \"\"\"\n",
        "    # Create Random Forest Classifier and fit classifier on traindata\n",
        "    rfc = RandomForestClassifier(n_estimators = n_estimators, max_depth = \n",
        "              max_depth, min_samples_split = min_samples_split, \n",
        "             min_samples_leaf = min_samples_leaf, bootstrap = bootstrap,\n",
        "             class_weight = class_weight)\n",
        "    rfc.fit(data_train, label_train)\n",
        "\n",
        "    # Predict labels for train- and testdata\n",
        "    label_train_rfc = rfc.predict(data_train)\n",
        "    label_test_rfc = rfc.predict(data_test)\n",
        "    \n",
        "    score_train = rfc.score(data_train, label_train)\n",
        "    score_test = rfc.score(data_test, label_test)\n",
        "\n",
        "    return label_train_rfc, label_test_rfc, score_train, score_test\n",
        "\n",
        "stage_train_rfc, stage_test_rfc, score_train_rfc, score_test_rfc = rfc_classifier(\n",
        "    n_estimators_best, max_depth_best, min_samples_split_best, \n",
        "    min_samples_leaf_best, bootstrap_best, class_weight_best,\n",
        "    data_train_l1, data_test_l1, stage_train, stage_test)\n",
        "print(f'Accuracy of classifier on traindata: {score_train_rfc}') # accuracy\n",
        "print(f'Accuracy of classifier on testdata: {score_test_rfc}') # accuracy\n",
        "\n"
      ],
      "execution_count": 0,
      "outputs": []
    },
    {
      "cell_type": "markdown",
      "metadata": {
        "id": "-TevEkooxEcZ",
        "colab_type": "text"
      },
      "source": [
        "## Neural network\n",
        "\n",
        "\n",
        "*   Classifier obv neural network\n",
        "*   Met cross validatie selectie van de juiste hyperparameters: hidden_layer_sizes, activation, solver, alpha, learning_rate, batch_size. Eventueel tunen op nog meer hyperparameters?\n",
        "*   Getuned mbv randomized search\n",
        "\n"
      ]
    },
    {
      "cell_type": "code",
      "metadata": {
        "id": "KOvYRiiTxWVL",
        "colab_type": "code",
        "outputId": "6282b12e-2759-4061-cd42-eede8713c7d5",
        "colab": {
          "base_uri": "https://localhost:8080/",
          "height": 1000
        }
      },
      "source": [
        "# Hyperparameters that we want to tune \n",
        "\n",
        "hyperparameters_neural_network = {'hidden_layer_sizes': [(50,50,50), (50,100,50), (100,)],\n",
        "                                  'activation': ['tanh', 'relu','identity', 'logistic'], \n",
        "                                  'solver': ['lbfgs', 'sgd', 'adam'],\n",
        "                                  'alpha':[0.0001, 0,005, 0.05],\n",
        "                                  'learning_rate':['constant', 'adaptive'],\n",
        "                                  'batch_size':[5, 10, 15, 20, 25]}\n",
        "neural_network_tune = MLPClassifier()\n",
        "clf_tune_neural_network = model_selection.RandomizedSearchCV(neural_network_tune, hyperparameters_neural_network, n_iter = 30, cv=5)\n",
        "\n",
        "# fit the model\n",
        "best_model_neural_network = clf_tune_neural_network.fit(data_train_l1, stage_train)\n",
        "\n",
        "# get best values\n",
        "hidden_layer_sizes_best = best_model_neural_network.best_estimator_.get_params()['hidden_layer_sizes']\n",
        "activation_best = best_model_neural_network.best_estimator_.get_params()['activation']\n",
        "solver_best = best_model_neural_network.best_estimator_.get_params()['solver']\n",
        "alpha_best = best_model_neural_network.best_estimator_.get_params()['alpha']\n",
        "learning_rate_best = best_model_neural_network.best_estimator_.get_params()['learning_rate']\n",
        "batch_size_best = best_model_neural_network.best_estimator_.get_params()['batch_size']\n",
        "\n",
        "#Print The value of best Hyperparameters\n",
        "print('Best hidden_layer_sizes:', hidden_layer_sizes_best)\n",
        "print('Best activation:', activation_best)\n",
        "print('Best solver:', solver_best)\n",
        "print('Best alpha:', alpha_best)\n",
        "print('Best learning_rate', learning_rate_best)\n",
        "print('Best batch_size', batch_size_best)\n",
        "\n",
        "\n",
        "def neural_network_classifier(hidden_layer_sizes, activation, solver, alpha, learning_rate, batch_size, data_train, data_test, label_train, \n",
        "                   label_test):\n",
        "    \"\"\"\n",
        "    Function for neural network training and testing\n",
        "\n",
        "        data_train =  training data (type = list)\n",
        "        data_test_trans = testing data (type = list)\n",
        "        label_train = class of training data (type = list)\n",
        "        label_test = class of testing data (type = list)\n",
        "        \n",
        "    Output is two lists with the predicted class of the train- and testdata \n",
        "    \"\"\"\n",
        "    # Create neural network Classifier and fit classifier on traindata\n",
        "    neural_network = MLPClassifier(hidden_layer_sizes = hidden_layer_sizes, activation = \n",
        "              activation, solver = solver, \n",
        "             alpha = alpha, learning_rate = learning_rate,\n",
        "             batch_size = batch_size)\n",
        "    neural_network.fit(data_train, label_train)\n",
        "\n",
        "    # Scores and predicted labels of neural network classifier\n",
        "    label_train_neural_network = neural_network.predict(data_train)\n",
        "    label_test_neural_network = neural_network.predict(data_test)\n",
        "    \n",
        "    score_train_neural_network = neural_network.score(data_train, label_train)\n",
        "    score_test_neural_network = neural_network.score(data_test, label_test)\n",
        "\n",
        "    return label_train_neural_network, label_test_neural_network, score_train_neural_network, score_test_neural_network\n",
        "\n",
        "# neural_network = MLPClassifier(solver='lbfgs', alpha=1e-5, hidden_layer_sizes=(15,), random_state=1)\n",
        "# neural_network.fit(data_train_l1, stage_train)\n",
        "\n",
        "# score_train_neural_network = neural_network.score(data_train_l1, stage_train)\n",
        "# score_test_neural_network = neural_network.score(data_test_l1, stage_test)\n",
        "label_train_neural_network, label_test_neural_network, score_train_neural_network, score_test_neural_network = neural_network_classifier(\n",
        "    hidden_layer_sizes_best, activation_best, solver_best, \n",
        "    alpha_best, learning_rate_best, batch_size_best,\n",
        "    data_train_l1, data_test_l1, stage_train, stage_test)\n",
        "print(f'Accuracy of neural network classifier on traindata: {score_train_neural_network}') # accuracy\n",
        "print(f'Accuracy of neural network classifier on testdata: {score_test_neural_network}') # accuracy\n"
      ],
      "execution_count": 0,
      "outputs": [
        {
          "output_type": "stream",
          "text": [
            "/usr/local/lib/python3.6/dist-packages/sklearn/neural_network/_multilayer_perceptron.py:571: ConvergenceWarning: Stochastic Optimizer: Maximum iterations (200) reached and the optimization hasn't converged yet.\n",
            "  % self.max_iter, ConvergenceWarning)\n",
            "/usr/local/lib/python3.6/dist-packages/sklearn/neural_network/_multilayer_perceptron.py:571: ConvergenceWarning: Stochastic Optimizer: Maximum iterations (200) reached and the optimization hasn't converged yet.\n",
            "  % self.max_iter, ConvergenceWarning)\n",
            "/usr/local/lib/python3.6/dist-packages/sklearn/neural_network/_multilayer_perceptron.py:571: ConvergenceWarning: Stochastic Optimizer: Maximum iterations (200) reached and the optimization hasn't converged yet.\n",
            "  % self.max_iter, ConvergenceWarning)\n",
            "/usr/local/lib/python3.6/dist-packages/sklearn/neural_network/_multilayer_perceptron.py:571: ConvergenceWarning: Stochastic Optimizer: Maximum iterations (200) reached and the optimization hasn't converged yet.\n",
            "  % self.max_iter, ConvergenceWarning)\n",
            "/usr/local/lib/python3.6/dist-packages/sklearn/neural_network/_multilayer_perceptron.py:571: ConvergenceWarning: Stochastic Optimizer: Maximum iterations (200) reached and the optimization hasn't converged yet.\n",
            "  % self.max_iter, ConvergenceWarning)\n",
            "/usr/local/lib/python3.6/dist-packages/sklearn/neural_network/_multilayer_perceptron.py:571: ConvergenceWarning: Stochastic Optimizer: Maximum iterations (200) reached and the optimization hasn't converged yet.\n",
            "  % self.max_iter, ConvergenceWarning)\n",
            "/usr/local/lib/python3.6/dist-packages/sklearn/neural_network/_multilayer_perceptron.py:571: ConvergenceWarning: Stochastic Optimizer: Maximum iterations (200) reached and the optimization hasn't converged yet.\n",
            "  % self.max_iter, ConvergenceWarning)\n",
            "/usr/local/lib/python3.6/dist-packages/sklearn/neural_network/_multilayer_perceptron.py:571: ConvergenceWarning: Stochastic Optimizer: Maximum iterations (200) reached and the optimization hasn't converged yet.\n",
            "  % self.max_iter, ConvergenceWarning)\n",
            "/usr/local/lib/python3.6/dist-packages/sklearn/neural_network/_multilayer_perceptron.py:571: ConvergenceWarning: Stochastic Optimizer: Maximum iterations (200) reached and the optimization hasn't converged yet.\n",
            "  % self.max_iter, ConvergenceWarning)\n",
            "/usr/local/lib/python3.6/dist-packages/sklearn/neural_network/_multilayer_perceptron.py:571: ConvergenceWarning: Stochastic Optimizer: Maximum iterations (200) reached and the optimization hasn't converged yet.\n",
            "  % self.max_iter, ConvergenceWarning)\n",
            "/usr/local/lib/python3.6/dist-packages/sklearn/neural_network/_multilayer_perceptron.py:571: ConvergenceWarning: Stochastic Optimizer: Maximum iterations (200) reached and the optimization hasn't converged yet.\n",
            "  % self.max_iter, ConvergenceWarning)\n",
            "/usr/local/lib/python3.6/dist-packages/sklearn/neural_network/_multilayer_perceptron.py:571: ConvergenceWarning: Stochastic Optimizer: Maximum iterations (200) reached and the optimization hasn't converged yet.\n",
            "  % self.max_iter, ConvergenceWarning)\n",
            "/usr/local/lib/python3.6/dist-packages/sklearn/neural_network/_multilayer_perceptron.py:571: ConvergenceWarning: Stochastic Optimizer: Maximum iterations (200) reached and the optimization hasn't converged yet.\n",
            "  % self.max_iter, ConvergenceWarning)\n",
            "/usr/local/lib/python3.6/dist-packages/sklearn/neural_network/_multilayer_perceptron.py:571: ConvergenceWarning: Stochastic Optimizer: Maximum iterations (200) reached and the optimization hasn't converged yet.\n",
            "  % self.max_iter, ConvergenceWarning)\n",
            "/usr/local/lib/python3.6/dist-packages/sklearn/neural_network/_multilayer_perceptron.py:571: ConvergenceWarning: Stochastic Optimizer: Maximum iterations (200) reached and the optimization hasn't converged yet.\n",
            "  % self.max_iter, ConvergenceWarning)\n",
            "/usr/local/lib/python3.6/dist-packages/sklearn/neural_network/_multilayer_perceptron.py:571: ConvergenceWarning: Stochastic Optimizer: Maximum iterations (200) reached and the optimization hasn't converged yet.\n",
            "  % self.max_iter, ConvergenceWarning)\n",
            "/usr/local/lib/python3.6/dist-packages/sklearn/neural_network/_multilayer_perceptron.py:571: ConvergenceWarning: Stochastic Optimizer: Maximum iterations (200) reached and the optimization hasn't converged yet.\n",
            "  % self.max_iter, ConvergenceWarning)\n",
            "/usr/local/lib/python3.6/dist-packages/sklearn/neural_network/_multilayer_perceptron.py:571: ConvergenceWarning: Stochastic Optimizer: Maximum iterations (200) reached and the optimization hasn't converged yet.\n",
            "  % self.max_iter, ConvergenceWarning)\n",
            "/usr/local/lib/python3.6/dist-packages/sklearn/neural_network/_multilayer_perceptron.py:571: ConvergenceWarning: Stochastic Optimizer: Maximum iterations (200) reached and the optimization hasn't converged yet.\n",
            "  % self.max_iter, ConvergenceWarning)\n",
            "/usr/local/lib/python3.6/dist-packages/sklearn/neural_network/_multilayer_perceptron.py:571: ConvergenceWarning: Stochastic Optimizer: Maximum iterations (200) reached and the optimization hasn't converged yet.\n",
            "  % self.max_iter, ConvergenceWarning)\n",
            "/usr/local/lib/python3.6/dist-packages/sklearn/neural_network/_multilayer_perceptron.py:571: ConvergenceWarning: Stochastic Optimizer: Maximum iterations (200) reached and the optimization hasn't converged yet.\n",
            "  % self.max_iter, ConvergenceWarning)\n",
            "/usr/local/lib/python3.6/dist-packages/sklearn/neural_network/_multilayer_perceptron.py:571: ConvergenceWarning: Stochastic Optimizer: Maximum iterations (200) reached and the optimization hasn't converged yet.\n",
            "  % self.max_iter, ConvergenceWarning)\n",
            "/usr/local/lib/python3.6/dist-packages/sklearn/neural_network/_multilayer_perceptron.py:571: ConvergenceWarning: Stochastic Optimizer: Maximum iterations (200) reached and the optimization hasn't converged yet.\n",
            "  % self.max_iter, ConvergenceWarning)\n",
            "/usr/local/lib/python3.6/dist-packages/sklearn/neural_network/_multilayer_perceptron.py:571: ConvergenceWarning: Stochastic Optimizer: Maximum iterations (200) reached and the optimization hasn't converged yet.\n",
            "  % self.max_iter, ConvergenceWarning)\n",
            "/usr/local/lib/python3.6/dist-packages/sklearn/neural_network/_multilayer_perceptron.py:571: ConvergenceWarning: Stochastic Optimizer: Maximum iterations (200) reached and the optimization hasn't converged yet.\n",
            "  % self.max_iter, ConvergenceWarning)\n",
            "/usr/local/lib/python3.6/dist-packages/sklearn/neural_network/_multilayer_perceptron.py:571: ConvergenceWarning: Stochastic Optimizer: Maximum iterations (200) reached and the optimization hasn't converged yet.\n",
            "  % self.max_iter, ConvergenceWarning)\n",
            "/usr/local/lib/python3.6/dist-packages/sklearn/neural_network/_multilayer_perceptron.py:571: ConvergenceWarning: Stochastic Optimizer: Maximum iterations (200) reached and the optimization hasn't converged yet.\n",
            "  % self.max_iter, ConvergenceWarning)\n",
            "/usr/local/lib/python3.6/dist-packages/sklearn/neural_network/_multilayer_perceptron.py:571: ConvergenceWarning: Stochastic Optimizer: Maximum iterations (200) reached and the optimization hasn't converged yet.\n",
            "  % self.max_iter, ConvergenceWarning)\n",
            "/usr/local/lib/python3.6/dist-packages/sklearn/neural_network/_multilayer_perceptron.py:571: ConvergenceWarning: Stochastic Optimizer: Maximum iterations (200) reached and the optimization hasn't converged yet.\n",
            "  % self.max_iter, ConvergenceWarning)\n",
            "/usr/local/lib/python3.6/dist-packages/sklearn/neural_network/_multilayer_perceptron.py:571: ConvergenceWarning: Stochastic Optimizer: Maximum iterations (200) reached and the optimization hasn't converged yet.\n",
            "  % self.max_iter, ConvergenceWarning)\n",
            "/usr/local/lib/python3.6/dist-packages/sklearn/neural_network/_multilayer_perceptron.py:571: ConvergenceWarning: Stochastic Optimizer: Maximum iterations (200) reached and the optimization hasn't converged yet.\n",
            "  % self.max_iter, ConvergenceWarning)\n",
            "/usr/local/lib/python3.6/dist-packages/sklearn/neural_network/_multilayer_perceptron.py:571: ConvergenceWarning: Stochastic Optimizer: Maximum iterations (200) reached and the optimization hasn't converged yet.\n",
            "  % self.max_iter, ConvergenceWarning)\n",
            "/usr/local/lib/python3.6/dist-packages/sklearn/neural_network/_multilayer_perceptron.py:571: ConvergenceWarning: Stochastic Optimizer: Maximum iterations (200) reached and the optimization hasn't converged yet.\n",
            "  % self.max_iter, ConvergenceWarning)\n",
            "/usr/local/lib/python3.6/dist-packages/sklearn/neural_network/_multilayer_perceptron.py:571: ConvergenceWarning: Stochastic Optimizer: Maximum iterations (200) reached and the optimization hasn't converged yet.\n",
            "  % self.max_iter, ConvergenceWarning)\n",
            "/usr/local/lib/python3.6/dist-packages/sklearn/neural_network/_multilayer_perceptron.py:571: ConvergenceWarning: Stochastic Optimizer: Maximum iterations (200) reached and the optimization hasn't converged yet.\n",
            "  % self.max_iter, ConvergenceWarning)\n",
            "/usr/local/lib/python3.6/dist-packages/sklearn/neural_network/_multilayer_perceptron.py:571: ConvergenceWarning: Stochastic Optimizer: Maximum iterations (200) reached and the optimization hasn't converged yet.\n",
            "  % self.max_iter, ConvergenceWarning)\n",
            "/usr/local/lib/python3.6/dist-packages/sklearn/neural_network/_multilayer_perceptron.py:571: ConvergenceWarning: Stochastic Optimizer: Maximum iterations (200) reached and the optimization hasn't converged yet.\n",
            "  % self.max_iter, ConvergenceWarning)\n",
            "/usr/local/lib/python3.6/dist-packages/sklearn/neural_network/_multilayer_perceptron.py:571: ConvergenceWarning: Stochastic Optimizer: Maximum iterations (200) reached and the optimization hasn't converged yet.\n",
            "  % self.max_iter, ConvergenceWarning)\n",
            "/usr/local/lib/python3.6/dist-packages/sklearn/neural_network/_multilayer_perceptron.py:571: ConvergenceWarning: Stochastic Optimizer: Maximum iterations (200) reached and the optimization hasn't converged yet.\n",
            "  % self.max_iter, ConvergenceWarning)\n",
            "/usr/local/lib/python3.6/dist-packages/sklearn/neural_network/_multilayer_perceptron.py:571: ConvergenceWarning: Stochastic Optimizer: Maximum iterations (200) reached and the optimization hasn't converged yet.\n",
            "  % self.max_iter, ConvergenceWarning)\n",
            "/usr/local/lib/python3.6/dist-packages/sklearn/neural_network/_multilayer_perceptron.py:571: ConvergenceWarning: Stochastic Optimizer: Maximum iterations (200) reached and the optimization hasn't converged yet.\n",
            "  % self.max_iter, ConvergenceWarning)\n",
            "/usr/local/lib/python3.6/dist-packages/sklearn/neural_network/_multilayer_perceptron.py:571: ConvergenceWarning: Stochastic Optimizer: Maximum iterations (200) reached and the optimization hasn't converged yet.\n",
            "  % self.max_iter, ConvergenceWarning)\n",
            "/usr/local/lib/python3.6/dist-packages/sklearn/neural_network/_multilayer_perceptron.py:571: ConvergenceWarning: Stochastic Optimizer: Maximum iterations (200) reached and the optimization hasn't converged yet.\n",
            "  % self.max_iter, ConvergenceWarning)\n",
            "/usr/local/lib/python3.6/dist-packages/sklearn/neural_network/_multilayer_perceptron.py:571: ConvergenceWarning: Stochastic Optimizer: Maximum iterations (200) reached and the optimization hasn't converged yet.\n",
            "  % self.max_iter, ConvergenceWarning)\n",
            "/usr/local/lib/python3.6/dist-packages/sklearn/neural_network/_multilayer_perceptron.py:571: ConvergenceWarning: Stochastic Optimizer: Maximum iterations (200) reached and the optimization hasn't converged yet.\n",
            "  % self.max_iter, ConvergenceWarning)\n",
            "/usr/local/lib/python3.6/dist-packages/sklearn/neural_network/_multilayer_perceptron.py:571: ConvergenceWarning: Stochastic Optimizer: Maximum iterations (200) reached and the optimization hasn't converged yet.\n",
            "  % self.max_iter, ConvergenceWarning)\n",
            "/usr/local/lib/python3.6/dist-packages/sklearn/neural_network/_multilayer_perceptron.py:571: ConvergenceWarning: Stochastic Optimizer: Maximum iterations (200) reached and the optimization hasn't converged yet.\n",
            "  % self.max_iter, ConvergenceWarning)\n",
            "/usr/local/lib/python3.6/dist-packages/sklearn/neural_network/_multilayer_perceptron.py:571: ConvergenceWarning: Stochastic Optimizer: Maximum iterations (200) reached and the optimization hasn't converged yet.\n",
            "  % self.max_iter, ConvergenceWarning)\n",
            "/usr/local/lib/python3.6/dist-packages/sklearn/neural_network/_multilayer_perceptron.py:571: ConvergenceWarning: Stochastic Optimizer: Maximum iterations (200) reached and the optimization hasn't converged yet.\n",
            "  % self.max_iter, ConvergenceWarning)\n",
            "/usr/local/lib/python3.6/dist-packages/sklearn/neural_network/_multilayer_perceptron.py:571: ConvergenceWarning: Stochastic Optimizer: Maximum iterations (200) reached and the optimization hasn't converged yet.\n",
            "  % self.max_iter, ConvergenceWarning)\n",
            "/usr/local/lib/python3.6/dist-packages/sklearn/neural_network/_multilayer_perceptron.py:571: ConvergenceWarning: Stochastic Optimizer: Maximum iterations (200) reached and the optimization hasn't converged yet.\n",
            "  % self.max_iter, ConvergenceWarning)\n",
            "/usr/local/lib/python3.6/dist-packages/sklearn/neural_network/_multilayer_perceptron.py:571: ConvergenceWarning: Stochastic Optimizer: Maximum iterations (200) reached and the optimization hasn't converged yet.\n",
            "  % self.max_iter, ConvergenceWarning)\n",
            "/usr/local/lib/python3.6/dist-packages/sklearn/neural_network/_multilayer_perceptron.py:571: ConvergenceWarning: Stochastic Optimizer: Maximum iterations (200) reached and the optimization hasn't converged yet.\n",
            "  % self.max_iter, ConvergenceWarning)\n",
            "/usr/local/lib/python3.6/dist-packages/sklearn/neural_network/_multilayer_perceptron.py:571: ConvergenceWarning: Stochastic Optimizer: Maximum iterations (200) reached and the optimization hasn't converged yet.\n",
            "  % self.max_iter, ConvergenceWarning)\n",
            "/usr/local/lib/python3.6/dist-packages/sklearn/neural_network/_multilayer_perceptron.py:571: ConvergenceWarning: Stochastic Optimizer: Maximum iterations (200) reached and the optimization hasn't converged yet.\n",
            "  % self.max_iter, ConvergenceWarning)\n",
            "/usr/local/lib/python3.6/dist-packages/sklearn/neural_network/_multilayer_perceptron.py:571: ConvergenceWarning: Stochastic Optimizer: Maximum iterations (200) reached and the optimization hasn't converged yet.\n",
            "  % self.max_iter, ConvergenceWarning)\n",
            "/usr/local/lib/python3.6/dist-packages/sklearn/neural_network/_multilayer_perceptron.py:571: ConvergenceWarning: Stochastic Optimizer: Maximum iterations (200) reached and the optimization hasn't converged yet.\n",
            "  % self.max_iter, ConvergenceWarning)\n",
            "/usr/local/lib/python3.6/dist-packages/sklearn/neural_network/_multilayer_perceptron.py:571: ConvergenceWarning: Stochastic Optimizer: Maximum iterations (200) reached and the optimization hasn't converged yet.\n",
            "  % self.max_iter, ConvergenceWarning)\n",
            "/usr/local/lib/python3.6/dist-packages/sklearn/neural_network/_multilayer_perceptron.py:571: ConvergenceWarning: Stochastic Optimizer: Maximum iterations (200) reached and the optimization hasn't converged yet.\n",
            "  % self.max_iter, ConvergenceWarning)\n",
            "/usr/local/lib/python3.6/dist-packages/sklearn/neural_network/_multilayer_perceptron.py:571: ConvergenceWarning: Stochastic Optimizer: Maximum iterations (200) reached and the optimization hasn't converged yet.\n",
            "  % self.max_iter, ConvergenceWarning)\n",
            "/usr/local/lib/python3.6/dist-packages/sklearn/neural_network/_multilayer_perceptron.py:571: ConvergenceWarning: Stochastic Optimizer: Maximum iterations (200) reached and the optimization hasn't converged yet.\n",
            "  % self.max_iter, ConvergenceWarning)\n",
            "/usr/local/lib/python3.6/dist-packages/sklearn/neural_network/_multilayer_perceptron.py:571: ConvergenceWarning: Stochastic Optimizer: Maximum iterations (200) reached and the optimization hasn't converged yet.\n",
            "  % self.max_iter, ConvergenceWarning)\n",
            "/usr/local/lib/python3.6/dist-packages/sklearn/neural_network/_multilayer_perceptron.py:571: ConvergenceWarning: Stochastic Optimizer: Maximum iterations (200) reached and the optimization hasn't converged yet.\n",
            "  % self.max_iter, ConvergenceWarning)\n",
            "/usr/local/lib/python3.6/dist-packages/sklearn/neural_network/_multilayer_perceptron.py:571: ConvergenceWarning: Stochastic Optimizer: Maximum iterations (200) reached and the optimization hasn't converged yet.\n",
            "  % self.max_iter, ConvergenceWarning)\n",
            "/usr/local/lib/python3.6/dist-packages/sklearn/neural_network/_multilayer_perceptron.py:571: ConvergenceWarning: Stochastic Optimizer: Maximum iterations (200) reached and the optimization hasn't converged yet.\n",
            "  % self.max_iter, ConvergenceWarning)\n",
            "/usr/local/lib/python3.6/dist-packages/sklearn/neural_network/_multilayer_perceptron.py:571: ConvergenceWarning: Stochastic Optimizer: Maximum iterations (200) reached and the optimization hasn't converged yet.\n",
            "  % self.max_iter, ConvergenceWarning)\n",
            "/usr/local/lib/python3.6/dist-packages/sklearn/neural_network/_multilayer_perceptron.py:571: ConvergenceWarning: Stochastic Optimizer: Maximum iterations (200) reached and the optimization hasn't converged yet.\n",
            "  % self.max_iter, ConvergenceWarning)\n",
            "/usr/local/lib/python3.6/dist-packages/sklearn/neural_network/_multilayer_perceptron.py:571: ConvergenceWarning: Stochastic Optimizer: Maximum iterations (200) reached and the optimization hasn't converged yet.\n",
            "  % self.max_iter, ConvergenceWarning)\n",
            "/usr/local/lib/python3.6/dist-packages/sklearn/neural_network/_multilayer_perceptron.py:571: ConvergenceWarning: Stochastic Optimizer: Maximum iterations (200) reached and the optimization hasn't converged yet.\n",
            "  % self.max_iter, ConvergenceWarning)\n",
            "/usr/local/lib/python3.6/dist-packages/sklearn/neural_network/_multilayer_perceptron.py:571: ConvergenceWarning: Stochastic Optimizer: Maximum iterations (200) reached and the optimization hasn't converged yet.\n",
            "  % self.max_iter, ConvergenceWarning)\n",
            "/usr/local/lib/python3.6/dist-packages/sklearn/neural_network/_multilayer_perceptron.py:571: ConvergenceWarning: Stochastic Optimizer: Maximum iterations (200) reached and the optimization hasn't converged yet.\n",
            "  % self.max_iter, ConvergenceWarning)\n",
            "/usr/local/lib/python3.6/dist-packages/sklearn/neural_network/_multilayer_perceptron.py:571: ConvergenceWarning: Stochastic Optimizer: Maximum iterations (200) reached and the optimization hasn't converged yet.\n",
            "  % self.max_iter, ConvergenceWarning)\n",
            "/usr/local/lib/python3.6/dist-packages/sklearn/neural_network/_multilayer_perceptron.py:571: ConvergenceWarning: Stochastic Optimizer: Maximum iterations (200) reached and the optimization hasn't converged yet.\n",
            "  % self.max_iter, ConvergenceWarning)\n",
            "/usr/local/lib/python3.6/dist-packages/sklearn/neural_network/_multilayer_perceptron.py:571: ConvergenceWarning: Stochastic Optimizer: Maximum iterations (200) reached and the optimization hasn't converged yet.\n",
            "  % self.max_iter, ConvergenceWarning)\n",
            "/usr/local/lib/python3.6/dist-packages/sklearn/neural_network/_multilayer_perceptron.py:571: ConvergenceWarning: Stochastic Optimizer: Maximum iterations (200) reached and the optimization hasn't converged yet.\n",
            "  % self.max_iter, ConvergenceWarning)\n",
            "/usr/local/lib/python3.6/dist-packages/sklearn/neural_network/_multilayer_perceptron.py:571: ConvergenceWarning: Stochastic Optimizer: Maximum iterations (200) reached and the optimization hasn't converged yet.\n",
            "  % self.max_iter, ConvergenceWarning)\n",
            "/usr/local/lib/python3.6/dist-packages/sklearn/neural_network/_multilayer_perceptron.py:571: ConvergenceWarning: Stochastic Optimizer: Maximum iterations (200) reached and the optimization hasn't converged yet.\n",
            "  % self.max_iter, ConvergenceWarning)\n",
            "/usr/local/lib/python3.6/dist-packages/sklearn/neural_network/_multilayer_perceptron.py:571: ConvergenceWarning: Stochastic Optimizer: Maximum iterations (200) reached and the optimization hasn't converged yet.\n",
            "  % self.max_iter, ConvergenceWarning)\n",
            "/usr/local/lib/python3.6/dist-packages/sklearn/neural_network/_multilayer_perceptron.py:571: ConvergenceWarning: Stochastic Optimizer: Maximum iterations (200) reached and the optimization hasn't converged yet.\n",
            "  % self.max_iter, ConvergenceWarning)\n",
            "/usr/local/lib/python3.6/dist-packages/sklearn/neural_network/_multilayer_perceptron.py:571: ConvergenceWarning: Stochastic Optimizer: Maximum iterations (200) reached and the optimization hasn't converged yet.\n",
            "  % self.max_iter, ConvergenceWarning)\n"
          ],
          "name": "stderr"
        },
        {
          "output_type": "stream",
          "text": [
            "Best hidden_layer_sizes: (50, 100, 50)\n",
            "Best activation: logistic\n",
            "Best solver: lbfgs\n",
            "Best alpha: 0.0001\n",
            "Best learning_rate constant\n",
            "Best batch_size 20\n",
            "Accuracy of neural network classifier on traindata: 0.7888888888888889\n",
            "Accuracy of neural network classifier on testdata: 0.782608695652174\n"
          ],
          "name": "stdout"
        }
      ]
    },
    {
      "cell_type": "markdown",
      "metadata": {
        "id": "NSkNx_JkLzFi",
        "colab_type": "text"
      },
      "source": [
        "## Performance\n",
        "- Functie gemaakt om een dataframe te maken van de performance van een bepaalde classifier\n",
        "- Uiteindelijke mooier om alles er tegelijk in te kunnen gooien met een loop en dan 1 groot dataframe te maken"
      ]
    },
    {
      "cell_type": "code",
      "metadata": {
        "id": "JIUCuActMxr4",
        "colab_type": "code",
        "outputId": "33b7e733-baaa-4421-fae3-b5a0cc0d014f",
        "colab": {
          "base_uri": "https://localhost:8080/",
          "height": 319
        }
      },
      "source": [
        "def performance_clf(predlabel_train, label_train, predlabel_test, label_test):\n",
        "    \"\"\"\n",
        "    Function to calculate performance of a classifier:\n",
        "\n",
        "        predlabel_train = predicted label of traindata \n",
        "        label_train = real label of traindata\n",
        "        predlabel_test = predicted label of testdata\n",
        "        label_test = real label of testdata\n",
        "    \n",
        "    This function returns a dataframe of the calculated AUC, accuracy, F1-score,\n",
        "    precision and recall of the classifier for the train- and testdata\n",
        "    \"\"\"\n",
        "    \n",
        "    # Performance train set\n",
        "    auc_train=metrics.roc_auc_score(predlabel_train, label_train)\n",
        "    accuracy_train=metrics.accuracy_score(predlabel_train, label_train)\n",
        "    F1_train=metrics.f1_score(predlabel_train, label_train)\n",
        "    precision_train=metrics.precision_score(predlabel_train, label_train)\n",
        "    recall_train=metrics.recall_score(predlabel_train, label_train)\n",
        "    \n",
        "    # Performance test set\n",
        "    auc_test=metrics.roc_auc_score(predlabel_test, label_test)\n",
        "    accuracy_test=metrics.accuracy_score(predlabel_test, label_test)\n",
        "    F1_test=metrics.f1_score(predlabel_test, label_test)\n",
        "    precision_test=metrics.precision_score(predlabel_test, label_test)\n",
        "    recall_test=metrics.recall_score(predlabel_test, label_test)\n",
        "\n",
        "    performance = {'train': [auc_train, accuracy_train, F1_train, precision_train, recall_train],\n",
        "                   'test': [auc_test, accuracy_test, F1_test, precision_test, recall_test]}\n",
        "    frame_performance = pd.DataFrame(data=performance, index=['auc', 'accuracy', 'F1', 'precision', 'recall'])\n",
        "  \n",
        "    return frame_performance\n",
        "\n",
        "performance_knn = performance_clf(stage_train_knn, stage_train, stage_test_knn, stage_test)\n",
        "performance_svm = performance_clf(stage_train_svm, stage_train, stage_test_svm, stage_test)\n",
        "performance_rfc = performance_clf(stage_train_rfc, stage_train, stage_test_rfc, stage_test)\n",
        "\n",
        "\n",
        "print(f'The performance of the kNN-classifier is: {performance_knn}')\n",
        "print(f'The performance of the SVM-classifier is: {performance_svm}')\n",
        "print(f'The performance of the RFC-classifier is: {performance_rfc}')\n"
      ],
      "execution_count": 0,
      "outputs": [
        {
          "output_type": "stream",
          "text": [
            "The performance of the kNN-classifier is:               train      test\n",
            "auc        0.740642  0.777778\n",
            "accuracy   0.677778  0.652174\n",
            "F1         0.743363  0.714286\n",
            "precision  0.933333  1.000000\n",
            "recall     0.617647  0.555556\n",
            "The performance of the SVM-classifier is:               train      test\n",
            "auc        0.855731  0.780303\n",
            "accuracy   0.855556  0.782609\n",
            "F1         0.853933  0.761905\n",
            "precision  0.844444  0.800000\n",
            "recall     0.863636  0.727273\n",
            "The performance of the RFC-classifier is:               train      test\n",
            "auc        0.922431  0.707692\n",
            "accuracy   0.922222  0.695652\n",
            "F1         0.923077  0.695652\n",
            "precision  0.933333  0.800000\n",
            "recall     0.913043  0.615385\n"
          ],
          "name": "stdout"
        }
      ]
    }
  ]
}
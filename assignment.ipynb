{
  "nbformat": 4,
  "nbformat_minor": 0,
  "metadata": {
    "colab": {
      "name": "assignment.ipynb",
      "provenance": [],
      "collapsed_sections": [],
      "include_colab_link": true
    },
    "kernelspec": {
      "display_name": "Python 3",
      "language": "python",
      "name": "python3"
    },
    "language_info": {
      "codemirror_mode": {
        "name": "ipython",
        "version": 3
      },
      "file_extension": ".py",
      "mimetype": "text/x-python",
      "name": "python",
      "nbconvert_exporter": "python",
      "pygments_lexer": "ipython3",
      "version": "3.7.4"
    }
  },
  "cells": [
    {
      "cell_type": "markdown",
      "metadata": {
        "id": "view-in-github",
        "colab_type": "text"
      },
      "source": [
        "<a href=\"https://colab.research.google.com/github/maritverboom/TM10007_PROJECT/blob/master/assignment.ipynb\" target=\"_parent\"><img src=\"https://colab.research.google.com/assets/colab-badge.svg\" alt=\"Open In Colab\"/></a>"
      ]
    },
    {
      "cell_type": "markdown",
      "metadata": {
        "colab_type": "text",
        "id": "7SXpaKwwGe5x"
      },
      "source": [
        "# TM10007 Assignment Group 15\n",
        "Bart Formsma: 4438450\n",
        "\n",
        "Eline van Lange: 4390210\n",
        "\n",
        "Laurien Reinders: 4472306\n",
        "\n",
        "Marit Verboom: 4453778\n"
      ]
    },
    {
      "cell_type": "code",
      "metadata": {
        "colab_type": "code",
        "id": "CiDn2Sk-VWqE",
        "outputId": "85860a22-28d8-4247-e8fc-8c6d802fca92",
        "colab": {
          "base_uri": "https://localhost:8080/",
          "height": 35
        }
      },
      "source": [
        "# Run this to use from colab environment\n",
        "!pip install -q --upgrade git+https://github.com/karinvangarderen/tm10007_project.git"
      ],
      "execution_count": 1,
      "outputs": [
        {
          "output_type": "stream",
          "text": [
            "  Building wheel for brats (setup.py) ... \u001b[?25l\u001b[?25hdone\n"
          ],
          "name": "stdout"
        }
      ]
    },
    {
      "cell_type": "code",
      "metadata": {
        "id": "Fsm0D-Ugmvzu",
        "colab_type": "code",
        "colab": {
          "base_uri": "https://localhost:8080/",
          "height": 146
        },
        "outputId": "612de131-cadb-482e-c690-a50fa8616cce"
      },
      "source": [
        "# General packages\n",
        "import numpy as np \n",
        "import matplotlib.pyplot as plt\n",
        "import pandas as pd\n",
        "from sklearn import metrics\n",
        "import seaborn as sns\n",
        "\n",
        "# Feature selection\n",
        "from sklearn import feature_selection\n",
        "# Univariate\n",
        "from sklearn.feature_selection import SelectKBest\n",
        "from sklearn.feature_selection import chi2\n",
        "from sklearn.feature_selection import SelectPercentile\n",
        "from sklearn.feature_selection import f_classif\n",
        "from sklearn.feature_selection import GenericUnivariateSelect\n",
        "\n",
        "# Lasso\n",
        "from sklearn.linear_model import LassoCV\n",
        "from sklearn.linear_model import Lasso\n",
        "from sklearn.model_selection import KFold\n",
        "from sklearn.model_selection import GridSearchCV\n",
        "from yellowbrick.regressor import AlphaSelection\n",
        "from yellowbrick.datasets import load_concrete\n",
        "from sklearn.feature_selection import SelectFromModel\n",
        "\n",
        "# Classifiers\n",
        "from sklearn import model_selection\n",
        "from sklearn import preprocessing\n",
        "from sklearn import neighbors\n",
        "from sklearn import svm\n",
        "from sklearn.decomposition import PCA\n",
        "from sklearn.ensemble import RandomForestClassifier\n",
        "from sklearn.impute import SimpleImputer\n",
        "from sklearn.model_selection import cross_val_score\n",
        "from sklearn.neural_network import MLPClassifier\n",
        "\n",
        "# Statistics\n",
        "from statistics import mean\n",
        "from statistics import stdev\n",
        "from sklearn.metrics import confusion_matrix"
      ],
      "execution_count": 2,
      "outputs": [
        {
          "output_type": "stream",
          "text": [
            "/usr/local/lib/python3.6/dist-packages/statsmodels/tools/_testing.py:19: FutureWarning: pandas.util.testing is deprecated. Use the functions in the public API at pandas.testing instead.\n",
            "  import pandas.util.testing as tm\n",
            "/usr/local/lib/python3.6/dist-packages/sklearn/utils/deprecation.py:144: FutureWarning: The sklearn.metrics.classification module is  deprecated in version 0.22 and will be removed in version 0.24. The corresponding classes / functions should instead be imported from sklearn.metrics. Anything that cannot be imported from sklearn.metrics is now part of the private API.\n",
            "  warnings.warn(message, FutureWarning)\n",
            "/usr/local/lib/python3.6/dist-packages/sklearn/utils/deprecation.py:144: FutureWarning: The sklearn.datasets.base module is  deprecated in version 0.22 and will be removed in version 0.24. The corresponding classes / functions should instead be imported from sklearn.datasets. Anything that cannot be imported from sklearn.datasets is now part of the private API.\n",
            "  warnings.warn(message, FutureWarning)\n"
          ],
          "name": "stderr"
        }
      ]
    },
    {
      "cell_type": "markdown",
      "metadata": {
        "id": "-AlgAclcK2My",
        "colab_type": "text"
      },
      "source": [
        "## Data Loading\n",
        "- Loading the provided Head & Neck dataset\n",
        "- Splitting the data in train- and testset\n",
        "- Binarizing tumor stages: TM12 = 0, TM34 = 1\n"
      ]
    },
    {
      "cell_type": "code",
      "metadata": {
        "id": "iIAVZzeGK4dJ",
        "colab_type": "code",
        "outputId": "0251d51c-f45d-4e19-c17f-551e0763336e",
        "colab": {
          "base_uri": "https://localhost:8080/",
          "height": 128
        }
      },
      "source": [
        "#Import dataset\n",
        "from hn.load_data import load_data\n",
        "data = load_data()\n",
        "data_start = data\n",
        "print(f'The number of samples: {len(data.index)}')\n",
        "print(f'The number of columns: {len(data.columns)}')\n",
        "\n",
        "# Splitting the data in train- and testpart with a portion of 'test_size' testing data (20%)\n",
        "data_train, data_test = model_selection.train_test_split(data, test_size=0.20, stratify=data['label'])\n",
        "\n",
        "print(f'The number of rows of train data : {len(data_train.index)}')\n",
        "print(f'The number of rows of test data : {len(data_test.index)}')\n",
        "\n",
        "# dataframe containing tumor stadium of subject (T12/T34)\n",
        "stage_train = data_train['label']             \n",
        "stage_test = data_test['label'] \n",
        "\n",
        "# dataframe containing all feature columns except 'label' (tumor stadium of subject)\n",
        "data_train = data_train.drop(columns='label') \n",
        "data_test = data_test.drop(columns='label')\n",
        "\n",
        "# Binarize label data\n",
        "stage_train = preprocessing.label_binarize(stage_train, ['T12', 'T34'])\n",
        "stage_train = [i[0] for i in stage_train]\n",
        "stage_test = preprocessing.label_binarize(stage_test, ['T12', 'T34'])\n",
        "stage_test = [i[0] for i in stage_test]\n",
        "\n",
        "labels_T12_train = stage_train.count(0)\n",
        "labels_T12_test = stage_test.count(0)\n",
        "labels_T34_train = stage_train.count(1)\n",
        "labels_T34_test = stage_test.count(1)\n",
        "print(f'Train samples with label T12: {labels_T12_train}/{len(data_train.index)}, Test samples with label T12: {labels_T12_test}/{len(data_test.index)}, total number of samples with label T12: {labels_T12_train + labels_T12_test}/{len(data.index)}')\n",
        "print(f'Train samples with label T34: {labels_T34_train}/{len(data_train.index)}, Test samples with label T34: {labels_T34_test}/{len(data_test.index)}, total number of samples with label T34: {labels_T34_train + labels_T34_test}/{len(data.index)}')\n"
      ],
      "execution_count": 3,
      "outputs": [
        {
          "output_type": "stream",
          "text": [
            "The number of samples: 113\n",
            "The number of columns: 160\n",
            "The number of rows of train data : 90\n",
            "The number of rows of test data : 23\n",
            "[1, 1, 0, 1, 0, 1, 1, 1, 1, 1, 0, 1, 1, 0, 1, 0, 1, 1, 1, 0, 0, 0, 1, 1, 1, 0, 0, 1, 1, 0, 0, 1, 0, 1, 1, 1, 1, 0, 1, 1, 0, 1, 0, 0, 0, 1, 0, 0, 0, 1, 1, 0, 0, 0, 1, 1, 1, 0, 0, 1, 1, 1, 0, 0, 0, 0, 0, 0, 0, 1, 1, 0, 1, 1, 1, 0, 0, 0, 0, 1, 1, 0, 0, 1, 0, 0, 0, 0, 0, 0]\n"
          ],
          "name": "stdout"
        }
      ]
    },
    {
      "cell_type": "markdown",
      "metadata": {
        "id": "oZUAiDtz5djl",
        "colab_type": "text"
      },
      "source": [
        "## Data cleaning\n",
        "- Removing columns where > 25% of the values are 0.0\n",
        "- Removing columns whit a constant value\n"
      ]
    },
    {
      "cell_type": "code",
      "metadata": {
        "colab_type": "code",
        "id": "-NE_fTbKGe5z",
        "outputId": "90580c60-907d-4d8b-cf23-0cfb832b6ce9",
        "colab": {
          "base_uri": "https://localhost:8080/",
          "height": 54
        }
      },
      "source": [
        "def data_cleaning(data_train, data_test):\n",
        "    \"\"\"\n",
        "    Feature for cleaning the data.\n",
        "    \"\"\"\n",
        "    # Remove all columns where more than 25% of the values are 0.0\n",
        "    drop_cols_train = data_train.columns[(data_train == 0).sum() > 0.25*data_train.shape[1]]\n",
        "    drop_cols_test = data_test.columns[(data_train ==0).sum() > 0.25*data_train.shape[1]]\n",
        "    data_train.drop(drop_cols_train, axis = 1, inplace = True) \n",
        "    data_test.drop(drop_cols_test, axis = 1, inplace = True)\n",
        "    \n",
        "    # Remove all columns with no std\n",
        "    drop_std_train = data_train.columns[data_train.std() == 0]\n",
        "    drop_std_test = data_test.columns[data_train.std() == 0]\n",
        "    data_train.drop(drop_std_train, axis = 1, inplace = True) \n",
        "    data_test.drop(drop_std_test, axis = 1, inplace = True)\n",
        "    \n",
        "    return data_train, data_test\n",
        "\n",
        "data_train, data_test = data_cleaning(data_train, data_test)\n",
        "\n",
        "print(f'TRAIN: The number of columns after preprocessing: {len(data_train.columns)}, and the number of rows: {len(data_train.index)}')\n",
        "print(f'TEST: The number of columns after preprocessing: {len(data_test.columns)},  and the number of rows: {len(data_test.index)}')\n"
      ],
      "execution_count": 4,
      "outputs": [
        {
          "output_type": "stream",
          "text": [
            "TRAIN: The number of columns after preprocessing: 150, and the number of rows: 90\n",
            "TEST: The number of columns after preprocessing: 150,  and the number of rows: 23\n"
          ],
          "name": "stdout"
        }
      ]
    },
    {
      "cell_type": "markdown",
      "metadata": {
        "id": "oVOizcWl4sAM",
        "colab_type": "text"
      },
      "source": [
        "## Data Scaling\n",
        "\n",
        "- Scaling the train- and test dataset with a Standard Scaler\n",
        " "
      ]
    },
    {
      "cell_type": "code",
      "metadata": {
        "id": "4hKWuBpi4xck",
        "colab_type": "code",
        "colab": {}
      },
      "source": [
        "def data_scaling(data_train, data_test):\n",
        "    \"\"\"\n",
        "    Function to scale the data using a StandardScaler.\n",
        "    \"\"\"\n",
        "    # Scale the data (train on train set)\n",
        "    scaler = preprocessing.StandardScaler()   \n",
        "    scaler.fit(data_train)  \n",
        "\n",
        "    # Perform scaling on both train and testset, returing scaled dataframe\n",
        "    data_train_scaled = pd.DataFrame(scaler.transform(data_train), columns = data_train.columns)\n",
        "    data_test_scaled = pd.DataFrame(scaler.transform(data_test), columns=data_test.columns) \n",
        "\n",
        "    return data_train_scaled, data_test_scaled\n",
        "\n",
        "data_train_scaled, data_test_scaled = data_scaling(data_train, data_test)\n"
      ],
      "execution_count": 0,
      "outputs": []
    },
    {
      "cell_type": "markdown",
      "metadata": {
        "id": "Erqy09vSvlnk",
        "colab_type": "text"
      },
      "source": [
        "## Data robust scaling"
      ]
    },
    {
      "cell_type": "code",
      "metadata": {
        "id": "Sq4zowWRvn52",
        "colab_type": "code",
        "colab": {}
      },
      "source": [
        "def data_scaling_robust(data_train, data_test):\n",
        "    \"\"\"\n",
        "    Function to scale the data using a RobustScaler.\n",
        "    \"\"\"\n",
        "    # Scale the data (train on train set)\n",
        "    scaler = preprocessing.RobustScaler()   \n",
        "    scaler.fit(data_train)  \n",
        "\n",
        "    # Perform scaling on both train and testset, returing scaled dataframe\n",
        "    data_train_scaled_robust = pd.DataFrame(scaler.transform(data_train), columns = data_train.columns)\n",
        "    data_test_scaled_robust = pd.DataFrame(scaler.transform(data_test), columns=data_test.columns) \n",
        "\n",
        "    return data_train_scaled, data_test_scaled\n",
        "\n",
        "data_train_scaled, data_test_scaled = data_scaling(data_train, data_test)"
      ],
      "execution_count": 0,
      "outputs": []
    },
    {
      "cell_type": "markdown",
      "metadata": {
        "id": "BLXxyvuwqW7q",
        "colab_type": "text"
      },
      "source": [
        "## Preprocessing: Feature selection/extraction\n",
        "\n",
        "- Recursive Feature Elimination\n",
        "- Univariate Feature Selection\n",
        "- Principal Component Analysis\n",
        "- L1/Lasso Regression Feature Selection"
      ]
    },
    {
      "cell_type": "markdown",
      "metadata": {
        "id": "8gxQOHHj9yMb",
        "colab_type": "text"
      },
      "source": [
        "## Recursive Feature Elimination"
      ]
    },
    {
      "cell_type": "code",
      "metadata": {
        "id": "qe6OoqWjq0Ni",
        "colab_type": "code",
        "outputId": "64f9bba1-52b4-4501-e5d2-6f8d8ff14486",
        "colab": {
          "base_uri": "https://localhost:8080/",
          "height": 786
        }
      },
      "source": [
        "# Create the RFE object\n",
        "svc = svm.SVC(kernel=\"linear\")  \n",
        "\n",
        "# classifications\n",
        "rfecv = feature_selection.RFECV(\n",
        "    estimator=svc, step=1, \n",
        "    cv=model_selection.StratifiedKFold(4),\n",
        "    scoring='roc_auc')\n",
        "fit_rfecv = rfecv.fit(data_train_scaled, stage_train)\n",
        "\n",
        "# Plot number of features VS. cross-validation scores\n",
        "plt.figure()\n",
        "plt.xlabel(\"Number of features selected\")\n",
        "plt.ylabel(\"Cross validation score (nb of correct classifications)\")\n",
        "plt.plot(range(1, len(rfecv.grid_scores_) + 1), rfecv.grid_scores_)\n",
        "plt.show()\n",
        "\n",
        "print(\"Num Features: %d\" % fit_rfecv.n_features_)\n",
        "print(\"Selected Features: %s\" % fit_rfecv.support_)\n",
        "print(\"Feature Ranking: %s\" % fit_rfecv.ranking_)\n",
        "\n",
        "data_train_rfecv = rfecv.transform(data_train_scaled)\n",
        "data_test_rfecv = rfecv.transform(data_test_scaled)\n",
        "\n",
        "print(data_train_rfecv.shape)\n",
        "print(data_test_rfecv.shape)"
      ],
      "execution_count": 0,
      "outputs": [
        {
          "output_type": "display_data",
          "data": {
            "image/png": "[encoded data removed]",
            "text/plain": [
              "<Figure size 576x396 with 1 Axes>"
            ]
          },
          "metadata": {
            "tags": []
          }
        },
        {
          "output_type": "stream",
          "text": [
            "Num Features: 41\n",
            "Selected Features: [False False False False False False False False  True False  True False\n",
            " False False False False False False  True  True  True False  True False\n",
            "  True False  True False False False False False False False False False\n",
            " False False False False  True  True  True False False False False False\n",
            " False False False  True False False False False  True  True False False\n",
            "  True False False False  True False False False False False False False\n",
            " False False False False False  True False False False False False False\n",
            " False False  True False False False False False False  True  True False\n",
            "  True False  True False  True  True False False False False False False\n",
            "  True  True  True False False False False  True  True False False False\n",
            "  True  True  True  True False  True  True  True  True False  True  True\n",
            " False False False False False False False False  True False False False\n",
            "  True False False False False False]\n",
            "Feature Ranking: [  7  57  36  38  60  92  37  97   1  10   1  78  69  29 104   2  18  72\n",
            "   1   1   1 105   1  15   1  73   1  52  16  34  55  32  94 102  58  39\n",
            "  19   3  71  74   1   1   1  48  45  75  50  51 106  83  28   1  49  89\n",
            " 103  53   1   1  46 100   1 108  44  41   1  24  12  61  80  99  93  14\n",
            "  84  87  40  88  56   1  22  85  62  11  65  47  25  21   1  77  23  31\n",
            "  68  64  63   1   1  59   1  20   1 101   1   1  79  43 109  30   8  96\n",
            "   1   1   1  67   9  91  98   1   1   5   6   4   1   1   1   1  33   1\n",
            "   1   1   1  13   1   1  35  42  66  26  70  17  90 110   1  76  54  81\n",
            "   1 107  95  27  86  82]\n",
            "(90, 41)\n",
            "(23, 41)\n"
          ],
          "name": "stdout"
        }
      ]
    },
    {
      "cell_type": "markdown",
      "metadata": {
        "id": "Y-f-qvIbMvu2",
        "colab_type": "text"
      },
      "source": [
        "##  Feature selection using univariate feature selection"
      ]
    },
    {
      "cell_type": "code",
      "metadata": {
        "id": "8GpfGpM1M4Dp",
        "colab_type": "code",
        "outputId": "625bfce6-12ed-4a97-f6c5-24652b7eaf66",
        "colab": {
          "base_uri": "https://localhost:8080/",
          "height": 578
        }
      },
      "source": [
        "# Eventuele hyperparameters die nog kunnen worden aangepast: methodes voor univariate feature selection (selectKBest, SelectPercentile, en nog meer),\n",
        "# measures om 'best' te bepalen chi2, f_classif, mutual_info_classif\n",
        "# aantal features dat je selecteert, getal voor percentile, getal voor k-best, etc.\n",
        "# Moeilijk om deze hyperparameters te tunen aangezien de performance pas wordt bepaald bij het toepassen van de classifier, zal waarschijnlijk ook verschillen per classifier.\n",
        "# \n",
        "# Bij het opnieuw splitten van de data in een train en test set zie je dat er een andere set aan features geselecteerd wordt, zijn overeenkomsten maar je ziet ook verschillen. Zeer waarschijnlijk leidt dit uiteindelijk tot een hogere variantie in performance bij het nemen van een nieuwe split mbv cross validatie checken.\n",
        "\n",
        "def uni_features(data_train, data_test, stage_train):\n",
        "    \"\"\"\n",
        "    Function to perform univariate feature selection\n",
        "    \"\"\"\n",
        "    # Apply SelectPercentile to train data to extract top 20% best features according to train data\n",
        "    selector_uni = SelectPercentile(f_classif, percentile=20)\n",
        "    selector_uni.fit(data_train, stage_train)\n",
        "    data_train_uni = selector_uni.transform(data_train)\n",
        "    data_test_uni = selector_uni.transform(data_test)\n",
        "\n",
        "    return data_train_uni, data_test_uni\n",
        "\n",
        "\n",
        "selector_uni = SelectPercentile(f_classif, percentile=20)\n",
        "fit_uni = selector_uni.fit(data_train, stage_train)\n",
        "data_train_uni = selector_uni.transform(data_train)\n",
        "data_test_uni = selector_uni.transform(data_test)\n",
        "\n",
        "# Visualisation of the selected best 20% features\n",
        "dfscores = pd.DataFrame(fit_uni.scores_)\n",
        "dfcolumns = pd.DataFrame(data_train.columns)\n",
        "\n",
        "# Concat two dataframes for better visualization \n",
        "featureScores = pd.concat([dfcolumns,dfscores],axis=1)\n",
        "\n",
        "featureScores.columns = ['Specs','Score']  #naming the dataframe columns\n",
        "# Print dataframe\n",
        "print(featureScores.nlargest(int(0.2*len(featureScores)),'Score'))  #print 40 best features\n",
        "\n",
        "\n",
        "\n",
        "print(data_train_uni.shape)\n",
        "print(data_test_uni.shape)"
      ],
      "execution_count": 0,
      "outputs": [
        {
          "output_type": "stream",
          "text": [
            "                                         Specs      Score\n",
            "39                         tf_GLRLM_RunEntropy  46.050038\n",
            "42                      tf_GLRLM_RunPercentage  35.595677\n",
            "25                          sf_rad_dist_avg_2D  34.604728\n",
            "40             tf_GLRLM_RunLengthNonUniformity  34.129891\n",
            "41   tf_GLRLM_RunLengthNonUniformityNormalized  30.919687\n",
            "32             tf_GLRLM_GrayLevelNonUniformity  27.716001\n",
            "128                       tf_Gabor_0.5A2.36max  27.338882\n",
            "1                                   hf_entropy  27.102321\n",
            "125                      tf_Gabor_0.5A1.57skew  25.459758\n",
            "131                      tf_Gabor_0.5A2.36skew  25.247027\n",
            "134                     tf_LBP_kurtosis_R3_P12  24.617461\n",
            "0                                    hf_energy  24.279270\n",
            "130                       tf_Gabor_0.5A2.36min  23.833002\n",
            "43                        tf_GLRLM_RunVariance  23.660150\n",
            "121                      tf_Gabor_0.5A1.57kurt  22.248979\n",
            "127                      tf_Gabor_0.5A2.36kurt  20.169067\n",
            "46       tf_GLRLM_ShortRunLowGrayLevelEmphasis  18.922230\n",
            "26                          sf_rad_dist_std_2D  18.641361\n",
            "129                      tf_Gabor_0.5A2.36mean  18.561240\n",
            "124                       tf_Gabor_0.5A1.57min  18.252633\n",
            "44                   tf_GLRLM_ShortRunEmphasis  17.949979\n",
            "35                    tf_GLRLM_LongRunEmphasis  17.927036\n",
            "147                          tf_LBP_std_R3_P12  16.874977\n",
            "126                       tf_Gabor_0.5A1.57std  15.792628\n",
            "28                         sf_roughness_std_2D  14.390720\n",
            "36       tf_GLRLM_LongRunHighGrayLevelEmphasis  13.024217\n",
            "60                     tf_GLSZM_ZonePercentage  12.524828\n",
            "37        tf_GLRLM_LongRunLowGrayLevelEmphasis  12.219013\n",
            "31                                sf_volume_2D  11.794835\n",
            "73                      tf_Gabor_0.05A1.57kurt  11.211873\n",
            "(90, 30)\n",
            "(23, 30)\n"
          ],
          "name": "stdout"
        }
      ]
    },
    {
      "cell_type": "markdown",
      "metadata": {
        "id": "o251HvpzBy4l",
        "colab_type": "text"
      },
      "source": [
        "## Principal Component Analysis (PCA)\n"
      ]
    },
    {
      "cell_type": "code",
      "metadata": {
        "id": "O4IiEnXmB-Y3",
        "colab_type": "code",
        "outputId": "318949ad-59ee-448a-a4ec-22810fc0c128",
        "colab": {
          "base_uri": "https://localhost:8080/",
          "height": 410
        }
      },
      "source": [
        "\n",
        "# Create a function for calculating PCA\n",
        "def pca(data_train, data_test):\n",
        "    \"\"\"\n",
        "    Function for PCA\n",
        "\n",
        "        data_train = training data\n",
        "        data_test = testing data\n",
        "\n",
        "    Output is transformed train- and testdata\n",
        "    \"\"\"\n",
        "    pca=PCA().fit(data_train)\n",
        "    var = np.cumsum(pca.explained_variance_ratio_)\n",
        "    n_comp = np.where(var>0.99)[0][0]\n",
        "\n",
        "    pca_train = PCA(n_components=n_comp)\n",
        "    pca_train.fit(data_train)\n",
        "\n",
        "    # Transform data using PCA\n",
        "    data_train_trans = pca_train.transform(data_train)\n",
        "    data_test_trans = pca_train.transform(data_test)\n",
        "    \n",
        "    plt.figure()\n",
        "    plt.plot(np.cumsum(pca.explained_variance_ratio_))\n",
        "    plt.xlabel('Number of Components')\n",
        "    plt.ylabel('Variance (%)') # for each component\n",
        "    plt.title('data train set ')\n",
        "    plt.show()\n",
        "#print(np.cumsum(pca.explained_variance_ratio_))\n",
        "\n",
        "    # Return transformed train- and testdata\n",
        "    return data_train_trans, data_test_trans\n",
        "\n",
        "data_train_pca, data_test_pca = pca(data_train_scaled, data_test_scaled)\n",
        "print(data_train_pca.shape)\n",
        "print(data_test_pca.shape)\n",
        "\n"
      ],
      "execution_count": 0,
      "outputs": [
        {
          "output_type": "display_data",
          "data": {
            "image/png": "[encoded data removed]",
            "text/plain": [
              "<Figure size 576x396 with 1 Axes>"
            ]
          },
          "metadata": {
            "tags": []
          }
        },
        {
          "output_type": "stream",
          "text": [
            "(90, 55)\n",
            "(23, 55)\n"
          ],
          "name": "stdout"
        }
      ]
    },
    {
      "cell_type": "markdown",
      "metadata": {
        "id": "QmuPafMx1xRU",
        "colab_type": "text"
      },
      "source": [
        "## Lasso feature selection\n"
      ]
    },
    {
      "cell_type": "code",
      "metadata": {
        "id": "TCQII8nj144E",
        "colab_type": "code",
        "outputId": "d61bf4a7-904e-4b26-f89c-3b56e7e05e51",
        "colab": {
          "base_uri": "https://localhost:8080/",
          "height": 426
        }
      },
      "source": [
        "lasso = Lasso(max_iter=10000)\n",
        "n_alphas = 200\n",
        "alphas = np.logspace(-1.5, -0.1, n_alphas)\n",
        "\n",
        "tuned_parameters = [{'alpha': alphas}]\n",
        "n_folds = 5\n",
        "\n",
        "clf = GridSearchCV(lasso, tuned_parameters, cv=n_folds, refit=False)\n",
        "clf.fit(data_train_scaled, stage_train)\n",
        "scores = clf.cv_results_['mean_test_score']\n",
        "scores_std = clf.cv_results_['std_test_score']\n",
        "plt.figure().set_size_inches(8, 6)\n",
        "plt.semilogx(alphas, scores)\n",
        "\n",
        "# plot error lines showing +/- std. errors of the scores\n",
        "std_error = scores_std / np.sqrt(n_folds)\n",
        "\n",
        "plt.semilogx(alphas, scores + std_error, 'b--')\n",
        "plt.semilogx(alphas, scores - std_error, 'b--')\n",
        "\n",
        "# alpha=0.2 controls the translucency of the fill color\n",
        "plt.fill_between(alphas, scores + std_error, scores - std_error, alpha=0.2)\n",
        "\n",
        "plt.ylabel('CV score +/- std error')\n",
        "plt.xlabel('alpha')\n",
        "plt.axhline(np.max(scores), linestyle='--', color='.5')\n",
        "plt.xlim([alphas[0], alphas[-1]])\n",
        "\n",
        "# Instantiate the linear model and visualizer\n",
        "model = LassoCV(alphas=alphas)\n",
        "visualizer = AlphaSelection(model)\n",
        "visualizer.fit(data_train_scaled, stage_train)\n",
        "#visualizer.show()\n",
        "\n",
        "alpha_best = model.alpha_\n",
        "print(f'The optimal alpha = {alpha_best}')\n",
        "\n",
        "#L1_selection = Lasso(alpha=alpha_best, max_iter=10000)\n",
        "#L1_selection.fit(data_train_scaled, stage_train)\n",
        "#train_score=L1_selection.score(data_train_scaled,stage_train)\n",
        "#coeff_used = np.sum(L1_selection.coef_!=0)\n",
        "#print(\"training score:\", train_score) \n",
        "#print(\"number of features used: \", coeff_used)\n",
        "\n",
        "def lasso():\n",
        "    \"\"\"\n",
        "    Function to perform L1 feature selection\n",
        "    \"\"\"\" \n",
        "    alphas = np.logspace(-1.5, -0.1, n_alphas)\n",
        "    hyperparameters_l1 = [{'alpha': alphas}]\n",
        "    n_folds = 5\n",
        "    clf = GridSearchCV(lasso, hyperparameters_l1, cv=n_folds, refit=False)\n",
        "    model_l1 = LassoCV(alphas = alphas)\n",
        "    alpha_best = model.alpha_\n",
        "    selector_l1 = SelectFromModel(estimator=Lasso(alpha=alpha_best, random_state = 42))\n",
        "    selector_l1.fit(data_train, stage_train)\n",
        "    data_train_l1 = selector.transform(data_train)\n",
        "    data_test_l1 = selector.transform(data_test)\n",
        "    return data_train_l1, data_test_l1\n",
        "\n",
        "def uni(data_train, data_test, stage_train, percentile=20):\n",
        "    \"\"\"\n",
        "    Function to perform univariate feature selection\n",
        "    \"\"\"\n",
        "    # Apply SelectPercentile to train data to extract top best features according to train data\n",
        "    selector_uni = SelectPercentile(f_classif, percentile)\n",
        "    selector_uni.fit(data_train, stage_train)\n",
        "    data_train_uni = selector_uni.transform(data_train)\n",
        "    data_test_uni = selector_uni.transform(data_test)\n",
        "\n",
        "    return data_train_uni, data_test_uni\n",
        "\n",
        "selector = SelectFromModel(estimator=Lasso(alpha=alpha_best, random_state = 42))\n",
        "selector.fit(data_train_scaled, stage_train)\n",
        "n_original = data_train_scaled.shape[1]\n",
        "data_train_l1 = selector.transform(data_train_scaled)\n",
        "data_test_l1 = selector.transform(data_test_scaled)\n",
        "n_selected = data_train_l1.shape[1]\n",
        "print(f\"Selected {n_selected} from {n_original} features.\")\n",
        "\n"
      ],
      "execution_count": 0,
      "outputs": [
        {
          "output_type": "stream",
          "text": [
            "The optimal alpha = 0.049771980766083426\n",
            "Selected 14 from 150 features.\n"
          ],
          "name": "stdout"
        },
        {
          "output_type": "display_data",
          "data": {
            "image/png": "[encoded data removed]",
            "text/plain": [
              "<Figure size 576x432 with 1 Axes>"
            ]
          },
          "metadata": {
            "tags": []
          }
        }
      ]
    },
    {
      "cell_type": "markdown",
      "metadata": {
        "id": "QKWj0zjn2Qh8",
        "colab_type": "text"
      },
      "source": [
        "## kNN "
      ]
    },
    {
      "cell_type": "code",
      "metadata": {
        "id": "PiMfkWwc2Uxg",
        "colab_type": "code",
        "outputId": "472a5ea8-1839-48a6-e795-35e4122e6f30",
        "colab": {
          "base_uri": "https://localhost:8080/",
          "height": 1000
        }
      },
      "source": [
        "def knn_classifier(leaf_size, p, n_neigbors, weights, data_train, data_test, label_train, label_test):\n",
        "  \n",
        "    \"\"\"\n",
        "    Function for kNN training and testing\n",
        "\n",
        "        data_train =  training data (type = list)\n",
        "        data_test_trans = testing data (type = list)\n",
        "        label_train = class of training data (type = list)\n",
        "        label_test = class of testing data (type = list)\n",
        "        \n",
        "    Output is two lists with the predicted class of the train- and testdata \n",
        "    \"\"\"\n",
        "    knn = neighbors.KNeighborsClassifier(n_neighbors = n_neigbors)\n",
        "    knn.fit(data_train, label_train)\n",
        "    label_train_knn = knn.predict(data_train)\n",
        "    label_test_knn = knn.predict(data_test)\n",
        "    score_train = knn.score(data_train, label_train)\n",
        "    score_test = knn.score(data_test, label_test)\n",
        "    return score_train, score_test, label_train_knn, label_test_knn\n",
        "\n",
        "# Hyperparameters optimization \n",
        "leaf_size = list(range(1,50))\n",
        "n_n = list(range(1,50))\n",
        "p=[1,2]\n",
        "weights = ['uniform', 'distance']\n",
        "\n",
        "hyperparameters = dict(leaf_size=leaf_size, n_neighbors=n_n, p=p, weights = weights)\n",
        "knn_tune = neighbors.KNeighborsClassifier()\n",
        "clf_tune_knn = model_selection.RandomizedSearchCV(knn_tune, hyperparameters, n_iter = 30, cv=5)\n",
        "\n",
        " # 10 keer opnieuw train-val   \n",
        "sss = model_selection.StratifiedShuffleSplit(n_splits=10, test_size=0.2, random_state=42)\n",
        "\n",
        "score_train_lasso = []\n",
        "score_val_lasso = []\n",
        "score_train_uni = []\n",
        "score_val_uni = []\n",
        "score_train_pca = []\n",
        "score_val_pca = []\n",
        "\n",
        "selectorlasso = SelectFromModel(estimator=Lasso(alpha=0.067, random_state = 42))\n",
        "selectoruni = SelectPercentile(f_classif, percentile=20)\n",
        "selectorpca = PCA(n_components = 20)\n",
        "selectors = [selectorlasso, selectoruni, selectorpca]\n",
        "\n",
        "score_train_box = []\n",
        "score_val_box = []\n",
        "sens_val_box = []\n",
        "spec_val_box = []\n",
        "\n",
        "for selector in selectors: \n",
        "    score_train_selector = []\n",
        "    score_val_selector = []\n",
        "    sens_val_selector = []\n",
        "    spec_val_selector = []\n",
        "    auc_val_selector = []\n",
        "    for train_index, val_index in sss.split(data_train_scaled, stage_train):\n",
        "        stage_train_k = np.array(stage_train)  \n",
        "\n",
        "        split_X_train = data_train_scaled.loc[train_index]\n",
        "        split_y_train = stage_train_k[train_index]\n",
        "        split_X_val = data_train_scaled.loc[val_index]\n",
        "        split_y_val = stage_train_k[val_index]\n",
        "\n",
        "        selector.fit(split_X_train, split_y_train)\n",
        "        split_X_train = selector.transform(split_X_train)\n",
        "        split_X_val = selector.transform(split_X_val)\n",
        "\n",
        "        best_model = clf_tune_knn.fit(split_X_train, split_y_train)\n",
        "        leaf_size_best = best_model.best_estimator_.get_params()['leaf_size']\n",
        "        p_best = best_model.best_estimator_.get_params()['p']\n",
        "        n_n_best = best_model.best_estimator_.get_params()['n_neighbors']\n",
        "        weights_best = best_model.best_estimator_.get_params()['weights']\n",
        "   \n",
        "        score_train, score_val, label_train, label_val = knn_classifier(leaf_size_best, \n",
        "                        p_best, n_n_best, weights_best, split_X_train, split_X_val, split_y_train, split_y_val)\n",
        "        \n",
        "        conf = confusion_matrix(split_y_val, label_val)\n",
        "        sens_val = conf[0, 0]/(conf[0, 0]+conf[0, 1])\n",
        "        spec_val = conf[1, 1]/(conf[1, 0]+conf[1, 1])\n",
        "        \n",
        "        auc_val=metrics.roc_auc_score(label_val, split_y_val)\n",
        "\n",
        "        score_train_selector.append(score_train)\n",
        "        score_val_selector.append(score_val)   \n",
        "        sens_val_selector.append(sens_val)\n",
        "        spec_val_selector.append(spec_val)\n",
        "        auc_val_selector.append(auc_val)\n",
        "\n",
        "        mean_train = mean(score_train_selector)\n",
        "        mean_val = mean(score_val_selector)\n",
        "        mean_sens = mean(sens_val_selector)\n",
        "        mean_spec = mean(spec_val_selector)\n",
        "        mean_auc=mean(auc_val_selector)\n",
        "    \n",
        "    score_train_box.append(score_train_selector)\n",
        "    score_val_box.append(score_val_selector)\n",
        "    sens_val_box.append(sens_val_selector)\n",
        "    spec_val_box.append(spec_val_selector)\n",
        "\n",
        "   \n",
        "    print(f'The train accuracy of a kNN x classifier with x feature selection: {mean_train}')\n",
        "    print(f'The validation accuracy of a kNN x classifier with x feature selection: {mean_val}')\n",
        "    print(f'The AUC of validation data: {mean_auc}')\n",
        "    print(f'The sensitivity of validation data: {mean_sens}')\n",
        "    print(f'The specificity of validation data: {mean_spec}')\n",
        "\n",
        "plt.figure(1)\n",
        "sns.boxplot(data=score_val_box).set_title('Accuracy')\n",
        "\n",
        "plt.figure(2)\n",
        "sns.boxplot(data=sens_val_box)\n",
        "\n",
        "plt.figure(3)\n",
        "sns.boxplot(data=spec_val_box)\n"
      ],
      "execution_count": 0,
      "outputs": [
        {
          "output_type": "stream",
          "text": [
            "The train accuracy of a kNN x classifier with x feature selection: 0.8625\n",
            "The validation accuracy of a kNN x classifier with x feature selection: 0.6666666666666666\n",
            "The AUC of validation data: 0.6912382062382063\n",
            "The sensitivity of validation data: 0.6333333333333333\n",
            "The specificity of validation data: 0.7\n",
            "The train accuracy of a kNN x classifier with x feature selection: 0.7819444444444444\n",
            "The validation accuracy of a kNN x classifier with x feature selection: 0.6833333333333333\n",
            "The AUC of validation data: 0.6981800144300144\n",
            "The sensitivity of validation data: 0.6888888888888889\n",
            "The specificity of validation data: 0.6777777777777778\n",
            "The train accuracy of a kNN x classifier with x feature selection: 0.8569444444444445\n",
            "The validation accuracy of a kNN x classifier with x feature selection: 0.6944444444444444\n",
            "The AUC of validation data: 0.7098303085803086\n",
            "The sensitivity of validation data: 0.6222222222222222\n",
            "The specificity of validation data: 0.7666666666666666\n"
          ],
          "name": "stdout"
        },
        {
          "output_type": "execute_result",
          "data": {
            "text/plain": [
              "<matplotlib.axes._subplots.AxesSubplot at 0x7f1d55affb38>"
            ]
          },
          "metadata": {
            "tags": []
          },
          "execution_count": 11
        },
        {
          "output_type": "display_data",
          "data": {
            "image/png": "[encoded data removed]",
            "text/plain": [
              "<Figure size 576x396 with 1 Axes>"
            ]
          },
          "metadata": {
            "tags": []
          }
        },
        {
          "output_type": "display_data",
          "data": {
            "image/png": "[encoded data removed]",
            "text/plain": [
              "<Figure size 576x396 with 1 Axes>"
            ]
          },
          "metadata": {
            "tags": []
          }
        },
        {
          "output_type": "display_data",
          "data": {
            "image/png": "[encoded data removed]",
            "text/plain": [
              "<Figure size 576x396 with 1 Axes>"
            ]
          },
          "metadata": {
            "tags": []
          }
        }
      ]
    },
    {
      "cell_type": "markdown",
      "metadata": {
        "id": "oD8nbCaz_XQy",
        "colab_type": "text"
      },
      "source": [
        "## SVM "
      ]
    },
    {
      "cell_type": "code",
      "metadata": {
        "id": "dIbwSi_x_ODV",
        "colab_type": "code",
        "outputId": "a4db5336-954e-4594-f2c9-dafe50ad8aea",
        "colab": {
          "base_uri": "https://localhost:8080/",
          "height": 1000
        }
      },
      "source": [
        "def svm_classifier(C, kernel, degree, gamma, data_train, data_test, label_train, label_test):\n",
        "    \"\"\"\n",
        "    Function for SVM training and testing\n",
        "\n",
        "        data_train =  training data (type = list)\n",
        "        data_test_trans = testing data (type = list)\n",
        "        label_train = class of training data (type = list)\n",
        "        label_test = class of testing data (type = list)\n",
        "        svm_kernel = different kernels to be used (type = string)\n",
        "\n",
        "    Output is two lists with the predicted class of the train- and testdata\n",
        "    \"\"\"\n",
        "    svc = svm.SVC(C=C, kernel=kernel, degree=degree, gamma=gamma)\n",
        "    svc.fit(data_train, label_train)\n",
        "\n",
        "    # Predict the classes of the data \n",
        "    label_train_svm = svc.predict(data_train)\n",
        "    label_test_svm= svc.predict(data_test)\n",
        "\n",
        "    score_train = svc.score(data_train, label_train)\n",
        "    score_test = svc.score(data_test, label_test)\n",
        "    \n",
        "    return score_train, score_test, label_train_svm, label_test_svm\n",
        "\n",
        "#KERNELS \n",
        "kernels = ['linear', 'poly', 'rbf']\n",
        "gammas = [0.1, 1, 10, 100]\n",
        "cs = [0.1, 1, 10, 100, 1000]\n",
        "degrees = [0, 1, 2, 3, 4, 5, 6] # use only for 'poly'\n",
        "\n",
        "hyperparameters = dict(kernel = kernels, gamma = gammas, C = cs, degree = degrees)\n",
        "svm_tune = svm.SVC()\n",
        "clf_tune_svm = model_selection.RandomizedSearchCV(svm_tune, hyperparameters, n_iter = 30, cv=5)\n",
        "\n",
        "# 10 keer opnieuw train-val   \n",
        "sss = model_selection.StratifiedShuffleSplit(n_splits=5, test_size=0.2, random_state=42)\n",
        "\n",
        "selectorlasso = SelectFromModel(estimator=Lasso(alpha=0.067, random_state = 42))\n",
        "selectoruni = SelectPercentile(f_classif, percentile=20)\n",
        "selectorpca = PCA(n_components = 20)\n",
        "selectors = [selectorlasso, selectoruni, selectorpca]\n",
        "\n",
        "score_train_box = []\n",
        "score_val_box = []\n",
        "sens_val_box = []\n",
        "spec_val_box = []\n",
        "\n",
        "#SVM met verschillende feature selection methods\n",
        "for selector in selectors: \n",
        "    score_train_selector = []\n",
        "    score_val_selector = [] \n",
        "    sens_val_selector = []\n",
        "    spec_val_selector = []\n",
        "    auc_val_selector = []\n",
        "    for train_index, val_index in sss.split(data_train_scaled, stage_train):\n",
        "        stage_train_k = np.array(stage_train)  \n",
        "\n",
        "        split_X_train = data_train_scaled.loc[train_index]\n",
        "        split_y_train = stage_train_k[train_index]\n",
        "        split_X_val = data_train_scaled.loc[val_index]\n",
        "        split_y_val = stage_train_k[val_index]\n",
        "       \n",
        "       # Fit Feature Selection\n",
        "        selector.fit(split_X_train, split_y_train)\n",
        "        split_X_train = selector.transform(split_X_train)\n",
        "        split_X_val = selector.transform(split_X_val)\n",
        "\n",
        "        best_model_svm = clf_tune_svm.fit(split_X_train, split_y_train)\n",
        "        kernel_best = best_model_svm.best_estimator_.get_params()['kernel']\n",
        "        gamma_best = best_model_svm.best_estimator_.get_params()['gamma']\n",
        "        c_best = best_model_svm.best_estimator_.get_params()['C']\n",
        "        degree_best = best_model_svm.best_estimator_.get_params()['degree']\n",
        "    \n",
        "        score_train, score_val, label_train, label_val = svm_classifier(c_best, \n",
        "                  kernel_best, degree_best, gamma_best, split_X_train, split_X_val, split_y_train, split_y_val)\n",
        "    \n",
        "        conf = confusion_matrix(split_y_val, label_val)\n",
        "        sens_val = conf[0, 0]/(conf[0, 0]+conf[0, 1])\n",
        "        spec_val = conf[1, 1]/(conf[1, 0]+conf[1, 1])\n",
        "        auc_val=metrics.roc_auc_score(label_val, split_y_val)\n",
        "\n",
        "        score_train_selector.append(score_train)\n",
        "        score_val_selector.append(score_val)   \n",
        "        sens_val_selector.append(sens_val)\n",
        "        spec_val_selector.append(spec_val)\n",
        "        auc_val_selector.append(auc_val)\n",
        "\n",
        "        mean_train = mean(score_train_selector)\n",
        "        mean_val = mean(score_val_selector)\n",
        "        mean_sens = mean(sens_val_selector)\n",
        "        mean_spec = mean(spec_val_selector)\n",
        "        mean_auc=mean(auc_val_selector)\n",
        "    \n",
        "    score_train_box.append(score_train_selector)\n",
        "    score_val_box.append(score_val_selector)\n",
        "    sens_val_box.append(sens_val_selector)\n",
        "    spec_val_box.append(spec_val_selector)\n",
        "\n",
        "   \n",
        "    print(f'The train accuracy of a kNN x classifier with x feature selection: {mean_train}')\n",
        "    print(f'The validation accuracy of a kNN x classifier with x feature selection: {mean_val}')\n",
        "    print(f'The AUC of validation data: {mean_auc}')\n",
        "    print(f'The sensitivity of validation data: {mean_sens}')\n",
        "    print(f'The specificity of validation data: {mean_spec}')\n",
        "\n",
        "plt.figure(1)\n",
        "sns.boxplot(data=score_val_box).set_title('Accuracy')\n",
        "\n",
        "plt.figure(2)\n",
        "sns.boxplot(data=sens_val_box)\n",
        "\n",
        "plt.figure(3)\n",
        "sns.boxplot(data=spec_val_box)\n",
        "\n"
      ],
      "execution_count": 0,
      "outputs": [
        {
          "output_type": "stream",
          "text": [
            "The train accuracy of a kNN x classifier with x feature selection: 0.8722222222222222\n",
            "The validation accuracy of a kNN x classifier with x feature selection: 0.7333333333333333\n",
            "The AUC of validation data: 0.7661111111111112\n",
            "The sensitivity of validation data: 0.6888888888888889\n",
            "The specificity of validation data: 0.7777777777777778\n",
            "The train accuracy of a kNN x classifier with x feature selection: 0.9166666666666666\n",
            "The validation accuracy of a kNN x classifier with x feature selection: 0.6444444444444445\n",
            "The AUC of validation data: 0.6590601065601066\n",
            "The sensitivity of validation data: 0.5777777777777777\n",
            "The specificity of validation data: 0.711111111111111\n",
            "The train accuracy of a kNN x classifier with x feature selection: 0.9333333333333333\n",
            "The validation accuracy of a kNN x classifier with x feature selection: 0.6222222222222222\n",
            "The AUC of validation data: 0.6427794427794429\n",
            "The sensitivity of validation data: 0.5555555555555556\n",
            "The specificity of validation data: 0.6888888888888889\n"
          ],
          "name": "stdout"
        },
        {
          "output_type": "execute_result",
          "data": {
            "text/plain": [
              "<matplotlib.axes._subplots.AxesSubplot at 0x7f1d52fdd278>"
            ]
          },
          "metadata": {
            "tags": []
          },
          "execution_count": 12
        },
        {
          "output_type": "display_data",
          "data": {
            "image/png": "[encoded data removed]",
            "text/plain": [
              "<Figure size 576x396 with 1 Axes>"
            ]
          },
          "metadata": {
            "tags": []
          }
        },
        {
          "output_type": "display_data",
          "data": {
            "image/png": "[encoded data removed]",
            "text/plain": [
              "<Figure size 576x396 with 1 Axes>"
            ]
          },
          "metadata": {
            "tags": []
          }
        },
        {
          "output_type": "display_data",
          "data": {
            "image/png": "[encoded data removed]",
            "text/plain": [
              "<Figure size 576x396 with 1 Axes>"
            ]
          },
          "metadata": {
            "tags": []
          }
        }
      ]
    },
    {
      "cell_type": "code",
      "metadata": {
        "id": "NrVVzsV7xkz3",
        "colab_type": "code",
        "colab": {}
      },
      "source": [
        ""
      ],
      "execution_count": 0,
      "outputs": []
    },
    {
      "cell_type": "markdown",
      "metadata": {
        "id": "-35ahwqXNmBZ",
        "colab_type": "text"
      },
      "source": [
        "## Random Forest"
      ]
    },
    {
      "cell_type": "code",
      "metadata": {
        "id": "3Tl-R6VRNoOX",
        "colab_type": "code",
        "outputId": "ed7a87b6-f90b-41be-d4c5-05c839664bc8",
        "colab": {
          "base_uri": "https://localhost:8080/",
          "height": 453
        }
      },
      "source": [
        "def rfc_classifier(n_estimators, max_depth, min_samples_split, min_samples_leaf, \n",
        "                   bootstrap, class_weight, data_train, data_test, label_train, \n",
        "                   label_test):\n",
        "    \"\"\"\n",
        "    Function for RFC training and testing\n",
        "\n",
        "        data_train =  training data (type = list)\n",
        "        data_test_trans = testing data (type = list)\n",
        "        label_train = class of training data (type = list)\n",
        "        label_test = class of testing data (type = list)\n",
        "        \n",
        "    Output is two lists with the predicted class of the train- and testdata \n",
        "    \"\"\"\n",
        "    # Create Random Forest Classifier and fit classifier on traindata\n",
        "    rfc = RandomForestClassifier(n_estimators = n_estimators, max_depth = \n",
        "              max_depth, min_samples_split = min_samples_split, \n",
        "             min_samples_leaf = min_samples_leaf, bootstrap = bootstrap,\n",
        "             class_weight = class_weight)\n",
        "    rfc.fit(data_train, label_train)\n",
        "\n",
        "    # Predict labels for train- and testdata\n",
        "    label_train_rfc = rfc.predict(data_train)\n",
        "    label_test_rfc = rfc.predict(data_test)\n",
        "    \n",
        "    score_train = rfc.score(data_train, label_train)\n",
        "    score_test = rfc.score(data_test, label_test)\n",
        "\n",
        "    return score_train, score_test, label_train_rfc, label_test_rfc\n",
        "\n",
        "# Hyperparameters optimization\n",
        "n_estimators = [10, 30, 50, 100, 300]     \n",
        "max_depth = [5, 10, 15, 20, 30]                \n",
        "min_samples_split = [2, 7, 10, 12, 20]      \n",
        "min_samples_leaf = [1, 5, 10, 15, 20]             \n",
        "bootstrap = [True, False]\n",
        "class_weight = [{0: 1, 1: 0.001}, {0: 1, 1: 1}, {0: 1, 1: 10}, {0: 1, 1: 100}]\n",
        "\n",
        "\n",
        "hyperparameters_rfc = dict(n_estimators = n_estimators, max_depth = max_depth,  \n",
        "              min_samples_split = min_samples_split, \n",
        "             min_samples_leaf = min_samples_leaf, bootstrap = bootstrap, \n",
        "             class_weight = class_weight)\n",
        "rfc_tune = RandomForestClassifier()\n",
        "clf_tune_rfc = model_selection.RandomizedSearchCV(rfc_tune, hyperparameters_rfc, n_iter = 30, cv=5)\n",
        "\n",
        "# 10 keer opnieuw train-val   \n",
        "sss = model_selection.StratifiedShuffleSplit(n_splits=5, test_size=0.2, random_state=42)\n",
        "\n",
        "selectorlasso = SelectFromModel(estimator=Lasso(alpha=0.067, random_state = 42))\n",
        "selectoruni = SelectPercentile(f_classif, percentile=20)\n",
        "selectorpca = PCA(n_components = 20)\n",
        "selectors = [selectorlasso, selectoruni, selectorpca]\n",
        "\n",
        "score_train_box = []\n",
        "score_val_box = []\n",
        "sens_val_box = []\n",
        "spec_val_box = []\n",
        "\n",
        "# RF met feature selection methods\n",
        "for selector in selectors: \n",
        "    score_train_selector = []\n",
        "    score_val_selector = [] \n",
        "    sens_val_selector = []\n",
        "    spec_val_selector = []\n",
        "    auc_val_selector = []\n",
        "    for train_index, val_index in sss.split(data_train_scaled, stage_train):\n",
        "        stage_train_k = np.array(stage_train)  \n",
        "        split_X_train = data_train_scaled.loc[train_index]\n",
        "        split_y_train = stage_train_k[train_index]\n",
        "        split_X_val = data_train_scaled.loc[val_index]\n",
        "        split_y_val = stage_train_k[val_index]\n",
        "       \n",
        "       # Fit Feature Selection\n",
        "        selector.fit(split_X_train, split_y_train)\n",
        "        split_X_train = selector.transform(split_X_train)\n",
        "        split_X_val = selector.transform(split_X_val)\n",
        "\n",
        "        best_model_rfc = clf_tune_rfc.fit(split_X_train, split_y_train)\n",
        "\n",
        "        n_estimators_best = best_model_rfc.best_estimator_.get_params()['n_estimators']\n",
        "        max_depth_best = best_model_rfc.best_estimator_.get_params()['max_depth']\n",
        "        min_samples_split_best = best_model_rfc.best_estimator_.get_params()['min_samples_split']\n",
        "        min_samples_leaf_best = best_model_rfc.best_estimator_.get_params()['min_samples_leaf']\n",
        "        bootstrap_best = best_model_rfc.best_estimator_.get_params()['bootstrap']\n",
        "        class_weight_best = best_model_rfc.best_estimator_.get_params()['class_weight']\n",
        "\n",
        "        score_train, score_val, label_train_, label_val = rfc_classifier(n_estimators_best, \n",
        "                        max_depth_best, min_samples_split_best, min_samples_leaf_best, \n",
        "                        bootstrap_best, class_weight_best, split_X_train, split_X_val, \n",
        "                        split_y_train, split_y_val)\n",
        "    \n",
        "        conf = confusion_matrix(split_y_val, label_val)\n",
        "        sens_val = conf[0, 0]/(conf[0, 0]+conf[0, 1])\n",
        "        spec_val = conf[1, 1]/(conf[1, 0]+conf[1, 1])\n",
        "        \n",
        "        auc_val=metrics.roc_auc_score(label_val, split_y_val)\n",
        "\n",
        "        score_train_selector.append(score_train)\n",
        "        score_val_selector.append(score_val)   \n",
        "        sens_val_selector.append(sens_val)\n",
        "        spec_val_selector.append(spec_val)\n",
        "        auc_val_selector.append(auc_val)\n",
        "\n",
        "        mean_train = mean(score_train_selector)\n",
        "        mean_val = mean(score_val_selector)\n",
        "        mean_sens = mean(sens_val_selector)\n",
        "        mean_spec = mean(spec_val_selector)\n",
        "        mean_auc=mean(auc_val_selector)\n",
        "    \n",
        "    score_train_box.append(score_train_selector)\n",
        "    score_val_box.append(score_val_selector)\n",
        "    sens_val_box.append(sens_val_selector)\n",
        "    spec_val_box.append(spec_val_selector)\n",
        "\n",
        "   \n",
        "    print(f'The train accuracy of a kNN x classifier with x feature selection: {mean_train}')\n",
        "    print(f'The validation accuracy of a kNN x classifier with x feature selection: {mean_val}')\n",
        "    print(f'The AUC of validation data: {mean_auc}')\n",
        "    print(f'The sensitivity of validation data: {mean_sens}')\n",
        "    print(f'The specificity of validation data: {mean_spec}')\n",
        "\n",
        "plt.figure(1)\n",
        "sns.boxplot(data=score_val_box).set_title('Accuracy')\n",
        "\n",
        "plt.figure(2)\n",
        "sns.boxplot(data=sens_val_box)\n",
        "\n",
        "plt.figure(3)\n",
        "sns.boxplot(data=spec_val_box)\n"
      ],
      "execution_count": 0,
      "outputs": [
        {
          "output_type": "stream",
          "text": [
            "The train accuracy of a kNN x classifier with x feature selection: 0.8361111111111111\n",
            "The validation accuracy of a kNN x classifier with x feature selection: 0.6777777777777778\n",
            "The AUC of validation data: 0.6982267732267732\n",
            "The sensitivity of validation data: 0.6222222222222222\n",
            "The specificity of validation data: 0.7333333333333333\n"
          ],
          "name": "stdout"
        },
        {
          "output_type": "error",
          "ename": "ValueError",
          "evalue": "ignored",
          "traceback": [
            "\u001b[0;31m---------------------------------------------------------------------------\u001b[0m",
            "\u001b[0;31mValueError\u001b[0m                                Traceback (most recent call last)",
            "\u001b[0;32m<ipython-input-95-a98e6ae99028>\u001b[0m in \u001b[0;36m<module>\u001b[0;34m()\u001b[0m\n\u001b[1;32m     94\u001b[0m         \u001b[0mspec_val\u001b[0m \u001b[0;34m=\u001b[0m \u001b[0mconf\u001b[0m\u001b[0;34m[\u001b[0m\u001b[0;36m1\u001b[0m\u001b[0;34m,\u001b[0m \u001b[0;36m1\u001b[0m\u001b[0;34m]\u001b[0m\u001b[0;34m/\u001b[0m\u001b[0;34m(\u001b[0m\u001b[0mconf\u001b[0m\u001b[0;34m[\u001b[0m\u001b[0;36m1\u001b[0m\u001b[0;34m,\u001b[0m \u001b[0;36m0\u001b[0m\u001b[0;34m]\u001b[0m\u001b[0;34m+\u001b[0m\u001b[0mconf\u001b[0m\u001b[0;34m[\u001b[0m\u001b[0;36m1\u001b[0m\u001b[0;34m,\u001b[0m \u001b[0;36m1\u001b[0m\u001b[0;34m]\u001b[0m\u001b[0;34m)\u001b[0m\u001b[0;34m\u001b[0m\u001b[0;34m\u001b[0m\u001b[0m\n\u001b[1;32m     95\u001b[0m \u001b[0;34m\u001b[0m\u001b[0m\n\u001b[0;32m---> 96\u001b[0;31m         \u001b[0mauc_val\u001b[0m\u001b[0;34m=\u001b[0m\u001b[0mmetrics\u001b[0m\u001b[0;34m.\u001b[0m\u001b[0mroc_auc_score\u001b[0m\u001b[0;34m(\u001b[0m\u001b[0mlabel_val\u001b[0m\u001b[0;34m,\u001b[0m \u001b[0msplit_y_val\u001b[0m\u001b[0;34m)\u001b[0m\u001b[0;34m\u001b[0m\u001b[0;34m\u001b[0m\u001b[0m\n\u001b[0m\u001b[1;32m     97\u001b[0m \u001b[0;34m\u001b[0m\u001b[0m\n\u001b[1;32m     98\u001b[0m         \u001b[0mscore_train_selector\u001b[0m\u001b[0;34m.\u001b[0m\u001b[0mappend\u001b[0m\u001b[0;34m(\u001b[0m\u001b[0mscore_train\u001b[0m\u001b[0;34m)\u001b[0m\u001b[0;34m\u001b[0m\u001b[0;34m\u001b[0m\u001b[0m\n",
            "\u001b[0;32m/usr/local/lib/python3.6/dist-packages/sklearn/metrics/_ranking.py\u001b[0m in \u001b[0;36mroc_auc_score\u001b[0;34m(y_true, y_score, average, sample_weight, max_fpr, multi_class, labels)\u001b[0m\n\u001b[1;32m    388\u001b[0m                                              max_fpr=max_fpr),\n\u001b[1;32m    389\u001b[0m                                      \u001b[0my_true\u001b[0m\u001b[0;34m,\u001b[0m \u001b[0my_score\u001b[0m\u001b[0;34m,\u001b[0m \u001b[0maverage\u001b[0m\u001b[0;34m,\u001b[0m\u001b[0;34m\u001b[0m\u001b[0;34m\u001b[0m\u001b[0m\n\u001b[0;32m--> 390\u001b[0;31m                                      sample_weight=sample_weight)\n\u001b[0m\u001b[1;32m    391\u001b[0m     \u001b[0;32melse\u001b[0m\u001b[0;34m:\u001b[0m  \u001b[0;31m# multilabel-indicator\u001b[0m\u001b[0;34m\u001b[0m\u001b[0;34m\u001b[0m\u001b[0m\n\u001b[1;32m    392\u001b[0m         return _average_binary_score(partial(_binary_roc_auc_score,\n",
            "\u001b[0;32m/usr/local/lib/python3.6/dist-packages/sklearn/metrics/_base.py\u001b[0m in \u001b[0;36m_average_binary_score\u001b[0;34m(binary_metric, y_true, y_score, average, sample_weight)\u001b[0m\n\u001b[1;32m     75\u001b[0m \u001b[0;34m\u001b[0m\u001b[0m\n\u001b[1;32m     76\u001b[0m     \u001b[0;32mif\u001b[0m \u001b[0my_type\u001b[0m \u001b[0;34m==\u001b[0m \u001b[0;34m\"binary\"\u001b[0m\u001b[0;34m:\u001b[0m\u001b[0;34m\u001b[0m\u001b[0;34m\u001b[0m\u001b[0m\n\u001b[0;32m---> 77\u001b[0;31m         \u001b[0;32mreturn\u001b[0m \u001b[0mbinary_metric\u001b[0m\u001b[0;34m(\u001b[0m\u001b[0my_true\u001b[0m\u001b[0;34m,\u001b[0m \u001b[0my_score\u001b[0m\u001b[0;34m,\u001b[0m \u001b[0msample_weight\u001b[0m\u001b[0;34m=\u001b[0m\u001b[0msample_weight\u001b[0m\u001b[0;34m)\u001b[0m\u001b[0;34m\u001b[0m\u001b[0;34m\u001b[0m\u001b[0m\n\u001b[0m\u001b[1;32m     78\u001b[0m \u001b[0;34m\u001b[0m\u001b[0m\n\u001b[1;32m     79\u001b[0m     \u001b[0mcheck_consistent_length\u001b[0m\u001b[0;34m(\u001b[0m\u001b[0my_true\u001b[0m\u001b[0;34m,\u001b[0m \u001b[0my_score\u001b[0m\u001b[0;34m,\u001b[0m \u001b[0msample_weight\u001b[0m\u001b[0;34m)\u001b[0m\u001b[0;34m\u001b[0m\u001b[0;34m\u001b[0m\u001b[0m\n",
            "\u001b[0;32m/usr/local/lib/python3.6/dist-packages/sklearn/metrics/_ranking.py\u001b[0m in \u001b[0;36m_binary_roc_auc_score\u001b[0;34m(y_true, y_score, sample_weight, max_fpr)\u001b[0m\n\u001b[1;32m    219\u001b[0m     \u001b[0;34m\"\"\"Binary roc auc score\"\"\"\u001b[0m\u001b[0;34m\u001b[0m\u001b[0;34m\u001b[0m\u001b[0m\n\u001b[1;32m    220\u001b[0m     \u001b[0;32mif\u001b[0m \u001b[0mlen\u001b[0m\u001b[0;34m(\u001b[0m\u001b[0mnp\u001b[0m\u001b[0;34m.\u001b[0m\u001b[0munique\u001b[0m\u001b[0;34m(\u001b[0m\u001b[0my_true\u001b[0m\u001b[0;34m)\u001b[0m\u001b[0;34m)\u001b[0m \u001b[0;34m!=\u001b[0m \u001b[0;36m2\u001b[0m\u001b[0;34m:\u001b[0m\u001b[0;34m\u001b[0m\u001b[0;34m\u001b[0m\u001b[0m\n\u001b[0;32m--> 221\u001b[0;31m         raise ValueError(\"Only one class present in y_true. ROC AUC score \"\n\u001b[0m\u001b[1;32m    222\u001b[0m                          \"is not defined in that case.\")\n\u001b[1;32m    223\u001b[0m \u001b[0;34m\u001b[0m\u001b[0m\n",
            "\u001b[0;31mValueError\u001b[0m: Only one class present in y_true. ROC AUC score is not defined in that case."
          ]
        }
      ]
    },
    {
      "cell_type": "markdown",
      "metadata": {
        "id": "-TevEkooxEcZ",
        "colab_type": "text"
      },
      "source": [
        "## Neural network\n",
        "\n",
        "\n",
        "*   Classifier obv neural network\n",
        "*   Met cross validatie selectie van de juiste hyperparameters: hidden_layer_sizes, activation, solver, alpha, learning_rate, batch_size. Eventueel tunen op nog meer hyperparameters?\n",
        "*   Getuned mbv randomized search\n",
        "\n",
        "\n",
        "## stond nog erin, weet niet of het weg moet\n",
        "neural_network = MLPClassifier(solver='lbfgs', alpha=1e-5, hidden_layer_sizes=(15,), random_state=1)\n",
        "\n",
        "neural_network.fit(data_train_l1, stage_train)\n",
        "\n",
        "score_train_neural_network = neural_network.score(data_train_l1, stage_train)\n",
        "\n",
        "score_test_neural_network = neural_network.score(data_test_l1, stage_test)\n",
        "\n"
      ]
    },
    {
      "cell_type": "code",
      "metadata": {
        "id": "KOvYRiiTxWVL",
        "colab_type": "code",
        "colab": {}
      },
      "source": [
        "def neural_network_classifier(hidden_layer_sizes, activation, solver, alpha, learning_rate, \n",
        "                              batch_size, data_train, data_test, label_train, label_test):\n",
        "    \"\"\"\n",
        "    Function for neural network training and testing\n",
        "\n",
        "        data_train =  training data (type = list)\n",
        "        data_test_trans = testing data (type = list)\n",
        "        label_train = class of training data (type = list)\n",
        "        label_test = class of testing data (type = list)\n",
        "        \n",
        "    Output is two lists with the predicted class of the train- and testdata \n",
        "    \"\"\"\n",
        "    # Create neural network Classifier and fit classifier on traindata\n",
        "    neural_network = MLPClassifier(hidden_layer_sizes = hidden_layer_sizes, activation = \n",
        "              activation, solver = solver, \n",
        "             alpha = alpha, learning_rate = learning_rate,\n",
        "             batch_size = batch_size)\n",
        "    neural_network.fit(data_train, label_train)\n",
        "\n",
        "    # Scores and predicted labels of neural network classifier\n",
        "    label_train_neural_network = neural_network.predict(data_train)\n",
        "    label_test_neural_network = neural_network.predict(data_test)\n",
        "    \n",
        "    score_train_neural_network = neural_network.score(data_train, label_train)\n",
        "    score_test_neural_network = neural_network.score(data_test, label_test)\n",
        "\n",
        "    return score_train_neural_network, score_test_neural_network, label_train_neural_network, label_test_neural_network\n",
        "\n",
        "# Hyperparameters optimization\n",
        "\n",
        "hyperparameters_neural_network = {'hidden_layer_sizes': [(50,50,50), (50,100,50), (100,)],\n",
        "                                  'activation': ['tanh', 'relu','identity', 'logistic'], \n",
        "                                  'solver': ['lbfgs', 'sgd', 'adam'],\n",
        "                                  'alpha':[0.0001, 0.005, 0.05],\n",
        "                                  'learning_rate':['constant', 'adaptive'],\n",
        "                                  'batch_size':[5, 10, 15, 20, 25]}\n",
        "neural_network_tune = MLPClassifier()\n",
        "clf_tune_neural_network = model_selection.RandomizedSearchCV(neural_network_tune, \n",
        "                                      hyperparameters_neural_network, n_iter = 30, cv=5)\n",
        "\n",
        "# For loop for calculation\n",
        "score_train_nn = []\n",
        "score_test_nn = []\n",
        "stage_train_nn = []\n",
        "stage_test_nn = []\n",
        "\n",
        "for df, df_test in zip(data_train_fs, data_test_fs):\n",
        "    best_model_neural_network = clf_tune_neural_network.fit(df, stage_train)\n",
        "\n",
        "    hidden_layer_sizes_best = best_model_neural_network.best_estimator_.get_params()['hidden_layer_sizes']\n",
        "    activation_best = best_model_neural_network.best_estimator_.get_params()['activation']\n",
        "    solver_best = best_model_neural_network.best_estimator_.get_params()['solver']\n",
        "    alpha_best = best_model_neural_network.best_estimator_.get_params()['alpha']\n",
        "    learning_rate_best = best_model_neural_network.best_estimator_.get_params()['learning_rate']\n",
        "    batch_size_best = best_model_neural_network.best_estimator_.get_params()['batch_size']\n",
        "    \n",
        "    score_train_n, score_test_n, stage_train_n, stage_test_n = neural_network_classifier(\n",
        "                     hidden_layer_sizes_best, activation_best, solver_best, alpha_best, \n",
        "                     learning_rate_best, batch_size_best, df, df_test, \n",
        "                     stage_train, stage_test)\n",
        "\n",
        "    score_train_nn.append(score_train_n)\n",
        "    score_test_nn.append(score_test_n)\n",
        "    stage_train_nn.append(stage_train_n)\n",
        "    stage_test_nn.append(stage_test_n)\n",
        "\n",
        "\n",
        "# Printing accuracy and predicted stage\n",
        "print(f'Accuracy of neural network classifier on traindata: {score_train_nn}') # accuracy\n",
        "print(f'Accuracy of neural network classifier on testdata: {score_test_nn}') # accuracy\n",
        "print(stage_train_nn)\n",
        "print(' ')\n",
        "print(stage_test_nn)"
      ],
      "execution_count": 0,
      "outputs": []
    },
    {
      "cell_type": "markdown",
      "metadata": {
        "id": "f12HSoFMwFFA",
        "colab_type": "text"
      },
      "source": [
        "## Putting it all together\n",
        "- First: splitting start_data (hn dataframe) into a dataframe with features and one with stages\n",
        "\n",
        "- Defining some functions we will later use\n",
        "- Some functions were already defined in the exploration fase\n"
      ]
    },
    {
      "cell_type": "code",
      "metadata": {
        "id": "buoWFgScwQ3u",
        "colab_type": "code",
        "colab": {}
      },
      "source": [
        "stage = data_start['label']\n",
        "data = data_start.drop(columns='label')\n",
        "stage = preprocessing.label_binarize(stage, ['T12', 'T34'] )\n",
        "stage = [i[0] for i in stage]\n",
        "\n",
        "pd.options.mode.chained_assignment = None  "
      ],
      "execution_count": 0,
      "outputs": []
    },
    {
      "cell_type": "markdown",
      "metadata": {
        "id": "NeVOk2JVxQid",
        "colab_type": "text"
      },
      "source": [
        "# PCA function"
      ]
    },
    {
      "cell_type": "code",
      "metadata": {
        "id": "J9EquDh0xPct",
        "colab_type": "code",
        "colab": {}
      },
      "source": [
        "def pca_opt(data_train, data_test):\n",
        "    \"\"\"\n",
        "    Function for PCA\n",
        "\n",
        "        data_train = training data\n",
        "        data_test = testing data\n",
        "\n",
        "    Output is transformed train- and testdata\n",
        "    \"\"\"\n",
        "    pca=PCA().fit(data_train)\n",
        "\n",
        "    # Amount of n-components based on a variance level of 0.99\n",
        "    var = np.cumsum(pca.explained_variance_ratio_)\n",
        "    n_comp = np.where(var>0.99)[0][0]\n",
        "\n",
        "    pca_train = PCA(n_components=n_comp)\n",
        "    pca_train.fit(data_train)\n",
        "\n",
        "    # Transform data using PCA\n",
        "    data_train = pca_train.transform(data_train)\n",
        "    data_test = pca_train.transform(data_test)\n",
        "\n",
        "    # Return transformed train- and testdata\n",
        "    return data_train, data_test"
      ],
      "execution_count": 0,
      "outputs": []
    },
    {
      "cell_type": "markdown",
      "metadata": {
        "id": "OX5Js7BIv21i",
        "colab_type": "text"
      },
      "source": [
        "## Univariate feature selection function"
      ]
    },
    {
      "cell_type": "code",
      "metadata": {
        "id": "gFIxjl8sv2-D",
        "colab_type": "code",
        "colab": {}
      },
      "source": [
        "# Eventuele hyperparameters die nog kunnen worden aangepast: methodes voor univariate feature selection (selectKBest, SelectPercentile, en nog meer),\n",
        "# measures om 'best' te bepalen chi2, f_classif, mutual_info_classif\n",
        "# aantal features dat je selecteert, getal voor percentile, getal voor k-best, etc.\n",
        "# Moeilijk om deze hyperparameters te tunen aangezien de performance pas wordt bepaald bij het toepassen van de classifier, zal waarschijnlijk ook verschillen per classifier.\n",
        "# \n",
        "# Bij het opnieuw splitten van de data in een train en test set zie je dat er een andere set aan features geselecteerd wordt, zijn overeenkomsten maar je ziet ook verschillen. Zeer waarschijnlijk leidt dit uiteindelijk tot een hogere variantie in performance bij het nemen van een nieuwe split mbv cross validatie checken.\n",
        "\n",
        "def uni(data_train, data_test, stage_train, percentile=20):\n",
        "    \"\"\"\n",
        "    Function to perform univariate feature selection\n",
        "    \"\"\"\n",
        "    # Apply SelectPercentile to train data to extract top best features according to train data\n",
        "    selector_uni = SelectPercentile(f_classif, percentile)\n",
        "    selector_uni.fit(data_train, stage_train)\n",
        "    data_train_uni = selector_uni.transform(data_train)\n",
        "    data_test_uni = selector_uni.transform(data_test)\n",
        "\n",
        "    return data_train_uni, data_test_uni"
      ],
      "execution_count": 0,
      "outputs": []
    },
    {
      "cell_type": "markdown",
      "metadata": {
        "id": "HL845I8mecBT",
        "colab_type": "text"
      },
      "source": [
        "## Function to execute the correct feature selection method on train and test data"
      ]
    },
    {
      "cell_type": "code",
      "metadata": {
        "id": "UnoEY1zWecM_",
        "colab_type": "code",
        "colab": {}
      },
      "source": [
        "def execute_selector(train, test, stage_train, selector):\n",
        "    \"\"\"\n",
        "    Function which decides which selector to apply to the outer data and test set\n",
        "    Input:\n",
        "    - Train: the train data on which the selector should be applied\n",
        "    - Test: the test data on which the selector should be applied\n",
        "    - Stage_train: the labels of the train data\n",
        "    - Selector: the name of selector used according to the [selector_train] array\n",
        "    Output: \n",
        "    - Selector_used: the type of selector that is performed on the data\n",
        "    - Train_out: the train data transformed by the selector\n",
        "    - Test_out: the test data transformed by the selector\n",
        "    \"\"\"\n",
        "    if selector == 'inner_train_uni':\n",
        "        selector_train_out, selector_test_out = uni(train, test, stage_train, 60)\n",
        "        selector_used = 'Univariate'\n",
        "    elif selector == 'inner_train_pca':\n",
        "        selector_train_out, selector_test_out = pca_opt(train, test)\n",
        "        selector_used = 'PCA'\n",
        "    elif selector == 'inner_train_uni_pca':\n",
        "        selector_train_out_uni, selector_test_out_uni = uni(train, test, stage_train, 60)\n",
        "        selector_train_out, selector_test_out = pca_opt(selector_train_out_uni, selector_test_out_uni)\n",
        "        selector_used = 'Combination univariate and PCA'\n",
        "    else:\n",
        "        print('no selector method was found according to given selector')\n",
        "        selector_used = 'None'\n",
        "    return selector_used, selector_train_out, selector_test_out"
      ],
      "execution_count": 0,
      "outputs": []
    },
    {
      "cell_type": "markdown",
      "metadata": {
        "id": "63UK5AoDUTAZ",
        "colab_type": "text"
      },
      "source": [
        "## Function to execute the correct feature selection method on train and test data - 2"
      ]
    },
    {
      "cell_type": "code",
      "metadata": {
        "id": "_QFbsOOyUTKj",
        "colab_type": "code",
        "colab": {}
      },
      "source": [
        "def best_selector(train, test, stage_train, selector):\n",
        "    \"\"\"\n",
        "    Function which decides which selector to apply to the outer data and test set\n",
        "    Input:\n",
        "    - Train: the train data on which the selector should be applied\n",
        "    - Test: the test data on which the selector should be applied\n",
        "    - Stage_train: the labels of the train data\n",
        "    - Selector: the name of selector used according to the variable selector_used\n",
        "    Output: \n",
        "    - Train_out: the train data transformed by the selector\n",
        "    - Test_out: the test data transformed by the selector\n",
        "    \"\"\"\n",
        "    if selector_used == 'Univariate':\n",
        "        selector_train_out, selector_test_out = uni(train, test, stage_train, 60)\n",
        "    elif selector_used == 'PCA':\n",
        "        selector_train_out, selector_test_out = pca_opt(train, test)\n",
        "    elif selector == 'Univariate and PCA':\n",
        "        selector_train_out_uni, selector_test_out_uni = uni(train, test, stage_train, 60)\n",
        "        selector_train_out, selector_test_out = pca_opt(selector_train_out_uni, selector_test_out_uni)\n",
        "    else:\n",
        "        print('no selector method was found according to given selector')\n",
        "    return selector_train_out, selector_test_out"
      ],
      "execution_count": 0,
      "outputs": []
    },
    {
      "cell_type": "markdown",
      "metadata": {
        "id": "_hJr3nGjrMx5",
        "colab_type": "text"
      },
      "source": [
        "## kNN Optimization function"
      ]
    },
    {
      "cell_type": "code",
      "metadata": {
        "id": "ffb9sl2-xm57",
        "colab_type": "code",
        "colab": {}
      },
      "source": [
        "def knn_class(data_train, data_test, stage_train, stage_test):\n",
        "    \"\"\"\n",
        "    Function for optimalizing the hyperparameters:\n",
        "      - n_neighbours\n",
        "      - weights\n",
        "    in a kNN classifier.\n",
        "    Output is:\n",
        "      - knn: a classifier with optimized hyperparameters\n",
        "      - acc_train: the accuracy of the optimized classifier on the trainig data\n",
        "      - acc_test: the accuracy of the optimized classifier on the testing data\n",
        "      - auc_test: the area under the curve of the optimized classifier on the testing data\n",
        "    \"\"\"\n",
        "    \n",
        "    # Hyperparameters optimization \n",
        "    n_n = list(range(1,30))\n",
        "    # weights = ['uniform', 'distance']\n",
        "    leaf_size = list(range(1,50))\n",
        "    # p=[1,2]\n",
        "    \n",
        "    # hyperparameters = dict(leaf_size=leaf_size, n_neighbors=n_n, p=p, weights = weights)\n",
        "\n",
        "    hyperparameters = dict(leaf_size=leaf_size, n_neighbors=n_n)\n",
        "    knn_tune = neighbors.KNeighborsClassifier()\n",
        "    clf_tune_knn = model_selection.RandomizedSearchCV(knn_tune, hyperparameters, n_iter = 30, cv=5)\n",
        "\n",
        "    best_model = clf_tune_knn.fit(data_train, stage_train)\n",
        "    n_n_best = best_model.best_estimator_.get_params()['n_neighbors']\n",
        "    # weights_best = best_model.best_estimator_.get_params()['weights']\n",
        "    leaf_size_best = best_model.best_estimator_.get_params()['leaf_size']\n",
        "    # p_best = best_model.best_estimator_.get_params()['p']\n",
        "\n",
        "    knn = neighbors.KNeighborsClassifier(leaf_size=leaf_size_best, n_neighbors=n_n_best)\n",
        "    knn.fit(data_train, stage_train)\n",
        "    label_train_knn = knn.predict(data_train)\n",
        "    label_test_knn = knn.predict(data_test)\n",
        "    \n",
        "    # Performance\n",
        "    acc_train = knn.score(data_train, stage_train)\n",
        "    acc_test = knn.score(data_test, stage_test)\n",
        "    # Calculating confusion matrix\n",
        "    cm = metrics.confusion_matrix(stage_test, label_test_knn)\n",
        "    TP = cm[1][1]\n",
        "    TN = cm[0][0]\n",
        "    FP = cm[0][1]\n",
        "    FN = cm[1][0]\n",
        "    sens = (TP / float(TP+FN))\n",
        "    spec = (TN / float(TN + FP))\n",
        "\n",
        "    try:\n",
        "        auc_test = metrics.roc_auc_score(label_test_knn, stage_test)\n",
        "    except ValueError:\n",
        "        auc_test = float(\"NaN\")\n",
        "        \n",
        "    return knn, acc_train, acc_test, auc_test, sens, spec"
      ],
      "execution_count": 0,
      "outputs": []
    },
    {
      "cell_type": "markdown",
      "metadata": {
        "id": "1XDvh1OBrVsw",
        "colab_type": "text"
      },
      "source": [
        "## SVM Optimization Function"
      ]
    },
    {
      "cell_type": "code",
      "metadata": {
        "id": "QHXT3NRkrUuG",
        "colab_type": "code",
        "colab": {}
      },
      "source": [
        "def svm_class(data_train, data_test, stage_train, stage_test):\n",
        "    \"\"\"\n",
        "    Function for optimalizing the hyperparameters:\n",
        "      - kernel\n",
        "      - gamma\n",
        "      - C\n",
        "      - degree\n",
        "    in a SVM classifier.\n",
        "    Output is:\n",
        "      - svc: a classifier with optimized hyperparameters\n",
        "      - acc_train: the accuracy of the optimized classifier on the trainig data\n",
        "      - acc_test: the accuracy of the optimized classifier on the testing data\n",
        "      - auc_test: the area under the curve of the optimized classifier on the testing data\n",
        "     \"\"\"\n",
        "    # Hyperparameter optimization\n",
        "    kernels = ['linear', 'poly', 'rbf']\n",
        "    # gammas = [0.1, 1, 10, 100]\n",
        "    cs = [0.1, 1, 10, 100, 1000]\n",
        "    degrees = [0, 1, 2, 3, 4, 5, 6] # use only for 'poly'\n",
        "\n",
        "    hyperparameters = dict(kernel = kernels, C = cs, degree = degrees)\n",
        "    svm_tune = svm.SVC()\n",
        "    clf_tune_svm = model_selection.RandomizedSearchCV(svm_tune, hyperparameters, n_iter = 30, cv = 5)\n",
        "\n",
        "    best_model_svm = clf_tune_svm.fit(data_train,stage_train)\n",
        "    kernel_best = best_model_svm.best_estimator_.get_params()['kernel']\n",
        "    # gamma_best  = best_model_svm.best_estimator_.get_params()['gamma']\n",
        "    C_best = best_model_svm.best_estimator_.get_params()['C']\n",
        "    degree_best = best_model_svm.best_estimator_.get_params()['degree']\n",
        "\n",
        "    svc = svm.SVC(C=C_best, kernel=kernel_best, degree=degree_best)\n",
        "    svc.fit(data_train, stage_train)\n",
        "\n",
        "    # Predict the classes of the data \n",
        "    label_train_svm = svc.predict(data_train)\n",
        "    label_test_svm= svc.predict(data_test)\n",
        "    \n",
        "    # Performance\n",
        "    acc_train = svc.score(data_train, stage_train)\n",
        "    acc_test = svc.score(data_test, stage_test)\n",
        "    # Calculating confusion matrix\n",
        "    cm = metrics.confusion_matrix(stage_test, label_test_svm)\n",
        "    TP = cm[1][1]\n",
        "    TN = cm[0][0]\n",
        "    FP = cm[0][1]\n",
        "    FN = cm[1][0]\n",
        "    sens = (TP / float(TP+FN))\n",
        "    spec = (TN / float(TN + FP))\n",
        "\n",
        "    try:\n",
        "        auc_test = metrics.roc_auc_score(label_test_svm, stage_test)\n",
        "    except ValueError:\n",
        "        auc_test = float(\"NaN\")\n",
        "    \n",
        "    return svc, acc_train, acc_test,  auc_test, sens, spec"
      ],
      "execution_count": 0,
      "outputs": []
    },
    {
      "cell_type": "markdown",
      "metadata": {
        "id": "s_7rM8GrzRgn",
        "colab_type": "text"
      },
      "source": [
        "## RF Optimization Function"
      ]
    },
    {
      "cell_type": "code",
      "metadata": {
        "id": "BJieK7JHzVH1",
        "colab_type": "code",
        "colab": {}
      },
      "source": [
        "def rf_class(data_train, data_test, stage_train, stage_test):\n",
        "    \"\"\"\n",
        "    Function for optimalizing the hyperparameters:\n",
        "      - n_neighbours\n",
        "      - weights\n",
        "    in a Random Forest classifier.\n",
        "    Output is:\n",
        "      - rfc: a classifier with optimized hyperparameters\n",
        "      - acc_train: the accuracy of the optimized classifier on the trainig data\n",
        "      - acc_test: the accuracy of the optimized classifier on the testing data\n",
        "      - auc_test: the area under the curve of the optimized classifier on the testing data\n",
        "    \"\"\"\n",
        "\n",
        "    # Hyperparameters optimization \n",
        "    n_estimators = [10, 30, 50, 100, 300]                  \n",
        "    min_samples_split = [2, 7, 10, 12, 20]      \n",
        "    min_samples_leaf = [3, 5, 10, 15, 20]             \n",
        "\n",
        "    hyperparameters_rfc = dict(n_estimators=n_estimators, min_samples_split = min_samples_split, min_samples_leaf = min_samples_leaf)\n",
        "    rfc_tune = RandomForestClassifier()\n",
        "    clf_tune_rfc = model_selection.RandomizedSearchCV(rfc_tune, hyperparameters_rfc, n_iter = 30, cv=5)\n",
        "\n",
        "    best_model = clf_tune_rfc.fit(data_train, stage_train)\n",
        "    n_estimators_best = best_model.best_estimator_.get_params()['n_estimators']\n",
        "    min_samples_split_best = best_model.best_estimator_.get_params()['min_samples_split']\n",
        "    min_samples_leaf_best = best_model.best_estimator_.get_params()['min_samples_leaf']\n",
        "\n",
        "    rfc = RandomForestClassifier(n_estimators=n_estimators_best, min_samples_split = min_samples_split_best, min_samples_leaf = min_samples_leaf_best)\n",
        "    rfc.fit(data_train, stage_train)\n",
        "    label_train_rfc = rfc.predict(data_train)\n",
        "    label_test_rfc = rfc.predict(data_test)\n",
        "    \n",
        "    # Performance\n",
        "    acc_train = rfc.score(data_train, stage_train)\n",
        "    acc_test = rfc.score(data_test, stage_test)\n",
        "    # Calculating confusion matrix\n",
        "    cm = metrics.confusion_matrix(stage_test, label_test_rfc)\n",
        "    TP = cm[1][1]\n",
        "    TN = cm[0][0]\n",
        "    FP = cm[0][1]\n",
        "    FN = cm[1][0]\n",
        "    sens = (TP / float(TP+FN))\n",
        "    spec = (TN / float(TN + FP))\n",
        "\n",
        "    try:\n",
        "        auc_test = metrics.roc_auc_score(label_test_rfc, stage_test)\n",
        "    except ValueError:\n",
        "        auc_test = float(\"NaN\")\n",
        "        \n",
        "    return rfc, acc_train, acc_test, auc_test, sens, spec"
      ],
      "execution_count": 0,
      "outputs": []
    },
    {
      "cell_type": "markdown",
      "metadata": {
        "id": "zxQRiMc_wObi",
        "colab_type": "text"
      },
      "source": [
        "## Neural network Optimization Function"
      ]
    },
    {
      "cell_type": "code",
      "metadata": {
        "id": "mxGyE-5cwPFr",
        "colab_type": "code",
        "colab": {}
      },
      "source": [
        "def nn_class(data_train, data_test, stage_train, stage_test):\n",
        "    \"\"\"\n",
        "    Function for optimalizing the hyperparameters:\n",
        "      - hidden_layer_sizes\n",
        "      - batch_size\n",
        "      - activation\n",
        "    in a neural network classifier.\n",
        "    Output is:\n",
        "      - nn: a classifier with optimized hyperparameters\n",
        "      - acc_train_nn: the accuracy of the optimized classifier on the trainig data\n",
        "      - acc_test_nn: the accuracy of the optimized classifier on the testing data\n",
        "      - auc_test_nn: the area under the curve of the optimized classifier on the testing data\n",
        "    \"\"\"\n",
        "\n",
        "    # Hyperparameters optimization \n",
        "    # hidden_layer_sizes = [(50,50,50), (50,100,50), (100,)]\n",
        "    # batch_size = [5, 10, 15, 20, 25]                 \n",
        "    activation = ['tanh', 'relu','identity', 'logistic'] \n",
        "    solver = ['lbfgs', 'sgd', 'adam']           \n",
        "\n",
        "    hyperparameters_nn = dict(solver = solver, activation = activation)\n",
        "    nn_tune = MLPClassifier()\n",
        "    clf_tune_nn = model_selection.RandomizedSearchCV(nn_tune, hyperparameters_nn, n_iter = 15, cv=5)\n",
        "\n",
        "    best_model = clf_tune_nn.fit(data_train, stage_train)\n",
        "    # hidden_layer_sizes_best = best_model.best_estimator_.get_params()['hidden_layer_sizes']\n",
        "    # batch_size_best = best_model.best_estimator_.get_params()['batch_size']\n",
        "    activation_best = best_model.best_estimator_.get_params()['activation']\n",
        "    solver_best = best_model.best_estimator_.get_params()['solver']\n",
        "\n",
        "    nn = MLPClassifier(solver = solver_best, activation = activation_best)\n",
        "    nn.fit(data_train, stage_train)\n",
        "    label_train_nn = nn.predict(data_train)\n",
        "    label_test_nn = nn.predict(data_test)\n",
        "    \n",
        "    # Performance\n",
        "    acc_train_nn = nn.score(data_train, stage_train)\n",
        "    acc_test_nn = nn.score(data_test, stage_test)\n",
        "    # Calculating confusion matrix\n",
        "    cm = metrics.confusion_matrix(stage_test, label_test_nn)\n",
        "    TP = cm[1][1]\n",
        "    TN = cm[0][0]\n",
        "    FP = cm[0][1]\n",
        "    FN = cm[1][0]\n",
        "    sens = (TP / float(TP+FN))\n",
        "    spec = (TN / float(TN + FP))\n",
        "\n",
        "    try:\n",
        "        auc_test = metrics.roc_auc_score(label_test_nn, stage_test)\n",
        "    except ValueError:\n",
        "        auc_test = float(\"NaN\")\n",
        "        \n",
        "    return nn, acc_train_nn, acc_test_nn, auc_test, sens, spec"
      ],
      "execution_count": 0,
      "outputs": []
    },
    {
      "cell_type": "markdown",
      "metadata": {
        "id": "zJemyhcvi2yk",
        "colab_type": "text"
      },
      "source": [
        "## Function to know which type of classifier is used"
      ]
    },
    {
      "cell_type": "code",
      "metadata": {
        "id": "CDRe_ft5i27E",
        "colab_type": "code",
        "colab": {}
      },
      "source": [
        "def name_classifier(index):\n",
        "    \"\"\"\n",
        "    Function for obtaining the name of the classifier used\n",
        "    Input is:\n",
        "      - index of the used classifier \n",
        "    Output is:\n",
        "      - Classifier_used: the name of the used classifier\n",
        "    \"\"\"\n",
        "    if index == 0:\n",
        "        classifier_used = 'k-NN'\n",
        "    elif index == 1:\n",
        "        classifier_used = 'SVM'\n",
        "    elif index == 2:\n",
        "        classifier_used = 'RF'\n",
        "    else:\n",
        "        print('No classifier name was found according to the index')\n",
        "        classifier_used = 'None'\n",
        "    return classifier_used"
      ],
      "execution_count": 0,
      "outputs": []
    },
    {
      "cell_type": "markdown",
      "metadata": {
        "id": "wMKJaC0mRjJk",
        "colab_type": "text"
      },
      "source": [
        "## Function to determine which selector and which classifier were used in the best model"
      ]
    },
    {
      "cell_type": "code",
      "metadata": {
        "id": "W9xl3w76RjWl",
        "colab_type": "code",
        "colab": {}
      },
      "source": [
        "def name_best_model(index):\n",
        "    if index == 0:\n",
        "        selector_used = 'Univariate'\n",
        "        classifier_used = 'k-NN'\n",
        "    elif index == 1:\n",
        "        selector_used = 'PCA'\n",
        "        classifier_used = 'k-NN'\n",
        "    elif index == 2:\n",
        "        selector_used = 'Univariate and PCA'\n",
        "        classifier_used = 'k-NN'\n",
        "    elif index == 3:\n",
        "        selector_used = 'Univariate'\n",
        "        classifier_used = 'SVM'\n",
        "    elif index == 4:\n",
        "        selector_used = 'PCA'\n",
        "        classifier_used = 'SVM'\n",
        "    elif index == 5:\n",
        "        selector_used = 'Univariate and PCA'\n",
        "        classifier_used = 'SVM'\n",
        "    elif index == 6:\n",
        "        selector_used = 'Univariate'\n",
        "        classifier_used = 'RF'\n",
        "    elif index == 7:\n",
        "        selector_used = 'PCA'\n",
        "        classifier_used = 'RF'\n",
        "    elif index == 8:\n",
        "        selector_used = 'Univariate and PCA'\n",
        "        classifier_used = 'RF'\n",
        "    else:\n",
        "        selector_used ='No selector could be selected based on given index'\n",
        "        classifier_used = 'No classifier could be selected based on given index'\n",
        "    return selector_used, classifier_used"
      ],
      "execution_count": 0,
      "outputs": []
    },
    {
      "cell_type": "markdown",
      "metadata": {
        "id": "Fd1o9GmkXTqN",
        "colab_type": "text"
      },
      "source": [
        "## Apply classifier to train and test data "
      ]
    },
    {
      "cell_type": "code",
      "metadata": {
        "id": "0z9iB9PKXTz9",
        "colab_type": "code",
        "colab": {}
      },
      "source": [
        "def best_classifier(train, test, stage_train, stage_test, classifier_used):\n",
        "    if classifier_used == 'k-NN':\n",
        "        clf, acc_train, acc_test, auc_test, sens, spec = knn_class(train, test, stage_train, stage_test)\n",
        "    elif classifier_used == 'SVM':\n",
        "        clf, acc_train, acc_test, auc_test, sens, spec = svm_class(train, test, stage_train, stage_test)\n",
        "    elif classifier_used == 'RF':\n",
        "        clf, acc_train, acc_test, auc_test, sens, spec = rf_class(train, test, stage_train, stage_test)\n",
        "    else:\n",
        "        print('No classifier was found according to classifier_used')\n",
        "    return clf, acc_train, acc_test, auc_test, sens, spec"
      ],
      "execution_count": 0,
      "outputs": []
    },
    {
      "cell_type": "markdown",
      "metadata": {
        "id": "kRLDNrz1tVYJ",
        "colab_type": "text"
      },
      "source": [
        "## Cross validation Univariate Feature selection\n",
        "- Calculate mean accuracy and mean area under the curve (on test data) in a cross-validation"
      ]
    },
    {
      "cell_type": "code",
      "metadata": {
        "id": "9yA1EVEztZy3",
        "colab_type": "code",
        "outputId": "5fdd228d-9b84-4cf4-bf8c-7bc74f1ff1dd",
        "colab": {
          "base_uri": "https://localhost:8080/",
          "height": 449
        }
      },
      "source": [
        "# Define cross validation for outer cross-validation\n",
        "cv10_fold = model_selection.StratifiedShuffleSplit(n_splits=100, test_size=0.2, random_state=42)\n",
        "\n",
        "# Create empty lists to store the performance of the classifiers\n",
        "acc_knn = []\n",
        "acc_svm = []\n",
        "auc_knn = []\n",
        "auc_svm = []\n",
        "acc_rf = []\n",
        "auc_rf = []\n",
        "acc_nn = []\n",
        "auc_nn = []\n",
        "acc_knn_train = []\n",
        "acc_svm_train = []\n",
        "acc_rf_train = []\n",
        "acc_nn_train = []\n",
        "\n",
        "# Outer cross-valdation\n",
        "for train_index, test_index in cv10_fold.split(data, stage):\n",
        "    \n",
        "    # split data in features- and stage\n",
        "    stage = np.array(stage)\n",
        "    outer_train = data.iloc[train_index]\n",
        "    outer_stage_train = stage[train_index]\n",
        "    outer_test = data.iloc[test_index]\n",
        "    outer_stage_test = stage[test_index]\n",
        "\n",
        "    # Remove columns from dataframes\n",
        "    outer_train, outer_test = data_cleaning(outer_train, outer_test)\n",
        "        \n",
        "    # Data scaling\n",
        "    outer_train, outer_test = data_scaling(outer_train, outer_test)\n",
        "    # outer_train, outer_test = data_scaling_robust(outer_train, outer_test)\n",
        "\n",
        "    # Feature selection (based on cv)\n",
        "    outer_train, outer_test = uni(outer_train, outer_test, outer_stage_train, 40)\n",
        "\n",
        "    # kNN Optimization\n",
        "    clf_knn, acc_train, acc_test, auc_test = knn_class(outer_train, outer_test, outer_stage_train, outer_stage_test)\n",
        "    acc_knn.append(acc_test)\n",
        "    auc_knn.append(auc_test)\n",
        "    acc_knn_train.append(acc_train)\n",
        "\n",
        "    # SVM Optimization\n",
        "    clf_svm, acc_train, acc_test, auc_test = svm_class(outer_train, outer_test, outer_stage_train, outer_stage_test)\n",
        "    acc_svm.append(acc_test)\n",
        "    auc_svm.append(auc_test)\n",
        "    acc_svm_train.append(acc_train)\n",
        "\n",
        "    # # RF Optimization\n",
        "    # clf_rf, acc_train, acc_test, auc_test = rf_class(outer_train, outer_test, outer_stage_train, outer_stage_test)\n",
        "    # acc_rf.append(acc_test)\n",
        "    # auc_rf.append(auc_test)\n",
        "    # acc_rf_train.append(acc_train)\n",
        "\n",
        "    # # NN Optimization\n",
        "    # clf_nn, acc_train, acc_test, auc_test = nn_class(outer_train, outer_test, outer_stage_train, outer_stage_test)\n",
        "    # acc_nn.append(acc_test)\n",
        "    # auc_nn.append(auc_test)\n",
        "    # acc_nn_train.append(acc_train)\n",
        "\n",
        "print(f'The mean accuracy of the kNN-classifier: {mean(acc_knn)}')\n",
        "print(f'The mean AUC of the kNN-classifier: {mean(auc_knn)}')\n",
        "print(f'The mean accuracy on the trainset of the kNN-classifier: {mean(acc_knn_train)}')\n",
        "print(f'The mean accuracy of the SVM-classifier: {mean(acc_svm)}')\n",
        "print(f'The mean AUC of the SVM-classifier: {mean(auc_svm)}')\n",
        "print(f'The mean accuracy on the trainset of the SVM-classifier: {mean(acc_svm_train)}')\n",
        "# print(f'The mean accuracy of the RF-classifier: {mean(acc_rf)}')\n",
        "# print(f'The mean AUC of the RF-classifier: {mean(auc_rf)}')\n",
        "# print(f'The mean accuracy on the trainset of the RF-classifier: {mean(acc_rf_train)}')\n",
        "# print(f'The mean accuracy of the NN-classifier: {mean(acc_nn)}')\n",
        "# print(f'The mean AUC of the NN-classifier: {mean(auc_nn)}')\n",
        "# print(f'The mean accuracy on the trainset of the NN-classifier: {mean(acc_nn_train)}')"
      ],
      "execution_count": 47,
      "outputs": [
        {
          "output_type": "error",
          "ename": "KeyboardInterrupt",
          "evalue": "ignored",
          "traceback": [
            "\u001b[0;31m---------------------------------------------------------------------------\u001b[0m",
            "\u001b[0;31mEmpty\u001b[0m                                     Traceback (most recent call last)",
            "\u001b[0;32m/usr/local/lib/python3.6/dist-packages/joblib/parallel.py\u001b[0m in \u001b[0;36mdispatch_one_batch\u001b[0;34m(self, iterator)\u001b[0m\n\u001b[1;32m    796\u001b[0m             \u001b[0;32mtry\u001b[0m\u001b[0;34m:\u001b[0m\u001b[0;34m\u001b[0m\u001b[0;34m\u001b[0m\u001b[0m\n\u001b[0;32m--> 797\u001b[0;31m                 \u001b[0mtasks\u001b[0m \u001b[0;34m=\u001b[0m \u001b[0mself\u001b[0m\u001b[0;34m.\u001b[0m\u001b[0m_ready_batches\u001b[0m\u001b[0;34m.\u001b[0m\u001b[0mget\u001b[0m\u001b[0;34m(\u001b[0m\u001b[0mblock\u001b[0m\u001b[0;34m=\u001b[0m\u001b[0;32mFalse\u001b[0m\u001b[0;34m)\u001b[0m\u001b[0;34m\u001b[0m\u001b[0;34m\u001b[0m\u001b[0m\n\u001b[0m\u001b[1;32m    798\u001b[0m             \u001b[0;32mexcept\u001b[0m \u001b[0mqueue\u001b[0m\u001b[0;34m.\u001b[0m\u001b[0mEmpty\u001b[0m\u001b[0;34m:\u001b[0m\u001b[0;34m\u001b[0m\u001b[0;34m\u001b[0m\u001b[0m\n",
            "\u001b[0;32m/usr/lib/python3.6/queue.py\u001b[0m in \u001b[0;36mget\u001b[0;34m(self, block, timeout)\u001b[0m\n\u001b[1;32m    160\u001b[0m                 \u001b[0;32mif\u001b[0m \u001b[0;32mnot\u001b[0m \u001b[0mself\u001b[0m\u001b[0;34m.\u001b[0m\u001b[0m_qsize\u001b[0m\u001b[0;34m(\u001b[0m\u001b[0;34m)\u001b[0m\u001b[0;34m:\u001b[0m\u001b[0;34m\u001b[0m\u001b[0;34m\u001b[0m\u001b[0m\n\u001b[0;32m--> 161\u001b[0;31m                     \u001b[0;32mraise\u001b[0m \u001b[0mEmpty\u001b[0m\u001b[0;34m\u001b[0m\u001b[0;34m\u001b[0m\u001b[0m\n\u001b[0m\u001b[1;32m    162\u001b[0m             \u001b[0;32melif\u001b[0m \u001b[0mtimeout\u001b[0m \u001b[0;32mis\u001b[0m \u001b[0;32mNone\u001b[0m\u001b[0;34m:\u001b[0m\u001b[0;34m\u001b[0m\u001b[0;34m\u001b[0m\u001b[0m\n",
            "\u001b[0;31mEmpty\u001b[0m: ",
            "\nDuring handling of the above exception, another exception occurred:\n",
            "\u001b[0;31mKeyboardInterrupt\u001b[0m                         Traceback (most recent call last)",
            "\u001b[0;32m<ipython-input-47-4c43c9127fa2>\u001b[0m in \u001b[0;36m<module>\u001b[0;34m()\u001b[0m\n\u001b[1;32m     42\u001b[0m \u001b[0;34m\u001b[0m\u001b[0m\n\u001b[1;32m     43\u001b[0m     \u001b[0;31m# SVM Optimization\u001b[0m\u001b[0;34m\u001b[0m\u001b[0;34m\u001b[0m\u001b[0;34m\u001b[0m\u001b[0m\n\u001b[0;32m---> 44\u001b[0;31m     \u001b[0mclf_svm\u001b[0m\u001b[0;34m,\u001b[0m \u001b[0macc_train\u001b[0m\u001b[0;34m,\u001b[0m \u001b[0macc_test\u001b[0m\u001b[0;34m,\u001b[0m \u001b[0mauc_test\u001b[0m \u001b[0;34m=\u001b[0m \u001b[0msvm_class\u001b[0m\u001b[0;34m(\u001b[0m\u001b[0mouter_train\u001b[0m\u001b[0;34m,\u001b[0m \u001b[0mouter_test\u001b[0m\u001b[0;34m,\u001b[0m \u001b[0mouter_stage_train\u001b[0m\u001b[0;34m,\u001b[0m \u001b[0mouter_stage_test\u001b[0m\u001b[0;34m)\u001b[0m\u001b[0;34m\u001b[0m\u001b[0;34m\u001b[0m\u001b[0m\n\u001b[0m\u001b[1;32m     45\u001b[0m     \u001b[0macc_svm\u001b[0m\u001b[0;34m.\u001b[0m\u001b[0mappend\u001b[0m\u001b[0;34m(\u001b[0m\u001b[0macc_test\u001b[0m\u001b[0;34m)\u001b[0m\u001b[0;34m\u001b[0m\u001b[0;34m\u001b[0m\u001b[0m\n\u001b[1;32m     46\u001b[0m     \u001b[0mauc_svm\u001b[0m\u001b[0;34m.\u001b[0m\u001b[0mappend\u001b[0m\u001b[0;34m(\u001b[0m\u001b[0mauc_test\u001b[0m\u001b[0;34m)\u001b[0m\u001b[0;34m\u001b[0m\u001b[0;34m\u001b[0m\u001b[0m\n",
            "\u001b[0;32m<ipython-input-40-ea1fc2c8cdde>\u001b[0m in \u001b[0;36msvm_class\u001b[0;34m(data_train, data_test, stage_train, stage_test)\u001b[0m\n\u001b[1;32m     23\u001b[0m     \u001b[0mclf_tune_svm\u001b[0m \u001b[0;34m=\u001b[0m \u001b[0mmodel_selection\u001b[0m\u001b[0;34m.\u001b[0m\u001b[0mRandomizedSearchCV\u001b[0m\u001b[0;34m(\u001b[0m\u001b[0msvm_tune\u001b[0m\u001b[0;34m,\u001b[0m \u001b[0mhyperparameters\u001b[0m\u001b[0;34m,\u001b[0m \u001b[0mn_iter\u001b[0m \u001b[0;34m=\u001b[0m \u001b[0;36m30\u001b[0m\u001b[0;34m,\u001b[0m \u001b[0mcv\u001b[0m \u001b[0;34m=\u001b[0m \u001b[0;36m5\u001b[0m\u001b[0;34m)\u001b[0m\u001b[0;34m\u001b[0m\u001b[0;34m\u001b[0m\u001b[0m\n\u001b[1;32m     24\u001b[0m \u001b[0;34m\u001b[0m\u001b[0m\n\u001b[0;32m---> 25\u001b[0;31m     \u001b[0mbest_model_svm\u001b[0m \u001b[0;34m=\u001b[0m \u001b[0mclf_tune_svm\u001b[0m\u001b[0;34m.\u001b[0m\u001b[0mfit\u001b[0m\u001b[0;34m(\u001b[0m\u001b[0mdata_train\u001b[0m\u001b[0;34m,\u001b[0m\u001b[0mstage_train\u001b[0m\u001b[0;34m)\u001b[0m\u001b[0;34m\u001b[0m\u001b[0;34m\u001b[0m\u001b[0m\n\u001b[0m\u001b[1;32m     26\u001b[0m     \u001b[0mkernel_best\u001b[0m \u001b[0;34m=\u001b[0m \u001b[0mbest_model_svm\u001b[0m\u001b[0;34m.\u001b[0m\u001b[0mbest_estimator_\u001b[0m\u001b[0;34m.\u001b[0m\u001b[0mget_params\u001b[0m\u001b[0;34m(\u001b[0m\u001b[0;34m)\u001b[0m\u001b[0;34m[\u001b[0m\u001b[0;34m'kernel'\u001b[0m\u001b[0;34m]\u001b[0m\u001b[0;34m\u001b[0m\u001b[0;34m\u001b[0m\u001b[0m\n\u001b[1;32m     27\u001b[0m     \u001b[0;31m# gamma_best  = best_model_svm.best_estimator_.get_params()['gamma']\u001b[0m\u001b[0;34m\u001b[0m\u001b[0;34m\u001b[0m\u001b[0;34m\u001b[0m\u001b[0m\n",
            "\u001b[0;32m/usr/local/lib/python3.6/dist-packages/sklearn/model_selection/_search.py\u001b[0m in \u001b[0;36mfit\u001b[0;34m(self, X, y, groups, **fit_params)\u001b[0m\n\u001b[1;32m    708\u001b[0m                 \u001b[0;32mreturn\u001b[0m \u001b[0mresults\u001b[0m\u001b[0;34m\u001b[0m\u001b[0;34m\u001b[0m\u001b[0m\n\u001b[1;32m    709\u001b[0m \u001b[0;34m\u001b[0m\u001b[0m\n\u001b[0;32m--> 710\u001b[0;31m             \u001b[0mself\u001b[0m\u001b[0;34m.\u001b[0m\u001b[0m_run_search\u001b[0m\u001b[0;34m(\u001b[0m\u001b[0mevaluate_candidates\u001b[0m\u001b[0;34m)\u001b[0m\u001b[0;34m\u001b[0m\u001b[0;34m\u001b[0m\u001b[0m\n\u001b[0m\u001b[1;32m    711\u001b[0m \u001b[0;34m\u001b[0m\u001b[0m\n\u001b[1;32m    712\u001b[0m         \u001b[0;31m# For multi-metric evaluation, store the best_index_, best_params_ and\u001b[0m\u001b[0;34m\u001b[0m\u001b[0;34m\u001b[0m\u001b[0;34m\u001b[0m\u001b[0m\n",
            "\u001b[0;32m/usr/local/lib/python3.6/dist-packages/sklearn/model_selection/_search.py\u001b[0m in \u001b[0;36m_run_search\u001b[0;34m(self, evaluate_candidates)\u001b[0m\n\u001b[1;32m   1482\u001b[0m         evaluate_candidates(ParameterSampler(\n\u001b[1;32m   1483\u001b[0m             \u001b[0mself\u001b[0m\u001b[0;34m.\u001b[0m\u001b[0mparam_distributions\u001b[0m\u001b[0;34m,\u001b[0m \u001b[0mself\u001b[0m\u001b[0;34m.\u001b[0m\u001b[0mn_iter\u001b[0m\u001b[0;34m,\u001b[0m\u001b[0;34m\u001b[0m\u001b[0;34m\u001b[0m\u001b[0m\n\u001b[0;32m-> 1484\u001b[0;31m             random_state=self.random_state))\n\u001b[0m",
            "\u001b[0;32m/usr/local/lib/python3.6/dist-packages/sklearn/model_selection/_search.py\u001b[0m in \u001b[0;36mevaluate_candidates\u001b[0;34m(candidate_params)\u001b[0m\n\u001b[1;32m    687\u001b[0m                                \u001b[0;32mfor\u001b[0m \u001b[0mparameters\u001b[0m\u001b[0;34m,\u001b[0m \u001b[0;34m(\u001b[0m\u001b[0mtrain\u001b[0m\u001b[0;34m,\u001b[0m \u001b[0mtest\u001b[0m\u001b[0;34m)\u001b[0m\u001b[0;34m\u001b[0m\u001b[0;34m\u001b[0m\u001b[0m\n\u001b[1;32m    688\u001b[0m                                in product(candidate_params,\n\u001b[0;32m--> 689\u001b[0;31m                                           cv.split(X, y, groups)))\n\u001b[0m\u001b[1;32m    690\u001b[0m \u001b[0;34m\u001b[0m\u001b[0m\n\u001b[1;32m    691\u001b[0m                 \u001b[0;32mif\u001b[0m \u001b[0mlen\u001b[0m\u001b[0;34m(\u001b[0m\u001b[0mout\u001b[0m\u001b[0;34m)\u001b[0m \u001b[0;34m<\u001b[0m \u001b[0;36m1\u001b[0m\u001b[0;34m:\u001b[0m\u001b[0;34m\u001b[0m\u001b[0;34m\u001b[0m\u001b[0m\n",
            "\u001b[0;32m/usr/local/lib/python3.6/dist-packages/joblib/parallel.py\u001b[0m in \u001b[0;36m__call__\u001b[0;34m(self, iterable)\u001b[0m\n\u001b[1;32m   1005\u001b[0m                 \u001b[0mself\u001b[0m\u001b[0;34m.\u001b[0m\u001b[0m_iterating\u001b[0m \u001b[0;34m=\u001b[0m \u001b[0mself\u001b[0m\u001b[0;34m.\u001b[0m\u001b[0m_original_iterator\u001b[0m \u001b[0;32mis\u001b[0m \u001b[0;32mnot\u001b[0m \u001b[0;32mNone\u001b[0m\u001b[0;34m\u001b[0m\u001b[0;34m\u001b[0m\u001b[0m\n\u001b[1;32m   1006\u001b[0m \u001b[0;34m\u001b[0m\u001b[0m\n\u001b[0;32m-> 1007\u001b[0;31m             \u001b[0;32mwhile\u001b[0m \u001b[0mself\u001b[0m\u001b[0;34m.\u001b[0m\u001b[0mdispatch_one_batch\u001b[0m\u001b[0;34m(\u001b[0m\u001b[0miterator\u001b[0m\u001b[0;34m)\u001b[0m\u001b[0;34m:\u001b[0m\u001b[0;34m\u001b[0m\u001b[0;34m\u001b[0m\u001b[0m\n\u001b[0m\u001b[1;32m   1008\u001b[0m                 \u001b[0;32mpass\u001b[0m\u001b[0;34m\u001b[0m\u001b[0;34m\u001b[0m\u001b[0m\n\u001b[1;32m   1009\u001b[0m \u001b[0;34m\u001b[0m\u001b[0m\n",
            "\u001b[0;32m/usr/local/lib/python3.6/dist-packages/joblib/parallel.py\u001b[0m in \u001b[0;36mdispatch_one_batch\u001b[0;34m(self, iterator)\u001b[0m\n\u001b[1;32m    806\u001b[0m                 \u001b[0mbig_batch_size\u001b[0m \u001b[0;34m=\u001b[0m \u001b[0mbatch_size\u001b[0m \u001b[0;34m*\u001b[0m \u001b[0mn_jobs\u001b[0m\u001b[0;34m\u001b[0m\u001b[0;34m\u001b[0m\u001b[0m\n\u001b[1;32m    807\u001b[0m \u001b[0;34m\u001b[0m\u001b[0m\n\u001b[0;32m--> 808\u001b[0;31m                 \u001b[0mislice\u001b[0m \u001b[0;34m=\u001b[0m \u001b[0mlist\u001b[0m\u001b[0;34m(\u001b[0m\u001b[0mitertools\u001b[0m\u001b[0;34m.\u001b[0m\u001b[0mislice\u001b[0m\u001b[0;34m(\u001b[0m\u001b[0miterator\u001b[0m\u001b[0;34m,\u001b[0m \u001b[0mbig_batch_size\u001b[0m\u001b[0;34m)\u001b[0m\u001b[0;34m)\u001b[0m\u001b[0;34m\u001b[0m\u001b[0;34m\u001b[0m\u001b[0m\n\u001b[0m\u001b[1;32m    809\u001b[0m                 \u001b[0;32mif\u001b[0m \u001b[0mlen\u001b[0m\u001b[0;34m(\u001b[0m\u001b[0mislice\u001b[0m\u001b[0;34m)\u001b[0m \u001b[0;34m==\u001b[0m \u001b[0;36m0\u001b[0m\u001b[0;34m:\u001b[0m\u001b[0;34m\u001b[0m\u001b[0;34m\u001b[0m\u001b[0m\n\u001b[1;32m    810\u001b[0m                     \u001b[0;32mreturn\u001b[0m \u001b[0;32mFalse\u001b[0m\u001b[0;34m\u001b[0m\u001b[0;34m\u001b[0m\u001b[0m\n",
            "\u001b[0;32m/usr/local/lib/python3.6/dist-packages/sklearn/model_selection/_search.py\u001b[0m in \u001b[0;36m<genexpr>\u001b[0;34m(.0)\u001b[0m\n\u001b[1;32m    685\u001b[0m                                                        \u001b[0mparameters\u001b[0m\u001b[0;34m=\u001b[0m\u001b[0mparameters\u001b[0m\u001b[0;34m,\u001b[0m\u001b[0;34m\u001b[0m\u001b[0;34m\u001b[0m\u001b[0m\n\u001b[1;32m    686\u001b[0m                                                        **fit_and_score_kwargs)\n\u001b[0;32m--> 687\u001b[0;31m                                \u001b[0;32mfor\u001b[0m \u001b[0mparameters\u001b[0m\u001b[0;34m,\u001b[0m \u001b[0;34m(\u001b[0m\u001b[0mtrain\u001b[0m\u001b[0;34m,\u001b[0m \u001b[0mtest\u001b[0m\u001b[0;34m)\u001b[0m\u001b[0;34m\u001b[0m\u001b[0;34m\u001b[0m\u001b[0m\n\u001b[0m\u001b[1;32m    688\u001b[0m                                in product(candidate_params,\n\u001b[1;32m    689\u001b[0m                                           cv.split(X, y, groups)))\n",
            "\u001b[0;32m/usr/local/lib/python3.6/dist-packages/sklearn/base.py\u001b[0m in \u001b[0;36mclone\u001b[0;34m(estimator, safe)\u001b[0m\n\u001b[1;32m     71\u001b[0m         \u001b[0mnew_object_params\u001b[0m\u001b[0;34m[\u001b[0m\u001b[0mname\u001b[0m\u001b[0;34m]\u001b[0m \u001b[0;34m=\u001b[0m \u001b[0mclone\u001b[0m\u001b[0;34m(\u001b[0m\u001b[0mparam\u001b[0m\u001b[0;34m,\u001b[0m \u001b[0msafe\u001b[0m\u001b[0;34m=\u001b[0m\u001b[0;32mFalse\u001b[0m\u001b[0;34m)\u001b[0m\u001b[0;34m\u001b[0m\u001b[0;34m\u001b[0m\u001b[0m\n\u001b[1;32m     72\u001b[0m     \u001b[0mnew_object\u001b[0m \u001b[0;34m=\u001b[0m \u001b[0mklass\u001b[0m\u001b[0;34m(\u001b[0m\u001b[0;34m**\u001b[0m\u001b[0mnew_object_params\u001b[0m\u001b[0;34m)\u001b[0m\u001b[0;34m\u001b[0m\u001b[0;34m\u001b[0m\u001b[0m\n\u001b[0;32m---> 73\u001b[0;31m     \u001b[0mparams_set\u001b[0m \u001b[0;34m=\u001b[0m \u001b[0mnew_object\u001b[0m\u001b[0;34m.\u001b[0m\u001b[0mget_params\u001b[0m\u001b[0;34m(\u001b[0m\u001b[0mdeep\u001b[0m\u001b[0;34m=\u001b[0m\u001b[0;32mFalse\u001b[0m\u001b[0;34m)\u001b[0m\u001b[0;34m\u001b[0m\u001b[0;34m\u001b[0m\u001b[0m\n\u001b[0m\u001b[1;32m     74\u001b[0m \u001b[0;34m\u001b[0m\u001b[0m\n\u001b[1;32m     75\u001b[0m     \u001b[0;31m# quick sanity check of the parameters of the clone\u001b[0m\u001b[0;34m\u001b[0m\u001b[0;34m\u001b[0m\u001b[0;34m\u001b[0m\u001b[0m\n",
            "\u001b[0;32m/usr/local/lib/python3.6/dist-packages/sklearn/base.py\u001b[0m in \u001b[0;36mget_params\u001b[0;34m(self, deep)\u001b[0m\n\u001b[1;32m    187\u001b[0m         \"\"\"\n\u001b[1;32m    188\u001b[0m         \u001b[0mout\u001b[0m \u001b[0;34m=\u001b[0m \u001b[0mdict\u001b[0m\u001b[0;34m(\u001b[0m\u001b[0;34m)\u001b[0m\u001b[0;34m\u001b[0m\u001b[0;34m\u001b[0m\u001b[0m\n\u001b[0;32m--> 189\u001b[0;31m         \u001b[0;32mfor\u001b[0m \u001b[0mkey\u001b[0m \u001b[0;32min\u001b[0m \u001b[0mself\u001b[0m\u001b[0;34m.\u001b[0m\u001b[0m_get_param_names\u001b[0m\u001b[0;34m(\u001b[0m\u001b[0;34m)\u001b[0m\u001b[0;34m:\u001b[0m\u001b[0;34m\u001b[0m\u001b[0;34m\u001b[0m\u001b[0m\n\u001b[0m\u001b[1;32m    190\u001b[0m             \u001b[0;32mtry\u001b[0m\u001b[0;34m:\u001b[0m\u001b[0;34m\u001b[0m\u001b[0;34m\u001b[0m\u001b[0m\n\u001b[1;32m    191\u001b[0m                 \u001b[0mvalue\u001b[0m \u001b[0;34m=\u001b[0m \u001b[0mgetattr\u001b[0m\u001b[0;34m(\u001b[0m\u001b[0mself\u001b[0m\u001b[0;34m,\u001b[0m \u001b[0mkey\u001b[0m\u001b[0;34m)\u001b[0m\u001b[0;34m\u001b[0m\u001b[0;34m\u001b[0m\u001b[0m\n",
            "\u001b[0;32m/usr/local/lib/python3.6/dist-packages/sklearn/base.py\u001b[0m in \u001b[0;36m_get_param_names\u001b[0;34m(cls)\u001b[0m\n\u001b[1;32m    158\u001b[0m         \u001b[0minit_signature\u001b[0m \u001b[0;34m=\u001b[0m \u001b[0minspect\u001b[0m\u001b[0;34m.\u001b[0m\u001b[0msignature\u001b[0m\u001b[0;34m(\u001b[0m\u001b[0minit\u001b[0m\u001b[0;34m)\u001b[0m\u001b[0;34m\u001b[0m\u001b[0;34m\u001b[0m\u001b[0m\n\u001b[1;32m    159\u001b[0m         \u001b[0;31m# Consider the constructor parameters excluding 'self'\u001b[0m\u001b[0;34m\u001b[0m\u001b[0;34m\u001b[0m\u001b[0;34m\u001b[0m\u001b[0m\n\u001b[0;32m--> 160\u001b[0;31m         parameters = [p for p in init_signature.parameters.values()\n\u001b[0m\u001b[1;32m    161\u001b[0m                       if p.name != 'self' and p.kind != p.VAR_KEYWORD]\n\u001b[1;32m    162\u001b[0m         \u001b[0;32mfor\u001b[0m \u001b[0mp\u001b[0m \u001b[0;32min\u001b[0m \u001b[0mparameters\u001b[0m\u001b[0;34m:\u001b[0m\u001b[0;34m\u001b[0m\u001b[0;34m\u001b[0m\u001b[0m\n",
            "\u001b[0;32m/usr/local/lib/python3.6/dist-packages/sklearn/base.py\u001b[0m in \u001b[0;36m<listcomp>\u001b[0;34m(.0)\u001b[0m\n\u001b[1;32m    159\u001b[0m         \u001b[0;31m# Consider the constructor parameters excluding 'self'\u001b[0m\u001b[0;34m\u001b[0m\u001b[0;34m\u001b[0m\u001b[0;34m\u001b[0m\u001b[0m\n\u001b[1;32m    160\u001b[0m         parameters = [p for p in init_signature.parameters.values()\n\u001b[0;32m--> 161\u001b[0;31m                       if p.name != 'self' and p.kind != p.VAR_KEYWORD]\n\u001b[0m\u001b[1;32m    162\u001b[0m         \u001b[0;32mfor\u001b[0m \u001b[0mp\u001b[0m \u001b[0;32min\u001b[0m \u001b[0mparameters\u001b[0m\u001b[0;34m:\u001b[0m\u001b[0;34m\u001b[0m\u001b[0;34m\u001b[0m\u001b[0m\n\u001b[1;32m    163\u001b[0m             \u001b[0;32mif\u001b[0m \u001b[0mp\u001b[0m\u001b[0;34m.\u001b[0m\u001b[0mkind\u001b[0m \u001b[0;34m==\u001b[0m \u001b[0mp\u001b[0m\u001b[0;34m.\u001b[0m\u001b[0mVAR_POSITIONAL\u001b[0m\u001b[0;34m:\u001b[0m\u001b[0;34m\u001b[0m\u001b[0;34m\u001b[0m\u001b[0m\n",
            "\u001b[0;32m/usr/lib/python3.6/inspect.py\u001b[0m in \u001b[0;36mname\u001b[0;34m(self)\u001b[0m\n\u001b[1;32m   2500\u001b[0m         \u001b[0mself\u001b[0m\u001b[0;34m.\u001b[0m\u001b[0m_annotation\u001b[0m \u001b[0;34m=\u001b[0m \u001b[0mstate\u001b[0m\u001b[0;34m[\u001b[0m\u001b[0;34m'_annotation'\u001b[0m\u001b[0;34m]\u001b[0m\u001b[0;34m\u001b[0m\u001b[0;34m\u001b[0m\u001b[0m\n\u001b[1;32m   2501\u001b[0m \u001b[0;34m\u001b[0m\u001b[0m\n\u001b[0;32m-> 2502\u001b[0;31m     \u001b[0;34m@\u001b[0m\u001b[0mproperty\u001b[0m\u001b[0;34m\u001b[0m\u001b[0;34m\u001b[0m\u001b[0m\n\u001b[0m\u001b[1;32m   2503\u001b[0m     \u001b[0;32mdef\u001b[0m \u001b[0mname\u001b[0m\u001b[0;34m(\u001b[0m\u001b[0mself\u001b[0m\u001b[0;34m)\u001b[0m\u001b[0;34m:\u001b[0m\u001b[0;34m\u001b[0m\u001b[0;34m\u001b[0m\u001b[0m\n\u001b[1;32m   2504\u001b[0m         \u001b[0;32mreturn\u001b[0m \u001b[0mself\u001b[0m\u001b[0;34m.\u001b[0m\u001b[0m_name\u001b[0m\u001b[0;34m\u001b[0m\u001b[0;34m\u001b[0m\u001b[0m\n",
            "\u001b[0;31mKeyboardInterrupt\u001b[0m: "
          ]
        }
      ]
    },
    {
      "cell_type": "markdown",
      "metadata": {
        "id": "f1PLLtpatiZu",
        "colab_type": "text"
      },
      "source": [
        "## Cross validation Prinicple Component Analysis\n",
        "- Calculate mean accuracy and mean area under the curve (on test data) in a cross-validation"
      ]
    },
    {
      "cell_type": "code",
      "metadata": {
        "id": "NaerxvoethkG",
        "colab_type": "code",
        "colab": {}
      },
      "source": [
        "# Define cross validation for outer cross-validation\n",
        "cv10_fold = model_selection.StratifiedShuffleSplit(n_splits=100, test_size=0.2, random_state=42)\n",
        "\n",
        "# Create empty lists to store the performance of the classifiers\n",
        "acc_knn = []\n",
        "acc_svm = []\n",
        "auc_knn = []\n",
        "auc_svm = []\n",
        "acc_rf = []\n",
        "auc_rf = []\n",
        "acc_nn = []\n",
        "auc_nn = []\n",
        "acc_knn_train = []\n",
        "acc_svm_train = []\n",
        "acc_rf_train = []\n",
        "acc_nn_train = []\n",
        "\n",
        "# Outer Cross-Validation\n",
        "for train_index, test_index in cv10_fold.split(data, stage):\n",
        "    \n",
        "    stage = np.array(stage)\n",
        "    outer_train = data.iloc[train_index]\n",
        "    outer_stage_train = stage[train_index]\n",
        "    outer_test = data.iloc[test_index]\n",
        "    outer_stage_test = stage[test_index]\n",
        "\n",
        "    # Remove columns from dataframes\n",
        "    outer_train, outer_test = data_cleaning(outer_train, outer_test)\n",
        "        \n",
        "    # Data scaling\n",
        "    outer_train, outer_test = data_scaling(outer_train, outer_test)\n",
        "    # outer_train, outer_test = data_scaling_robust(outer_train, outer_test)\n",
        "\n",
        "    # Feature PCA\n",
        "    outer_train, outer_test = pca_opt(outer_train, outer_test)\n",
        "\n",
        "    # # kNN Optimization\n",
        "    # clf_knn, acc_train, acc_test, auc_test = knn_class(outer_train, outer_test, outer_stage_train, outer_stage_test)\n",
        "    # acc_knn.append(acc_test)\n",
        "    # auc_knn.append(auc_test)\n",
        "    # acc_knn_train.append(acc_train)\n",
        "\n",
        "    # SVM Optimization\n",
        "    clf_svm, acc_train, acc_test, auc_test = svm_class(outer_train, outer_test, outer_stage_train, outer_stage_test)\n",
        "    acc_svm.append(acc_test)\n",
        "    auc_svm.append(auc_test)\n",
        "    acc_svm_train.append(acc_train)\n",
        "\n",
        "    # # RF Optimization\n",
        "    # clf_rf, acc_train, acc_test, auc_test = rf_class(outer_train, outer_test, outer_stage_train, outer_stage_test)\n",
        "    # acc_rf.append(acc_test)\n",
        "    # auc_rf.append(auc_test)\n",
        "    # acc_rf_train.append(acc_train)\n",
        "\n",
        "    # # NN Optimization\n",
        "    # clf_nn, acc_train, acc_test, auc_test = nn_class(outer_train, outer_test, outer_stage_train, outer_stage_test)\n",
        "    # acc_nn.append(acc_test)\n",
        "    # auc_nn.append(auc_test)\n",
        "    # acc_nn_train.append(acc_train)\n",
        "\n",
        "# print(f'The mean accuracy of the kNN-classifier: {mean(acc_knn)}')\n",
        "# print(f'The mean AUC of the kNN-classifier: {mean(auc_knn)}')\n",
        "# print(f'The mean accuracy on the trainset of the kNN-classifier: {mean(acc_knn_train)}')\n",
        "print(f'The mean accuracy of the SVM-classifier: {mean(acc_svm)}')\n",
        "print(f'The mean AUC of the SVM-classifier: {mean(auc_svm)}')\n",
        "print(f'The mean accuracy on the trainset of the SVM-classifier: {mean(acc_svm_train)}')\n",
        "# print(f'The mean accuracy of the RF-classifier: {mean(acc_rf)}')\n",
        "# print(f'The mean AUC of the RF-classifier: {mean(auc_rf)}')\n",
        "# print(f'The mean accuracy on the trainset of the RF-classifier: {mean(acc_rf_train)}')\n",
        "# print(f'The mean accuracy of the NN-classifier: {mean(acc_nn)}')\n",
        "# print(f'The mean AUC of the NN-classifier: {mean(auc_nn)}')\n",
        "# print(f'The mean accuracy on the trainset of the NN-classifier: {mean(acc_nn_train)}')"
      ],
      "execution_count": 0,
      "outputs": []
    },
    {
      "cell_type": "markdown",
      "metadata": {
        "id": "7uT0FF2IyX91",
        "colab_type": "text"
      },
      "source": [
        "## Cross validation Prinicple Component Analysis + univariate\n",
        "- Calculate mean accuracy and mean area under the curve (on test data) in a cross-validation"
      ]
    },
    {
      "cell_type": "code",
      "metadata": {
        "id": "klHBuELmyYIS",
        "colab_type": "code",
        "colab": {}
      },
      "source": [
        "# Define cross validation for outer cross-validation\n",
        "cv10_fold = model_selection.StratifiedShuffleSplit(n_splits=100, test_size=0.2, random_state=42)\n",
        "\n",
        "# Create empty lists to store the performance of the classifiers\n",
        "acc_knn = []\n",
        "acc_svm = []\n",
        "auc_knn = []\n",
        "auc_svm = []\n",
        "acc_rf = []\n",
        "auc_rf = []\n",
        "acc_knn_train = []\n",
        "acc_svm_train = []\n",
        "acc_rf_train = []\n",
        "\n",
        "# Outer Cross-Validation\n",
        "for train_index, test_index in cv10_fold.split(data, stage):\n",
        "    \n",
        "    stage = np.array(stage)\n",
        "    outer_train = data.iloc[train_index]\n",
        "    outer_stage_train = stage[train_index]\n",
        "    outer_test = data.iloc[test_index]\n",
        "    outer_stage_test = stage[test_index]\n",
        "\n",
        "    # Remove columns from dataframes\n",
        "    outer_train, outer_test = data_cleaning(outer_train, outer_test)\n",
        "    # outer_train, outer_test = data_scaling_robust(outer_train, outer_test)\n",
        "        \n",
        "    # Data scaling\n",
        "    outer_train, outer_test = data_scaling(outer_train, outer_test)\n",
        "\n",
        "    # Univariate feature selection\n",
        "    outer_train, outer_test = uni(outer_train, outer_test, outer_stage_train, 80)\n",
        "    # print(outer_train.shape)\n",
        "\n",
        "    # Feature PCA\n",
        "    outer_train, outer_test = pca_opt(outer_train, outer_test)\n",
        "    # print(outer_train.shape)\n",
        "\n",
        "    # kNN Optimization\n",
        "    # clf_knn, acc_train, acc_test, auc_test = knn_class(outer_train, outer_test, outer_stage_train, outer_stage_test)\n",
        "    # acc_knn.append(acc_test)\n",
        "    # acc_knn_train.append(acc_train)\n",
        "    # auc_knn.append(auc_test)\n",
        "\n",
        "    # # SVM Optimization\n",
        "    clf_svm, acc_train, acc_test, auc_test = svm_class(outer_train, outer_test, outer_stage_train, outer_stage_test)\n",
        "    acc_svm.append(acc_test)\n",
        "    acc_svm_train.append(acc_train)\n",
        "    auc_svm.append(auc_test)\n",
        "\n",
        "    # # RF Optimization\n",
        "    # clf_rf, acc_train, acc_test, auc_test = rf_class(outer_train, outer_test, outer_stage_train, outer_stage_test)\n",
        "    # acc_rf.append(acc_test)\n",
        "    # acc_rf_train.append(acc_train)\n",
        "    # auc_rf.append(auc_test)\n",
        "\n",
        "# print(f'The mean accuracy of the kNN-classifier: {mean(acc_knn)}')\n",
        "# print(f'The mean AUC of the kNN-classifier: {mean(auc_knn)}')\n",
        "# print(f'The mean accuracy on the trainset of the kNN-classifier: {mean(acc_knn_train)}')\n",
        "print(f'The mean accuracy of the SVM-classifier: {mean(acc_svm)}')\n",
        "print(f'The mean AUC of the SVM-classifier: {mean(auc_svm)}')\n",
        "print(f'The mean accuracy on the trainset of the SVM-classifier: {mean(acc_svm_train)}')\n",
        "# print(f'The mean accuracy of the RF-classifier: {mean(acc_rf)}')\n",
        "# print(f'The mean AUC of the RF-classifier: {mean(auc_rf)}')\n",
        "# print(f'The mean accuracy on the trainset of the RF-classifier: {mean(acc_rf_train)}')"
      ],
      "execution_count": 0,
      "outputs": []
    },
    {
      "cell_type": "markdown",
      "metadata": {
        "id": "y0BShY0My81G",
        "colab_type": "text"
      },
      "source": [
        "# 3 Loops\n",
        "- choose best model for each inner cross validation\n",
        "- compare models, choose one with highest performance\n",
        "- fit chosen model on outer loop\n",
        "\n"
      ]
    },
    {
      "cell_type": "code",
      "metadata": {
        "id": "FuPmWJ-YzJp9",
        "colab_type": "code",
        "outputId": "78c6171b-1a6d-45ec-f77c-d5ae19b7cd3d",
        "colab": {
          "base_uri": "https://localhost:8080/",
          "height": 199
        }
      },
      "source": [
        "# splitting in train- and test\n",
        "cv100_fold = model_selection.StratifiedShuffleSplit(n_splits=2, test_size=0.2, random_state=42)\n",
        "cv5_fold = model_selection.StratifiedKFold(n_splits=2) # for now run the innerloop 1 time, since running it more often take a lot more time. When we've got time left, check performance using model selection based on 5 times the inner loop.\n",
        "\n",
        "# creating empty lists\n",
        "acc_total = []\n",
        "auc_total = []\n",
        "\n",
        "# Loop to check performance of the model, 100x times the best model is fitted on the test data. This will give an average performance of the model, should be >70%\n",
        "for train_index, test_index in cv100_fold.split(data, stage):\n",
        "    stage = np.array(stage)\n",
        "    outer_train = data.iloc[train_index] \n",
        "    outer_stage_train = stage[train_index]\n",
        "    outer_test = data.iloc[test_index]\n",
        "    outer_stage_test = stage[test_index]\n",
        "\n",
        "    classifier_knn = []\n",
        "    acc_train_knn = []\n",
        "    acc_val_knn = []\n",
        "    auc_val_knn = []\n",
        "    classifier_rf = []\n",
        "    acc_train_rf = []\n",
        "    acc_val_rf = []\n",
        "    auc_val_rf = []\n",
        "    classifier_svm = []\n",
        "    acc_train_svm = []\n",
        "    acc_val_svm = []\n",
        "    auc_val_svm = []\n",
        "    classifier_nn = []\n",
        "    acc_train_nn = []\n",
        "    acc_val_nn = []\n",
        "    auc_val_nn = []\n",
        "    choose_selector_knn = []\n",
        "    choose_selector_svm = []\n",
        "    choose_selector_rf = []\n",
        "    \n",
        "    # Loop to train the model and choose the best combination of feature selection/extraction method and classifier. \n",
        "    # 5 times a new model is created an tested on the validation set. \n",
        "    # The model with the highest accuracy on the validation set is used as model to fit on the test set.\n",
        "    # Possible feature selection/extraction methods: univariate, PCA, combination of univariate and PCA\n",
        "    # Possible classifiers: k-NN, SVM, RF, (NN)\n",
        "    for train_index, val_index in cv5_fold.split(outer_train, outer_stage_train): \n",
        "        \n",
        "        inner_train = outer_train.iloc[train_index] \n",
        "        inner_stage_train = outer_stage_train[train_index]\n",
        "        inner_val = outer_train.iloc[val_index]\n",
        "        inner_stage_val = outer_stage_train[val_index]\n",
        "        \n",
        "        # Remove columns from dataframes\n",
        "        inner_train, inner_val = data_cleaning(inner_train, inner_val)\n",
        "        \n",
        "        # Data scaling\n",
        "        inner_train, inner_val = data_scaling(inner_train, inner_val)\n",
        "\n",
        "        # Univariate Feature Selection\n",
        "        inner_train_uni, inner_val_uni = uni(inner_train, inner_val, inner_stage_train, 60)\n",
        "\n",
        "        # PCA\n",
        "        inner_train_pca, inner_val_pca = pca_opt(inner_train, inner_val)\n",
        "\n",
        "        # Univariate Feature Selection + PCA\n",
        "        inner_train_uni_pca, inner_val_uni_pca = pca_opt(inner_train_uni, inner_val_uni)\n",
        "\n",
        "        selectors_train = [inner_train_uni, inner_train_pca, inner_train_uni_pca]\n",
        "        selectors_val = [inner_val_uni, inner_val_pca, inner_val_uni_pca]\n",
        "\n",
        "        # creating empty lists\n",
        "        selectors_train_choose = ['inner_train_uni', 'inner_train_pca', 'inner_train_uni_pca']\n",
        "\n",
        "        acc_val_knn_different_selectors=[]\n",
        "        classifier_knn_different_selectors=[]\n",
        "        max_value_knn_different_selectors = []\n",
        "        max_index_knn_different_selectors = []\n",
        "        max_clf_knn_different_selectors = []\n",
        "\n",
        "        acc_val_svm_different_selectors=[]\n",
        "        classifier_svm_different_selectors=[]\n",
        "        max_value_svm_different_selectors = []\n",
        "        max_index_svm_different_selectors = []\n",
        "        max_clf_svm_different_selectors = []\n",
        "\n",
        "        acc_val_rf_different_selectors=[]\n",
        "        classifier_rf_different_selectors=[]\n",
        "        max_value_rf_different_selectors = []\n",
        "        max_index_rf_different_selectors = []\n",
        "        max_clf_rf_different_selectors = []\n",
        "\n",
        "        # Loop to combine feature selection methods with classifiers\n",
        "        for selector_train, selector_val in zip(selectors_train, selectors_val):\n",
        "            # knn optimization\n",
        "            clf_knn, acc_train, acc_val_k, auc_val = knn_class(selector_train, selector_val, inner_stage_train, inner_stage_val)\n",
        "            # K-NN: append classifiers and their accuracy's for the different combinations of selectors and classifiers\n",
        "            classifier_knn_different_selectors.append(clf_knn)\n",
        "            acc_val_knn_different_selectors.append(acc_val_k)\n",
        "            \n",
        "            # SVM Optimization\n",
        "            clf_svm, acc_train, acc_val_s, auc_val = svm_class(selector_train, selector_val, inner_stage_train, inner_stage_val)\n",
        "            # SVM: append classifiers and their accuracy's for the different combinations of selectors and classifiers\n",
        "            classifier_svm_different_selectors.append(clf_svm)\n",
        "            acc_val_svm_different_selectors.append(acc_val_s)\n",
        "            \n",
        "            # RF Optimization\n",
        "            clf_rf, acc_train, acc_val_r, auc_val = rf_class(inner_train, inner_val, inner_stage_train, inner_stage_val)\n",
        "            # RF: append classifiers and their accuracy's for the different combinations of selectors and classifiers\n",
        "            classifier_rf_different_selectors.append(clf_rf)\n",
        "            acc_val_rf_different_selectors.append(acc_val_r)    \n",
        "\n",
        "        # K-NN: select the right selector - classifier combination\n",
        "        max_value_knn_different_selectors = max(acc_val_knn_different_selectors)\n",
        "        max_index_knn_different_selectors = acc_val_knn_different_selectors.index(max_value_knn_different_selectors)\n",
        "        max_clf_knn_different_selectors = classifier_knn_different_selectors[max_index_knn_different_selectors]\n",
        "        # K-NN: append the knn classifiers, selectors and their accuracy's for the inner loop \n",
        "        classifier_knn.append(max_clf_knn_different_selectors)\n",
        "        choose_selector_knn.append(selectors_train_choose[max_index_knn_different_selectors])\n",
        "        acc_val_knn.append(max_value_knn_different_selectors)\n",
        "        \n",
        "        # SVM: select the right selector - classifier combination\n",
        "        max_value_svm_different_selectors = max(acc_val_svm_different_selectors)\n",
        "        max_index_svm_different_selectors = acc_val_svm_different_selectors.index(max_value_svm_different_selectors)\n",
        "        max_clf_svm_different_selectors = classifier_svm_different_selectors[max_index_svm_different_selectors]\n",
        "        # SVM: append the knn classifiers and their accuracy's for the inner loop \n",
        "        classifier_svm.append(max_clf_svm_different_selectors)\n",
        "        choose_selector_svm.append(selectors_train_choose[max_index_svm_different_selectors])\n",
        "        acc_val_svm.append(max_value_svm_different_selectors)\n",
        "\n",
        "        # RF: select the right selector - classifier combination\n",
        "        max_value_rf_different_selectors = max(acc_val_rf_different_selectors)\n",
        "        max_index_rf_different_selectors = acc_val_rf_different_selectors.index(max_value_rf_different_selectors)\n",
        "        max_clf_rf_different_selectors = classifier_rf_different_selectors[max_index_rf_different_selectors]\n",
        "        # RF: append the knn classifiers and their accuracy's for the inner loop \n",
        "        classifier_rf.append(max_clf_rf_different_selectors)\n",
        "        choose_selector_rf.append(selectors_train_choose[max_index_rf_different_selectors])\n",
        "        acc_val_rf.append(max_value_rf_different_selectors)\n",
        "\n",
        "    # K-NN: Select the best k-NN model of inner loop\n",
        "    max_value_knn = max(acc_val_knn)\n",
        "    max_index_knn = acc_val_knn.index(max_value_knn)\n",
        "    max_selector_knn = choose_selector_knn[max_index_knn]\n",
        "    max_clf_knn = classifier_knn[max_index_knn]\n",
        "\n",
        "    # SVM: Select the best SVM model of inner loop\n",
        "    max_value_svm = max(acc_val_svm)\n",
        "    max_index_svm = acc_val_svm.index(max_value_svm)\n",
        "    max_selector_svm = choose_selector_svm[max_index_svm]\n",
        "    max_clf_svm = classifier_svm[max_index_svm]\n",
        "\n",
        "    # RF: Select the best RF model of inner loop\n",
        "    max_value_rf = max(acc_val_rf)\n",
        "    max_index_rf = acc_val_rf.index(max_value_rf)\n",
        "    max_selector_rf = choose_selector_rf[max_index_rf]\n",
        "    max_clf_rf = classifier_rf[max_index_rf]\n",
        "\n",
        "    # Select model with highest accuracy on validation data\n",
        "    max_values_together = [max_value_knn, max_value_svm, max_value_rf]\n",
        "    max_clf_together = [max_clf_knn, max_clf_svm, max_clf_rf]\n",
        "    max_selector_together = [max_selector_knn, max_selector_svm, max_selector_rf]\n",
        "    max_value_of_all = max(max_values_together)\n",
        "    print(max_value_of_all)\n",
        "    max_index_of_all = max_values_together.index(max_value_of_all)\n",
        "    max_selector_of_all = max_selector_together[max_index_of_all]\n",
        "    max_clf_of_all = max_clf_together[max_index_of_all]\n",
        "\n",
        "    # Remove columns from dataframes\n",
        "    outer_train, outer_test = data_cleaning(outer_train, outer_test)\n",
        "        \n",
        "    # Data scaling\n",
        "    outer_train, outer_test = data_scaling(outer_train, outer_test)\n",
        "\n",
        "    # Feature Selection\n",
        "    selector_used, outer_train, outer_test = execute_selector(outer_train, outer_test, stage_train, max_selector_of_all)\n",
        "    print(f'The feature selector used is: {selector_used}')\n",
        "    # Classifier\n",
        "    classifier_used = name_classifier(max_index_of_all)\n",
        "    print(f'The classifier used is: {classifier_used}')\n",
        "    max_clf_of_all.fit(outer_train, outer_stage_train)\n",
        "\n",
        "    # Performance \n",
        "    predict_test = max_clf_of_all.predict(outer_test)\n",
        "    auc = metrics.roc_auc_score(predict_test, outer_stage_test)\n",
        "    acc = max_clf_of_all.score(outer_test, outer_stage_test)\n",
        "    acc_total.append(acc)\n",
        "    auc_total.append(auc)\n",
        "\n",
        "print(f'The mean accuracy of the model is: {mean(acc_total)}')  \n",
        "print(f'The standard deviation of the accuracy of the model is: {stdev(acc_total)}')\n",
        "print(f'The mean AUC of a the model is: {mean(auc_total)}')   \n",
        "print(f'The standard deviation of the AUC of the model is: {stdev(auc_total)}')\n",
        "  \n",
        "    "
      ],
      "execution_count": 19,
      "outputs": [
        {
          "output_type": "stream",
          "text": [
            "0.8\n",
            "The feature selector used is: PCA\n",
            "The classifier used is: SVM\n",
            "0.8222222222222222\n",
            "The feature selector used is: PCA\n",
            "The classifier used is: RF\n",
            "The mean accuracy of the model is: 0.5869565217391304\n",
            "The standard deviation of the accuracy of the model is: 0.21520641166547094\n",
            "The mean AUC of a the model is: 0.5834935897435898\n",
            "The standard deviation of the AUC of the model is: 0.23003634067446976\n"
          ],
          "name": "stdout"
        }
      ]
    },
    {
      "cell_type": "markdown",
      "metadata": {
        "id": "KWrbhphALMNQ",
        "colab_type": "text"
      },
      "source": [
        "## Final loop choice for model based on highest mean of inner loop"
      ]
    },
    {
      "cell_type": "code",
      "metadata": {
        "id": "5XzhS505LMgV",
        "colab_type": "code",
        "colab": {
          "base_uri": "https://localhost:8080/",
          "height": 381
        },
        "outputId": "ef5e74b7-dea9-4dae-b6e7-128b432551e3"
      },
      "source": [
        "# splitting in train- and test\n",
        "n_split_outer = 5\n",
        "n_split_inner = 10\n",
        "cv_fold_outer = model_selection.StratifiedShuffleSplit(n_splits = n_split_outer, test_size=0.2, random_state=42)\n",
        "cv_fold_inner = model_selection.StratifiedKFold(n_splits = n_split_inner) \n",
        "\n",
        "# creating empty lists\n",
        "acc_total = []\n",
        "auc_total = []\n",
        "sensitifity_total\n",
        "specificity_total\n",
        "\n",
        "# Initialize counters\n",
        "count_k_uni = 0\n",
        "count_k_pca = 0\n",
        "count_k_uni_pca = 0\n",
        "count_s_uni = 0\n",
        "count_s_pca = 0\n",
        "count_s_uni_pca = 0\n",
        "count_r_uni = 0\n",
        "count_r_pca = 0\n",
        "count_r_uni_pca = 0\n",
        "\n",
        "# Loop to check performance of the model, 100x times the best model is fitted on the test data. This will give an average performance of the model, should be >70%\n",
        "for train_index, test_index in cv_fold_outer.split(data, stage):\n",
        "    stage = np.array(stage)\n",
        "    outer_train = data.iloc[train_index] \n",
        "    outer_stage_train = stage[train_index]\n",
        "    outer_test = data.iloc[test_index]\n",
        "    outer_stage_test = stage[test_index]\n",
        "\n",
        "    acc_knn_uni = []\n",
        "    acc_knn_pca = []\n",
        "    acc_knn_uni_pca = []\n",
        "    acc_svm_uni = []\n",
        "    acc_svm_pca = []\n",
        "    acc_svm_uni_pca = []\n",
        "    acc_rf_uni = []\n",
        "    acc_rf_pca = []\n",
        "    acc_rf_uni_pca = []\n",
        "    \n",
        "    # Loop to train the model and choose the best combination of feature selection/extraction method and classifier. \n",
        "    # 5 times a new model is created an tested on the validation set. \n",
        "    # The model with the highest accuracy on the validation set is used as model to fit on the test set.\n",
        "    # Possible feature selection/extraction methods: univariate, PCA, combination of univariate and PCA\n",
        "    # Possible classifiers: k-NN, SVM, RF, (NN)\n",
        "    for train_index, val_index in cv_fold_inner.split(outer_train, outer_stage_train): \n",
        "        \n",
        "        inner_train = outer_train.iloc[train_index] \n",
        "        inner_stage_train = outer_stage_train[train_index]\n",
        "        inner_val = outer_train.iloc[val_index]\n",
        "        inner_stage_val = outer_stage_train[val_index]\n",
        "        \n",
        "        # Remove columns from dataframes\n",
        "        inner_train, inner_val = data_cleaning(inner_train, inner_val)\n",
        "        \n",
        "        # Data scaling\n",
        "        inner_train, inner_val = data_scaling(inner_train, inner_val)\n",
        "\n",
        "        # Univariate Feature Selection\n",
        "        inner_train_uni, inner_val_uni = uni(inner_train, inner_val, inner_stage_train, 20)\n",
        "\n",
        "        # PCA\n",
        "        inner_train_pca, inner_val_pca = pca_opt(inner_train, inner_val)\n",
        "\n",
        "        # Univariate Feature Selection + PCA\n",
        "        inner_train_uni_p, inner_val_uni_p = uni(inner_train, inner_val, inner_stage_train, 80)\n",
        "        inner_train_uni_pca, inner_val_uni_pca = pca_opt(inner_train_uni_p, inner_val_uni_p)\n",
        "\n",
        "        # option 1: Uni + k-NN\n",
        "        clf_k_uni, acc_train_k_uni, acc_val_k_uni, auc_val_k_uni, sens_k_uni, spec_k_uni = knn_class(inner_train_uni, inner_val_uni, inner_stage_train, inner_stage_val)\n",
        "\n",
        "        # option 2: PCA + k-NN\n",
        "        clf_k_pca, acc_train_k_pca, acc_val_k_pca, auc_val_k_pca, sens_k_pca, spec_k_pca = knn_class(inner_train_pca, inner_val_pca, inner_stage_train, inner_stage_val)\n",
        "\n",
        "        # option 3: Uni and PCA + k-NN\n",
        "        clf_k_uni_pca, acc_train_k_uni_pca, acc_val_k_uni_pca, auc_val_k_uni_pca, sens_k_uni_pca, spec_k_uni_pca = knn_class(inner_train_uni_pca, inner_val_uni_pca, inner_stage_train, inner_stage_val) \n",
        "\n",
        "        # option 4: Uni + SVM\n",
        "        clf_s_uni, acc_train_s_uni, acc_val_s_uni, auc_val_s_uni, sens_s_uni, spec_s_uni = svm_class(inner_train_uni, inner_val_uni, inner_stage_train, inner_stage_val)\n",
        "\n",
        "        # option 5: PCA + SVM\n",
        "        clf_s_pca, acc_train_s_pca, acc_val_s_pca, auc_val_s_pca, sens_s_pca, spec_s_pca = svm_class(inner_train_pca, inner_val_pca, inner_stage_train, inner_stage_val)\n",
        "\n",
        "        # option 6: Uni and PCA + SVM\n",
        "        clf_s_uni_pca, acc_train_s_uni_pca, acc_val_s_uni_pca, auc_val_s_uni_pca, sens_s_uni_pca, spec_s_uni_pca = svm_class(inner_train_uni_pca, inner_val_uni_pca, inner_stage_train, inner_stage_val)   \n",
        "\n",
        "        # option 7: Uni + RF\n",
        "        clf_r_uni, acc_train_r_uni, acc_val_r_uni, auc_val_r_uni, sens_r_uni, spec_r_uni = rf_class(inner_train_uni, inner_val_uni, inner_stage_train, inner_stage_val)\n",
        "\n",
        "        # option 8: PCA + RF\n",
        "        clf_r_pca, acc_train_r_pca, acc_val_r_pca, auc_val_r_pca, sens_r_pca, spec_r_pca = rf_class(inner_train_pca, inner_val_pca, inner_stage_train, inner_stage_val)\n",
        "\n",
        "        # option 9: Uni and PCA + RF\n",
        "        clf_r_uni_pca, acc_train_r_uni_pca, acc_val_r_uni_pca, auc_val_r_uni_pca, sens_r_uni_pca, spec_r_uni_pca = rf_class(inner_train_uni_pca, inner_val_uni_pca, inner_stage_train, inner_stage_val)\n",
        "\n",
        "        # k-NN\n",
        "        acc_knn_uni.append(acc_val_k_uni)\n",
        "        acc_knn_pca.append(acc_val_k_pca)\n",
        "        acc_knn_uni_pca.append(acc_val_k_uni_pca)\n",
        "\n",
        "        # SVM\n",
        "        acc_svm_uni.append(acc_val_s_uni)\n",
        "        acc_svm_pca.append(acc_val_s_pca)\n",
        "        acc_svm_uni_pca.append(acc_val_s_uni_pca)\n",
        "\n",
        "        # RF\n",
        "        acc_rf_uni.append(acc_val_r_uni)\n",
        "        acc_rf_pca.append(acc_val_r_pca)\n",
        "        acc_rf_uni_pca.append(acc_val_r_uni_pca)\n",
        "\n",
        "    # calculate mean + take best mean\n",
        "    all_acc_together = [mean(acc_knn_uni), mean(acc_knn_pca), mean(acc_knn_uni_pca),\n",
        "                        mean(acc_svm_uni), mean(acc_svm_pca), mean(acc_svm_uni_pca),\n",
        "                        mean(acc_rf_uni), mean(acc_rf_pca), mean(acc_rf_uni_pca)]\n",
        "    best_mean_model = max(all_acc_together)\n",
        "    index_best_mean_model = all_acc_together.index(best_mean_model)\n",
        "    selector_used, classifier_used = name_best_model(index_best_mean_model)\n",
        "\n",
        "    print(f'The feature selector used is: {selector_used}')\n",
        "    print(f'The classifier used is: {classifier_used}')\n",
        "    \n",
        "    # Remove columns from dataframes\n",
        "    outer_train, outer_test = data_cleaning(outer_train, outer_test)\n",
        "        \n",
        "    # Data scaling\n",
        "    outer_train, outer_test = data_scaling(outer_train, outer_test)\n",
        "\n",
        "    # Feature Selection\n",
        "    outer_train, outer_test = best_selector(outer_train, outer_test, stage_train, selector_used)\n",
        "\n",
        "    # Classifier\n",
        "    clf, acc_train, acc_test, auc_test, sensitivity, specificity = best_classifier(outer_train, outer_test, outer_stage_train, outer_stage_test, classifier_used)\n",
        "    \n",
        "    # Performance measures\n",
        "    acc_total.append(acc_test)\n",
        "    auc_total.append(auc_test)\n",
        "    sensitivity_total.append(sensitivity)\n",
        "    specificity_total.append(specificity)\n",
        "    \n",
        "    # Count how often which model is choosen\n",
        "    if selector_used == 'Univariate' and classifier_used == 'k-NN':\n",
        "        count_k_uni += 1\n",
        "    elif selector_used == 'PCA' and classifier_used == 'k-NN':\n",
        "        count_k_pca += 1\n",
        "    elif selector_used == 'Univariate and PCA' and classifier_used == 'k-NN':\n",
        "        count_k_uni_pca += 1\n",
        "    elif selector_used == 'Univariate' and classifier_used == 'SVM':\n",
        "        count_s_uni += 1\n",
        "    elif selector_used == 'PCA' and classifier_used == 'SVM':\n",
        "        count_s_pca += 1\n",
        "    elif selector_used == 'Univariate and PCA' and classifier_used == 'SVM':\n",
        "        count_s_uni_pca += 1\n",
        "    elif selector_used == 'Univariate' and classifier_used == 'RF':\n",
        "        count_r_uni += 1\n",
        "    elif selector_used == 'PCA' and classifier_used == 'RF':\n",
        "        count_r_pca += 1\n",
        "    elif selector_used == 'Univariate and PCA' and classifier_used == 'RF':\n",
        "        count_r_uni_pca += 1\n",
        "\n",
        "\n",
        "\n",
        "# printing the results of the performance of the model\n",
        "print(f'\\nThe results of running the outer loop {n_split_outer}x times and the inner loop {n_split_inner}x times are: \\n')\n",
        "\n",
        "print(f'The mean accuracy of the model is: {round(mean(acc_total), 3)}')  \n",
        "print(f'The standard deviation of the accuracy of the model is: {round(stdev(acc_total), 3)}')\n",
        "print(f'The standard error of the accuracy of the model is: {round(stdev(acc_total)/sqrt(n_split_outer),3)}')\n",
        "\n",
        "print(f'n\\The mean AUC of a the model is: {round(mean(auc_total), 3)}')   \n",
        "print(f'The standard deviation of the AUC of the model is: {round(stdev(auc_total), 3)}')\n",
        "print(f'The standard error of the AUC of the model is: {round(stdev(auc_total)/sqrt(n_split_outer),3)}')\n",
        "\n",
        "print(f'n\\The mean sensitivity of the model is: {round(mean(sensitivity_total),3)}')\n",
        "print(f'The standard deviation of the sensitivity of the model is: {round(stdev(sensitivity_total), 3)}')\n",
        "print(f'The standard error of the sensitivity of the model is: {round(stdev(sensitivity_total)/sqrt(n_split_outer),3)}')\n",
        "\n",
        "print(f'n\\The mean specificity of the model is: {round(mean(specificity_total),3)}')\n",
        "print(f'The standard deviation of the specificity of the model is: {round(stdev(specificity_total), 3)}')\n",
        "print(f'The standard error of the specificity of the model is: {round(stdev(specificity_total)/sqrt(n_split_outer),3)}')\n",
        "\n",
        "print(f'n\\The combination of univariate feature selection and k-NN was choosen as the optimal model in: {count_k_uni}/{n_split_outer}')\n",
        "print(f'The combination of PCA and k-NN was choosen as the optimal model in: {count_k_pca}/{n_split_outer}')\n",
        "print(f'The combination of univariate feature selection, PCA and k-NN was choosen as the optimal model in: {count_k_uni_pca}/{n_split_outer}')\n",
        "\n",
        "print(f'n\\The combination of univariate feature selection and SVM was choosen as the optimal model in: {count_s_uni}/{n_split_outer}')\n",
        "print(f'The combination of PCA and SVM was choosen as the optimal model in: {count_s_pca}/{n_split_outer}')\n",
        "print(f'The combination of univariate feature selection, PCA and SVM was choosen as the optimal model in: {count_s_uni_pca}/{n_split_outer}')\n",
        "\n",
        "print(f'n\\The combination of univariate feature selection and RF was choosen as the optimal model in: {count_r_uni}/{n_split_outer}')\n",
        "print(f'The combination of PCA and RF was choosen as the optimal model in: {count_r_pca}/{n_split_outer}')\n",
        "print(f'The combination of univariate feature selection, PCA and RF was choosen as the optimal model in: {count_r_uni_pca}/{n_split_outer}')\n",
        "\n"
      ],
      "execution_count": 50,
      "outputs": [
        {
          "output_type": "stream",
          "text": [
            "The feature selector used is: PCA\n",
            "The classifier used is: SVM\n",
            "The feature selector used is: Univariate and PCA\n",
            "The classifier used is: SVM\n",
            "\n",
            " The results of running the outer loop 2x times and the inner loop 10x times are: \n",
            "\n",
            "The mean accuracy of the model is: 0.587\n",
            "The standard deviation of the accuracy of the model is: 0.154\n",
            "The mean AUC of a the model is: 0.597\n",
            "The standard deviation of the AUC of the model is: 0.161\n",
            "The combination of univariate and k-NN was choosen as the optimal model in: 0/2\n",
            "The combination of univariate and k-NN was choosen as the optimal model in: 0/2\n",
            "The combination of univariate and k-NN was choosen as the optimal model in: 0/2\n",
            "The combination of univariate and k-NN was choosen as the optimal model in: 0/2\n",
            "The combination of univariate and k-NN was choosen as the optimal model in: 1/2\n",
            "The combination of univariate and k-NN was choosen as the optimal model in: 1/2\n",
            "The combination of univariate and k-NN was choosen as the optimal model in: 0/2\n",
            "The combination of univariate and k-NN was choosen as the optimal model in: 0/2\n",
            "The combination of univariate and k-NN was choosen as the optimal model in: 0/2\n"
          ],
          "name": "stdout"
        }
      ]
    }
  ]
}
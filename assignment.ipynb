{
  "nbformat": 4,
  "nbformat_minor": 0,
  "metadata": {
    "colab": {
      "name": "assignment.ipynb",
      "provenance": [],
      "collapsed_sections": []
    },
    "kernelspec": {
      "display_name": "Python 3",
      "language": "python",
      "name": "python3"
    },
    "language_info": {
      "codemirror_mode": {
        "name": "ipython",
        "version": 3
      },
      "file_extension": ".py",
      "mimetype": "text/x-python",
      "name": "python",
      "nbconvert_exporter": "python",
      "pygments_lexer": "ipython3",
      "version": "3.7.4"
    }
  },
  "cells": [
    {
      "cell_type": "markdown",
      "metadata": {
        "colab_type": "text",
        "id": "7SXpaKwwGe5x"
      },
      "source": [
        "# TM10007 Assignment \n"
      ]
    },
    {
      "cell_type": "code",
      "metadata": {
        "colab_type": "code",
        "id": "CiDn2Sk-VWqE",
        "outputId": "8c06d6ac-8d10-4aab-ce0e-da38a0dcac53",
        "colab": {
          "base_uri": "https://localhost:8080/",
          "height": 34
        }
      },
      "source": [
        "# Run this to use from colab environment\n",
        "!pip install -q --upgrade git+https://github.com/karinvangarderen/tm10007_project.git"
      ],
      "execution_count": 46,
      "outputs": [
        {
          "output_type": "stream",
          "text": [
            "  Building wheel for brats (setup.py) ... \u001b[?25l\u001b[?25hdone\n"
          ],
          "name": "stdout"
        }
      ]
    },
    {
      "cell_type": "code",
      "metadata": {
        "id": "Fsm0D-Ugmvzu",
        "colab_type": "code",
        "colab": {}
      },
      "source": [
        "import numpy as np\n",
        "import pandas as pd\n",
        "import matplotlib.pyplot as plt\n",
        "from sklearn.model_selection import train_test_split\n",
        "from sklearn.decomposition import PCA\n",
        "from sklearn import datasets as ds"
      ],
      "execution_count": 0,
      "outputs": []
    },
    {
      "cell_type": "markdown",
      "metadata": {
        "id": "oZUAiDtz5djl",
        "colab_type": "text"
      },
      "source": [
        "## Data loading and cleaning\n",
        "\n",
        "Below are functions to load the dataset of your choice. After that, it is all up to you to create and evaluate a classification method. Beware, there may be missing values in these datasets. Good luck!"
      ]
    },
    {
      "cell_type": "code",
      "metadata": {
        "colab_type": "code",
        "id": "-NE_fTbKGe5z",
        "outputId": "164c8dba-ca7e-4a3d-d75e-6160324a2744",
        "colab": {
          "base_uri": "https://localhost:8080/",
          "height": 67
        }
      },
      "source": [
        "#import the data\n",
        "from hn.load_data import load_data\n",
        "data = load_data()\n",
        "print(f'The number of samples: {len(data.index)}')\n",
        "print(f'The number of columns: {len(data.columns)}')\n",
        "\n",
        "hn_stage = data['label']          # dataframe containing tumor stadium of subject (T12/T34)\n",
        "data = data.drop(columns='label') # dataframe containing all feature columns except 'label' (tumor stadium of subject)\n",
        "data.replace(0, np.nan, inplace=True) # replace all zeros with NaN\n",
        "data = data.dropna(axis='columns')    # dataframe containing all columns without NaN\n",
        "print(f'The number of columns after preprocessing: {len(data.columns)}')"
      ],
      "execution_count": 48,
      "outputs": [
        {
          "output_type": "stream",
          "text": [
            "The number of samples: 113\n",
            "The number of columns: 160\n",
            "The number of columns after preprocessing: 141\n"
          ],
          "name": "stdout"
        }
      ]
    },
    {
      "cell_type": "markdown",
      "metadata": {
        "id": "BLXxyvuwqW7q",
        "colab_type": "text"
      },
      "source": [
        "## Splitting data\n",
        "\n",
        "Below is a function to split the dataframe into two different dataframes (e.g. the train- and testset). This is done for both the features dataframe as well as the hn_stage dataframe."
      ]
    },
    {
      "cell_type": "code",
      "metadata": {
        "id": "qe6OoqWjq0Ni",
        "colab_type": "code",
        "colab": {
          "base_uri": "https://localhost:8080/",
          "height": 84
        },
        "outputId": "4114aac4-dd96-42cc-8ac5-8deb72749be6"
      },
      "source": [
        "# Splitting the data in train- and testpart with a portion of 'test_size' training data (20%)\n",
        "data_train, data_test, stage_train, stage_test = train_test_split(data, hn_stage, test_size=0.2)\n",
        "\n",
        "print(f'The number of columns of train data : {len(data_train.index)}')\n",
        "print(f'The number of columns of train stage : {len(stage_train.index)}')\n",
        "print(f'The number of columns of test data : {len(data_test.index)}')\n",
        "print(f'The number of columns of test stage : {len(stage_test.index)}')\n"
      ],
      "execution_count": 49,
      "outputs": [
        {
          "output_type": "stream",
          "text": [
            "The number of columns of train data : 90\n",
            "The number of columns of train stage : 90\n",
            "The number of columns of test data : 23\n",
            "The number of columns of test stage : 23\n"
          ],
          "name": "stdout"
        }
      ]
    }
  ]
}
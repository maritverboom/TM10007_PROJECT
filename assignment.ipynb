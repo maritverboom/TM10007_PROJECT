{
  "nbformat": 4,
  "nbformat_minor": 0,
  "metadata": {
    "colab": {
      "name": "Copy of assignment.ipynb",
      "provenance": [],
      "collapsed_sections": []
    },
    "kernelspec": {
      "display_name": "Python 3",
      "language": "python",
      "name": "python3"
    },
    "language_info": {
      "codemirror_mode": {
        "name": "ipython",
        "version": 3
      },
      "file_extension": ".py",
      "mimetype": "text/x-python",
      "name": "python",
      "nbconvert_exporter": "python",
      "pygments_lexer": "ipython3",
      "version": "3.7.4"
    }
  },
  "cells": [
    {
      "cell_type": "markdown",
      "metadata": {
        "colab_type": "text",
        "id": "7SXpaKwwGe5x"
      },
      "source": [
        "# TM10007 Assignment \n"
      ]
    },
    {
      "cell_type": "code",
      "metadata": {
        "colab_type": "code",
        "id": "CiDn2Sk-VWqE",
        "outputId": "6e8322dd-d216-45bc-ae73-abc59b0fc040",
        "colab": {
          "base_uri": "https://localhost:8080/",
          "height": 34
        }
      },
      "source": [
        "# Run this to use from colab environment\n",
        "!pip install -q --upgrade git+https://github.com/karinvangarderen/tm10007_project.git"
      ],
      "execution_count": 20,
      "outputs": [
        {
          "output_type": "stream",
          "text": [
            "  Building wheel for brats (setup.py) ... \u001b[?25l\u001b[?25hdone\n"
          ],
          "name": "stdout"
        }
      ]
    },
    {
      "cell_type": "code",
      "metadata": {
        "id": "Fsm0D-Ugmvzu",
        "colab_type": "code",
        "colab": {}
      },
      "source": [
        "import numpy as np\n",
        "import pandas as pd\n",
        "import matplotlib.pyplot as plt\n",
        "\n",
        "# Classifiers\n",
        "from sklearn import model_selection\n",
        "from sklearn import metrics\n",
        "from sklearn import feature_selection \n",
        "from sklearn import preprocessing\n",
        "from sklearn import neighbors\n",
        "from sklearn import svm\n",
        "from sklearn.decomposition import PCA\n",
        "from sklearn.ensemble import RandomForestClassifier\n",
        "from sklearn.impute import SimpleImputer\n",
        "from sklearn.model_selection import cross_val_score"
      ],
      "execution_count": 0,
      "outputs": []
    },
    {
      "cell_type": "markdown",
      "metadata": {
        "id": "-AlgAclcK2My",
        "colab_type": "text"
      },
      "source": [
        "## Data Loading"
      ]
    },
    {
      "cell_type": "code",
      "metadata": {
        "id": "iIAVZzeGK4dJ",
        "colab_type": "code",
        "outputId": "d08fea2f-b3fe-4b21-bf5c-c161255e1a6f",
        "colab": {
          "base_uri": "https://localhost:8080/",
          "height": 84
        }
      },
      "source": [
        "from hn.load_data import load_data\n",
        "data = load_data()\n",
        "print(f'The number of samples: {len(data.index)}')\n",
        "print(f'The number of columns: {len(data.columns)}')\n",
        "\n",
        "# Splitting the data in train- and testpart with a portion of 'test_size' training data (20%)\n",
        "data_train, data_test = model_selection.train_test_split(data, test_size=0.20, stratify=data['label'])\n",
        "\n",
        "print(f'The number of rows of train data : {len(data_train.index)}')\n",
        "print(f'The number of rows of test data : {len(data_test.index)}')\n",
        "\n",
        "# seperate the data in features and tumorstage\n",
        "stage_train = data_train['label']          # dataframe containing tumor stadium of subject (T12/T34)\n",
        "stage_test = data_test['label'] \n",
        "data_train = data_train.drop(columns='label') # dataframe containing all feature columns except 'label' (tumor stadium of subject)\n",
        "data_test = data_test.drop(columns='label')\n",
        "\n",
        "# Binarize label data\n",
        "stage_train = preprocessing.label_binarize(stage_train, ['T12', 'T34'])\n",
        "stage_train = [i[0] for i in stage_train]\n",
        "\n",
        "stage_test = preprocessing.label_binarize(stage_test, ['T12', 'T34'])\n",
        "stage_test = [i[0] for i in stage_test]\n",
        "\n"
      ],
      "execution_count": 223,
      "outputs": [
        {
          "output_type": "stream",
          "text": [
            "The number of samples: 113\n",
            "The number of columns: 160\n",
            "The number of rows of train data : 90\n",
            "The number of rows of test data : 23\n"
          ],
          "name": "stdout"
        }
      ]
    },
    {
      "cell_type": "markdown",
      "metadata": {
        "id": "oZUAiDtz5djl",
        "colab_type": "text"
      },
      "source": [
        "## Preprocessing\n",
        "\n",
        "- column verdwijnt als >25% van de column een 0 bevat. Dit heb ik gedaan omdat het vervangen van alle 0 voor NaN me niet heel handig leek, omdat je die 0 soms wel wilt gebruiken als het echt als waarde voorkomt.\n",
        "- we kunnen nog proberen om 'missende' waardes op te vullen met 'feature imputation' zoals besproken in het college van 26/03"
      ]
    },
    {
      "cell_type": "code",
      "metadata": {
        "colab_type": "code",
        "id": "-NE_fTbKGe5z",
        "outputId": "2ca11ce6-798d-412f-87c1-087828235dd4",
        "colab": {
          "base_uri": "https://localhost:8080/",
          "height": 84
        }
      },
      "source": [
        "# Imputation\n",
        "#imp = SimpleImputer(missing_values=np.nan, strategy='median')\n",
        "#imp.fit(data_train)\n",
        "#data_train = imp.transform(data_train)\n",
        "#data_test = imp.transform(data_test)\n",
        "\n",
        "# Remove all columns where more than 25% of the values are 0.0\n",
        "drop_cols_train = data_train.columns[(data_train == 0).sum() > 0.25*data_train.shape[1]]\n",
        "drop_cols_test = data_test.columns[(data_train ==0).sum() > 0.25*data_train.shape[1]]\n",
        "data_train.drop(drop_cols_train, axis = 1, inplace = True) \n",
        "data_test.drop(drop_cols_test, axis = 1, inplace = True)\n",
        "print(f'The number of columns after preprocessing: {len(data_train.columns)}')\n",
        "print(f'The number of columns after preprocessing: {len(data_test.columns)}')\n",
        "\n",
        "\n",
        "# Remove all columns with no std\n",
        "drop_std_train = data_train.columns[data_train.std() == 0]\n",
        "drop_std_test = data_test.columns[data_train.std() == 0]\n",
        "data_train.drop(drop_std_train, axis = 1, inplace = True) \n",
        "data_test.drop(drop_std_test, axis = 1, inplace = True)\n",
        "\n",
        "print(f'TRAIN: The number of columns after preprocessing: {len(data_train.columns)}, and the number of rows: {len(data_train.index)}')\n",
        "print(f'TEST: The number of columns after preprocessing: {len(data_test.columns)},  and the number of rows: {len(data_test.index)}')\n",
        "\n",
        "\n",
        "\n",
        "\n"
      ],
      "execution_count": 224,
      "outputs": [
        {
          "output_type": "stream",
          "text": [
            "The number of columns after preprocessing: 152\n",
            "The number of columns after preprocessing: 152\n",
            "TRAIN: The number of columns after preprocessing: 150, and the number of rows: 90\n",
            "TEST: The number of columns after preprocessing: 150,  and the number of rows: 23\n"
          ],
          "name": "stdout"
        }
      ]
    },
    {
      "cell_type": "markdown",
      "metadata": {
        "id": "oVOizcWl4sAM",
        "colab_type": "text"
      },
      "source": [
        "## Data Scaling\n",
        "\n",
        "Overwegen welk van de onderstaande het beste is voor onze data! \n",
        "\n",
        "StandardScaler removes the mean and scales the data to unit variance.  cannot guarantee balanced feature scales in the presence of outliers.\n",
        "\n",
        "MinMaxScaler rescales the data set such that all feature values are in the range [0, 1], very sensitive to outliers\n",
        "\n",
        "Robust scaler. Unlike the previous scalers, the centering and scaling statistics of this scaler are based on percentiles and are therefore not influenced by a few number of very large marginal outliers.\n",
        "\n",
        "Read more: https://scikit-learn.org/stable/auto_examples/preprocessing/plot_all_scaling.html\n",
        " "
      ]
    },
    {
      "cell_type": "code",
      "metadata": {
        "id": "4hKWuBpi4xck",
        "colab_type": "code",
        "colab": {}
      },
      "source": [
        "# Scale the data (train on train set)\n",
        "scaler = preprocessing.StandardScaler()   \n",
        "scaler.fit(data_train)  \n",
        "\n",
        "# Perform scaling on both train and testset\n",
        "data_train_scaled = scaler.transform(data_train)\n",
        "data_test_scaled = scaler.transform(data_test) "
      ],
      "execution_count": 0,
      "outputs": []
    },
    {
      "cell_type": "markdown",
      "metadata": {
        "id": "BLXxyvuwqW7q",
        "colab_type": "text"
      },
      "source": [
        "## Feature selection/extraction\n",
        "\n",
        "Feature ranking with recursive feature elimination and cross-validated selection of the best number of features.\n",
        "\n",
        "\n",
        "Variabelen\n",
        "- stratifiedKfold(x), x veranderen geeft hele andere uitkomsten\n",
        "- step = x, x laten als 1!\n",
        "\n",
        "! Dit gebruiken we nu nog niet\n",
        "\n",
        "\n",
        "https://scikit-learn.org/stable/modules/generated/sklearn.feature_selection.RFECV.html#sklearn.feature_selection.RFECV\n",
        "\n",
        "- Univariate testing: select best performing features based on statistical test: sklearn.feature_selection.SelectKBest()"
      ]
    },
    {
      "cell_type": "code",
      "metadata": {
        "id": "qe6OoqWjq0Ni",
        "colab_type": "code",
        "outputId": "a9b821c3-d32f-4c98-aae0-9d320e00b4f0",
        "colab": {
          "base_uri": "https://localhost:8080/",
          "height": 686
        }
      },
      "source": [
        "# Recursive Feature Elimination\n",
        "svc = svm.SVC(kernel=\"linear\")  # Create the RFE object and compute a cross-validated score.\n",
        "\n",
        "# classifications\n",
        "rfecv = feature_selection.RFECV(\n",
        "    estimator=svc, step=1, \n",
        "    cv=model_selection.StratifiedKFold(4),\n",
        "    scoring='roc_auc')\n",
        "fit = rfecv.fit(data_train_scaled, stage_train)\n",
        "\n",
        "# Plot number of features VS. cross-validation scores\n",
        "plt.figure()\n",
        "plt.xlabel(\"Number of features selected\")\n",
        "plt.ylabel(\"Cross validation score (nb of correct classifications)\")\n",
        "plt.plot(range(1, len(rfecv.grid_scores_) + 1), rfecv.grid_scores_)\n",
        "plt.show()\n",
        "\n",
        "print(\"Num Features: %d\" % fit.n_features_)\n",
        "print(\"Selected Features: %s\" % fit.support_)\n",
        "print(\"Feature Ranking: %s\" % fit.ranking_)\n"
      ],
      "execution_count": 210,
      "outputs": [
        {
          "output_type": "display_data",
          "data": {
            "image/png": "[encoded data removed]",
            "text/plain": [
              "<Figure size 432x288 with 1 Axes>"
            ]
          },
          "metadata": {
            "tags": []
          }
        },
        {
          "output_type": "stream",
          "text": [
            "Num Features: 5\n",
            "Selected Features: [False False False False False False False False False False False False\n",
            " False False False False False False False False False False False False\n",
            " False False False False False False False False False False False False\n",
            " False False False False False  True  True False False False False False\n",
            " False False False False False False False False False False False False\n",
            " False False False False False False False False False False False False\n",
            " False False False False False False False False False False False False\n",
            " False False  True False False False False False False False False False\n",
            " False False False False False  True False False False False False False\n",
            " False False False False False False False False False False False False\n",
            " False  True False False False False False False False False False False\n",
            " False False False False False False False False False False False False\n",
            " False False False False False]\n",
            "Feature Ranking: [ 52 139  62 110 124 143  47  97  11  87  12 136 107  17  82  66  79  57\n",
            "   8  16  78  81  77  80   9 135  68  69  39  30  95  75  74  65 121 118\n",
            "  93 103 119  64  13   1   1 131  90 123  46  94 122  53  51  22  98  44\n",
            "  92 140  73  91  25 101  59 104 102  76   6  63  45 109 130 128 137  50\n",
            " 114  83  27 134 125  26  34 117 120  40 138  15   2  42   1  61  35  71\n",
            " 127  84  72  48  60  58  14  55  86 100  31   1 126 116 142  28 141  85\n",
            "  33   7  89  99 112 105 115  24  21  19  38  88   5   1  43   3  96  18\n",
            "  23  20  29  37  56   4  36  41  49 113  67  54 106 144  10 145 108  70\n",
            " 129 111  32 133 132]\n"
          ],
          "name": "stdout"
        }
      ]
    },
    {
      "cell_type": "markdown",
      "metadata": {
        "id": "Y-f-qvIbMvu2",
        "colab_type": "text"
      },
      "source": [
        "##  Feature selection using univariate feature selection"
      ]
    },
    {
      "cell_type": "code",
      "metadata": {
        "id": "8GpfGpM1M4Dp",
        "colab_type": "code",
        "outputId": "b9ed2c0f-9d26-442b-f1b7-3313eac66bf8",
        "colab": {
          "base_uri": "https://localhost:8080/",
          "height": 655
        }
      },
      "source": [
        "from sklearn import feature_selection\n",
        "from sklearn.feature_selection import SelectKBest\n",
        "from sklearn.feature_selection import chi2\n",
        "from sklearn.feature_selection import SelectPercentile\n",
        "from sklearn.feature_selection import f_classif\n",
        "# X_new = SelectKBest(chi2, k=50).fit_transform(stage_train, data_train_scaled)\n",
        "# print(X_new.shape)\n",
        "\n",
        "selector = SelectPercentile(f_classif, percentile=10)\n",
        "fit = selector.fit(data_train_scaled, stage_train)\n",
        "\n",
        "print(\"Feature Ranking: %s\" % fit.scores_)"
      ],
      "execution_count": 211,
      "outputs": [
        {
          "output_type": "stream",
          "text": [
            "Feature Ranking: [2.81789176e+01 2.56640345e+01 7.00253922e+00 6.46980004e-01\n",
            " 1.59524571e+00 8.49876228e-01 2.91408169e+00 2.20111596e+01\n",
            " 1.28115175e+01 1.71335424e+00 5.86104889e-02 3.92029970e-01\n",
            " 1.68799833e-01 1.84032256e+00 3.16886972e+00 5.27773266e-02\n",
            " 5.92675057e+00 3.54695983e+00 3.36641612e+00 5.30948468e+00\n",
            " 3.62131390e-01 1.38386956e+00 7.94835735e-01 7.76628851e+00\n",
            " 5.20357149e+00 3.11858902e+01 1.44408821e+01 1.54913610e+00\n",
            " 1.35588575e+01 7.93693261e-01 2.16970781e+00 1.41280414e+01\n",
            " 3.02670592e+01 1.62148701e-01 4.86767147e+00 1.75775598e+01\n",
            " 1.21161506e+01 1.12140461e+01 4.86767147e+00 4.31797739e+01\n",
            " 2.97965784e+01 2.66232825e+01 3.32915587e+01 2.61129976e+01\n",
            " 1.84718862e+01 3.65580027e-01 1.55922931e+01 3.65021014e+00\n",
            " 2.30070558e+00 1.14799086e+00 4.61681325e+00 2.64431758e+00\n",
            " 7.51521828e+00 1.14799086e+00 1.16295291e+00 5.16139744e+00\n",
            " 2.74709879e+00 2.74639935e+00 2.74727366e+00 5.90873699e+00\n",
            " 1.23717458e+01 9.78880865e+00 1.07218951e+00 7.08749080e-03\n",
            " 4.09307132e+00 2.47383570e+00 1.67979899e+00 1.55266966e+00\n",
            " 4.11370096e-01 9.26720229e+00 1.16938594e-01 3.80462288e+00\n",
            " 7.13827546e+00 1.55151439e+01 4.04208233e+00 5.14219298e+00\n",
            " 3.95009349e+00 6.93459013e+00 5.69832877e+00 4.24475311e+00\n",
            " 1.43585549e+01 9.69056797e+00 5.13568797e+00 9.39211942e+00\n",
            " 3.82089937e+00 1.21753008e+01 1.71292356e+00 4.92221974e+00\n",
            " 2.15545811e-01 6.70792006e+00 2.88392484e-03 3.80696704e+00\n",
            " 1.16569142e+01 1.82768540e+00 7.91340335e+00 6.57225517e+00\n",
            " 1.70464803e+00 1.43210935e+01 3.94152101e-01 3.32246578e-02\n",
            " 2.88375572e+00 5.28120380e+00 1.13502291e+00 7.29191706e+00\n",
            " 1.61551528e+01 9.85819246e+00 7.11067980e+00 1.19937568e+01\n",
            " 1.50224083e+00 3.95029704e-01 9.08093457e-02 1.18906714e+00\n",
            " 5.68030355e-01 5.07166275e+00 9.19430591e-01 2.16843313e+00\n",
            " 3.08513529e-01 1.05180806e-01 5.41584215e-01 1.20031809e-01\n",
            " 7.20304575e+00 2.44222537e+01 7.97474566e+00 3.71169474e+00\n",
            " 1.41470325e+01 2.13378445e+01 1.38199616e+01 2.66270219e+01\n",
            " 3.20376930e+01 1.73731281e+01 2.90048030e+01 2.56738351e+01\n",
            " 5.08822017e+00 5.90342848e+00 2.11109458e+01 1.44986214e+00\n",
            " 1.11170370e+00 7.88740344e+00 5.08095039e-02 9.56049383e-01\n",
            " 4.00694935e-01 9.56049383e-01 5.97363405e+00 7.33673988e+00\n",
            " 7.81189167e-02 6.31950826e+00 1.49842869e+01 7.03947106e-01\n",
            " 4.69890002e+00]\n"
          ],
          "name": "stdout"
        }
      ]
    },
    {
      "cell_type": "code",
      "metadata": {
        "id": "W29ecNuDM1Gd",
        "colab_type": "code",
        "colab": {}
      },
      "source": [
        ""
      ],
      "execution_count": 0,
      "outputs": []
    },
    {
      "cell_type": "markdown",
      "metadata": {
        "id": "o251HvpzBy4l",
        "colab_type": "text"
      },
      "source": [
        "## Principal Component Analysis (PCA)\n",
        "- nu voor eerste 20 features, bedenken hoe veel we er willen"
      ]
    },
    {
      "cell_type": "code",
      "metadata": {
        "id": "O4IiEnXmB-Y3",
        "colab_type": "code",
        "outputId": "74584ee5-c449-4cfb-c1aa-da89aaceee93",
        "colab": {
          "base_uri": "https://localhost:8080/",
          "height": 50
        }
      },
      "source": [
        "\n",
        "# Create a function for calculating PCA\n",
        "def pca(data_train, data_test):\n",
        "    \"\"\"\n",
        "    Function for PCA\n",
        "\n",
        "        data_train = training data\n",
        "        data_test = testing data\n",
        "\n",
        "    Output is transformed train- and testdata\n",
        "    \"\"\"\n",
        "    pca=PCA().fit(data_train)\n",
        "    var = np.cumsum(pca.explained_variance_ratio_)\n",
        "    n_comp = np.where(var>0.99)[0][0]\n",
        "\n",
        "    # Create and fit a PCA with 20 components\n",
        "    pca_train = PCA(n_components=n_comp)\n",
        "    pca_train.fit(data_train)\n",
        "\n",
        "    # Transform data using PCA\n",
        "    data_train_trans = pca_train.transform(data_train)\n",
        "    data_test_trans = pca_train.transform(data_test)\n",
        "\n",
        "    # Return transformed train- and testdata\n",
        "    return data_train_trans, data_test_trans\n",
        "\n",
        "data_train_pca, data_test_pca = pca(data_train_scaled, data_test_scaled)\n",
        "print(data_train_pca.shape)\n",
        "print(data_test_pca.shape)"
      ],
      "execution_count": 226,
      "outputs": [
        {
          "output_type": "stream",
          "text": [
            "(90, 56)\n",
            "(23, 56)\n"
          ],
          "name": "stdout"
        }
      ]
    },
    {
      "cell_type": "markdown",
      "metadata": {
        "id": "9BuHDPdnIoXx",
        "colab_type": "text"
      },
      "source": [
        "## kNN\n"
      ]
    },
    {
      "cell_type": "code",
      "metadata": {
        "id": "RaokGZwe7zDY",
        "colab_type": "code",
        "colab": {
          "base_uri": "https://localhost:8080/",
          "height": 118
        },
        "outputId": "468c0dce-fec6-4ba1-9b9b-0fb1daef32b1"
      },
      "source": [
        "# List with hyperparameters that we want to tune.\n",
        "leaf_size = list(range(1,50))\n",
        "n_n = list(range(1,50))\n",
        "p=[1,2]\n",
        "weights = ['uniform', 'distance']\n",
        "\n",
        "hyperparameters = dict(leaf_size=leaf_size, n_neighbors=n_n, p=p, weights = weights)\n",
        "\n",
        "# Create new KNN object\n",
        "knn_tune = neighbors.KNeighborsClassifier()\n",
        "\n",
        "# Use Randomized Search\n",
        "# Als je GridSearch gebruikt, komt er telkens hetzelfde uit. \n",
        "clf_tune_knn = model_selection.RandomizedSearchCV(knn_tune, hyperparameters, n_iter = 30, cv=10, random_state = 42)\n",
        "# Random state mag vgm niet, maar is de enige manier om ervoor te zorgen dat het constant dezelfde output geeft\n",
        "\n",
        "#Fit the model\n",
        "best_model = clf_tune_knn.fit(data_train_pca, stage_train)\n",
        "\n",
        "leaf_size_best = best_model.best_estimator_.get_params()['leaf_size']\n",
        "p_best = best_model.best_estimator_.get_params()['p']\n",
        "n_n_best = best_model.best_estimator_.get_params()['n_neighbors']\n",
        "weights_best = best_model.best_estimator_.get_params()['weights']\n",
        "\n",
        "\n",
        "#Print The value of best Hyperparameters\n",
        "print('Best leaf_size:', leaf_size_best)\n",
        "print('Best p:', p_best)\n",
        "print('Best n_neighbors:', n_n_best)\n",
        "print('Best weights:', weights_best)\n",
        "\n",
        "def knn_classifier(leaf_size, p, n_neigbors, weights, data_train, data_test, label_train, label_test):\n",
        "    \"\"\"\n",
        "    Function for kNN training and testing\n",
        "\n",
        "        data_train =  training data (type = list)\n",
        "        data_test_trans = testing data (type = list)\n",
        "        label_train = class of training data (type = list)\n",
        "        label_test = class of testing data (type = list)\n",
        "        \n",
        "    Output is two lists with the predicted class of the train- and testdata \n",
        "    \"\"\"\n",
        "    knn = neighbors.KNeighborsClassifier(leaf_size = leaf_size, weights = weights, n_neighbors = n_neigbors, p = p)\n",
        "    knn.fit(data_train, label_train)\n",
        "    label_train_knn = knn.predict(data_train)\n",
        "    label_test_knn = knn.predict(data_test)\n",
        "    score_train = knn.score(data_train, label_train)\n",
        "    score_test = knn.score(data_test, label_test)\n",
        "    return score_train, score_test, label_train_knn, label_test_knn\n",
        "\n",
        "score_train_knn, score_test_knn, stage_train_knn, stage_test_knn = knn_classifier(leaf_size_best, p_best, n_n_best, weights_best, data_train_pca, data_test_pca, stage_train, stage_test)\n",
        "print(f'Accuracy of classifier on traindata: {score_train_knn}') # accuracy\n",
        "print(f'Accuracy of classifier on testdata: {score_test_knn}') # accuracy\n"
      ],
      "execution_count": 227,
      "outputs": [
        {
          "output_type": "stream",
          "text": [
            "Best leaf_size: 11\n",
            "Best p: 2\n",
            "Best n_neighbors: 22\n",
            "Best weights: distance\n",
            "Accuracy of classifier on traindata: 1.0\n",
            "Accuracy of classifier on testdata: 0.6956521739130435\n"
          ],
          "name": "stdout"
        }
      ]
    },
    {
      "cell_type": "markdown",
      "metadata": {
        "id": "4Bs85wHUxnqA",
        "colab_type": "text"
      },
      "source": [
        "## Support Vector Machine (SVM)\n",
        "-  Geeft nu alleen een kernel mee, maar heeft nog veel meer parameters\n",
        "- test_decision = svc.decision_function(data_test) kunnen we later miss nog gebruiken om een ROC te maken"
      ]
    },
    {
      "cell_type": "code",
      "metadata": {
        "id": "Z-mVIOLhxpsJ",
        "colab_type": "code",
        "outputId": "2444feff-d2dd-422d-ed7d-21eaead3e5a6",
        "colab": {
          "base_uri": "https://localhost:8080/",
          "height": 118
        }
      },
      "source": [
        "# List with hyperparameters that we want to tune.\n",
        "kernels = ['linear', 'poly', 'rbf']\n",
        "gammas = [0.1, 1, 10, 100]\n",
        "cs = [0.1, 1, 10, 100, 1000]\n",
        "degrees = [0, 1, 2, 3, 4, 5, 6] # use only for 'poly'\n",
        "\n",
        "hyperparameters = dict(kernel = kernels, gamma = gammas, C = cs, degree = degrees  )\n",
        "\n",
        "# Create new KNN object\n",
        "svm_tune = svm.SVC()\n",
        "\n",
        "# Use Randomized Search\n",
        "# Als je GridSearch gebruikt, komt er telkens hetzelfde uit. \n",
        "clf_tune_svm = model_selection.RandomizedSearchCV(svm_tune, hyperparameters, n_iter = 30, cv=10)\n",
        "\n",
        "\n",
        "#Fit the model\n",
        "best_model_svm = clf_tune_svm.fit(data_train_pca, stage_train)\n",
        "\n",
        "kernel_best = best_model_svm.best_estimator_.get_params()['kernel']\n",
        "gamma_best = best_model_svm.best_estimator_.get_params()['gamma']\n",
        "c_best = best_model_svm.best_estimator_.get_params()['C']\n",
        "degree_best = best_model_svm.best_estimator_.get_params()['degree']\n",
        "\n",
        "#Print The value of best Hyperparameters\n",
        "print('Best kernel:', kernel_best)\n",
        "print('Best gamma:', gamma_best)\n",
        "print('Best C:', c_best)\n",
        "print('Best degree:', degree_best)\n",
        "\n",
        "\n",
        "def svm_classifier(C, kernel, degree, gamma, data_train, data_test, label_train, label_test, svm_kernel):\n",
        "    \"\"\"\n",
        "    Function for SVM training and testing\n",
        "\n",
        "        data_train =  training data (type = list)\n",
        "        data_test_trans = testing data (type = list)\n",
        "        label_train = class of training data (type = list)\n",
        "        label_test = class of testing data (type = list)\n",
        "        svm_kernel = different kernels to be used (type = string)\n",
        "\n",
        "    Output is two lists with the predicted class of the train- and testdata\n",
        "    \"\"\"\n",
        "    svc = svm.SVC(C=C, kernel=kernel, degree=degree, gamma=gamma)\n",
        "    svc.fit(data_train, label_train)\n",
        "\n",
        "    # Predict the classes of the data \n",
        "    label_train_svm = svc.predict(data_train)\n",
        "    label_test_svm= svc.predict(data_test)\n",
        "\n",
        "    score_train = svc.score(data_train, label_train)\n",
        "    score_test = svc.score(data_test, label_test)\n",
        "    \n",
        "    return label_train_svm, label_test_svm, score_train, score_test\n",
        "\n",
        "stage_train_svm, stage_test_svm, score_train_svm, score_test_svm = svm_classifier(c_best, kernel_best, degree_best, gamma_best, data_train_pca, data_test_pca, stage_train, stage_test, 'linear')\n",
        "print(f'Accuracy of classifier on traindata: {score_train_svm}') # accuracy\n",
        "print(f'Accuracy of classifier on testdata: {score_test_svm}') # accuracy"
      ],
      "execution_count": 228,
      "outputs": [
        {
          "output_type": "stream",
          "text": [
            "Best kernel: linear\n",
            "Best gamma: 1\n",
            "Best C: 10\n",
            "Best degree: 3\n",
            "Accuracy of classifier on traindata: 1.0\n",
            "Accuracy of classifier on testdata: 0.7391304347826086\n"
          ],
          "name": "stdout"
        }
      ]
    },
    {
      "cell_type": "markdown",
      "metadata": {
        "id": "tL1XtlFR3upM",
        "colab_type": "text"
      },
      "source": [
        "## Random Forest Classifier \n",
        "- alle parameters nog bepalen\n"
      ]
    },
    {
      "cell_type": "code",
      "metadata": {
        "id": "O760t93K3zWu",
        "colab_type": "code",
        "outputId": "d4d0312b-49c8-43f7-dd89-2da77b47da40",
        "colab": {
          "base_uri": "https://localhost:8080/",
          "height": 34
        }
      },
      "source": [
        "def rfc_classifier(data_train, data_test, label_train, label_test):\n",
        "    \"\"\"\n",
        "    Function for RFC training and testing\n",
        "\n",
        "        data_train =  training data (type = list)\n",
        "        data_test_trans = testing data (type = list)\n",
        "        label_train = class of training data (type = list)\n",
        "        label_test = class of testing data (type = list)\n",
        "        \n",
        "    Output is two lists with the predicted class of the train- and testdata \n",
        "    \"\"\"\n",
        "    # Create Random Forest Classifier and fit classifier on traindata\n",
        "    rfc = RandomForestClassifier(max_depth=2)\n",
        "    rfc.fit(data_train, label_train)\n",
        "\n",
        "    # Predict labels for train- and testdata\n",
        "    label_train_rfc = rfc.predict(data_train)\n",
        "    label_test_rfc = rfc.predict(data_test)\n",
        "\n",
        "    return label_train_rfc, label_test_rfc\n",
        "\n",
        "stage_train_rfc, stage_test_rfc = rfc_classifier(data_train_pca, data_test_pca, stage_train, stage_test)\n",
        "print(stage_test_rfc)\n"
      ],
      "execution_count": 0,
      "outputs": [
        {
          "output_type": "stream",
          "text": [
            "[1 0 1 1 1 1 0 0 1 0 0 1 1 1 1 1 0 0 0 1 1 0 0]\n"
          ],
          "name": "stdout"
        }
      ]
    },
    {
      "cell_type": "markdown",
      "metadata": {
        "id": "NSkNx_JkLzFi",
        "colab_type": "text"
      },
      "source": [
        "## Performance\n",
        "- Functie gemaakt om een dataframe te maken van de performance van een bepaalde classifier\n",
        "- Uiteindelijke mooier om alles er tegelijk in te kunnen gooien met een loop en dan 1 groot dataframe te maken"
      ]
    },
    {
      "cell_type": "code",
      "metadata": {
        "id": "JIUCuActMxr4",
        "colab_type": "code",
        "outputId": "33b7e733-baaa-4421-fae3-b5a0cc0d014f",
        "colab": {
          "base_uri": "https://localhost:8080/",
          "height": 319
        }
      },
      "source": [
        "def performance_clf(predlabel_train, label_train, predlabel_test, label_test):\n",
        "    \"\"\"\n",
        "    Function to calculate performance of a classifier:\n",
        "\n",
        "        predlabel_train = predicted label of traindata \n",
        "        label_train = real label of traindata\n",
        "        predlabel_test = predicted label of testdata\n",
        "        label_test = real label of testdata\n",
        "    \n",
        "    This function returns a dataframe of the calculated AUC, accuracy, F1-score,\n",
        "    precision and recall of the classifier for the train- and testdata\n",
        "    \"\"\"\n",
        "    \n",
        "    # Performance train set\n",
        "    auc_train=metrics.roc_auc_score(predlabel_train, label_train)\n",
        "    accuracy_train=metrics.accuracy_score(predlabel_train, label_train)\n",
        "    F1_train=metrics.f1_score(predlabel_train, label_train)\n",
        "    precision_train=metrics.precision_score(predlabel_train, label_train)\n",
        "    recall_train=metrics.recall_score(predlabel_train, label_train)\n",
        "    \n",
        "    # Performance test set\n",
        "    auc_test=metrics.roc_auc_score(predlabel_test, label_test)\n",
        "    accuracy_test=metrics.accuracy_score(predlabel_test, label_test)\n",
        "    F1_test=metrics.f1_score(predlabel_test, label_test)\n",
        "    precision_test=metrics.precision_score(predlabel_test, label_test)\n",
        "    recall_test=metrics.recall_score(predlabel_test, label_test)\n",
        "\n",
        "    performance = {'train': [auc_train, accuracy_train, F1_train, precision_train, recall_train],\n",
        "                   'test': [auc_test, accuracy_test, F1_test, precision_test, recall_test]}\n",
        "    frame_performance = pd.DataFrame(data=performance, index=['auc', 'accuracy', 'F1', 'precision', 'recall'])\n",
        "  \n",
        "    return frame_performance\n",
        "\n",
        "performance_knn = performance_clf(stage_train_knn, stage_train, stage_test_knn, stage_test)\n",
        "performance_svm = performance_clf(stage_train_svm, stage_train, stage_test_svm, stage_test)\n",
        "performance_rfc = performance_clf(stage_train_rfc, stage_train, stage_test_rfc, stage_test)\n",
        "\n",
        "\n",
        "print(f'The performance of the kNN-classifier is: {performance_knn}')\n",
        "print(f'The performance of the SVM-classifier is: {performance_svm}')\n",
        "print(f'The performance of the RFC-classifier is: {performance_rfc}')\n"
      ],
      "execution_count": 0,
      "outputs": [
        {
          "output_type": "stream",
          "text": [
            "The performance of the kNN-classifier is:               train      test\n",
            "auc        0.740642  0.777778\n",
            "accuracy   0.677778  0.652174\n",
            "F1         0.743363  0.714286\n",
            "precision  0.933333  1.000000\n",
            "recall     0.617647  0.555556\n",
            "The performance of the SVM-classifier is:               train      test\n",
            "auc        0.855731  0.780303\n",
            "accuracy   0.855556  0.782609\n",
            "F1         0.853933  0.761905\n",
            "precision  0.844444  0.800000\n",
            "recall     0.863636  0.727273\n",
            "The performance of the RFC-classifier is:               train      test\n",
            "auc        0.922431  0.707692\n",
            "accuracy   0.922222  0.695652\n",
            "F1         0.923077  0.695652\n",
            "precision  0.933333  0.800000\n",
            "recall     0.913043  0.615385\n"
          ],
          "name": "stdout"
        }
      ]
    }
  ]
}